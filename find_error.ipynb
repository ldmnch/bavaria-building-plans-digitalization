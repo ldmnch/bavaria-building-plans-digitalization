{
 "cells": [
  {
   "cell_type": "code",
   "execution_count": 3,
   "metadata": {},
   "outputs": [],
   "source": [
    "from src.geoservices_bayern_scraping import bounding_boxes"
   ]
  },
  {
   "cell_type": "code",
   "execution_count": 4,
   "metadata": {},
   "outputs": [],
   "source": [
    "def find_index_in_list(my_list, target_string):\n",
    "    for index, element in enumerate(my_list):\n",
    "        if element == target_string:\n",
    "            return index\n",
    "    return -1  # Return -1 if no match is found"
   ]
  },
  {
   "cell_type": "code",
   "execution_count": 5,
   "metadata": {},
   "outputs": [],
   "source": [
    "bavaria_bounding_box =  (4195669.333333333, 4998144, 4724053.333333333, 5766144)\n",
    "\n",
    "bounding_boxes = bounding_boxes.generate_sub_bboxes(bounding_box = bavaria_bounding_box)"
   ]
  },
  {
   "cell_type": "code",
   "execution_count": 6,
   "metadata": {},
   "outputs": [
    {
     "name": "stdout",
     "output_type": "stream",
     "text": [
      "Element '4620669,5343144,4621669,5344144' found at index 326745.\n"
     ]
    }
   ],
   "source": [
    "target_string = \"4620669,5343144,4621669,5344144\"\n",
    "\n",
    "index = find_index_in_list(bounding_boxes, target_string)\n",
    "\n",
    "if index != -1:\n",
    "    print(f\"Element '{target_string}' found at index {index}.\")\n",
    "else:\n",
    "    print(f\"Element '{target_string}' not found in the list.\")\n"
   ]
  },
  {
   "cell_type": "code",
   "execution_count": 8,
   "metadata": {},
   "outputs": [
    {
     "data": {
      "text/plain": [
       "79527"
      ]
     },
     "execution_count": 8,
     "metadata": {},
     "output_type": "execute_result"
    }
   ],
   "source": [
    "len(bounding_boxes)-326745"
   ]
  }
 ],
 "metadata": {
  "kernelspec": {
   "display_name": "land-sealing-dssgx",
   "language": "python",
   "name": "python3"
  },
  "language_info": {
   "codemirror_mode": {
    "name": "ipython",
    "version": 3
   },
   "file_extension": ".py",
   "mimetype": "text/x-python",
   "name": "python",
   "nbconvert_exporter": "python",
   "pygments_lexer": "ipython3",
   "version": "3.11.4"
  }
 },
 "nbformat": 4,
 "nbformat_minor": 2
}
