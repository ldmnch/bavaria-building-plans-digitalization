{
 "cells": [
  {
   "cell_type": "code",
   "execution_count": 1,
   "metadata": {},
   "outputs": [],
   "source": [
    "import pandas as pd\n",
    "from src.pdfs_to_text import pdfs_downloader, pdfs_preprocessing"
   ]
  },
  {
   "cell_type": "markdown",
   "metadata": {},
   "source": [
    "# Downloading PDFs\n",
    "\n",
    "In the first notebooks, we obtained the information about building plans and the links to the respective PDFs. In this notebook, you will see how to use the function that takes as input that metadata and downloads all PDFs.\n",
    "\n",
    "First, read the metadata:"
   ]
  },
  {
   "cell_type": "code",
   "execution_count": 2,
   "metadata": {},
   "outputs": [],
   "source": [
    "data = pd.read_csv('data/proc/building_plans/building_plans_metadata.csv')"
   ]
  },
  {
   "cell_type": "markdown",
   "metadata": {},
   "source": [
    "- Adjust `id_column` with the name of the ID column.\n",
    "- Adjust `link_column` with the name of the column that contains the links.\n",
    "- Adjust `date_column` to the column with date of the building plans.\n",
    "- Adjust `output_folder` with name of the folder you want to save the data to.\n",
    "\n",
    "The function also contains the optional parameter `sample_n` which can be used to only download a sample, defining the number of observations to take."
   ]
  },
  {
   "cell_type": "code",
   "execution_count": 3,
   "metadata": {},
   "outputs": [
    {
     "name": "stderr",
     "output_type": "stream",
     "text": [
      "100%|██████████| 100/100 [05:07<00:00,  3.08s/it]\n"
     ]
    }
   ],
   "source": [
    "pdfs_downloader.run_pdf_downloader(input_df = data,\n",
    "    id_column = 'id',\n",
    "    link_column = 'URL zur Legende',\n",
    "    date_column = 'Datum des Inkrafttretens',\n",
    "    output_folder = \"data/raw/building_plan_sample/pdfs\",\n",
    "    sample_n = 100)"
   ]
  },
  {
   "cell_type": "code",
   "execution_count": null,
   "metadata": {},
   "outputs": [],
   "source": [
    "pdfs_preprocessing.run_pdfs_split(input_folder='data/raw/building_plan_sample/pdfs',\n",
    "                                  output_folder= 'data/proc/building_plans_sample/split_pdf/')"
   ]
  }
 ],
 "metadata": {
  "kernelspec": {
   "display_name": "land-sealing-dssgx",
   "language": "python",
   "name": "python3"
  },
  "language_info": {
   "codemirror_mode": {
    "name": "ipython",
    "version": 3
   },
   "file_extension": ".py",
   "mimetype": "text/x-python",
   "name": "python",
   "nbconvert_exporter": "python",
   "pygments_lexer": "ipython3",
   "version": "3.11.4"
  }
 },
 "nbformat": 4,
 "nbformat_minor": 2
}
