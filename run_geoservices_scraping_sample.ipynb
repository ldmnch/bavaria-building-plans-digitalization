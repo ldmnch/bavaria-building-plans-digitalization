{
 "cells": [
  {
   "cell_type": "code",
   "execution_count": 1,
   "metadata": {},
   "outputs": [],
   "source": [
    "from geoservices_bayern_scraping import building_plans, bounding_boxes"
   ]
  },
  {
   "cell_type": "markdown",
   "metadata": {},
   "source": [
    "# Scraping Building Plans of Bayern\n",
    "\n",
    "The [Geoportal of Bayern](https://geoportal.bayern.de/bauleitplanungsportal/karte.html) has an API that contains the direct links to different building plans across the region. The API takes as input a bounding box that will define the are over which the plans will be scraped. This code shows how to use two functions elaborated to scrape the entire API: one that defines the bounding boxes that will cover all of Bayern and one that efficiently downloads the information into csvs. \n",
    "\n",
    "## Step 1: Define the regions\n",
    "\n",
    "- Define the bounding box for the regions of Bavaria you want to scrape. In this example, we put the bounding box for the entire region. \n",
    "- Adjust the parameter `sample_n` to the number of bounding boxes to use for the sample, or remove it to keep all of them. "
   ]
  },
  {
   "cell_type": "code",
   "execution_count": 2,
   "metadata": {},
   "outputs": [],
   "source": [
    "bavaria_bounding_box =  (4195669.333333333, 4998144, 4724053.333333333, 5766144)\n",
    "\n",
    "bounding_boxes = bounding_boxes.generate_sub_bboxes(sample_n = 300, \n",
    "                                                    bounding_box = bavaria_bounding_box)"
   ]
  },
  {
   "cell_type": "markdown",
   "metadata": {},
   "source": [
    "## Step 2: Run the scraper\n",
    "\n",
    "- Adjust `batch_size` for the number of items to be ran in each batch iteration.\n",
    "- Adjust `batch_delay` to make a longer or shorter pause between batches. Helps in reducing the load on the server and avoids potential IP blocking or other restrictions due to rapid sequential requests.\n",
    "- Adjust `max_retries` for number of times to try each download if failed. \n",
    "- Change name of output folder adjusting `output_folder`."
   ]
  },
  {
   "cell_type": "code",
   "execution_count": 4,
   "metadata": {},
   "outputs": [
    {
     "name": "stderr",
     "output_type": "stream",
     "text": [
      "100%|██████████| 100/100 [19:24<00:00, 11.65s/it]\n",
      "100%|██████████| 100/100 [19:39<00:00, 11.79s/it]\n",
      "100%|██████████| 100/100 [19:24<00:00, 11.65s/it]\n"
     ]
    }
   ],
   "source": [
    "building_plans.scrape_in_batches(bounding_boxes,\n",
    "                      batch_size = 100,\n",
    "                      batch_delay = 30, \n",
    "                      max_retries = 5,\n",
    "                      output_folder = 'geoservices_results_sample')"
   ]
  }
 ],
 "metadata": {
  "kernelspec": {
   "display_name": "land-sealing-dssgx",
   "language": "python",
   "name": "python3"
  },
  "language_info": {
   "codemirror_mode": {
    "name": "ipython",
    "version": 3
   },
   "file_extension": ".py",
   "mimetype": "text/x-python",
   "name": "python",
   "nbconvert_exporter": "python",
   "pygments_lexer": "ipython3",
   "version": "3.11.4"
  }
 },
 "nbformat": 4,
 "nbformat_minor": 2
}
