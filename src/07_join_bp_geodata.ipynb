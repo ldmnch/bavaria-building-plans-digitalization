{
 "cells": [
  {
   "cell_type": "code",
   "execution_count": 1,
   "metadata": {},
   "outputs": [],
   "source": [
    "import geopandas as gpd\n",
    "import pandas as pd \n",
    "\n",
    "import re\n",
    "import os"
   ]
  },
  {
   "cell_type": "code",
   "execution_count": 2,
   "metadata": {},
   "outputs": [],
   "source": [
    "os.chdir(\"../\")\n",
    "CWD = os.getcwd()"
   ]
  },
  {
   "cell_type": "code",
   "execution_count": 3,
   "metadata": {},
   "outputs": [],
   "source": [
    "data_dir = os.path.join(CWD, 'data', 'raw', 'geoservices_results')"
   ]
  },
  {
   "cell_type": "code",
   "execution_count": 4,
   "metadata": {},
   "outputs": [],
   "source": [
    "csv_files = [file for file in os.listdir(data_dir) if file.endswith('.csv')]"
   ]
  },
  {
   "cell_type": "code",
   "execution_count": 5,
   "metadata": {},
   "outputs": [],
   "source": [
    "# Read and concatenate all CSV files, adding a column to indicate the source file\n",
    "dataframes = []\n",
    "for file in csv_files:\n",
    "    df = pd.read_csv(os.path.join(data_dir, file))\n",
    "    df['source_file'] = file\n",
    "    dataframes.append(df)\n"
   ]
  },
  {
   "cell_type": "code",
   "execution_count": 6,
   "metadata": {},
   "outputs": [],
   "source": [
    "combined_df = pd.concat(dataframes, ignore_index=True)"
   ]
  },
  {
   "cell_type": "code",
   "execution_count": 7,
   "metadata": {},
   "outputs": [
    {
     "name": "stdout",
     "output_type": "stream",
     "text": [
      "Hinweis zu den Daten                               Für die Richtigkeit, Aktualität und Vollständi...\n",
      "Name                                                                                  Am Elzengraben\n",
      "Nummer                                                                                        306_53\n",
      "Beschreibung                                                   Qualifizierter Bplan \"Am Elzengraben\"\n",
      "Gemeindekennzeichen                                                                          9671111\n",
      "Stadt/Gemeinde                                                                 Stadt Alzenau i. UFr.\n",
      "Planart                                                                 qualifizierter Bebauungsplan\n",
      "Datum des Inkrafttretens                                                                  1985-09-13\n",
      "Rechtsstand(vorbehaltlich aktueller Änderungen)                                          Rechtskraft\n",
      "URL des Rasterbildes                               http://www.terragis.de/alzenau/docs/bplan/pdf/...\n",
      "URL zur Legende                                    http://www.terragis.de/alzenau/docs/bplan/pdf/...\n",
      "URL der textlichen Festsetzung                     http://www.terragis.de/alzenau/docs/bplan/text...\n",
      "source_file                                         bounding_box_4288669,5554144,4289669,5555144.csv\n",
      "Name: 1165, dtype: object\n",
      "Source file: bounding_box_4288669,5554144,4289669,5555144.csv\n"
     ]
    }
   ],
   "source": [
    "index = 1165  # Replace with the desired index\n",
    "selected_row = combined_df.iloc[index]\n",
    "\n",
    "# Display the selected row and its source file\n",
    "print(selected_row)\n",
    "print(f\"Source file: {selected_row['source_file']}\")"
   ]
  },
  {
   "cell_type": "code",
   "execution_count": 8,
   "metadata": {},
   "outputs": [],
   "source": [
    "def get_bounding_box(file):\n",
    "\n",
    "    numbers = re.findall(r'\\d+', file)\n",
    "    \n",
    "    numbers = [int(num) for num in numbers]\n",
    "\n",
    "    return numbers\n",
    "\n",
    "def get_file_rows(file):\n",
    "    df = pd.read_csv(os.path.join(data_dir, file))\n",
    "    return df.shape[0]"
   ]
  },
  {
   "cell_type": "code",
   "execution_count": 9,
   "metadata": {},
   "outputs": [],
   "source": [
    "results = []\n",
    "\n",
    "for file in csv_files:\n",
    "    bounding_box = get_bounding_box(file)\n",
    "    rows = get_file_rows(file)\n",
    "\n",
    "    results.append([file, bounding_box, rows])"
   ]
  },
  {
   "cell_type": "code",
   "execution_count": 10,
   "metadata": {},
   "outputs": [],
   "source": [
    "data =  pd.DataFrame(results, columns=['filename', 'bounding_box', 'n_building_plans'])"
   ]
  },
  {
   "cell_type": "code",
   "execution_count": 11,
   "metadata": {},
   "outputs": [],
   "source": [
    "data.to_csv(os.path.join(CWD, 'data', 'raw', 'geoservices_scrape_metadata.csv'), index=False)"
   ]
  }
 ],
 "metadata": {
  "kernelspec": {
   "display_name": "land-sealing-dssgx",
   "language": "python",
   "name": "python3"
  },
  "language_info": {
   "codemirror_mode": {
    "name": "ipython",
    "version": 3
   },
   "file_extension": ".py",
   "mimetype": "text/x-python",
   "name": "python",
   "nbconvert_exporter": "python",
   "pygments_lexer": "ipython3",
   "version": "3.11.4"
  }
 },
 "nbformat": 4,
 "nbformat_minor": 2
}
