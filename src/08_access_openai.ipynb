{
 "cells": [
  {
   "cell_type": "code",
   "execution_count": 1,
   "metadata": {},
   "outputs": [],
   "source": [
    "import os\n",
    "import base64\n",
    "\n",
    "from dotenv import load_dotenv\n",
    "from openai import AzureOpenAI\n",
    "from mimetypes import guess_type\n",
    "\n",
    "import pandas as pd"
   ]
  },
  {
   "cell_type": "markdown",
   "metadata": {},
   "source": [
    "To do:\n",
    "\n",
    "- Improve prompt.\n",
    "- Run on all images."
   ]
  },
  {
   "cell_type": "code",
   "execution_count": 2,
   "metadata": {},
   "outputs": [],
   "source": [
    "os.chdir(\"../\")\n",
    "CWD = os.getcwd()\n",
    "\n",
    "data_dir = os.path.join(CWD, 'data')"
   ]
  },
  {
   "cell_type": "code",
   "execution_count": 18,
   "metadata": {},
   "outputs": [],
   "source": [
    "image_path = os.path.join(data_dir, 'proc', 'building_plans','split_pdf', '9993_0.jpg')"
   ]
  },
  {
   "cell_type": "code",
   "execution_count": 19,
   "metadata": {},
   "outputs": [],
   "source": [
    "def encode_image_to_base64(image_path):\n",
    "    # Open the image file in binary mode\n",
    "    with open(image_path, \"rb\") as image_file:\n",
    "        # Read the binary data\n",
    "        image_data = image_file.read()\n",
    "        # Encode the binary data to base64\n",
    "        encoded_image = base64.b64encode(image_data)\n",
    "        # Convert bytes to string\n",
    "        encoded_image_str = encoded_image.decode('utf-8')\n",
    "        return encoded_image_str\n"
   ]
  },
  {
   "cell_type": "code",
   "execution_count": 20,
   "metadata": {},
   "outputs": [],
   "source": [
    "base64_images = encode_image_to_base64(image_path)"
   ]
  },
  {
   "cell_type": "code",
   "execution_count": 7,
   "metadata": {},
   "outputs": [],
   "source": [
    "# Option 1: Use httpimport to load 'azure_authentication' package remotely from GitHub without installing it\n",
    "import httpimport\n",
    "with httpimport.remote_repo('https://raw.githubusercontent.com/soda-lmu/azure-auth-helper-python/main/src'\n",
    "                            '/azure_authentication/'):\n",
    "    from customized_azure_login import CredentialFactory"
   ]
  },
  {
   "cell_type": "code",
   "execution_count": 8,
   "metadata": {},
   "outputs": [
    {
     "name": "stdout",
     "output_type": "stream",
     "text": [
      "Authenticate User & Login to Azure Cognitive Services\n",
      "Instantiate Azure OpenAI Client\n"
     ]
    }
   ],
   "source": [
    "DEPLOYMENT_NAME = \"gpt-4-turbo-vision-preview\"\n",
    "\n",
    "print(\"Authenticate User & Login to Azure Cognitive Services\")\n",
    "# Recommendation: Configure your own authentication workflow with environment variables, see the description at\n",
    "# https://github.com/soda-lmu/azure-auth-helper-python/blob/main/AuthenticationWorkflowSetup.md\n",
    "credential = CredentialFactory().select_credential()\n",
    "token_provider = credential.get_login_token_to_azure_cognitive_services()\n",
    "\n",
    "print(\"Instantiate Azure OpenAI Client\")"
   ]
  },
  {
   "cell_type": "code",
   "execution_count": 27,
   "metadata": {},
   "outputs": [],
   "source": [
    "#token_provider()"
   ]
  },
  {
   "cell_type": "code",
   "execution_count": 10,
   "metadata": {},
   "outputs": [],
   "source": [
    "client = AzureOpenAI(\n",
    "    azure_endpoint=os.environ[\"AZURE_OPENAI_ENDPOINT\"],\n",
    "    api_key=token_provider(),  # alternative: insert os.getenv(\"AZURE_OPENAI_API_KEY\")\n",
    "    # azure_ad_token=token_provider(),          # same outcome\n",
    "    # azure_ad_token_provider=token_provider,   # same outcome again\n",
    "    api_version=\"2024-02-01\",  # or use a preview version (e.g., \"2024-03-01-preview\") for the latest features.\n",
    "    # api_version (How-To): https://stackoverflow.com/questions/76475419/how-can-i-select-the-proper-openai-api-version\n",
    "    timeout=600.0,  # throw APITimeoutError after 10 minutes without a response (default behavior)\n",
    ")"
   ]
  },
  {
   "cell_type": "code",
   "execution_count": 24,
   "metadata": {},
   "outputs": [],
   "source": [
    "response = client.chat.completions.create(\n",
    "  model=DEPLOYMENT_NAME,\n",
    "  messages=[\n",
    "      {\"role\": \"system\",\n",
    "       \"content\": \"You are a helpful urban planning analyst.\"\n",
    "       },\n",
    "    {\"role\": \"user\",\n",
    "      \"content\": [\n",
    "        {\"type\": \"text\", \n",
    "         \"text\": \"Extract the different elements specified in the Festsetzungen of the plan.\"},\n",
    "        {\n",
    "          \"type\": \"image_url\",\n",
    "          \"image_url\": {\n",
    "            \"url\": f\"data:image/jpeg;base64,{base64_images}\",\n",
    "          },\n",
    "        },\n",
    "      ],\n",
    "    }\n",
    "  ],\n",
    "  max_tokens=1000,\n",
    ")"
   ]
  },
  {
   "cell_type": "code",
   "execution_count": 25,
   "metadata": {},
   "outputs": [
    {
     "name": "stdout",
     "output_type": "stream",
     "text": [
      "The plan image provided is a zoning plan (Bebauungsplan) from the Gemeinde Blankenbach, Landkreis Aschaffenburg which outlines specific planning regulations for development within the designated area. This kind of plan typically includes a map as well as textual regulations (textliche Festsetzungen) that determine how land can be used and what kind of structures can be built.\n",
      "\n",
      "From the image, the following elements can be extracted:\n",
      "\n",
      "**Planzeichenerklärung (Key to symbols)**:\n",
      "- **Flächen für den Gemeinbedarf** (Areas for community use), including Zweckbestimmung (specific purpose) such as Festplatz, Bolzplatz, Spielplatz, Bauhof.\n",
      "- **Spielplatz** (Playground).\n",
      "- **Bauhof** (Yard).\n",
      "- Symbols for **Grenze des räumlichen Geltungsbereiches** (Boundary of the spatial scope), **Abgrenzung unterschiedlicher Nutzung** (Differentiation of different uses), etc.\n",
      "\n",
      "**Teil A: Planungsrechtliche Festsetzungen (Part A: Legal planning regulations)**:\n",
      "- **Flächen für den Gemeinbedarf** (Area for public use): Indicates spaces for community purposes, including playgrounds, sports fields, and yards. Restrictions on the establishment of other facilities like discotheques or rock concerts are made clear, emphasizing that the primary purpose of the community area should not be compromised.\n",
      "- **Höhe der baulichen Anlagen** (Height of structures): It is specified that structures should not exceed 5.0 meters in height above the street, with some exceptions for technical operational reasons.\n",
      "- **Dachneigung** (Roof pitch): The permissible roof pitch is set between 15° and 30°.\n",
      "- **Überbaubare Grundstücksflächen** (Developable land areas): Regulations from § 9 Abs. 1 Nr. 2 BauGB apply.\n",
      "- **Silo**: A silo for the yard in the area can be erected outside the boundary line, and an additional silo with a different purpose is allowed.\n",
      "\n",
      "Specific symbols are used on the map to designate areas with particular uses and regulations, such as \"GE\" for commercial areas or color-coded sections representing the phases of construction (e.g., \"1. BAUABSCHNITT\" for the first phase of construction).\n",
      "\n",
      "The text and symbols together provide comprehensive guidance on the development of this area, including what kind of structures can be built, their height, roof pitch, and the specific uses of various areas within the plan's scope.\n"
     ]
    }
   ],
   "source": [
    "print(response.choices[0].message.content)"
   ]
  }
 ],
 "metadata": {
  "kernelspec": {
   "display_name": "land-sealing-dssgx",
   "language": "python",
   "name": "python3"
  },
  "language_info": {
   "codemirror_mode": {
    "name": "ipython",
    "version": 3
   },
   "file_extension": ".py",
   "mimetype": "text/x-python",
   "name": "python",
   "nbconvert_exporter": "python",
   "pygments_lexer": "ipython3",
   "version": "3.11.4"
  }
 },
 "nbformat": 4,
 "nbformat_minor": 2
}
