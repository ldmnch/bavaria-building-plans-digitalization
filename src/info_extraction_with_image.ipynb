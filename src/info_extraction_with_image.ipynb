{
 "cells": [
  {
   "cell_type": "code",
   "execution_count": 1,
   "metadata": {},
   "outputs": [],
   "source": [
    "from azure_authentication.customized_azure_login import CredentialFactory\n",
    "from openai import AzureOpenAI\n",
    "import os\n",
    "from pydantic import BaseModel, Field, conint, confloat"
   ]
  },
  {
   "cell_type": "code",
   "execution_count": 2,
   "metadata": {},
   "outputs": [],
   "source": [
    "import openai"
   ]
  },
  {
   "cell_type": "code",
   "execution_count": 3,
   "metadata": {},
   "outputs": [],
   "source": [
    "from typing import List, Optional, Literal"
   ]
  },
  {
   "cell_type": "code",
   "execution_count": 4,
   "metadata": {},
   "outputs": [],
   "source": [
    "api_version=\"2024-10-21\"\n",
    "api_base= \"https://greendia-oai.openai.azure.com/\"\n",
    "deployment_name = \"gpt-4o-mini\""
   ]
  },
  {
   "cell_type": "markdown",
   "metadata": {},
   "source": [
    "Note: changing to API version 2024-10-21 allows parsing of the content but becomes way more expensive, moves up to 16 usd per request! "
   ]
  },
  {
   "cell_type": "code",
   "execution_count": 5,
   "metadata": {},
   "outputs": [],
   "source": [
    "class GRZ(BaseModel):\n",
    "    value: float = Field(\n",
    "        None,\n",
    "        description=\"The numerical value of the Grundflächenzahl or 'null' if not available\",\n",
    "        example=0.7\n",
    "    )\n",
    "\n",
    "class GFZ(BaseModel):\n",
    "    value: float = Field(\n",
    "        None,\n",
    "        description=\"The numerical value of the Geschossflächenzahl or 'null' if not available\",\n",
    "        example=0.2\n",
    "    )\n"
   ]
  },
  {
   "cell_type": "code",
   "execution_count": 6,
   "metadata": {},
   "outputs": [],
   "source": [
    "parser_tool = [openai.pydantic_function_tool(GFZ)]\n"
   ]
  },
  {
   "cell_type": "code",
   "execution_count": 7,
   "metadata": {},
   "outputs": [],
   "source": [
    "client = AzureOpenAI(\n",
    "    api_key=os.environ[\"KEY_GPT_4O_MINI\"],  \n",
    "    api_version=api_version,\n",
    "    base_url=f\"{api_base}/openai/deployments/{deployment_name}\"\n",
    ")"
   ]
  },
  {
   "cell_type": "code",
   "execution_count": 14,
   "metadata": {},
   "outputs": [],
   "source": [
    "import base64\n",
    "from mimetypes import guess_type\n",
    "\n",
    "# Function to encode a local image into data URL \n",
    "def local_image_to_data_url(image_path):\n",
    "    # Guess the MIME type of the image based on the file extension\n",
    "    mime_type, _ = guess_type(image_path)\n",
    "    if mime_type is None:\n",
    "        mime_type = 'application/octet-stream'  # Default MIME type if none is found\n",
    "\n",
    "    # Read and encode the image file\n",
    "    with open(image_path, \"rb\") as image_file:\n",
    "        base64_encoded_data = base64.b64encode(image_file.read()).decode('utf-8')\n",
    "\n",
    "    # Construct the data URL\n",
    "    return f\"data:{mime_type};base64,{base64_encoded_data}\"\n"
   ]
  },
  {
   "cell_type": "code",
   "execution_count": 9,
   "metadata": {},
   "outputs": [],
   "source": [
    "def calculate_llm_calling_price(model_name, \n",
    "                                input_tokens, \n",
    "                                output_tokens):\n",
    "    \"\"\"\n",
    "    Cost calculator\n",
    "    based on prices from https://azure.microsoft.com/en-us/pricing/details/cognitive-services/openai-service/#pricing\n",
    "    \"\"\"\n",
    "\n",
    "    if model_name == \"gpt-4o-mini\":\n",
    "        return input_tokens / 1000 * 0.15 + output_tokens / 1000 * 0.6\n",
    "    else:\n",
    "        return -1.0"
   ]
  },
  {
   "cell_type": "code",
   "execution_count": 15,
   "metadata": {},
   "outputs": [],
   "source": [
    "# Example usage\n",
    "image_path = '../data/proc/building_plans_sample/split_pdf/904/904_0.jpg'\n",
    "data_url = local_image_to_data_url(image_path)"
   ]
  },
  {
   "cell_type": "code",
   "execution_count": 11,
   "metadata": {},
   "outputs": [],
   "source": [
    "if api_version == \"2024-10-21\":\n",
    "    response = client.beta.chat.completions.parse(\n",
    "        model=deployment_name,\n",
    "        messages=[\n",
    "            { \n",
    "                \"role\": \"system\", \n",
    "                \"content\": \"You are a helpful environmental city planner.\" \n",
    "            },\n",
    "            { \n",
    "                \"role\": \"user\",\n",
    "                \"content\": \"Extract the Geschossflächenzahl from the image.\",\n",
    "            },\n",
    "            {\n",
    "                \"role\": \"user\",\n",
    "                \"content\": data_url  # Assuming this is a string URL to the image\n",
    "            }\n",
    "        ],\n",
    "        response_format=GFZ,\n",
    "        max_tokens=2000\n",
    "    )\n",
    "\n",
    "    result = response.choices[0].message.parsed \n",
    "\n",
    "else: \n",
    "\n",
    "    response = client.chat.completions.create(\n",
    "        model=deployment_name,\n",
    "        messages=[\n",
    "            { \n",
    "                \"role\": \"system\", \n",
    "                \"content\": \"You are a helpful environmental city planner.\" \n",
    "            },\n",
    "            { \n",
    "                \"role\": \"user\",\n",
    "                \"content\": \"Extract the Geschossflächenzahl from the image.\",\n",
    "            },\n",
    "            {\n",
    "                \"role\": \"user\",\n",
    "                \"content\": data_url  # Assuming this is a string URL to the image\n",
    "            }\n",
    "        ],\n",
    "        max_tokens=2000\n",
    "    )\n",
    "    \n",
    "    result = response.choices[0].message.content"
   ]
  },
  {
   "cell_type": "code",
   "execution_count": 12,
   "metadata": {},
   "outputs": [
    {
     "data": {
      "text/plain": [
       "GFZ(value=0.2)"
      ]
     },
     "execution_count": 12,
     "metadata": {},
     "output_type": "execute_result"
    }
   ],
   "source": [
    "result"
   ]
  },
  {
   "cell_type": "code",
   "execution_count": 13,
   "metadata": {},
   "outputs": [
    {
     "data": {
      "text/plain": [
       "16.01745"
      ]
     },
     "execution_count": 13,
     "metadata": {},
     "output_type": "execute_result"
    }
   ],
   "source": [
    "calculate_llm_calling_price(deployment_name, response.usage.prompt_tokens, response.usage.completion_tokens)"
   ]
  }
 ],
 "metadata": {
  "kernelspec": {
   "display_name": "bp_digitalization",
   "language": "python",
   "name": "python3"
  },
  "language_info": {
   "codemirror_mode": {
    "name": "ipython",
    "version": 3
   },
   "file_extension": ".py",
   "mimetype": "text/x-python",
   "name": "python",
   "nbconvert_exporter": "python",
   "pygments_lexer": "ipython3",
   "version": "3.12.3"
  }
 },
 "nbformat": 4,
 "nbformat_minor": 2
}
