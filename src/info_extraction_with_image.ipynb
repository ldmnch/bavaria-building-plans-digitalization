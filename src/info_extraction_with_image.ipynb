{
 "cells": [
  {
   "cell_type": "code",
   "execution_count": 1,
   "metadata": {},
   "outputs": [],
   "source": [
    "from azure_authentication.customized_azure_login import CredentialFactory\n",
    "from openai import AzureOpenAI\n",
    "import os\n",
    "from pydantic import BaseModel, Field, conint, confloat\n",
    "import pandas as pd"
   ]
  },
  {
   "cell_type": "code",
   "execution_count": 2,
   "metadata": {},
   "outputs": [],
   "source": [
    "import openai"
   ]
  },
  {
   "cell_type": "code",
   "execution_count": 3,
   "metadata": {},
   "outputs": [],
   "source": [
    "from typing import List, Optional, Literal"
   ]
  },
  {
   "cell_type": "code",
   "execution_count": 4,
   "metadata": {},
   "outputs": [],
   "source": [
    "api_version=\"2024-10-21\"   #options: \"2024-10-21\" , \"2024-02-01\"  \n",
    "api_base= \"https://greendia-oai.openai.azure.com/\"\n",
    "deployment_name = \"gpt-4o-mini\""
   ]
  },
  {
   "cell_type": "code",
   "execution_count": 5,
   "metadata": {},
   "outputs": [],
   "source": [
    "class GRZ(BaseModel):\n",
    "    value: Optional[float] = Field(\n",
    "        None,\n",
    "        description=\"Der numerische Wert der Grundflächenzahl oder 'null', falls nicht vorhanden.\",\n",
    "        example=0.75\n",
    "    )\n",
    "\n",
    "class GFZ(BaseModel):\n",
    "    value: Optional[float] = Field(\n",
    "        None,\n",
    "        description=\"Der numerische Wert der Geschoßflächenzahl oder 'null', falls nicht vorhanden.\",\n",
    "        example=1.0\n",
    "    )\n",
    "\n",
    "class BuildingMetrics(BaseModel):\n",
    "    \n",
    "    grz: Optional[GRZ] = Field(None, description=\"Grundflächenzahl (GRZ)\")\n",
    "    \n",
    "    gfz: Optional[GFZ] = Field(None, description=\"Geschoßflächenzahl (GFZ)\")"
   ]
  },
  {
   "cell_type": "code",
   "execution_count": 6,
   "metadata": {},
   "outputs": [],
   "source": [
    "parser_tool = [openai.pydantic_function_tool(GFZ)]\n"
   ]
  },
  {
   "cell_type": "code",
   "execution_count": 7,
   "metadata": {},
   "outputs": [],
   "source": [
    "client = AzureOpenAI(\n",
    "    api_key=os.environ[\"KEY_GPT_4O_MINI\"],  \n",
    "    api_version=api_version,\n",
    "    base_url=f\"{api_base}/openai/deployments/{deployment_name}\"\n",
    ")"
   ]
  },
  {
   "cell_type": "code",
   "execution_count": 8,
   "metadata": {},
   "outputs": [],
   "source": [
    "import base64\n",
    "from mimetypes import guess_type\n",
    "from PIL import Image\n",
    "from io import BytesIO\n",
    "\n",
    "# Function to encode a local image into a compressed data URL \n",
    "def local_image_to_data_url(image_path, quality=85, max_size=(800, 800)):\n",
    "    # Guess the MIME type of the image based on the file extension\n",
    "    mime_type, _ = guess_type(image_path)\n",
    "    if mime_type is None:\n",
    "        mime_type = 'application/octet-stream'  # Default MIME type if none is found\n",
    "\n",
    "    # Open the image using Pillow\n",
    "    with Image.open(image_path) as img:\n",
    "        ## Resize image if it's larger than max_size (optional)\n",
    "        #img.thumbnail(max_size)\n",
    "\n",
    "        # Save the image to a buffer in JPEG format (compress it)\n",
    "        buffered = BytesIO()\n",
    "        img.save(buffered, format=\"JPEG\", quality=quality)  # Adjust quality for compression\n",
    "\n",
    "        # Get the base64-encoded compressed image\n",
    "        base64_encoded_data = base64.b64encode(buffered.getvalue()).decode('utf-8')\n",
    "\n",
    "    # Construct the data URL\n",
    "    return f\"data:{mime_type};base64,{base64_encoded_data}\"\n"
   ]
  },
  {
   "cell_type": "code",
   "execution_count": 9,
   "metadata": {},
   "outputs": [],
   "source": [
    "def calculate_llm_calling_price(model_name, \n",
    "                                input_tokens, \n",
    "                                output_tokens):\n",
    "    \"\"\"\n",
    "    Cost calculator\n",
    "    based on prices from https://azure.microsoft.com/en-us/pricing/details/cognitive-services/openai-service/#pricing\n",
    "    \"\"\"\n",
    "\n",
    "    if model_name == \"gpt-4o-mini\":\n",
    "        return input_tokens / 1000 * 0.15 + output_tokens / 1000 * 0.6\n",
    "    else:\n",
    "        return -1.0"
   ]
  },
  {
   "cell_type": "code",
   "execution_count": 10,
   "metadata": {},
   "outputs": [],
   "source": [
    "data_urls = {\n",
    "    \"807\" : {\"link\": \"https://raw.githubusercontent.com/ldmnch/bavaria-building-plans-digitalization/refs/heads/main/data/proc/building_plans_sample/test_images/807_0.jpg\"},\n",
    "    \"695\" : {\"link\": \"https://raw.githubusercontent.com/ldmnch/bavaria-building-plans-digitalization/refs/heads/main/data/proc/building_plans_sample/test_images/695_0.jpg?raw=true\"},\n",
    "    \"904\" : {\"link\": \"https://raw.githubusercontent.com/ldmnch/bavaria-building-plans-digitalization/refs/heads/main/data/proc/building_plans_sample/test_images/904_0.jpg?raw=true\"}\n",
    "}"
   ]
  },
  {
   "cell_type": "code",
   "execution_count": 11,
   "metadata": {},
   "outputs": [
    {
     "name": "stdout",
     "output_type": "stream",
     "text": [
      "807: https://raw.githubusercontent.com/ldmnch/bavaria-building-plans-digitalization/refs/heads/main/data/proc/building_plans_sample/test_images/807_0.jpg\n",
      "695: https://raw.githubusercontent.com/ldmnch/bavaria-building-plans-digitalization/refs/heads/main/data/proc/building_plans_sample/test_images/695_0.jpg?raw=true\n",
      "904: https://raw.githubusercontent.com/ldmnch/bavaria-building-plans-digitalization/refs/heads/main/data/proc/building_plans_sample/test_images/904_0.jpg?raw=true\n"
     ]
    }
   ],
   "source": [
    "for key, value in data_urls.items():\n",
    "    print(f\"{key}: {value['link']}\")"
   ]
  },
  {
   "cell_type": "code",
   "execution_count": 38,
   "metadata": {},
   "outputs": [
    {
     "name": "stderr",
     "output_type": "stream",
     "text": [
      "C:\\Users\\LENOVO\\AppData\\Local\\Temp\\ipykernel_27888\\675065667.py:35: FutureWarning: The behavior of DataFrame concatenation with empty or all-NA entries is deprecated. In a future version, this will no longer exclude empty or all-NA columns when determining the result dtypes. To retain the old behavior, exclude the relevant entries before the concat operation.\n",
      "  results = pd.concat([results, row])\n"
     ]
    }
   ],
   "source": [
    "results = pd.DataFrame(columns=[\"id\", \"output\", \"prompt_tokens\", \"completion_tokens\", \"price\"])\n",
    "\n",
    "for key, value in data_urls.items():\n",
    "    response = client.beta.chat.completions.parse(\n",
    "            model=deployment_name,\n",
    "            messages=[\n",
    "                { \n",
    "                    \"role\": \"system\", \n",
    "                    \"content\": \"Sie sind ein hilfreicher Umwelt-Stadtplaner, der einen Bauplan analysiert.\" \n",
    "                },\n",
    "                { \n",
    "                    \"role\": \"user\",\n",
    "                    \"content\": \n",
    "                    \"Basierend auf dem unten bereitgestellten Bild eines Gebäudeplans möchten wir folgende Informationen extrahieren.\\n\"\n",
    "                    \"1. Maximale Geschoßflächenzahl (GFZ).\\n\"\n",
    "                    \"2. Maximale Grundflächenzahl (GRZ).\\n\",\n",
    "                },\n",
    "                {\n",
    "                    \"role\": \"user\",\n",
    "                    \"content\": value['link']  \n",
    "                }\n",
    "            ],\n",
    "            response_format=BuildingMetrics,\n",
    "            max_tokens=2000\n",
    "    )\n",
    "\n",
    "    result = response.choices[0].message.parsed \n",
    "    prompt_tokens = response.usage.prompt_tokens\n",
    "    completion_tokens = response.usage.completion_tokens\n",
    "\n",
    "    price = calculate_llm_calling_price(deployment_name, prompt_tokens, completion_tokens)\n",
    "\n",
    "    row = pd.DataFrame({\"id\": key, \"output\": result, \"prompt_tokens\": prompt_tokens, \"completion_tokens\": completion_tokens, \"price\": price})\n",
    "\n",
    "    results = pd.concat([results, row])"
   ]
  },
  {
   "cell_type": "code",
   "execution_count": 34,
   "metadata": {},
   "outputs": [
    {
     "data": {
      "text/plain": [
       "BuildingMetrics(grz=GRZ(value=0.75), gfz=GFZ(value=1.0))"
      ]
     },
     "execution_count": 34,
     "metadata": {},
     "output_type": "execute_result"
    }
   ],
   "source": [
    "response.choices[0].message.parsed"
   ]
  },
  {
   "cell_type": "code",
   "execution_count": 37,
   "metadata": {},
   "outputs": [
    {
     "data": {
      "text/html": [
       "<div>\n",
       "<style scoped>\n",
       "    .dataframe tbody tr th:only-of-type {\n",
       "        vertical-align: middle;\n",
       "    }\n",
       "\n",
       "    .dataframe tbody tr th {\n",
       "        vertical-align: top;\n",
       "    }\n",
       "\n",
       "    .dataframe thead th {\n",
       "        text-align: right;\n",
       "    }\n",
       "</style>\n",
       "<table border=\"1\" class=\"dataframe\">\n",
       "  <thead>\n",
       "    <tr style=\"text-align: right;\">\n",
       "      <th></th>\n",
       "      <th>id</th>\n",
       "      <th>output</th>\n",
       "      <th>prompt_tokens</th>\n",
       "      <th>completion_tokens</th>\n",
       "      <th>price</th>\n",
       "    </tr>\n",
       "  </thead>\n",
       "  <tbody>\n",
       "    <tr>\n",
       "      <th>0</th>\n",
       "      <td>904</td>\n",
       "      <td>(grz, value=0.75)</td>\n",
       "      <td>359</td>\n",
       "      <td>19</td>\n",
       "      <td>0.06525</td>\n",
       "    </tr>\n",
       "    <tr>\n",
       "      <th>1</th>\n",
       "      <td>904</td>\n",
       "      <td>(gfz, value=1.0)</td>\n",
       "      <td>359</td>\n",
       "      <td>19</td>\n",
       "      <td>0.06525</td>\n",
       "    </tr>\n",
       "  </tbody>\n",
       "</table>\n",
       "</div>"
      ],
      "text/plain": [
       "    id             output  prompt_tokens  completion_tokens    price\n",
       "0  904  (grz, value=0.75)            359                 19  0.06525\n",
       "1  904   (gfz, value=1.0)            359                 19  0.06525"
      ]
     },
     "execution_count": 37,
     "metadata": {},
     "output_type": "execute_result"
    }
   ],
   "source": [
    "row"
   ]
  },
  {
   "cell_type": "code",
   "execution_count": 40,
   "metadata": {},
   "outputs": [],
   "source": [
    "results.reset_index(drop=True, inplace=True)"
   ]
  },
  {
   "cell_type": "code",
   "execution_count": 41,
   "metadata": {},
   "outputs": [
    {
     "data": {
      "text/html": [
       "<div>\n",
       "<style scoped>\n",
       "    .dataframe tbody tr th:only-of-type {\n",
       "        vertical-align: middle;\n",
       "    }\n",
       "\n",
       "    .dataframe tbody tr th {\n",
       "        vertical-align: top;\n",
       "    }\n",
       "\n",
       "    .dataframe thead th {\n",
       "        text-align: right;\n",
       "    }\n",
       "</style>\n",
       "<table border=\"1\" class=\"dataframe\">\n",
       "  <thead>\n",
       "    <tr style=\"text-align: right;\">\n",
       "      <th></th>\n",
       "      <th>id</th>\n",
       "      <th>output</th>\n",
       "      <th>prompt_tokens</th>\n",
       "      <th>completion_tokens</th>\n",
       "      <th>price</th>\n",
       "    </tr>\n",
       "  </thead>\n",
       "  <tbody>\n",
       "    <tr>\n",
       "      <th>0</th>\n",
       "      <td>807</td>\n",
       "      <td>(grz, value=0.5)</td>\n",
       "      <td>356</td>\n",
       "      <td>19</td>\n",
       "      <td>0.06480</td>\n",
       "    </tr>\n",
       "    <tr>\n",
       "      <th>1</th>\n",
       "      <td>807</td>\n",
       "      <td>(gfz, value=1.2)</td>\n",
       "      <td>356</td>\n",
       "      <td>19</td>\n",
       "      <td>0.06480</td>\n",
       "    </tr>\n",
       "    <tr>\n",
       "      <th>2</th>\n",
       "      <td>695</td>\n",
       "      <td>(grz, value=0.3)</td>\n",
       "      <td>359</td>\n",
       "      <td>19</td>\n",
       "      <td>0.06525</td>\n",
       "    </tr>\n",
       "    <tr>\n",
       "      <th>3</th>\n",
       "      <td>695</td>\n",
       "      <td>(gfz, value=1.5)</td>\n",
       "      <td>359</td>\n",
       "      <td>19</td>\n",
       "      <td>0.06525</td>\n",
       "    </tr>\n",
       "    <tr>\n",
       "      <th>4</th>\n",
       "      <td>904</td>\n",
       "      <td>(grz, value=0.4)</td>\n",
       "      <td>359</td>\n",
       "      <td>19</td>\n",
       "      <td>0.06525</td>\n",
       "    </tr>\n",
       "    <tr>\n",
       "      <th>5</th>\n",
       "      <td>904</td>\n",
       "      <td>(gfz, value=1.2)</td>\n",
       "      <td>359</td>\n",
       "      <td>19</td>\n",
       "      <td>0.06525</td>\n",
       "    </tr>\n",
       "  </tbody>\n",
       "</table>\n",
       "</div>"
      ],
      "text/plain": [
       "    id            output prompt_tokens completion_tokens    price\n",
       "0  807  (grz, value=0.5)           356                19  0.06480\n",
       "1  807  (gfz, value=1.2)           356                19  0.06480\n",
       "2  695  (grz, value=0.3)           359                19  0.06525\n",
       "3  695  (gfz, value=1.5)           359                19  0.06525\n",
       "4  904  (grz, value=0.4)           359                19  0.06525\n",
       "5  904  (gfz, value=1.2)           359                19  0.06525"
      ]
     },
     "execution_count": 41,
     "metadata": {},
     "output_type": "execute_result"
    }
   ],
   "source": [
    "results"
   ]
  }
 ],
 "metadata": {
  "kernelspec": {
   "display_name": "bp_digitalization",
   "language": "python",
   "name": "python3"
  },
  "language_info": {
   "codemirror_mode": {
    "name": "ipython",
    "version": 3
   },
   "file_extension": ".py",
   "mimetype": "text/x-python",
   "name": "python",
   "nbconvert_exporter": "python",
   "pygments_lexer": "ipython3",
   "version": "3.12.3"
  }
 },
 "nbformat": 4,
 "nbformat_minor": 2
}
