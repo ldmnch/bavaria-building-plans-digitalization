{
 "cells": [
  {
   "cell_type": "code",
   "execution_count": 1,
   "metadata": {},
   "outputs": [],
   "source": [
    "from processing_data import proc_geoservices_results"
   ]
  },
  {
   "cell_type": "markdown",
   "metadata": {},
   "source": [
    "## Processing the data\n",
    "\n",
    "We have all of our tables saved into multiple csvs in the folder of our choice. The function `generate_dateset_building_plans` takes all of these csvs and merges them into one we can later iterate on."
   ]
  },
  {
   "cell_type": "code",
   "execution_count": 2,
   "metadata": {},
   "outputs": [],
   "source": [
    "proc_geoservices_results.generate_dataset_building_plans(\n",
    "    input_folder_path = '../data/raw/geoservices_results_sample',\n",
    "    output_folder_path = '../data/proc/building_plans',\n",
    "    output_folder_name = 'building_plans_metadata')"
   ]
  }
 ],
 "metadata": {
  "kernelspec": {
   "display_name": "land-sealing-dssgx",
   "language": "python",
   "name": "python3"
  },
  "language_info": {
   "codemirror_mode": {
    "name": "ipython",
    "version": 3
   },
   "file_extension": ".py",
   "mimetype": "text/x-python",
   "name": "python",
   "nbconvert_exporter": "python",
   "pygments_lexer": "ipython3",
   "version": "3.11.4"
  }
 },
 "nbformat": 4,
 "nbformat_minor": 2
}
