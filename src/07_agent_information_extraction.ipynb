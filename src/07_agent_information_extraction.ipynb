{
 "cells": [
  {
   "cell_type": "code",
   "execution_count": 1,
   "metadata": {},
   "outputs": [
    {
     "name": "stderr",
     "output_type": "stream",
     "text": [
      "[nltk_data] Downloading package punkt_tab to\n",
      "[nltk_data]     c:\\Users\\LENOVO\\anaconda3\\envs\\bp_digitalization\\Lib\\s\n",
      "[nltk_data]     ite-packages\\llama_index\\core\\_static/nltk_cache...\n",
      "[nltk_data]   Package punkt_tab is already up-to-date!\n"
     ]
    }
   ],
   "source": [
    "import os\n",
    "import base64\n",
    "import pandas as pd\n",
    "\n",
    "from textual_features.agent_extraction import Llm, BP_Metrics_Getter"
   ]
  },
  {
   "cell_type": "code",
   "execution_count": 2,
   "metadata": {},
   "outputs": [],
   "source": [
    "from textual_features.prompts_and_parsers import Llm_Extraction_Prompt"
   ]
  },
  {
   "cell_type": "code",
   "execution_count": 3,
   "metadata": {},
   "outputs": [],
   "source": [
    "from azure_authentication.customized_azure_login import CredentialFactory"
   ]
  },
  {
   "cell_type": "code",
   "execution_count": 4,
   "metadata": {},
   "outputs": [],
   "source": [
    "import nest_asyncio"
   ]
  },
  {
   "cell_type": "code",
   "execution_count": null,
   "metadata": {},
   "outputs": [],
   "source": [
    "def create_llm_costs_dict(llm):\n",
    "    \"\"\"Creates a dictionary with the costs of the LLM.\"\"\"\n",
    "    llm_costs = {\n",
    "        \"llm_prompt_tokens\": llm.token_counter.prompt_llm_token_count,\n",
    "        \"llm_completion_tokens\": llm.token_counter.completion_llm_token_count,\n",
    "        \"total_llm_token_count\": llm.token_counter.total_llm_token_count,\n",
    "        \"total_llm_costs_in_euro\": llm.calculate_llm_calling_price(llm.token_counter.prompt_llm_token_count,\n",
    "                                                                   llm.token_counter.completion_llm_token_count),\n",
    "    }\n",
    "\n",
    "    return llm_costs"
   ]
  },
  {
   "cell_type": "code",
   "execution_count": 5,
   "metadata": {},
   "outputs": [],
   "source": [
    "os.chdir(\"../\")\n",
    "CWD = os.getcwd()\n",
    "\n",
    "data_dir = os.path.join(CWD, 'data')\n",
    "\n",
    "#Specify mode (working with a sample or all the files?)\n",
    "sample_mode = False \n",
    "sample_size = 50\n",
    "\n",
    "# specify file path\n",
    "INPUT_FILE_PATH = os.path.join(CWD, \"data\", \"proc\", \"building_plans_sample\", \"test_images\", \"bp_text.json\")\n",
    "METADATA_PATH = os.path.join(CWD, \"data\", \"proc\", \"building_plans\", \"metadata\",\"building_plans_metadata.csv\")\n",
    "\n",
    "# specify relevant column names\n",
    "ID_COLUMN='filename'\n",
    "TEXT_COLUMN='content'\n",
    "\n",
    "# read in data\n",
    "bp_text = pd.read_json(INPUT_FILE_PATH)\n",
    "metadata_df = pd.read_csv(METADATA_PATH)"
   ]
  },
  {
   "cell_type": "code",
   "execution_count": 6,
   "metadata": {},
   "outputs": [],
   "source": [
    "metadata_bps = metadata_df[metadata_df['Planart'].isin(['qualifizierter Bebauungsplan', 'einfacher Bebauungsplan', 'vorhabenbezogener Bebauungsplan'])]"
   ]
  },
  {
   "cell_type": "code",
   "execution_count": 7,
   "metadata": {},
   "outputs": [],
   "source": [
    "bp_text['id'] = bp_text['filename'].str.extract(r'(\\d+)_').astype(int)"
   ]
  },
  {
   "cell_type": "code",
   "execution_count": 8,
   "metadata": {},
   "outputs": [],
   "source": [
    "#input_df = metadata_bps.merge(bp_text)"
   ]
  },
  {
   "cell_type": "code",
   "execution_count": 9,
   "metadata": {},
   "outputs": [],
   "source": [
    "input_df = bp_text"
   ]
  },
  {
   "cell_type": "code",
   "execution_count": 10,
   "metadata": {},
   "outputs": [
    {
     "name": "stdout",
     "output_type": "stream",
     "text": [
      "Instantiate Azure OpenAI Client\n"
     ]
    }
   ],
   "source": [
    "# Recommendation: Configure your own authentication workflow with environment variables, see the description at\n",
    "# https://github.com/soda-lmu/azure-auth-helper-python/blob/main/AuthenticationWorkflowSetup.md\n",
    "credential = CredentialFactory().select_credential()\n",
    "token_provider = credential.get_login_token_to_azure_cognitive_services()\n",
    "\n",
    "print(\"Instantiate Azure OpenAI Client\")"
   ]
  },
  {
   "cell_type": "code",
   "execution_count": 11,
   "metadata": {},
   "outputs": [],
   "source": [
    "if sample_mode:\n",
    "    \n",
    "    run_data = input_df.sample(sample_size, random_state=15)\n",
    "\n",
    "else: \n",
    " \n",
    "    run_data = input_df"
   ]
  },
  {
   "cell_type": "code",
   "execution_count": 12,
   "metadata": {},
   "outputs": [],
   "source": [
    "llm = Llm(model_name=\"gpt-4-1106-preview\")\n",
    "getter = BP_Metrics_Getter(llm = llm, llm_single_prompt = Llm_Extraction_Prompt())"
   ]
  },
  {
   "cell_type": "code",
   "execution_count": 16,
   "metadata": {},
   "outputs": [
    {
     "data": {
      "text/html": [
       "<div>\n",
       "<style scoped>\n",
       "    .dataframe tbody tr th:only-of-type {\n",
       "        vertical-align: middle;\n",
       "    }\n",
       "\n",
       "    .dataframe tbody tr th {\n",
       "        vertical-align: top;\n",
       "    }\n",
       "\n",
       "    .dataframe thead th {\n",
       "        text-align: right;\n",
       "    }\n",
       "</style>\n",
       "<table border=\"1\" class=\"dataframe\">\n",
       "  <thead>\n",
       "    <tr style=\"text-align: right;\">\n",
       "      <th></th>\n",
       "      <th>filename</th>\n",
       "      <th>content</th>\n",
       "      <th>id</th>\n",
       "    </tr>\n",
       "  </thead>\n",
       "  <tbody>\n",
       "    <tr>\n",
       "      <th>0</th>\n",
       "      <td>695_0.jpg</td>\n",
       "      <td>[Bebauungsplan (BBP) \"Sonnenschein\", PRÄAMBEL,...</td>\n",
       "      <td>695</td>\n",
       "    </tr>\n",
       "    <tr>\n",
       "      <th>1</th>\n",
       "      <td>807_0.jpg</td>\n",
       "      <td>[Zeichenerklärung für Festsetzungen, Hinweise,...</td>\n",
       "      <td>807</td>\n",
       "    </tr>\n",
       "    <tr>\n",
       "      <th>2</th>\n",
       "      <td>904_0.jpg</td>\n",
       "      <td>[Gemeinde Stadtlauringen, OT Altenmünster, Fes...</td>\n",
       "      <td>904</td>\n",
       "    </tr>\n",
       "    <tr>\n",
       "      <th>3</th>\n",
       "      <td>904_1.jpg</td>\n",
       "      <td>[5.0, Höhenfestsetzungen (8 9, Abs., 2 BauGB),...</td>\n",
       "      <td>904</td>\n",
       "    </tr>\n",
       "    <tr>\n",
       "      <th>4</th>\n",
       "      <td>904_2.jpg</td>\n",
       "      <td>[8.0, Textliche   Festsetzung, der, Grünordnun...</td>\n",
       "      <td>904</td>\n",
       "    </tr>\n",
       "    <tr>\n",
       "      <th>5</th>\n",
       "      <td>904_3.jpg</td>\n",
       "      <td>[8.4, Vollzugsfrist, verbindlichen  Anpflanzun...</td>\n",
       "      <td>904</td>\n",
       "    </tr>\n",
       "    <tr>\n",
       "      <th>6</th>\n",
       "      <td>904_4.jpg</td>\n",
       "      <td>[ZEICHENERKLÄRUNG ZU DEN PLANLICHEN  FESTSETZU...</td>\n",
       "      <td>904</td>\n",
       "    </tr>\n",
       "    <tr>\n",
       "      <th>7</th>\n",
       "      <td>904_5.jpg</td>\n",
       "      <td>[Verkehrsflächen, Abs, BauGB), Öffentliche  St...</td>\n",
       "      <td>904</td>\n",
       "    </tr>\n",
       "    <tr>\n",
       "      <th>8</th>\n",
       "      <td>904_6.jpg</td>\n",
       "      <td>[13.2 Sonstige   Grünordnung, Ads,, 250, und 2...</td>\n",
       "      <td>904</td>\n",
       "    </tr>\n",
       "    <tr>\n",
       "      <th>9</th>\n",
       "      <td>904_7.jpg</td>\n",
       "      <td>[INDERUNGSVERMERK, GEA, NANE, GeFR, Nave, Froj...</td>\n",
       "      <td>904</td>\n",
       "    </tr>\n",
       "    <tr>\n",
       "      <th>10</th>\n",
       "      <td>904_8.jpg</td>\n",
       "      <td>[Markt Stadtlauringen, Gemeindeteil, Altenmüns...</td>\n",
       "      <td>904</td>\n",
       "    </tr>\n",
       "  </tbody>\n",
       "</table>\n",
       "</div>"
      ],
      "text/plain": [
       "     filename                                            content   id\n",
       "0   695_0.jpg  [Bebauungsplan (BBP) \"Sonnenschein\", PRÄAMBEL,...  695\n",
       "1   807_0.jpg  [Zeichenerklärung für Festsetzungen, Hinweise,...  807\n",
       "2   904_0.jpg  [Gemeinde Stadtlauringen, OT Altenmünster, Fes...  904\n",
       "3   904_1.jpg  [5.0, Höhenfestsetzungen (8 9, Abs., 2 BauGB),...  904\n",
       "4   904_2.jpg  [8.0, Textliche   Festsetzung, der, Grünordnun...  904\n",
       "5   904_3.jpg  [8.4, Vollzugsfrist, verbindlichen  Anpflanzun...  904\n",
       "6   904_4.jpg  [ZEICHENERKLÄRUNG ZU DEN PLANLICHEN  FESTSETZU...  904\n",
       "7   904_5.jpg  [Verkehrsflächen, Abs, BauGB), Öffentliche  St...  904\n",
       "8   904_6.jpg  [13.2 Sonstige   Grünordnung, Ads,, 250, und 2...  904\n",
       "9   904_7.jpg  [INDERUNGSVERMERK, GEA, NANE, GeFR, Nave, Froj...  904\n",
       "10  904_8.jpg  [Markt Stadtlauringen, Gemeindeteil, Altenmüns...  904"
      ]
     },
     "execution_count": 16,
     "metadata": {},
     "output_type": "execute_result"
    }
   ],
   "source": [
    "run_data"
   ]
  },
  {
   "cell_type": "code",
   "execution_count": 13,
   "metadata": {},
   "outputs": [
    {
     "name": "stdout",
     "output_type": "stream",
     "text": [
      "Current Time: 12:32:09 ( 0.00017503333316805462 minutes since process started.)\n",
      "LLM query execution time: 5.212466199998744 seconds (5.222969900001772 seconds since initiating ValueRetrieverPipeline).\n",
      "Current Time: 12:32:14 ( 0.08711057999947419 minutes since process started.)\n",
      "LLM query execution time: 6.460410400060937 seconds (11.68704600003548 seconds since initiating ValueRetrieverPipeline).\n",
      "Current Time: 12:32:20 ( 0.19480677166720853 minutes since process started.)\n",
      "LLM query execution time: 5.067159299971536 seconds (16.755566300009377 seconds since initiating ValueRetrieverPipeline).\n",
      "Current Time: 12:32:25 ( 0.2792758100006419 minutes since process started.)\n",
      "LLM query execution time: 3.909944299957715 seconds (20.66649370000232 seconds since initiating ValueRetrieverPipeline).\n",
      "Current Time: 12:32:29 ( 0.34445869000046514 minutes since process started.)\n",
      "LLM query execution time: 5.669114999938756 seconds (26.336636999971233 seconds since initiating ValueRetrieverPipeline).\n",
      "Current Time: 12:32:35 ( 0.4389600983335792 minutes since process started.)\n",
      "LLM query execution time: 5.132153699989431 seconds (31.46976010000799 seconds since initiating ValueRetrieverPipeline).\n",
      "Current Time: 12:32:40 ( 0.5245098400007312 minutes since process started.)\n",
      "LLM query execution time: 2.595244099968113 seconds (34.06583530001808 seconds since initiating ValueRetrieverPipeline).\n",
      "Current Time: 12:32:43 ( 0.5677786666667088 minutes since process started.)\n",
      "LLM query execution time: 5.424254899960943 seconds (39.490975599968806 seconds since initiating ValueRetrieverPipeline).\n",
      "Current Time: 12:32:48 ( 0.658197050000308 minutes since process started.)\n",
      "LLM query execution time: 4.929636299959384 seconds (44.421459699980915 seconds since initiating ValueRetrieverPipeline).\n",
      "Current Time: 12:32:53 ( 0.7403738816656793 minutes since process started.)\n",
      "LLM query execution time: 4.250299100065604 seconds (48.67273270001169 seconds since initiating ValueRetrieverPipeline).\n",
      "Current Time: 12:32:57 ( 0.8112292833335232 minutes since process started.)\n",
      "LLM query execution time: 4.503422199981287 seconds (53.177179599995725 seconds since initiating ValueRetrieverPipeline).\n"
     ]
    }
   ],
   "source": [
    "nest_asyncio.apply()\n",
    "\n",
    "results = pd.DataFrame(columns=[\"id\", \"output\", \"llm_prompt_tokens\", \"llm_completion_tokens\", \"total_llm_token_count\", \"total_llm_costs_in_euro\"])\n",
    "\n",
    "for i, row in run_data.iterrows():\n",
    "    \n",
    "    response = await getter._bound_get_emissions_from_raw_text(row['content'])\n",
    "    completion_tokens = response.usage.completion_tokens\n",
    "\n",
    "    price = calculate_llm_calling_price(deployment_name, prompt_tokens, completion_tokens)\n",
    "    \n",
    "    parsed_extractions = getter._parse_to_classes_llm_output(response)\n",
    "    \n",
    "    #results.append(parsed_extractions)\n",
    "\n",
    "    row = pd.DataFrame({\"filename\": row['filename'], \"output\": parsed_extractions, \n",
    "                         \"llm_prompt_tokens\": llm_costs[\"llm_prompt_tokens\"], \"llm_completion_tokens\" : llm_costs[\"llm_completion_tokens\"], \n",
    "                         \"total_llm_token_count\": llm_costs[\"total_llm_token_count\"], \"total_llm_costs_in_euro\" : llm_costs[\"total_llm_costs_in_euro\"]})\n",
    "\n",
    "    results = pd.concat([results, row])"
   ]
  },
  {
   "cell_type": "code",
   "execution_count": 14,
   "metadata": {},
   "outputs": [
    {
     "data": {
      "text/plain": [
       "[BuildingMetrics(grz=GRZ(value=0.35), gfz=GFZ(value=0.35)),\n",
       " BuildingMetrics(grz=GRZ(value=0.6), gfz=GFZ(value=1.0)),\n",
       " BuildingMetrics(grz=GRZ(value=0.6), gfz=GFZ(value=2.0)),\n",
       " BuildingMetrics(grz=GRZ(value=None), gfz=GFZ(value=None)),\n",
       " BuildingMetrics(grz=GRZ(value=None), gfz=GFZ(value=None)),\n",
       " BuildingMetrics(grz=GRZ(value=None), gfz=GFZ(value=None)),\n",
       " BuildingMetrics(grz=GRZ(value=0.6), gfz=GFZ(value=2.0)),\n",
       " BuildingMetrics(grz=GRZ(value=None), gfz=GFZ(value=None)),\n",
       " BuildingMetrics(grz=GRZ(value=None), gfz=GFZ(value=None)),\n",
       " BuildingMetrics(grz=GRZ(value=None), gfz=GFZ(value=None)),\n",
       " BuildingMetrics(grz=GRZ(value=None), gfz=GFZ(value=None))]"
      ]
     },
     "execution_count": 14,
     "metadata": {},
     "output_type": "execute_result"
    }
   ],
   "source": [
    "results"
   ]
  },
  {
   "cell_type": "code",
   "execution_count": 16,
   "metadata": {},
   "outputs": [
    {
     "data": {
      "text/plain": [
       "BuildingMetrics(grz=GRZ(value=0.35), gfz=GFZ(value=0.35))"
      ]
     },
     "execution_count": 16,
     "metadata": {},
     "output_type": "execute_result"
    }
   ],
   "source": [
    "parsed_extractions"
   ]
  },
  {
   "cell_type": "code",
   "execution_count": 17,
   "metadata": {},
   "outputs": [],
   "source": [
    "#OUTPUT_FLOODING_FILE_PATH = os.path.join(\"data\", \"proc\", \"building_plans_sample\", \"features\",  \"test_images_flooding_data_extraction.csv\")\n",
    "#OUTPUT_EXTRACTIONS_FILE_PATH = os.path.join(\"data\", \"proc\", \"building_plans_sample\", \"features\",  \"test_images_info_data_extraction.csv\")\n",
    "#\n",
    "#\n",
    "#extraction_df.to_csv(OUTPUT_EXTRACTIONS_FILE_PATH)\n",
    "#flooding_df.to_csv(OUTPUT_FLOODING_FILE_PATH)"
   ]
  }
 ],
 "metadata": {
  "kernelspec": {
   "display_name": "bp_digitalization",
   "language": "python",
   "name": "python3"
  },
  "language_info": {
   "codemirror_mode": {
    "name": "ipython",
    "version": 3
   },
   "file_extension": ".py",
   "mimetype": "text/x-python",
   "name": "python",
   "nbconvert_exporter": "python",
   "pygments_lexer": "ipython3",
   "version": "3.12.3"
  }
 },
 "nbformat": 4,
 "nbformat_minor": 2
}
