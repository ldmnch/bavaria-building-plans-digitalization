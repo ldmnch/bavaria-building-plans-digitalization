{
 "cells": [
  {
   "cell_type": "code",
   "execution_count": 1,
   "metadata": {},
   "outputs": [],
   "source": [
    "from src.geodata_bayern_scraping import scrape_geodata_bayern"
   ]
  },
  {
   "cell_type": "markdown",
   "metadata": {},
   "source": [
    "# Scraping Bauleitplanung Portals\n",
    "\n",
    "The [Geoportal of Bayern](https://geoportal.bayern.de/bauleitplanungsportal/karte.html) has an API that contains the access to a JSON with all Bauleitplan Portals of the different municipalities. This code shows how to use the function that parses the JSON, formats it, and the one that writes the data as output. \n",
    "\n",
    "## Step 1: Parse and process the json\n",
    "\n",
    "These functions don't require to be adjusted since they only access the link, parse the json and turn it into a dictionary so it can be exported. "
   ]
  },
  {
   "cell_type": "code",
   "execution_count": null,
   "metadata": {},
   "outputs": [],
   "source": [
    "url = 'https://geoportal.bayern.de/bauleitplanungsportal/data/gemeinden.json'\n",
    "\n",
    "bauleitsites_json = scrape_geodata_bayern.parse_json(url = url)\n",
    "bauleitsites_json = scrape_geodata_bayern.format_json_data(bauleitsites_json)"
   ]
  },
  {
   "cell_type": "markdown",
   "metadata": {},
   "source": [
    "## Step 2: Output the data to local folder\n",
    "\n",
    "- Adjust `output_folder` to name of folder in 'data' sub-folder you want to save the results to. \n",
    "- Adjust `file_name` to the name of the file you want to save it as. "
   ]
  },
  {
   "cell_type": "code",
   "execution_count": 5,
   "metadata": {},
   "outputs": [],
   "source": [
    "scrape_geodata_bayern.write_results(json_data = bauleitsites_json,\n",
    "                  output_folder = 'data/proc/geobayern_bpsites',\n",
    "                  file_name = 'geobayern_bauleitsites')"
   ]
  }
 ],
 "metadata": {
  "kernelspec": {
   "display_name": "land-sealing-dssgx",
   "language": "python",
   "name": "python3"
  },
  "language_info": {
   "codemirror_mode": {
    "name": "ipython",
    "version": 3
   },
   "file_extension": ".py",
   "mimetype": "text/x-python",
   "name": "python",
   "nbconvert_exporter": "python",
   "pygments_lexer": "ipython3",
   "version": "3.11.4"
  }
 },
 "nbformat": 4,
 "nbformat_minor": 2
}
