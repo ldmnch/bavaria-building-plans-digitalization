{
 "cells": [
  {
   "cell_type": "code",
   "execution_count": 1,
   "metadata": {},
   "outputs": [],
   "source": [
    "import pandas as pd\n",
    "import numpy as np\n",
    "import json\n",
    "\n",
    "from pdfs_to_text import pdfs_downloader, pdfs_preprocessing"
   ]
  },
  {
   "cell_type": "markdown",
   "metadata": {},
   "source": [
    "# Downloading PDFs\n",
    "\n",
    "In the first notebooks, we obtained the information about building plans and the links to the respective PDFs. In this notebook, you will see how to use the function that takes as input that metadata and downloads all PDFs.\n",
    "\n",
    "First, read the metadata:"
   ]
  },
  {
   "cell_type": "code",
   "execution_count": 2,
   "metadata": {},
   "outputs": [],
   "source": [
    "filename = '../data/raw/geoservices_results/formatted_map_data_section_A.jsonl'"
   ]
  },
  {
   "cell_type": "code",
   "execution_count": 3,
   "metadata": {},
   "outputs": [],
   "source": [
    "data = []\n",
    "buffer = \"\"\n",
    "with open(filename, 'r', encoding='utf-8') as file:\n",
    "    for line in file:\n",
    "        line = line.strip()\n",
    "        if line:  # Add line to buffer\n",
    "            buffer += line\n",
    "            # Check if this is the end of a JSON object\n",
    "            if line.endswith(\"}\"):\n",
    "                try:\n",
    "                    data.append(json.loads(buffer))\n",
    "                    buffer = \"\"  # Reset buffer after successful parse\n",
    "                except json.JSONDecodeError as e:\n",
    "                    print(f\"Error decoding JSON object: {buffer}\")\n",
    "                    print(f\"Error: {e}\")\n",
    "                    buffer = \"\"  # Reset buffer to skip the problematic object\n"
   ]
  },
  {
   "cell_type": "code",
   "execution_count": 4,
   "metadata": {},
   "outputs": [],
   "source": [
    "data = pd.DataFrame(data)"
   ]
  },
  {
   "cell_type": "code",
   "execution_count": 5,
   "metadata": {},
   "outputs": [
    {
     "data": {
      "text/plain": [
       "array(['Qualifizierter BPlan', 'Entwicklungssatzung', nan,\n",
       "       'Einfacher BPlan', 'Vorhabenbezogener BPlan', 'Ergänzungssatzung',\n",
       "       'BPlan_Innenentwicklung'], dtype=object)"
      ]
     },
     "execution_count": 5,
     "metadata": {},
     "output_type": "execute_result"
    }
   ],
   "source": [
    "data.Planart.unique()"
   ]
  },
  {
   "cell_type": "code",
   "execution_count": 6,
   "metadata": {},
   "outputs": [],
   "source": [
    "np.random.seed(seed=912)\n",
    "data['id'] = np.random.randint(1, 944, size=len(data))"
   ]
  },
  {
   "cell_type": "code",
   "execution_count": 7,
   "metadata": {},
   "outputs": [],
   "source": [
    "bplan_data = data.loc[(data['Planart'] == 'Qualifizierter BPlan') | (data['Planart'] == 'Einfacher BPlan') | (data['Planart'] == 'Vorhabenbezogener BPlan')]"
   ]
  },
  {
   "cell_type": "markdown",
   "metadata": {},
   "source": [
    "- Adjust `id_column` with the name of the ID column.\n",
    "- Adjust `link_column` with the name of the column that contains the links.\n",
    "- Adjust `date_column` to the column with date of the building plans.\n",
    "- Adjust `output_folder` with name of the folder you want to save the data to.\n",
    "\n",
    "The function also contains the optional parameter `sample_n` which can be used to only download a sample, defining the number of observations to take."
   ]
  },
  {
   "cell_type": "code",
   "execution_count": 8,
   "metadata": {},
   "outputs": [
    {
     "name": "stderr",
     "output_type": "stream",
     "text": [
      "c:\\Users\\LENOVO\\Desktop\\DSSGx\\land_sealing_post_dssg\\bavaria-building-plans-digitalization\\src\\pdfs_to_text\\pdfs_downloader.py:10: UserWarning: Parsing dates in %d.%m.%Y format when dayfirst=False (the default) was specified. Pass `dayfirst=True` or specify a format to silence this warning.\n",
      "  return pd.to_datetime(date_string)\n",
      "c:\\Users\\LENOVO\\Desktop\\DSSGx\\land_sealing_post_dssg\\bavaria-building-plans-digitalization\\src\\pdfs_to_text\\pdfs_downloader.py:36: SettingWithCopyWarning: \n",
      "A value is trying to be set on a copy of a slice from a DataFrame.\n",
      "Try using .loc[row_indexer,col_indexer] = value instead\n",
      "\n",
      "See the caveats in the documentation: https://pandas.pydata.org/pandas-docs/stable/user_guide/indexing.html#returning-a-view-versus-a-copy\n",
      "  data[date_column] = data[date_column].apply(parse_date)\n",
      "100%|██████████| 100/100 [02:24<00:00,  1.45s/it]\n"
     ]
    }
   ],
   "source": [
    "pdfs_downloader.run_pdf_downloader(input_df = bplan_data,\n",
    "    id_column = 'id',\n",
    "    link_column = 'URL zur Legende',\n",
    "    date_column = 'Datum des Inkrafttretens',\n",
    "    start_date = '2001-01-01',\n",
    "    end_date = '2024-01-01',\n",
    "    output_folder = \"../data/raw/building_plan_sample/pdfs\",\n",
    "    sample_n = 100)"
   ]
  },
  {
   "cell_type": "markdown",
   "metadata": {},
   "source": [
    "Then, we run the function run_pdfs_split that converts pdfs into jpg for the OCR."
   ]
  },
  {
   "cell_type": "code",
   "execution_count": 10,
   "metadata": {},
   "outputs": [
    {
     "name": "stderr",
     "output_type": "stream",
     "text": [
      "100%|██████████| 81/81 [02:05<00:00,  1.55s/it]\n"
     ]
    }
   ],
   "source": [
    "pdfs_preprocessing.run_pdfs_split(input_folder='../data/raw/building_plan_sample/pdfs',\n",
    "                                  output_folder= '../data/proc/building_plans_sample/split_pdf/')"
   ]
  }
 ],
 "metadata": {
  "kernelspec": {
   "display_name": "land-sealing-dssgx",
   "language": "python",
   "name": "python3"
  },
  "language_info": {
   "codemirror_mode": {
    "name": "ipython",
    "version": 3
   },
   "file_extension": ".py",
   "mimetype": "text/x-python",
   "name": "python",
   "nbconvert_exporter": "python",
   "pygments_lexer": "ipython3",
   "version": "3.11.4"
  }
 },
 "nbformat": 4,
 "nbformat_minor": 2
}
