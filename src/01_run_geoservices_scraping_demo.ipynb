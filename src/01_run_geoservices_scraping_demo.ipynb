{
 "cells": [
  {
   "cell_type": "code",
   "execution_count": 1,
   "metadata": {},
   "outputs": [],
   "source": [
    "import pandas as pd\n",
    "from geoservices_bayern_scraping import building_plans, bounding_boxes"
   ]
  },
  {
   "cell_type": "markdown",
   "metadata": {},
   "source": [
    "# Scraping Building Plans of Bayern\n",
    "\n",
    "The [Geoportal of Bayern](https://geoportal.bayern.de/bauleitplanungsportal/karte.html) has an API that contains the direct links to different building plans across the region. The API takes as input a bounding box that will define the are over which the plans will be scraped. This code shows how to use two functions elaborated to scrape the entire API: one that defines the bounding boxes that will cover all of Bayern and one that efficiently downloads the information into csvs. \n",
    "\n",
    "## Step 1: Load the data from each Stadt"
   ]
  },
  {
   "cell_type": "code",
   "execution_count": 2,
   "metadata": {},
   "outputs": [],
   "source": [
    "gemeinden = pd.read_json('../data/proc/geobayern_bpsites/geobayern_bauleitsites.json', orient= \"index\")"
   ]
  },
  {
   "cell_type": "markdown",
   "metadata": {},
   "source": [
    "## Step 2: Run the scraper\n",
    "\n",
    "- Adjust `batch_size` for the number of items to be ran in each batch iteration.\n",
    "- Adjust `batch_delay` to make a longer or shorter pause between batches. Helps in reducing the load on the server and avoids potential IP blocking or other restrictions due to rapid sequential requests.\n",
    "- Adjust `max_retries` for number of times to try each download if failed. \n",
    "- Change name of output folder adjusting `output_folder`."
   ]
  },
  {
   "cell_type": "code",
   "execution_count": 3,
   "metadata": {},
   "outputs": [
    {
     "name": "stdout",
     "output_type": "stream",
     "text": [
      "Running batch 0 of 10 bounding boxes.\n"
     ]
    },
    {
     "name": "stderr",
     "output_type": "stream",
     "text": [
      "10it [01:53, 11.33s/it]\n"
     ]
    }
   ],
   "source": [
    "building_plans.scrape_in_batches(gemeinden,\n",
    "                      batch_size = 100,\n",
    "                      batch_delay = 30, \n",
    "                      max_retries = 5,\n",
    "                      output_folder = '../data/raw/geoservices_results_sample',\n",
    "                      size_n = 10)"
   ]
  }
 ],
 "metadata": {
  "kernelspec": {
   "display_name": "land-sealing-dssgx",
   "language": "python",
   "name": "python3"
  },
  "language_info": {
   "codemirror_mode": {
    "name": "ipython",
    "version": 3
   },
   "file_extension": ".py",
   "mimetype": "text/x-python",
   "name": "python",
   "nbconvert_exporter": "python",
   "pygments_lexer": "ipython3",
   "version": "3.11.4"
  }
 },
 "nbformat": 4,
 "nbformat_minor": 4
}
