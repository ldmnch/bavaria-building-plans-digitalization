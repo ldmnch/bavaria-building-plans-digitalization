{
 "cells": [
  {
   "cell_type": "code",
   "execution_count": 1,
   "metadata": {},
   "outputs": [],
   "source": [
    "import pandas as pd\n",
    "from geoservices_bayern_scraping import building_plans"
   ]
  },
  {
   "cell_type": "markdown",
   "metadata": {},
   "source": [
    "# Scraping Building Plans of Bayern\n",
    "\n",
    "The [Geoportal of Bayern](https://geoportal.bayern.de/bauleitplanungsportal/karte.html) has an API that contains the direct links to different building plans across the region. The API takes as input a bounding box that will define the are over which the plans will be scraped. This code shows how to use two functions elaborated to scrape the entire API: one that defines the bounding boxes that will cover all of Bayern and one that efficiently downloads the information into csvs. \n",
    "\n",
    "## Step 1: Load the data from each Stadt"
   ]
  },
  {
   "cell_type": "code",
   "execution_count": 2,
   "metadata": {},
   "outputs": [],
   "source": [
    "gemeinden = pd.read_json('../data/proc/geobayern_bpsites/geobayern_bauleitsites.json', orient= \"index\")"
   ]
  },
  {
   "cell_type": "code",
   "execution_count": 4,
   "metadata": {},
   "outputs": [
    {
     "data": {
      "text/html": [
       "<div>\n",
       "<style scoped>\n",
       "    .dataframe tbody tr th:only-of-type {\n",
       "        vertical-align: middle;\n",
       "    }\n",
       "\n",
       "    .dataframe tbody tr th {\n",
       "        vertical-align: top;\n",
       "    }\n",
       "\n",
       "    .dataframe thead th {\n",
       "        text-align: right;\n",
       "    }\n",
       "</style>\n",
       "<table border=\"1\" class=\"dataframe\">\n",
       "  <thead>\n",
       "    <tr style=\"text-align: right;\">\n",
       "      <th></th>\n",
       "      <th>name</th>\n",
       "      <th>ags</th>\n",
       "      <th>kreis</th>\n",
       "      <th>bezirk</th>\n",
       "      <th>boundingbox</th>\n",
       "      <th>midpoint</th>\n",
       "      <th>bauleit_urls</th>\n",
       "    </tr>\n",
       "  </thead>\n",
       "  <tbody>\n",
       "    <tr>\n",
       "      <th>Herrngiersdorf</th>\n",
       "      <td>Herrngiersdorf</td>\n",
       "      <td>9273127</td>\n",
       "      <td>Kelheim</td>\n",
       "      <td>Niederbayern</td>\n",
       "      <td>[722630.85, 5404128.13, 727950.62, 5411909.47]</td>\n",
       "      <td>[725290.73, 5408018.8]</td>\n",
       "      <td>[{'url': 'https://herrngiersdorf.de/bauen-lebe...</td>\n",
       "    </tr>\n",
       "  </tbody>\n",
       "</table>\n",
       "</div>"
      ],
      "text/plain": [
       "                          name      ags    kreis        bezirk  \\\n",
       "Herrngiersdorf  Herrngiersdorf  9273127  Kelheim  Niederbayern   \n",
       "\n",
       "                                                   boundingbox  \\\n",
       "Herrngiersdorf  [722630.85, 5404128.13, 727950.62, 5411909.47]   \n",
       "\n",
       "                              midpoint  \\\n",
       "Herrngiersdorf  [725290.73, 5408018.8]   \n",
       "\n",
       "                                                     bauleit_urls  \n",
       "Herrngiersdorf  [{'url': 'https://herrngiersdorf.de/bauen-lebe...  "
      ]
     },
     "execution_count": 4,
     "metadata": {},
     "output_type": "execute_result"
    }
   ],
   "source": [
    "gemeinden[gemeinden['name'] == 'Herrngiersdorf']\n"
   ]
  },
  {
   "cell_type": "code",
   "execution_count": 3,
   "metadata": {},
   "outputs": [],
   "source": [
    "munich = gemeinden[gemeinden['name'] == 'München']"
   ]
  },
  {
   "cell_type": "markdown",
   "metadata": {},
   "source": [
    "## Step 2: Run the scraper\n",
    "\n",
    "- Adjust `batch_size` for the number of items to be ran in each batch iteration.\n",
    "- Adjust `batch_delay` to make a longer or shorter pause between batches. Helps in reducing the load on the server and avoids potential IP blocking or other restrictions due to rapid sequential requests.\n",
    "- Adjust `max_retries` for number of times to try each download if failed. \n",
    "- Change name of output folder adjusting `output_folder`."
   ]
  },
  {
   "cell_type": "code",
   "execution_count": 4,
   "metadata": {},
   "outputs": [
    {
     "name": "stdout",
     "output_type": "stream",
     "text": [
      "Running batch 0 of 1 bounding boxes.\n"
     ]
    },
    {
     "name": "stderr",
     "output_type": "stream",
     "text": [
      "1it [00:11, 11.09s/it]\n"
     ]
    }
   ],
   "source": [
    "building_plans.scrape_in_batches(munich,\n",
    "                      batch_delay = 30, \n",
    "                      max_retries = 5,\n",
    "                      output_folder = '../data/raw/geoservices_results_sample',\n",
    "                      size_n=None)"
   ]
  }
 ],
 "metadata": {
  "kernelspec": {
   "display_name": "land-sealing-dssgx",
   "language": "python",
   "name": "python3"
  },
  "language_info": {
   "codemirror_mode": {
    "name": "ipython",
    "version": 3
   },
   "file_extension": ".py",
   "mimetype": "text/x-python",
   "name": "python",
   "nbconvert_exporter": "python",
   "pygments_lexer": "ipython3",
   "version": "3.11.4"
  }
 },
 "nbformat": 4,
 "nbformat_minor": 4
}
