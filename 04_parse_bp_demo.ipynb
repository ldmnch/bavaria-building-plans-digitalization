{
 "cells": [
  {
   "cell_type": "code",
   "execution_count": 1,
   "metadata": {},
   "outputs": [],
   "source": [
    "from src.pdfs_to_text import pdfs_parser"
   ]
  },
  {
   "cell_type": "markdown",
   "metadata": {},
   "source": [
    "# Parsing PDF content\n",
    "\n",
    "Once we have the PDFs downloaded it is necessary to parse the content into text so we can analyze it. First:\n",
    "\n",
    "- Assign to `BP_PDF_DIR` the directory where you have all the PDFs downloaded.\n",
    "- Change `BP_TEXT_FILE_PATH_JSON` to the path and file name you want the output to be saved as."
   ]
  },
  {
   "cell_type": "code",
   "execution_count": 2,
   "metadata": {},
   "outputs": [],
   "source": [
    "BP_PDF_DIR = 'data/proc/building_plans_sample/split_pdf'\n",
    "BP_TEXT_FILE_PATH_JSON = 'data/proc/building_plans_sample/bp_text.json'"
   ]
  },
  {
   "cell_type": "code",
   "execution_count": 3,
   "metadata": {},
   "outputs": [
    {
     "name": "stderr",
     "output_type": "stream",
     "text": [
      "\u001b[32m2024-01-31 10:30:23.993\u001b[0m | \u001b[1mINFO    \u001b[0m | \u001b[36msrc.pdfs_to_text.pdfs_parser\u001b[0m:\u001b[36mpdf_parser_from_folder\u001b[0m:\u001b[36m101\u001b[0m - \u001b[1mParsing file: 10530_1.pdf\u001b[0m\n"
     ]
    },
    {
     "name": "stdout",
     "output_type": "stream",
     "text": [
      "Content extraction failed using Tika. Attempting conversion to TIFF.\n"
     ]
    },
    {
     "name": "stderr",
     "output_type": "stream",
     "text": [
      "\u001b[32m2024-01-31 10:30:37.165\u001b[0m | \u001b[1mINFO    \u001b[0m | \u001b[36msrc.pdfs_to_text.pdfs_parser\u001b[0m:\u001b[36mpdf_parser_from_folder\u001b[0m:\u001b[36m101\u001b[0m - \u001b[1mParsing file: 1234_1.pdf\u001b[0m\n"
     ]
    },
    {
     "name": "stdout",
     "output_type": "stream",
     "text": [
      "Content extraction failed using Tika. Attempting conversion to TIFF.\n"
     ]
    },
    {
     "name": "stderr",
     "output_type": "stream",
     "text": [
      "\u001b[32m2024-01-31 10:30:39.114\u001b[0m | \u001b[1mINFO    \u001b[0m | \u001b[36msrc.pdfs_to_text.pdfs_parser\u001b[0m:\u001b[36mpdf_parser_from_folder\u001b[0m:\u001b[36m101\u001b[0m - \u001b[1mParsing file: 1234_2.pdf\u001b[0m\n"
     ]
    },
    {
     "name": "stdout",
     "output_type": "stream",
     "text": [
      "Content extraction failed using Tika. Attempting conversion to TIFF.\n"
     ]
    },
    {
     "name": "stderr",
     "output_type": "stream",
     "text": [
      "\u001b[32m2024-01-31 10:30:40.325\u001b[0m | \u001b[1mINFO    \u001b[0m | \u001b[36msrc.pdfs_to_text.pdfs_parser\u001b[0m:\u001b[36mpdf_parser_from_folder\u001b[0m:\u001b[36m101\u001b[0m - \u001b[1mParsing file: 1234_3.pdf\u001b[0m\n"
     ]
    },
    {
     "name": "stdout",
     "output_type": "stream",
     "text": [
      "Content extraction failed using Tika. Attempting conversion to TIFF.\n"
     ]
    },
    {
     "name": "stderr",
     "output_type": "stream",
     "text": [
      "\u001b[32m2024-01-31 10:30:41.502\u001b[0m | \u001b[1mINFO    \u001b[0m | \u001b[36msrc.pdfs_to_text.pdfs_parser\u001b[0m:\u001b[36mpdf_parser_from_folder\u001b[0m:\u001b[36m101\u001b[0m - \u001b[1mParsing file: 1234_4.pdf\u001b[0m\n"
     ]
    },
    {
     "name": "stdout",
     "output_type": "stream",
     "text": [
      "Content extraction failed using Tika. Attempting conversion to TIFF.\n"
     ]
    },
    {
     "name": "stderr",
     "output_type": "stream",
     "text": [
      "\u001b[32m2024-01-31 10:30:42.605\u001b[0m | \u001b[1mINFO    \u001b[0m | \u001b[36msrc.pdfs_to_text.pdfs_parser\u001b[0m:\u001b[36mpdf_parser_from_folder\u001b[0m:\u001b[36m101\u001b[0m - \u001b[1mParsing file: 1234_5.pdf\u001b[0m\n"
     ]
    },
    {
     "name": "stdout",
     "output_type": "stream",
     "text": [
      "Content extraction failed using Tika. Attempting conversion to TIFF.\n"
     ]
    },
    {
     "name": "stderr",
     "output_type": "stream",
     "text": [
      "\u001b[32m2024-01-31 10:30:43.808\u001b[0m | \u001b[1mINFO    \u001b[0m | \u001b[36msrc.pdfs_to_text.pdfs_parser\u001b[0m:\u001b[36mpdf_parser_from_folder\u001b[0m:\u001b[36m101\u001b[0m - \u001b[1mParsing file: 1234_6.pdf\u001b[0m\n"
     ]
    },
    {
     "name": "stdout",
     "output_type": "stream",
     "text": [
      "Content extraction failed using Tika. Attempting conversion to TIFF.\n"
     ]
    },
    {
     "name": "stderr",
     "output_type": "stream",
     "text": [
      "\u001b[32m2024-01-31 10:30:44.973\u001b[0m | \u001b[1mINFO    \u001b[0m | \u001b[36msrc.pdfs_to_text.pdfs_parser\u001b[0m:\u001b[36mpdf_parser_from_folder\u001b[0m:\u001b[36m101\u001b[0m - \u001b[1mParsing file: 1234_7.pdf\u001b[0m\n"
     ]
    },
    {
     "name": "stdout",
     "output_type": "stream",
     "text": [
      "Content extraction failed using Tika. Attempting conversion to TIFF.\n"
     ]
    },
    {
     "name": "stderr",
     "output_type": "stream",
     "text": [
      "\u001b[32m2024-01-31 10:30:45.840\u001b[0m | \u001b[1mINFO    \u001b[0m | \u001b[36msrc.pdfs_to_text.pdfs_parser\u001b[0m:\u001b[36mpdf_parser_from_folder\u001b[0m:\u001b[36m101\u001b[0m - \u001b[1mParsing file: 1234_8.pdf\u001b[0m\n"
     ]
    },
    {
     "name": "stdout",
     "output_type": "stream",
     "text": [
      "Content extraction failed using Tika. Attempting conversion to TIFF.\n"
     ]
    },
    {
     "name": "stderr",
     "output_type": "stream",
     "text": [
      "\u001b[32m2024-01-31 10:30:47.089\u001b[0m | \u001b[1mINFO    \u001b[0m | \u001b[36msrc.pdfs_to_text.pdfs_parser\u001b[0m:\u001b[36mpdf_parser_from_folder\u001b[0m:\u001b[36m101\u001b[0m - \u001b[1mParsing file: 12510_1.pdf\u001b[0m\n"
     ]
    },
    {
     "name": "stdout",
     "output_type": "stream",
     "text": [
      "Content extraction failed using Tika. Attempting conversion to TIFF.\n"
     ]
    },
    {
     "name": "stderr",
     "output_type": "stream",
     "text": [
      "\u001b[32m2024-01-31 10:35:59.807\u001b[0m | \u001b[1mINFO    \u001b[0m | \u001b[36msrc.pdfs_to_text.pdfs_parser\u001b[0m:\u001b[36mpdf_parser_from_folder\u001b[0m:\u001b[36m101\u001b[0m - \u001b[1mParsing file: 20731_1.pdf\u001b[0m\n",
      "\u001b[32m2024-01-31 10:36:00.515\u001b[0m | \u001b[1mINFO    \u001b[0m | \u001b[36msrc.pdfs_to_text.pdfs_parser\u001b[0m:\u001b[36mpdf_parser_from_folder\u001b[0m:\u001b[36m101\u001b[0m - \u001b[1mParsing file: 20731_2.pdf\u001b[0m\n",
      "\u001b[32m2024-01-31 10:36:00.620\u001b[0m | \u001b[1mINFO    \u001b[0m | \u001b[36msrc.pdfs_to_text.pdfs_parser\u001b[0m:\u001b[36mpdf_parser_from_folder\u001b[0m:\u001b[36m101\u001b[0m - \u001b[1mParsing file: 22148_1.pdf\u001b[0m\n"
     ]
    },
    {
     "name": "stdout",
     "output_type": "stream",
     "text": [
      "Content extraction failed using Tika. Attempting conversion to TIFF.\n"
     ]
    },
    {
     "name": "stderr",
     "output_type": "stream",
     "text": [
      "\u001b[32m2024-01-31 10:36:04.379\u001b[0m | \u001b[1mINFO    \u001b[0m | \u001b[36msrc.pdfs_to_text.pdfs_parser\u001b[0m:\u001b[36mpdf_parser_from_folder\u001b[0m:\u001b[36m101\u001b[0m - \u001b[1mParsing file: 22148_2.pdf\u001b[0m\n"
     ]
    },
    {
     "name": "stdout",
     "output_type": "stream",
     "text": [
      "Content extraction failed using Tika. Attempting conversion to TIFF.\n"
     ]
    },
    {
     "name": "stderr",
     "output_type": "stream",
     "text": [
      "\u001b[32m2024-01-31 10:36:05.957\u001b[0m | \u001b[1mINFO    \u001b[0m | \u001b[36msrc.pdfs_to_text.pdfs_parser\u001b[0m:\u001b[36mpdf_parser_from_folder\u001b[0m:\u001b[36m101\u001b[0m - \u001b[1mParsing file: 23496_1.pdf\u001b[0m\n"
     ]
    },
    {
     "name": "stdout",
     "output_type": "stream",
     "text": [
      "Content extraction failed using Tika. Attempting conversion to TIFF.\n"
     ]
    },
    {
     "name": "stderr",
     "output_type": "stream",
     "text": [
      "\u001b[32m2024-01-31 10:36:18.249\u001b[0m | \u001b[1mINFO    \u001b[0m | \u001b[36msrc.pdfs_to_text.pdfs_parser\u001b[0m:\u001b[36mpdf_parser_from_folder\u001b[0m:\u001b[36m101\u001b[0m - \u001b[1mParsing file: 24428_1.pdf\u001b[0m\n"
     ]
    },
    {
     "name": "stdout",
     "output_type": "stream",
     "text": [
      "Content extraction failed using Tika. Attempting conversion to TIFF.\n"
     ]
    },
    {
     "name": "stderr",
     "output_type": "stream",
     "text": [
      "\u001b[32m2024-01-31 10:36:26.434\u001b[0m | \u001b[1mINFO    \u001b[0m | \u001b[36msrc.pdfs_to_text.pdfs_parser\u001b[0m:\u001b[36mpdf_parser_from_folder\u001b[0m:\u001b[36m101\u001b[0m - \u001b[1mParsing file: 26958_1.pdf\u001b[0m\n"
     ]
    },
    {
     "name": "stdout",
     "output_type": "stream",
     "text": [
      "Content extraction failed using Tika. Attempting conversion to TIFF.\n"
     ]
    },
    {
     "name": "stderr",
     "output_type": "stream",
     "text": [
      "\u001b[32m2024-01-31 10:36:29.006\u001b[0m | \u001b[1mINFO    \u001b[0m | \u001b[36msrc.pdfs_to_text.pdfs_parser\u001b[0m:\u001b[36mpdf_parser_from_folder\u001b[0m:\u001b[36m101\u001b[0m - \u001b[1mParsing file: 2936_1.pdf\u001b[0m\n"
     ]
    },
    {
     "name": "stdout",
     "output_type": "stream",
     "text": [
      "Content extraction failed using Tika. Attempting conversion to TIFF.\n"
     ]
    },
    {
     "name": "stderr",
     "output_type": "stream",
     "text": [
      "\u001b[32m2024-01-31 10:36:34.801\u001b[0m | \u001b[1mINFO    \u001b[0m | \u001b[36msrc.pdfs_to_text.pdfs_parser\u001b[0m:\u001b[36mpdf_parser_from_folder\u001b[0m:\u001b[36m101\u001b[0m - \u001b[1mParsing file: 2936_10.pdf\u001b[0m\n"
     ]
    },
    {
     "name": "stdout",
     "output_type": "stream",
     "text": [
      "Content extraction failed using Tika. Attempting conversion to TIFF.\n"
     ]
    },
    {
     "name": "stderr",
     "output_type": "stream",
     "text": [
      "\u001b[32m2024-01-31 10:36:36.187\u001b[0m | \u001b[1mINFO    \u001b[0m | \u001b[36msrc.pdfs_to_text.pdfs_parser\u001b[0m:\u001b[36mpdf_parser_from_folder\u001b[0m:\u001b[36m101\u001b[0m - \u001b[1mParsing file: 2936_11.pdf\u001b[0m\n"
     ]
    },
    {
     "name": "stdout",
     "output_type": "stream",
     "text": [
      "Content extraction failed using Tika. Attempting conversion to TIFF.\n"
     ]
    },
    {
     "name": "stderr",
     "output_type": "stream",
     "text": [
      "\u001b[32m2024-01-31 10:36:37.514\u001b[0m | \u001b[1mINFO    \u001b[0m | \u001b[36msrc.pdfs_to_text.pdfs_parser\u001b[0m:\u001b[36mpdf_parser_from_folder\u001b[0m:\u001b[36m101\u001b[0m - \u001b[1mParsing file: 2936_12.pdf\u001b[0m\n"
     ]
    },
    {
     "name": "stdout",
     "output_type": "stream",
     "text": [
      "Content extraction failed using Tika. Attempting conversion to TIFF.\n"
     ]
    },
    {
     "name": "stderr",
     "output_type": "stream",
     "text": [
      "\u001b[32m2024-01-31 10:36:38.759\u001b[0m | \u001b[1mINFO    \u001b[0m | \u001b[36msrc.pdfs_to_text.pdfs_parser\u001b[0m:\u001b[36mpdf_parser_from_folder\u001b[0m:\u001b[36m101\u001b[0m - \u001b[1mParsing file: 2936_13.pdf\u001b[0m\n"
     ]
    },
    {
     "name": "stdout",
     "output_type": "stream",
     "text": [
      "Content extraction failed using Tika. Attempting conversion to TIFF.\n"
     ]
    },
    {
     "name": "stderr",
     "output_type": "stream",
     "text": [
      "\u001b[32m2024-01-31 10:36:39.993\u001b[0m | \u001b[1mINFO    \u001b[0m | \u001b[36msrc.pdfs_to_text.pdfs_parser\u001b[0m:\u001b[36mpdf_parser_from_folder\u001b[0m:\u001b[36m101\u001b[0m - \u001b[1mParsing file: 2936_2.pdf\u001b[0m\n"
     ]
    },
    {
     "name": "stdout",
     "output_type": "stream",
     "text": [
      "Content extraction failed using Tika. Attempting conversion to TIFF.\n"
     ]
    },
    {
     "name": "stderr",
     "output_type": "stream",
     "text": [
      "\u001b[32m2024-01-31 10:36:41.206\u001b[0m | \u001b[1mINFO    \u001b[0m | \u001b[36msrc.pdfs_to_text.pdfs_parser\u001b[0m:\u001b[36mpdf_parser_from_folder\u001b[0m:\u001b[36m101\u001b[0m - \u001b[1mParsing file: 2936_3.pdf\u001b[0m\n"
     ]
    },
    {
     "name": "stdout",
     "output_type": "stream",
     "text": [
      "Content extraction failed using Tika. Attempting conversion to TIFF.\n"
     ]
    },
    {
     "name": "stderr",
     "output_type": "stream",
     "text": [
      "\u001b[32m2024-01-31 10:36:42.375\u001b[0m | \u001b[1mINFO    \u001b[0m | \u001b[36msrc.pdfs_to_text.pdfs_parser\u001b[0m:\u001b[36mpdf_parser_from_folder\u001b[0m:\u001b[36m101\u001b[0m - \u001b[1mParsing file: 2936_4.pdf\u001b[0m\n"
     ]
    },
    {
     "name": "stdout",
     "output_type": "stream",
     "text": [
      "Content extraction failed using Tika. Attempting conversion to TIFF.\n"
     ]
    },
    {
     "name": "stderr",
     "output_type": "stream",
     "text": [
      "\u001b[32m2024-01-31 10:36:43.634\u001b[0m | \u001b[1mINFO    \u001b[0m | \u001b[36msrc.pdfs_to_text.pdfs_parser\u001b[0m:\u001b[36mpdf_parser_from_folder\u001b[0m:\u001b[36m101\u001b[0m - \u001b[1mParsing file: 2936_5.pdf\u001b[0m\n"
     ]
    },
    {
     "name": "stdout",
     "output_type": "stream",
     "text": [
      "Content extraction failed using Tika. Attempting conversion to TIFF.\n"
     ]
    },
    {
     "name": "stderr",
     "output_type": "stream",
     "text": [
      "\u001b[32m2024-01-31 10:36:44.898\u001b[0m | \u001b[1mINFO    \u001b[0m | \u001b[36msrc.pdfs_to_text.pdfs_parser\u001b[0m:\u001b[36mpdf_parser_from_folder\u001b[0m:\u001b[36m101\u001b[0m - \u001b[1mParsing file: 2936_6.pdf\u001b[0m\n"
     ]
    },
    {
     "name": "stdout",
     "output_type": "stream",
     "text": [
      "Content extraction failed using Tika. Attempting conversion to TIFF.\n"
     ]
    },
    {
     "name": "stderr",
     "output_type": "stream",
     "text": [
      "\u001b[32m2024-01-31 10:36:46.216\u001b[0m | \u001b[1mINFO    \u001b[0m | \u001b[36msrc.pdfs_to_text.pdfs_parser\u001b[0m:\u001b[36mpdf_parser_from_folder\u001b[0m:\u001b[36m101\u001b[0m - \u001b[1mParsing file: 2936_7.pdf\u001b[0m\n"
     ]
    },
    {
     "name": "stdout",
     "output_type": "stream",
     "text": [
      "Content extraction failed using Tika. Attempting conversion to TIFF.\n"
     ]
    },
    {
     "name": "stderr",
     "output_type": "stream",
     "text": [
      "\u001b[32m2024-01-31 10:36:47.495\u001b[0m | \u001b[1mINFO    \u001b[0m | \u001b[36msrc.pdfs_to_text.pdfs_parser\u001b[0m:\u001b[36mpdf_parser_from_folder\u001b[0m:\u001b[36m101\u001b[0m - \u001b[1mParsing file: 2936_8.pdf\u001b[0m\n"
     ]
    },
    {
     "name": "stdout",
     "output_type": "stream",
     "text": [
      "Content extraction failed using Tika. Attempting conversion to TIFF.\n"
     ]
    },
    {
     "name": "stderr",
     "output_type": "stream",
     "text": [
      "\u001b[32m2024-01-31 10:36:48.739\u001b[0m | \u001b[1mINFO    \u001b[0m | \u001b[36msrc.pdfs_to_text.pdfs_parser\u001b[0m:\u001b[36mpdf_parser_from_folder\u001b[0m:\u001b[36m101\u001b[0m - \u001b[1mParsing file: 2936_9.pdf\u001b[0m\n"
     ]
    },
    {
     "name": "stdout",
     "output_type": "stream",
     "text": [
      "Content extraction failed using Tika. Attempting conversion to TIFF.\n"
     ]
    },
    {
     "name": "stderr",
     "output_type": "stream",
     "text": [
      "\u001b[32m2024-01-31 10:36:49.940\u001b[0m | \u001b[1mINFO    \u001b[0m | \u001b[36msrc.pdfs_to_text.pdfs_parser\u001b[0m:\u001b[36mpdf_parser_from_folder\u001b[0m:\u001b[36m101\u001b[0m - \u001b[1mParsing file: 30899_1.pdf\u001b[0m\n"
     ]
    },
    {
     "name": "stdout",
     "output_type": "stream",
     "text": [
      "Content extraction failed using Tika. Attempting conversion to TIFF.\n"
     ]
    },
    {
     "name": "stderr",
     "output_type": "stream",
     "text": [
      "\u001b[32m2024-01-31 10:36:52.071\u001b[0m | \u001b[1mINFO    \u001b[0m | \u001b[36msrc.pdfs_to_text.pdfs_parser\u001b[0m:\u001b[36mpdf_parser_from_folder\u001b[0m:\u001b[36m101\u001b[0m - \u001b[1mParsing file: 32671_1.pdf\u001b[0m\n"
     ]
    },
    {
     "name": "stdout",
     "output_type": "stream",
     "text": [
      "Content extraction failed using Tika. Attempting conversion to TIFF.\n"
     ]
    },
    {
     "name": "stderr",
     "output_type": "stream",
     "text": [
      "\u001b[32m2024-01-31 10:36:53.658\u001b[0m | \u001b[1mINFO    \u001b[0m | \u001b[36msrc.pdfs_to_text.pdfs_parser\u001b[0m:\u001b[36mpdf_parser_from_folder\u001b[0m:\u001b[36m101\u001b[0m - \u001b[1mParsing file: 32671_2.pdf\u001b[0m\n"
     ]
    },
    {
     "name": "stdout",
     "output_type": "stream",
     "text": [
      "Content extraction failed using Tika. Attempting conversion to TIFF.\n"
     ]
    },
    {
     "name": "stderr",
     "output_type": "stream",
     "text": [
      "\u001b[32m2024-01-31 10:36:55.462\u001b[0m | \u001b[1mINFO    \u001b[0m | \u001b[36msrc.pdfs_to_text.pdfs_parser\u001b[0m:\u001b[36mpdf_parser_from_folder\u001b[0m:\u001b[36m101\u001b[0m - \u001b[1mParsing file: 32671_3.pdf\u001b[0m\n"
     ]
    },
    {
     "name": "stdout",
     "output_type": "stream",
     "text": [
      "Content extraction failed using Tika. Attempting conversion to TIFF.\n"
     ]
    },
    {
     "name": "stderr",
     "output_type": "stream",
     "text": [
      "\u001b[32m2024-01-31 10:36:56.645\u001b[0m | \u001b[1mINFO    \u001b[0m | \u001b[36msrc.pdfs_to_text.pdfs_parser\u001b[0m:\u001b[36mpdf_parser_from_folder\u001b[0m:\u001b[36m101\u001b[0m - \u001b[1mParsing file: 32671_4.pdf\u001b[0m\n"
     ]
    },
    {
     "name": "stdout",
     "output_type": "stream",
     "text": [
      "Content extraction failed using Tika. Attempting conversion to TIFF.\n"
     ]
    },
    {
     "name": "stderr",
     "output_type": "stream",
     "text": [
      "\u001b[32m2024-01-31 10:36:58.264\u001b[0m | \u001b[1mINFO    \u001b[0m | \u001b[36msrc.pdfs_to_text.pdfs_parser\u001b[0m:\u001b[36mpdf_parser_from_folder\u001b[0m:\u001b[36m101\u001b[0m - \u001b[1mParsing file: 32671_5.pdf\u001b[0m\n"
     ]
    },
    {
     "name": "stdout",
     "output_type": "stream",
     "text": [
      "Content extraction failed using Tika. Attempting conversion to TIFF.\n"
     ]
    },
    {
     "name": "stderr",
     "output_type": "stream",
     "text": [
      "\u001b[32m2024-01-31 10:37:00.005\u001b[0m | \u001b[1mINFO    \u001b[0m | \u001b[36msrc.pdfs_to_text.pdfs_parser\u001b[0m:\u001b[36mpdf_parser_from_folder\u001b[0m:\u001b[36m101\u001b[0m - \u001b[1mParsing file: 3339_1.pdf\u001b[0m\n"
     ]
    },
    {
     "name": "stdout",
     "output_type": "stream",
     "text": [
      "Content extraction failed using Tika. Attempting conversion to TIFF.\n"
     ]
    },
    {
     "name": "stderr",
     "output_type": "stream",
     "text": [
      "\u001b[32m2024-01-31 10:37:06.094\u001b[0m | \u001b[1mINFO    \u001b[0m | \u001b[36msrc.pdfs_to_text.pdfs_parser\u001b[0m:\u001b[36mpdf_parser_from_folder\u001b[0m:\u001b[36m101\u001b[0m - \u001b[1mParsing file: 3339_2.pdf\u001b[0m\n"
     ]
    },
    {
     "name": "stdout",
     "output_type": "stream",
     "text": [
      "Content extraction failed using Tika. Attempting conversion to TIFF.\n"
     ]
    },
    {
     "name": "stderr",
     "output_type": "stream",
     "text": [
      "\u001b[32m2024-01-31 10:37:07.410\u001b[0m | \u001b[1mINFO    \u001b[0m | \u001b[36msrc.pdfs_to_text.pdfs_parser\u001b[0m:\u001b[36mpdf_parser_from_folder\u001b[0m:\u001b[36m101\u001b[0m - \u001b[1mParsing file: 3339_3.pdf\u001b[0m\n"
     ]
    },
    {
     "name": "stdout",
     "output_type": "stream",
     "text": [
      "Content extraction failed using Tika. Attempting conversion to TIFF.\n"
     ]
    },
    {
     "name": "stderr",
     "output_type": "stream",
     "text": [
      "\u001b[32m2024-01-31 10:37:08.804\u001b[0m | \u001b[1mINFO    \u001b[0m | \u001b[36msrc.pdfs_to_text.pdfs_parser\u001b[0m:\u001b[36mpdf_parser_from_folder\u001b[0m:\u001b[36m101\u001b[0m - \u001b[1mParsing file: 3339_4.pdf\u001b[0m\n"
     ]
    },
    {
     "name": "stdout",
     "output_type": "stream",
     "text": [
      "Content extraction failed using Tika. Attempting conversion to TIFF.\n"
     ]
    },
    {
     "name": "stderr",
     "output_type": "stream",
     "text": [
      "\u001b[32m2024-01-31 10:37:10.099\u001b[0m | \u001b[1mINFO    \u001b[0m | \u001b[36msrc.pdfs_to_text.pdfs_parser\u001b[0m:\u001b[36mpdf_parser_from_folder\u001b[0m:\u001b[36m101\u001b[0m - \u001b[1mParsing file: 3339_5.pdf\u001b[0m\n"
     ]
    },
    {
     "name": "stdout",
     "output_type": "stream",
     "text": [
      "Content extraction failed using Tika. Attempting conversion to TIFF.\n"
     ]
    },
    {
     "name": "stderr",
     "output_type": "stream",
     "text": [
      "\u001b[32m2024-01-31 10:37:11.330\u001b[0m | \u001b[1mINFO    \u001b[0m | \u001b[36msrc.pdfs_to_text.pdfs_parser\u001b[0m:\u001b[36mpdf_parser_from_folder\u001b[0m:\u001b[36m101\u001b[0m - \u001b[1mParsing file: 3339_6.pdf\u001b[0m\n"
     ]
    },
    {
     "name": "stdout",
     "output_type": "stream",
     "text": [
      "Content extraction failed using Tika. Attempting conversion to TIFF.\n"
     ]
    },
    {
     "name": "stderr",
     "output_type": "stream",
     "text": [
      "\u001b[32m2024-01-31 10:37:12.639\u001b[0m | \u001b[1mINFO    \u001b[0m | \u001b[36msrc.pdfs_to_text.pdfs_parser\u001b[0m:\u001b[36mpdf_parser_from_folder\u001b[0m:\u001b[36m101\u001b[0m - \u001b[1mParsing file: 38019_1.pdf\u001b[0m\n"
     ]
    },
    {
     "name": "stdout",
     "output_type": "stream",
     "text": [
      "Content extraction failed using Tika. Attempting conversion to TIFF.\n"
     ]
    },
    {
     "name": "stderr",
     "output_type": "stream",
     "text": [
      "\u001b[32m2024-01-31 10:37:15.552\u001b[0m | \u001b[1mINFO    \u001b[0m | \u001b[36msrc.pdfs_to_text.pdfs_parser\u001b[0m:\u001b[36mpdf_parser_from_folder\u001b[0m:\u001b[36m101\u001b[0m - \u001b[1mParsing file: 38256_1.pdf\u001b[0m\n"
     ]
    },
    {
     "name": "stdout",
     "output_type": "stream",
     "text": [
      "Content extraction failed using Tika. Attempting conversion to TIFF.\n"
     ]
    },
    {
     "name": "stderr",
     "output_type": "stream",
     "text": [
      "\u001b[32m2024-01-31 10:37:16.504\u001b[0m | \u001b[1mINFO    \u001b[0m | \u001b[36msrc.pdfs_to_text.pdfs_parser\u001b[0m:\u001b[36mpdf_parser_from_folder\u001b[0m:\u001b[36m101\u001b[0m - \u001b[1mParsing file: 39034_1.pdf\u001b[0m\n",
      "\u001b[32m2024-01-31 10:37:17.707\u001b[0m | \u001b[1mINFO    \u001b[0m | \u001b[36msrc.pdfs_to_text.pdfs_parser\u001b[0m:\u001b[36mpdf_parser_from_folder\u001b[0m:\u001b[36m101\u001b[0m - \u001b[1mParsing file: 39034_10.pdf\u001b[0m\n",
      "\u001b[32m2024-01-31 10:37:17.823\u001b[0m | \u001b[1mINFO    \u001b[0m | \u001b[36msrc.pdfs_to_text.pdfs_parser\u001b[0m:\u001b[36mpdf_parser_from_folder\u001b[0m:\u001b[36m101\u001b[0m - \u001b[1mParsing file: 39034_2.pdf\u001b[0m\n",
      "\u001b[32m2024-01-31 10:37:17.903\u001b[0m | \u001b[1mINFO    \u001b[0m | \u001b[36msrc.pdfs_to_text.pdfs_parser\u001b[0m:\u001b[36mpdf_parser_from_folder\u001b[0m:\u001b[36m101\u001b[0m - \u001b[1mParsing file: 39034_3.pdf\u001b[0m\n",
      "\u001b[32m2024-01-31 10:37:18.068\u001b[0m | \u001b[1mINFO    \u001b[0m | \u001b[36msrc.pdfs_to_text.pdfs_parser\u001b[0m:\u001b[36mpdf_parser_from_folder\u001b[0m:\u001b[36m101\u001b[0m - \u001b[1mParsing file: 39034_4.pdf\u001b[0m\n",
      "\u001b[32m2024-01-31 10:37:18.184\u001b[0m | \u001b[1mINFO    \u001b[0m | \u001b[36msrc.pdfs_to_text.pdfs_parser\u001b[0m:\u001b[36mpdf_parser_from_folder\u001b[0m:\u001b[36m101\u001b[0m - \u001b[1mParsing file: 39034_5.pdf\u001b[0m\n",
      "\u001b[32m2024-01-31 10:37:18.339\u001b[0m | \u001b[1mINFO    \u001b[0m | \u001b[36msrc.pdfs_to_text.pdfs_parser\u001b[0m:\u001b[36mpdf_parser_from_folder\u001b[0m:\u001b[36m101\u001b[0m - \u001b[1mParsing file: 39034_6.pdf\u001b[0m\n",
      "\u001b[32m2024-01-31 10:37:18.518\u001b[0m | \u001b[1mINFO    \u001b[0m | \u001b[36msrc.pdfs_to_text.pdfs_parser\u001b[0m:\u001b[36mpdf_parser_from_folder\u001b[0m:\u001b[36m101\u001b[0m - \u001b[1mParsing file: 39034_7.pdf\u001b[0m\n",
      "\u001b[32m2024-01-31 10:37:18.634\u001b[0m | \u001b[1mINFO    \u001b[0m | \u001b[36msrc.pdfs_to_text.pdfs_parser\u001b[0m:\u001b[36mpdf_parser_from_folder\u001b[0m:\u001b[36m101\u001b[0m - \u001b[1mParsing file: 39034_8.pdf\u001b[0m\n",
      "\u001b[32m2024-01-31 10:37:18.738\u001b[0m | \u001b[1mINFO    \u001b[0m | \u001b[36msrc.pdfs_to_text.pdfs_parser\u001b[0m:\u001b[36mpdf_parser_from_folder\u001b[0m:\u001b[36m101\u001b[0m - \u001b[1mParsing file: 39034_9.pdf\u001b[0m\n",
      "\u001b[32m2024-01-31 10:37:18.911\u001b[0m | \u001b[1mINFO    \u001b[0m | \u001b[36msrc.pdfs_to_text.pdfs_parser\u001b[0m:\u001b[36mpdf_parser_from_folder\u001b[0m:\u001b[36m101\u001b[0m - \u001b[1mParsing file: 40044_1.pdf\u001b[0m\n"
     ]
    },
    {
     "name": "stdout",
     "output_type": "stream",
     "text": [
      "Content extraction failed using Tika. Attempting conversion to TIFF.\n"
     ]
    },
    {
     "name": "stderr",
     "output_type": "stream",
     "text": [
      "\u001b[32m2024-01-31 10:37:24.046\u001b[0m | \u001b[1mINFO    \u001b[0m | \u001b[36msrc.pdfs_to_text.pdfs_parser\u001b[0m:\u001b[36mpdf_parser_from_folder\u001b[0m:\u001b[36m101\u001b[0m - \u001b[1mParsing file: 40202_1.pdf\u001b[0m\n",
      "\u001b[32m2024-01-31 10:37:24.104\u001b[0m | \u001b[1mINFO    \u001b[0m | \u001b[36msrc.pdfs_to_text.pdfs_parser\u001b[0m:\u001b[36mpdf_parser_from_folder\u001b[0m:\u001b[36m101\u001b[0m - \u001b[1mParsing file: 40786_1.pdf\u001b[0m\n"
     ]
    },
    {
     "name": "stdout",
     "output_type": "stream",
     "text": [
      "Content extraction failed using Tika. Attempting conversion to TIFF.\n"
     ]
    },
    {
     "name": "stderr",
     "output_type": "stream",
     "text": [
      "\u001b[32m2024-01-31 10:37:24.905\u001b[0m | \u001b[1mINFO    \u001b[0m | \u001b[36msrc.pdfs_to_text.pdfs_parser\u001b[0m:\u001b[36mpdf_parser_from_folder\u001b[0m:\u001b[36m101\u001b[0m - \u001b[1mParsing file: 40786_2.pdf\u001b[0m\n"
     ]
    },
    {
     "name": "stdout",
     "output_type": "stream",
     "text": [
      "Content extraction failed using Tika. Attempting conversion to TIFF.\n"
     ]
    },
    {
     "name": "stderr",
     "output_type": "stream",
     "text": [
      "\u001b[32m2024-01-31 10:37:25.534\u001b[0m | \u001b[1mINFO    \u001b[0m | \u001b[36msrc.pdfs_to_text.pdfs_parser\u001b[0m:\u001b[36mpdf_parser_from_folder\u001b[0m:\u001b[36m101\u001b[0m - \u001b[1mParsing file: 4168_1.pdf\u001b[0m\n"
     ]
    },
    {
     "name": "stdout",
     "output_type": "stream",
     "text": [
      "Content extraction failed using Tika. Attempting conversion to TIFF.\n"
     ]
    },
    {
     "name": "stderr",
     "output_type": "stream",
     "text": [
      "\u001b[32m2024-01-31 10:42:00.901\u001b[0m | \u001b[1mINFO    \u001b[0m | \u001b[36msrc.pdfs_to_text.pdfs_parser\u001b[0m:\u001b[36mpdf_parser_from_folder\u001b[0m:\u001b[36m101\u001b[0m - \u001b[1mParsing file: 4168_10.pdf\u001b[0m\n",
      "\u001b[32m2024-01-31 10:42:01.183\u001b[0m | \u001b[1mINFO    \u001b[0m | \u001b[36msrc.pdfs_to_text.pdfs_parser\u001b[0m:\u001b[36mpdf_parser_from_folder\u001b[0m:\u001b[36m101\u001b[0m - \u001b[1mParsing file: 4168_11.pdf\u001b[0m\n",
      "\u001b[32m2024-01-31 10:42:01.303\u001b[0m | \u001b[1mINFO    \u001b[0m | \u001b[36msrc.pdfs_to_text.pdfs_parser\u001b[0m:\u001b[36mpdf_parser_from_folder\u001b[0m:\u001b[36m101\u001b[0m - \u001b[1mParsing file: 4168_12.pdf\u001b[0m\n",
      "\u001b[32m2024-01-31 10:42:01.394\u001b[0m | \u001b[1mINFO    \u001b[0m | \u001b[36msrc.pdfs_to_text.pdfs_parser\u001b[0m:\u001b[36mpdf_parser_from_folder\u001b[0m:\u001b[36m101\u001b[0m - \u001b[1mParsing file: 4168_13.pdf\u001b[0m\n"
     ]
    },
    {
     "name": "stdout",
     "output_type": "stream",
     "text": [
      "Content extraction failed using Tika. Attempting conversion to TIFF.\n"
     ]
    },
    {
     "name": "stderr",
     "output_type": "stream",
     "text": [
      "\u001b[32m2024-01-31 10:42:03.292\u001b[0m | \u001b[1mINFO    \u001b[0m | \u001b[36msrc.pdfs_to_text.pdfs_parser\u001b[0m:\u001b[36mpdf_parser_from_folder\u001b[0m:\u001b[36m101\u001b[0m - \u001b[1mParsing file: 4168_14.pdf\u001b[0m\n",
      "\u001b[32m2024-01-31 10:42:03.395\u001b[0m | \u001b[1mINFO    \u001b[0m | \u001b[36msrc.pdfs_to_text.pdfs_parser\u001b[0m:\u001b[36mpdf_parser_from_folder\u001b[0m:\u001b[36m101\u001b[0m - \u001b[1mParsing file: 4168_15.pdf\u001b[0m\n",
      "\u001b[32m2024-01-31 10:42:03.486\u001b[0m | \u001b[1mINFO    \u001b[0m | \u001b[36msrc.pdfs_to_text.pdfs_parser\u001b[0m:\u001b[36mpdf_parser_from_folder\u001b[0m:\u001b[36m101\u001b[0m - \u001b[1mParsing file: 4168_16.pdf\u001b[0m\n",
      "\u001b[32m2024-01-31 10:42:03.546\u001b[0m | \u001b[1mINFO    \u001b[0m | \u001b[36msrc.pdfs_to_text.pdfs_parser\u001b[0m:\u001b[36mpdf_parser_from_folder\u001b[0m:\u001b[36m101\u001b[0m - \u001b[1mParsing file: 4168_17.pdf\u001b[0m\n",
      "\u001b[32m2024-01-31 10:42:03.642\u001b[0m | \u001b[1mINFO    \u001b[0m | \u001b[36msrc.pdfs_to_text.pdfs_parser\u001b[0m:\u001b[36mpdf_parser_from_folder\u001b[0m:\u001b[36m101\u001b[0m - \u001b[1mParsing file: 4168_18.pdf\u001b[0m\n",
      "\u001b[32m2024-01-31 10:42:03.712\u001b[0m | \u001b[1mINFO    \u001b[0m | \u001b[36msrc.pdfs_to_text.pdfs_parser\u001b[0m:\u001b[36mpdf_parser_from_folder\u001b[0m:\u001b[36m101\u001b[0m - \u001b[1mParsing file: 4168_19.pdf\u001b[0m\n",
      "\u001b[32m2024-01-31 10:42:03.784\u001b[0m | \u001b[1mINFO    \u001b[0m | \u001b[36msrc.pdfs_to_text.pdfs_parser\u001b[0m:\u001b[36mpdf_parser_from_folder\u001b[0m:\u001b[36m101\u001b[0m - \u001b[1mParsing file: 4168_2.pdf\u001b[0m\n",
      "\u001b[32m2024-01-31 10:42:04.018\u001b[0m | \u001b[1mINFO    \u001b[0m | \u001b[36msrc.pdfs_to_text.pdfs_parser\u001b[0m:\u001b[36mpdf_parser_from_folder\u001b[0m:\u001b[36m101\u001b[0m - \u001b[1mParsing file: 4168_20.pdf\u001b[0m\n",
      "\u001b[32m2024-01-31 10:42:04.123\u001b[0m | \u001b[1mINFO    \u001b[0m | \u001b[36msrc.pdfs_to_text.pdfs_parser\u001b[0m:\u001b[36mpdf_parser_from_folder\u001b[0m:\u001b[36m101\u001b[0m - \u001b[1mParsing file: 4168_21.pdf\u001b[0m\n",
      "\u001b[32m2024-01-31 10:42:04.186\u001b[0m | \u001b[1mINFO    \u001b[0m | \u001b[36msrc.pdfs_to_text.pdfs_parser\u001b[0m:\u001b[36mpdf_parser_from_folder\u001b[0m:\u001b[36m101\u001b[0m - \u001b[1mParsing file: 4168_22.pdf\u001b[0m\n",
      "\u001b[32m2024-01-31 10:42:04.302\u001b[0m | \u001b[1mINFO    \u001b[0m | \u001b[36msrc.pdfs_to_text.pdfs_parser\u001b[0m:\u001b[36mpdf_parser_from_folder\u001b[0m:\u001b[36m101\u001b[0m - \u001b[1mParsing file: 4168_23.pdf\u001b[0m\n",
      "\u001b[32m2024-01-31 10:42:04.387\u001b[0m | \u001b[1mINFO    \u001b[0m | \u001b[36msrc.pdfs_to_text.pdfs_parser\u001b[0m:\u001b[36mpdf_parser_from_folder\u001b[0m:\u001b[36m101\u001b[0m - \u001b[1mParsing file: 4168_24.pdf\u001b[0m\n",
      "\u001b[32m2024-01-31 10:42:04.456\u001b[0m | \u001b[1mINFO    \u001b[0m | \u001b[36msrc.pdfs_to_text.pdfs_parser\u001b[0m:\u001b[36mpdf_parser_from_folder\u001b[0m:\u001b[36m101\u001b[0m - \u001b[1mParsing file: 4168_25.pdf\u001b[0m\n",
      "\u001b[32m2024-01-31 10:42:04.553\u001b[0m | \u001b[1mINFO    \u001b[0m | \u001b[36msrc.pdfs_to_text.pdfs_parser\u001b[0m:\u001b[36mpdf_parser_from_folder\u001b[0m:\u001b[36m101\u001b[0m - \u001b[1mParsing file: 4168_26.pdf\u001b[0m\n",
      "\u001b[32m2024-01-31 10:42:04.592\u001b[0m | \u001b[1mINFO    \u001b[0m | \u001b[36msrc.pdfs_to_text.pdfs_parser\u001b[0m:\u001b[36mpdf_parser_from_folder\u001b[0m:\u001b[36m101\u001b[0m - \u001b[1mParsing file: 4168_27.pdf\u001b[0m\n",
      "\u001b[32m2024-01-31 10:42:04.825\u001b[0m | \u001b[1mINFO    \u001b[0m | \u001b[36msrc.pdfs_to_text.pdfs_parser\u001b[0m:\u001b[36mpdf_parser_from_folder\u001b[0m:\u001b[36m101\u001b[0m - \u001b[1mParsing file: 4168_28.pdf\u001b[0m\n",
      "\u001b[32m2024-01-31 10:42:04.887\u001b[0m | \u001b[1mINFO    \u001b[0m | \u001b[36msrc.pdfs_to_text.pdfs_parser\u001b[0m:\u001b[36mpdf_parser_from_folder\u001b[0m:\u001b[36m101\u001b[0m - \u001b[1mParsing file: 4168_29.pdf\u001b[0m\n",
      "\u001b[32m2024-01-31 10:42:04.944\u001b[0m | \u001b[1mINFO    \u001b[0m | \u001b[36msrc.pdfs_to_text.pdfs_parser\u001b[0m:\u001b[36mpdf_parser_from_folder\u001b[0m:\u001b[36m101\u001b[0m - \u001b[1mParsing file: 4168_3.pdf\u001b[0m\n",
      "\u001b[32m2024-01-31 10:42:05.003\u001b[0m | \u001b[1mINFO    \u001b[0m | \u001b[36msrc.pdfs_to_text.pdfs_parser\u001b[0m:\u001b[36mpdf_parser_from_folder\u001b[0m:\u001b[36m101\u001b[0m - \u001b[1mParsing file: 4168_30.pdf\u001b[0m\n",
      "\u001b[32m2024-01-31 10:42:05.072\u001b[0m | \u001b[1mINFO    \u001b[0m | \u001b[36msrc.pdfs_to_text.pdfs_parser\u001b[0m:\u001b[36mpdf_parser_from_folder\u001b[0m:\u001b[36m101\u001b[0m - \u001b[1mParsing file: 4168_31.pdf\u001b[0m\n",
      "\u001b[32m2024-01-31 10:42:05.133\u001b[0m | \u001b[1mINFO    \u001b[0m | \u001b[36msrc.pdfs_to_text.pdfs_parser\u001b[0m:\u001b[36mpdf_parser_from_folder\u001b[0m:\u001b[36m101\u001b[0m - \u001b[1mParsing file: 4168_32.pdf\u001b[0m\n",
      "\u001b[32m2024-01-31 10:42:05.214\u001b[0m | \u001b[1mINFO    \u001b[0m | \u001b[36msrc.pdfs_to_text.pdfs_parser\u001b[0m:\u001b[36mpdf_parser_from_folder\u001b[0m:\u001b[36m101\u001b[0m - \u001b[1mParsing file: 4168_33.pdf\u001b[0m\n",
      "\u001b[32m2024-01-31 10:42:05.283\u001b[0m | \u001b[1mINFO    \u001b[0m | \u001b[36msrc.pdfs_to_text.pdfs_parser\u001b[0m:\u001b[36mpdf_parser_from_folder\u001b[0m:\u001b[36m101\u001b[0m - \u001b[1mParsing file: 4168_34.pdf\u001b[0m\n",
      "\u001b[32m2024-01-31 10:42:05.334\u001b[0m | \u001b[1mINFO    \u001b[0m | \u001b[36msrc.pdfs_to_text.pdfs_parser\u001b[0m:\u001b[36mpdf_parser_from_folder\u001b[0m:\u001b[36m101\u001b[0m - \u001b[1mParsing file: 4168_35.pdf\u001b[0m\n",
      "\u001b[32m2024-01-31 10:42:06.551\u001b[0m | \u001b[1mINFO    \u001b[0m | \u001b[36msrc.pdfs_to_text.pdfs_parser\u001b[0m:\u001b[36mpdf_parser_from_folder\u001b[0m:\u001b[36m101\u001b[0m - \u001b[1mParsing file: 4168_36.pdf\u001b[0m\n",
      "\u001b[32m2024-01-31 10:42:06.641\u001b[0m | \u001b[1mINFO    \u001b[0m | \u001b[36msrc.pdfs_to_text.pdfs_parser\u001b[0m:\u001b[36mpdf_parser_from_folder\u001b[0m:\u001b[36m101\u001b[0m - \u001b[1mParsing file: 4168_37.pdf\u001b[0m\n",
      "\u001b[32m2024-01-31 10:42:06.702\u001b[0m | \u001b[1mINFO    \u001b[0m | \u001b[36msrc.pdfs_to_text.pdfs_parser\u001b[0m:\u001b[36mpdf_parser_from_folder\u001b[0m:\u001b[36m101\u001b[0m - \u001b[1mParsing file: 4168_38.pdf\u001b[0m\n",
      "\u001b[32m2024-01-31 10:42:06.750\u001b[0m | \u001b[1mINFO    \u001b[0m | \u001b[36msrc.pdfs_to_text.pdfs_parser\u001b[0m:\u001b[36mpdf_parser_from_folder\u001b[0m:\u001b[36m101\u001b[0m - \u001b[1mParsing file: 4168_39.pdf\u001b[0m\n",
      "\u001b[32m2024-01-31 10:42:06.834\u001b[0m | \u001b[1mINFO    \u001b[0m | \u001b[36msrc.pdfs_to_text.pdfs_parser\u001b[0m:\u001b[36mpdf_parser_from_folder\u001b[0m:\u001b[36m101\u001b[0m - \u001b[1mParsing file: 4168_4.pdf\u001b[0m\n",
      "\u001b[32m2024-01-31 10:42:06.906\u001b[0m | \u001b[1mINFO    \u001b[0m | \u001b[36msrc.pdfs_to_text.pdfs_parser\u001b[0m:\u001b[36mpdf_parser_from_folder\u001b[0m:\u001b[36m101\u001b[0m - \u001b[1mParsing file: 4168_40.pdf\u001b[0m\n",
      "\u001b[32m2024-01-31 10:42:06.994\u001b[0m | \u001b[1mINFO    \u001b[0m | \u001b[36msrc.pdfs_to_text.pdfs_parser\u001b[0m:\u001b[36mpdf_parser_from_folder\u001b[0m:\u001b[36m101\u001b[0m - \u001b[1mParsing file: 4168_41.pdf\u001b[0m\n",
      "\u001b[32m2024-01-31 10:42:07.049\u001b[0m | \u001b[1mINFO    \u001b[0m | \u001b[36msrc.pdfs_to_text.pdfs_parser\u001b[0m:\u001b[36mpdf_parser_from_folder\u001b[0m:\u001b[36m101\u001b[0m - \u001b[1mParsing file: 4168_42.pdf\u001b[0m\n",
      "\u001b[32m2024-01-31 10:42:07.108\u001b[0m | \u001b[1mINFO    \u001b[0m | \u001b[36msrc.pdfs_to_text.pdfs_parser\u001b[0m:\u001b[36mpdf_parser_from_folder\u001b[0m:\u001b[36m101\u001b[0m - \u001b[1mParsing file: 4168_43.pdf\u001b[0m\n",
      "\u001b[32m2024-01-31 10:42:07.170\u001b[0m | \u001b[1mINFO    \u001b[0m | \u001b[36msrc.pdfs_to_text.pdfs_parser\u001b[0m:\u001b[36mpdf_parser_from_folder\u001b[0m:\u001b[36m101\u001b[0m - \u001b[1mParsing file: 4168_44.pdf\u001b[0m\n",
      "\u001b[32m2024-01-31 10:42:07.248\u001b[0m | \u001b[1mINFO    \u001b[0m | \u001b[36msrc.pdfs_to_text.pdfs_parser\u001b[0m:\u001b[36mpdf_parser_from_folder\u001b[0m:\u001b[36m101\u001b[0m - \u001b[1mParsing file: 4168_45.pdf\u001b[0m\n",
      "\u001b[32m2024-01-31 10:42:07.289\u001b[0m | \u001b[1mINFO    \u001b[0m | \u001b[36msrc.pdfs_to_text.pdfs_parser\u001b[0m:\u001b[36mpdf_parser_from_folder\u001b[0m:\u001b[36m101\u001b[0m - \u001b[1mParsing file: 4168_46.pdf\u001b[0m\n",
      "\u001b[32m2024-01-31 10:42:07.335\u001b[0m | \u001b[1mINFO    \u001b[0m | \u001b[36msrc.pdfs_to_text.pdfs_parser\u001b[0m:\u001b[36mpdf_parser_from_folder\u001b[0m:\u001b[36m101\u001b[0m - \u001b[1mParsing file: 4168_5.pdf\u001b[0m\n",
      "\u001b[32m2024-01-31 10:42:07.386\u001b[0m | \u001b[1mINFO    \u001b[0m | \u001b[36msrc.pdfs_to_text.pdfs_parser\u001b[0m:\u001b[36mpdf_parser_from_folder\u001b[0m:\u001b[36m101\u001b[0m - \u001b[1mParsing file: 4168_6.pdf\u001b[0m\n",
      "\u001b[32m2024-01-31 10:42:07.454\u001b[0m | \u001b[1mINFO    \u001b[0m | \u001b[36msrc.pdfs_to_text.pdfs_parser\u001b[0m:\u001b[36mpdf_parser_from_folder\u001b[0m:\u001b[36m101\u001b[0m - \u001b[1mParsing file: 4168_7.pdf\u001b[0m\n",
      "\u001b[32m2024-01-31 10:42:07.535\u001b[0m | \u001b[1mINFO    \u001b[0m | \u001b[36msrc.pdfs_to_text.pdfs_parser\u001b[0m:\u001b[36mpdf_parser_from_folder\u001b[0m:\u001b[36m101\u001b[0m - \u001b[1mParsing file: 4168_8.pdf\u001b[0m\n",
      "\u001b[32m2024-01-31 10:42:07.571\u001b[0m | \u001b[1mINFO    \u001b[0m | \u001b[36msrc.pdfs_to_text.pdfs_parser\u001b[0m:\u001b[36mpdf_parser_from_folder\u001b[0m:\u001b[36m101\u001b[0m - \u001b[1mParsing file: 4168_9.pdf\u001b[0m\n",
      "\u001b[32m2024-01-31 10:42:07.644\u001b[0m | \u001b[1mINFO    \u001b[0m | \u001b[36msrc.pdfs_to_text.pdfs_parser\u001b[0m:\u001b[36mpdf_parser_from_folder\u001b[0m:\u001b[36m101\u001b[0m - \u001b[1mParsing file: 44408_1.pdf\u001b[0m\n"
     ]
    },
    {
     "name": "stdout",
     "output_type": "stream",
     "text": [
      "Content extraction failed using Tika. Attempting conversion to TIFF.\n"
     ]
    },
    {
     "name": "stderr",
     "output_type": "stream",
     "text": [
      "\u001b[32m2024-01-31 10:42:13.149\u001b[0m | \u001b[1mINFO    \u001b[0m | \u001b[36msrc.pdfs_to_text.pdfs_parser\u001b[0m:\u001b[36mpdf_parser_from_folder\u001b[0m:\u001b[36m101\u001b[0m - \u001b[1mParsing file: 4502_1.pdf\u001b[0m\n"
     ]
    },
    {
     "name": "stdout",
     "output_type": "stream",
     "text": [
      "Content extraction failed using Tika. Attempting conversion to TIFF.\n"
     ]
    },
    {
     "name": "stderr",
     "output_type": "stream",
     "text": [
      "\u001b[32m2024-01-31 10:42:14.186\u001b[0m | \u001b[1mINFO    \u001b[0m | \u001b[36msrc.pdfs_to_text.pdfs_parser\u001b[0m:\u001b[36mpdf_parser_from_folder\u001b[0m:\u001b[36m101\u001b[0m - \u001b[1mParsing file: 4502_2.pdf\u001b[0m\n"
     ]
    },
    {
     "name": "stdout",
     "output_type": "stream",
     "text": [
      "Content extraction failed using Tika. Attempting conversion to TIFF.\n"
     ]
    },
    {
     "name": "stderr",
     "output_type": "stream",
     "text": [
      "\u001b[32m2024-01-31 10:42:15.007\u001b[0m | \u001b[1mINFO    \u001b[0m | \u001b[36msrc.pdfs_to_text.pdfs_parser\u001b[0m:\u001b[36mpdf_parser_from_folder\u001b[0m:\u001b[36m101\u001b[0m - \u001b[1mParsing file: 4502_3.pdf\u001b[0m\n"
     ]
    },
    {
     "name": "stdout",
     "output_type": "stream",
     "text": [
      "Content extraction failed using Tika. Attempting conversion to TIFF.\n"
     ]
    },
    {
     "name": "stderr",
     "output_type": "stream",
     "text": [
      "\u001b[32m2024-01-31 10:42:15.598\u001b[0m | \u001b[1mINFO    \u001b[0m | \u001b[36msrc.pdfs_to_text.pdfs_parser\u001b[0m:\u001b[36mpdf_parser_from_folder\u001b[0m:\u001b[36m101\u001b[0m - \u001b[1mParsing file: 4502_4.pdf\u001b[0m\n"
     ]
    },
    {
     "name": "stdout",
     "output_type": "stream",
     "text": [
      "Content extraction failed using Tika. Attempting conversion to TIFF.\n"
     ]
    },
    {
     "name": "stderr",
     "output_type": "stream",
     "text": [
      "\u001b[32m2024-01-31 10:42:16.222\u001b[0m | \u001b[1mINFO    \u001b[0m | \u001b[36msrc.pdfs_to_text.pdfs_parser\u001b[0m:\u001b[36mpdf_parser_from_folder\u001b[0m:\u001b[36m101\u001b[0m - \u001b[1mParsing file: 47924_1.pdf\u001b[0m\n"
     ]
    },
    {
     "name": "stdout",
     "output_type": "stream",
     "text": [
      "Content extraction failed using Tika. Attempting conversion to TIFF.\n"
     ]
    },
    {
     "name": "stderr",
     "output_type": "stream",
     "text": [
      "\u001b[32m2024-01-31 10:42:16.689\u001b[0m | \u001b[1mINFO    \u001b[0m | \u001b[36msrc.pdfs_to_text.pdfs_parser\u001b[0m:\u001b[36mpdf_parser_from_folder\u001b[0m:\u001b[36m101\u001b[0m - \u001b[1mParsing file: 47924_2.pdf\u001b[0m\n"
     ]
    },
    {
     "name": "stdout",
     "output_type": "stream",
     "text": [
      "Content extraction failed using Tika. Attempting conversion to TIFF.\n"
     ]
    },
    {
     "name": "stderr",
     "output_type": "stream",
     "text": [
      "\u001b[32m2024-01-31 10:42:17.145\u001b[0m | \u001b[1mINFO    \u001b[0m | \u001b[36msrc.pdfs_to_text.pdfs_parser\u001b[0m:\u001b[36mpdf_parser_from_folder\u001b[0m:\u001b[36m101\u001b[0m - \u001b[1mParsing file: 48461_1.pdf\u001b[0m\n"
     ]
    },
    {
     "name": "stdout",
     "output_type": "stream",
     "text": [
      "Content extraction failed using Tika. Attempting conversion to TIFF.\n"
     ]
    },
    {
     "name": "stderr",
     "output_type": "stream",
     "text": [
      "\u001b[32m2024-01-31 10:42:17.605\u001b[0m | \u001b[1mINFO    \u001b[0m | \u001b[36msrc.pdfs_to_text.pdfs_parser\u001b[0m:\u001b[36mpdf_parser_from_folder\u001b[0m:\u001b[36m101\u001b[0m - \u001b[1mParsing file: 48511_1.pdf\u001b[0m\n"
     ]
    },
    {
     "name": "stdout",
     "output_type": "stream",
     "text": [
      "Content extraction failed using Tika. Attempting conversion to TIFF.\n"
     ]
    },
    {
     "name": "stderr",
     "output_type": "stream",
     "text": [
      "\u001b[32m2024-01-31 10:42:18.097\u001b[0m | \u001b[1mINFO    \u001b[0m | \u001b[36msrc.pdfs_to_text.pdfs_parser\u001b[0m:\u001b[36mpdf_parser_from_folder\u001b[0m:\u001b[36m101\u001b[0m - \u001b[1mParsing file: 49379_1.pdf\u001b[0m\n"
     ]
    },
    {
     "name": "stdout",
     "output_type": "stream",
     "text": [
      "Content extraction failed using Tika. Attempting conversion to TIFF.\n"
     ]
    },
    {
     "name": "stderr",
     "output_type": "stream",
     "text": [
      "\u001b[32m2024-01-31 10:42:18.560\u001b[0m | \u001b[1mINFO    \u001b[0m | \u001b[36msrc.pdfs_to_text.pdfs_parser\u001b[0m:\u001b[36mpdf_parser_from_folder\u001b[0m:\u001b[36m101\u001b[0m - \u001b[1mParsing file: 50648_1.pdf\u001b[0m\n"
     ]
    },
    {
     "name": "stdout",
     "output_type": "stream",
     "text": [
      "Content extraction failed using Tika. Attempting conversion to TIFF.\n"
     ]
    },
    {
     "name": "stderr",
     "output_type": "stream",
     "text": [
      "\u001b[32m2024-01-31 10:42:32.750\u001b[0m | \u001b[1mINFO    \u001b[0m | \u001b[36msrc.pdfs_to_text.pdfs_parser\u001b[0m:\u001b[36mpdf_parser_from_folder\u001b[0m:\u001b[36m101\u001b[0m - \u001b[1mParsing file: 50823_1.pdf\u001b[0m\n"
     ]
    },
    {
     "name": "stdout",
     "output_type": "stream",
     "text": [
      "Content extraction failed using Tika. Attempting conversion to TIFF.\n"
     ]
    },
    {
     "name": "stderr",
     "output_type": "stream",
     "text": [
      "\u001b[32m2024-01-31 10:42:36.830\u001b[0m | \u001b[1mINFO    \u001b[0m | \u001b[36msrc.pdfs_to_text.pdfs_parser\u001b[0m:\u001b[36mpdf_parser_from_folder\u001b[0m:\u001b[36m101\u001b[0m - \u001b[1mParsing file: 54177_1.pdf\u001b[0m\n"
     ]
    },
    {
     "name": "stdout",
     "output_type": "stream",
     "text": [
      "Content extraction failed using Tika. Attempting conversion to TIFF.\n"
     ]
    },
    {
     "name": "stderr",
     "output_type": "stream",
     "text": [
      "\u001b[32m2024-01-31 10:42:38.822\u001b[0m | \u001b[1mINFO    \u001b[0m | \u001b[36msrc.pdfs_to_text.pdfs_parser\u001b[0m:\u001b[36mpdf_parser_from_folder\u001b[0m:\u001b[36m101\u001b[0m - \u001b[1mParsing file: 54177_2.pdf\u001b[0m\n"
     ]
    },
    {
     "name": "stdout",
     "output_type": "stream",
     "text": [
      "Content extraction failed using Tika. Attempting conversion to TIFF.\n"
     ]
    },
    {
     "name": "stderr",
     "output_type": "stream",
     "text": [
      "\u001b[32m2024-01-31 10:42:40.167\u001b[0m | \u001b[1mINFO    \u001b[0m | \u001b[36msrc.pdfs_to_text.pdfs_parser\u001b[0m:\u001b[36mpdf_parser_from_folder\u001b[0m:\u001b[36m101\u001b[0m - \u001b[1mParsing file: 54177_3.pdf\u001b[0m\n"
     ]
    },
    {
     "name": "stdout",
     "output_type": "stream",
     "text": [
      "Content extraction failed using Tika. Attempting conversion to TIFF.\n"
     ]
    },
    {
     "name": "stderr",
     "output_type": "stream",
     "text": [
      "\u001b[32m2024-01-31 10:42:41.679\u001b[0m | \u001b[1mINFO    \u001b[0m | \u001b[36msrc.pdfs_to_text.pdfs_parser\u001b[0m:\u001b[36mpdf_parser_from_folder\u001b[0m:\u001b[36m101\u001b[0m - \u001b[1mParsing file: 54177_4.pdf\u001b[0m\n"
     ]
    },
    {
     "name": "stdout",
     "output_type": "stream",
     "text": [
      "Content extraction failed using Tika. Attempting conversion to TIFF.\n"
     ]
    },
    {
     "name": "stderr",
     "output_type": "stream",
     "text": [
      "\u001b[32m2024-01-31 10:42:43.121\u001b[0m | \u001b[1mINFO    \u001b[0m | \u001b[36msrc.pdfs_to_text.pdfs_parser\u001b[0m:\u001b[36mpdf_parser_from_folder\u001b[0m:\u001b[36m101\u001b[0m - \u001b[1mParsing file: 54177_5.pdf\u001b[0m\n"
     ]
    },
    {
     "name": "stdout",
     "output_type": "stream",
     "text": [
      "Content extraction failed using Tika. Attempting conversion to TIFF.\n"
     ]
    },
    {
     "name": "stderr",
     "output_type": "stream",
     "text": [
      "\u001b[32m2024-01-31 10:42:44.466\u001b[0m | \u001b[1mINFO    \u001b[0m | \u001b[36msrc.pdfs_to_text.pdfs_parser\u001b[0m:\u001b[36mpdf_parser_from_folder\u001b[0m:\u001b[36m101\u001b[0m - \u001b[1mParsing file: 56172_1.pdf\u001b[0m\n"
     ]
    },
    {
     "name": "stdout",
     "output_type": "stream",
     "text": [
      "Content extraction failed using Tika. Attempting conversion to TIFF.\n"
     ]
    },
    {
     "name": "stderr",
     "output_type": "stream",
     "text": [
      "\u001b[32m2024-01-31 10:42:44.954\u001b[0m | \u001b[1mINFO    \u001b[0m | \u001b[36msrc.pdfs_to_text.pdfs_parser\u001b[0m:\u001b[36mpdf_parser_from_folder\u001b[0m:\u001b[36m101\u001b[0m - \u001b[1mParsing file: 57010_1.pdf\u001b[0m\n"
     ]
    },
    {
     "name": "stdout",
     "output_type": "stream",
     "text": [
      "Content extraction failed using Tika. Attempting conversion to TIFF.\n"
     ]
    },
    {
     "name": "stderr",
     "output_type": "stream",
     "text": [
      "\u001b[32m2024-01-31 10:42:46.725\u001b[0m | \u001b[1mINFO    \u001b[0m | \u001b[36msrc.pdfs_to_text.pdfs_parser\u001b[0m:\u001b[36mpdf_parser_from_folder\u001b[0m:\u001b[36m101\u001b[0m - \u001b[1mParsing file: 57189_1.pdf\u001b[0m\n"
     ]
    },
    {
     "name": "stdout",
     "output_type": "stream",
     "text": [
      "Content extraction failed using Tika. Attempting conversion to TIFF.\n"
     ]
    },
    {
     "name": "stderr",
     "output_type": "stream",
     "text": [
      "\u001b[32m2024-01-31 10:42:47.209\u001b[0m | \u001b[1mINFO    \u001b[0m | \u001b[36msrc.pdfs_to_text.pdfs_parser\u001b[0m:\u001b[36mpdf_parser_from_folder\u001b[0m:\u001b[36m101\u001b[0m - \u001b[1mParsing file: 57189_2.pdf\u001b[0m\n"
     ]
    },
    {
     "name": "stdout",
     "output_type": "stream",
     "text": [
      "Content extraction failed using Tika. Attempting conversion to TIFF.\n"
     ]
    },
    {
     "name": "stderr",
     "output_type": "stream",
     "text": [
      "\u001b[32m2024-01-31 10:42:47.660\u001b[0m | \u001b[1mINFO    \u001b[0m | \u001b[36msrc.pdfs_to_text.pdfs_parser\u001b[0m:\u001b[36mpdf_parser_from_folder\u001b[0m:\u001b[36m101\u001b[0m - \u001b[1mParsing file: 57468_1.pdf\u001b[0m\n"
     ]
    },
    {
     "name": "stdout",
     "output_type": "stream",
     "text": [
      "Content extraction failed using Tika. Attempting conversion to TIFF.\n"
     ]
    },
    {
     "name": "stderr",
     "output_type": "stream",
     "text": [
      "\u001b[32m2024-01-31 10:42:52.029\u001b[0m | \u001b[1mINFO    \u001b[0m | \u001b[36msrc.pdfs_to_text.pdfs_parser\u001b[0m:\u001b[36mpdf_parser_from_folder\u001b[0m:\u001b[36m101\u001b[0m - \u001b[1mParsing file: 59063_1.pdf\u001b[0m\n"
     ]
    },
    {
     "name": "stdout",
     "output_type": "stream",
     "text": [
      "Content extraction failed using Tika. Attempting conversion to TIFF.\n"
     ]
    },
    {
     "name": "stderr",
     "output_type": "stream",
     "text": [
      "\u001b[32m2024-01-31 10:42:52.572\u001b[0m | \u001b[1mINFO    \u001b[0m | \u001b[36msrc.pdfs_to_text.pdfs_parser\u001b[0m:\u001b[36mpdf_parser_from_folder\u001b[0m:\u001b[36m101\u001b[0m - \u001b[1mParsing file: 59063_2.pdf\u001b[0m\n"
     ]
    },
    {
     "name": "stdout",
     "output_type": "stream",
     "text": [
      "Content extraction failed using Tika. Attempting conversion to TIFF.\n"
     ]
    },
    {
     "name": "stderr",
     "output_type": "stream",
     "text": [
      "\u001b[32m2024-01-31 10:42:53.075\u001b[0m | \u001b[1mINFO    \u001b[0m | \u001b[36msrc.pdfs_to_text.pdfs_parser\u001b[0m:\u001b[36mpdf_parser_from_folder\u001b[0m:\u001b[36m101\u001b[0m - \u001b[1mParsing file: 59646_1.pdf\u001b[0m\n"
     ]
    },
    {
     "name": "stdout",
     "output_type": "stream",
     "text": [
      "Content extraction failed using Tika. Attempting conversion to TIFF.\n"
     ]
    },
    {
     "name": "stderr",
     "output_type": "stream",
     "text": [
      "\u001b[32m2024-01-31 10:42:53.604\u001b[0m | \u001b[1mINFO    \u001b[0m | \u001b[36msrc.pdfs_to_text.pdfs_parser\u001b[0m:\u001b[36mpdf_parser_from_folder\u001b[0m:\u001b[36m101\u001b[0m - \u001b[1mParsing file: 59646_2.pdf\u001b[0m\n"
     ]
    },
    {
     "name": "stdout",
     "output_type": "stream",
     "text": [
      "Content extraction failed using Tika. Attempting conversion to TIFF.\n"
     ]
    },
    {
     "name": "stderr",
     "output_type": "stream",
     "text": [
      "\u001b[32m2024-01-31 10:42:54.023\u001b[0m | \u001b[1mINFO    \u001b[0m | \u001b[36msrc.pdfs_to_text.pdfs_parser\u001b[0m:\u001b[36mpdf_parser_from_folder\u001b[0m:\u001b[36m101\u001b[0m - \u001b[1mParsing file: 60761_1.pdf\u001b[0m\n"
     ]
    },
    {
     "name": "stdout",
     "output_type": "stream",
     "text": [
      "Content extraction failed using Tika. Attempting conversion to TIFF.\n"
     ]
    },
    {
     "name": "stderr",
     "output_type": "stream",
     "text": [
      "\u001b[32m2024-01-31 10:42:55.908\u001b[0m | \u001b[1mINFO    \u001b[0m | \u001b[36msrc.pdfs_to_text.pdfs_parser\u001b[0m:\u001b[36mpdf_parser_from_folder\u001b[0m:\u001b[36m101\u001b[0m - \u001b[1mParsing file: 60761_2.pdf\u001b[0m\n"
     ]
    },
    {
     "name": "stdout",
     "output_type": "stream",
     "text": [
      "Content extraction failed using Tika. Attempting conversion to TIFF.\n"
     ]
    },
    {
     "name": "stderr",
     "output_type": "stream",
     "text": [
      "\u001b[32m2024-01-31 10:42:56.415\u001b[0m | \u001b[1mINFO    \u001b[0m | \u001b[36msrc.pdfs_to_text.pdfs_parser\u001b[0m:\u001b[36mpdf_parser_from_folder\u001b[0m:\u001b[36m101\u001b[0m - \u001b[1mParsing file: 60761_3.pdf\u001b[0m\n"
     ]
    },
    {
     "name": "stdout",
     "output_type": "stream",
     "text": [
      "Content extraction failed using Tika. Attempting conversion to TIFF.\n"
     ]
    },
    {
     "name": "stderr",
     "output_type": "stream",
     "text": [
      "\u001b[32m2024-01-31 10:42:58.184\u001b[0m | \u001b[1mINFO    \u001b[0m | \u001b[36msrc.pdfs_to_text.pdfs_parser\u001b[0m:\u001b[36mpdf_parser_from_folder\u001b[0m:\u001b[36m101\u001b[0m - \u001b[1mParsing file: 60766_1.pdf\u001b[0m\n"
     ]
    },
    {
     "name": "stdout",
     "output_type": "stream",
     "text": [
      "Content extraction failed using Tika. Attempting conversion to TIFF.\n"
     ]
    },
    {
     "name": "stderr",
     "output_type": "stream",
     "text": [
      "\u001b[32m2024-01-31 10:42:59.903\u001b[0m | \u001b[1mINFO    \u001b[0m | \u001b[36msrc.pdfs_to_text.pdfs_parser\u001b[0m:\u001b[36mpdf_parser_from_folder\u001b[0m:\u001b[36m101\u001b[0m - \u001b[1mParsing file: 60766_2.pdf\u001b[0m\n"
     ]
    },
    {
     "name": "stdout",
     "output_type": "stream",
     "text": [
      "Content extraction failed using Tika. Attempting conversion to TIFF.\n"
     ]
    },
    {
     "name": "stderr",
     "output_type": "stream",
     "text": [
      "\u001b[32m2024-01-31 10:43:00.332\u001b[0m | \u001b[1mINFO    \u001b[0m | \u001b[36msrc.pdfs_to_text.pdfs_parser\u001b[0m:\u001b[36mpdf_parser_from_folder\u001b[0m:\u001b[36m101\u001b[0m - \u001b[1mParsing file: 60766_3.pdf\u001b[0m\n"
     ]
    },
    {
     "name": "stdout",
     "output_type": "stream",
     "text": [
      "Content extraction failed using Tika. Attempting conversion to TIFF.\n"
     ]
    },
    {
     "name": "stderr",
     "output_type": "stream",
     "text": [
      "\u001b[32m2024-01-31 10:43:02.123\u001b[0m | \u001b[1mINFO    \u001b[0m | \u001b[36msrc.pdfs_to_text.pdfs_parser\u001b[0m:\u001b[36mpdf_parser_from_folder\u001b[0m:\u001b[36m101\u001b[0m - \u001b[1mParsing file: 61390_1.pdf\u001b[0m\n"
     ]
    },
    {
     "name": "stdout",
     "output_type": "stream",
     "text": [
      "Content extraction failed using Tika. Attempting conversion to TIFF.\n"
     ]
    },
    {
     "name": "stderr",
     "output_type": "stream",
     "text": [
      "\u001b[32m2024-01-31 10:43:02.599\u001b[0m | \u001b[1mINFO    \u001b[0m | \u001b[36msrc.pdfs_to_text.pdfs_parser\u001b[0m:\u001b[36mpdf_parser_from_folder\u001b[0m:\u001b[36m101\u001b[0m - \u001b[1mParsing file: 61390_2.pdf\u001b[0m\n"
     ]
    },
    {
     "name": "stdout",
     "output_type": "stream",
     "text": [
      "Content extraction failed using Tika. Attempting conversion to TIFF.\n"
     ]
    },
    {
     "name": "stderr",
     "output_type": "stream",
     "text": [
      "\u001b[32m2024-01-31 10:43:03.089\u001b[0m | \u001b[1mINFO    \u001b[0m | \u001b[36msrc.pdfs_to_text.pdfs_parser\u001b[0m:\u001b[36mpdf_parser_from_folder\u001b[0m:\u001b[36m101\u001b[0m - \u001b[1mParsing file: 61965_1.pdf\u001b[0m\n"
     ]
    },
    {
     "name": "stdout",
     "output_type": "stream",
     "text": [
      "Content extraction failed using Tika. Attempting conversion to TIFF.\n"
     ]
    },
    {
     "name": "stderr",
     "output_type": "stream",
     "text": [
      "\u001b[32m2024-01-31 10:43:03.515\u001b[0m | \u001b[1mINFO    \u001b[0m | \u001b[36msrc.pdfs_to_text.pdfs_parser\u001b[0m:\u001b[36mpdf_parser_from_folder\u001b[0m:\u001b[36m101\u001b[0m - \u001b[1mParsing file: 62354_1.pdf\u001b[0m\n"
     ]
    },
    {
     "name": "stdout",
     "output_type": "stream",
     "text": [
      "Content extraction failed using Tika. Attempting conversion to TIFF.\n"
     ]
    },
    {
     "name": "stderr",
     "output_type": "stream",
     "text": [
      "\u001b[32m2024-01-31 10:43:03.979\u001b[0m | \u001b[1mINFO    \u001b[0m | \u001b[36msrc.pdfs_to_text.pdfs_parser\u001b[0m:\u001b[36mpdf_parser_from_folder\u001b[0m:\u001b[36m101\u001b[0m - \u001b[1mParsing file: 62354_2.pdf\u001b[0m\n"
     ]
    },
    {
     "name": "stdout",
     "output_type": "stream",
     "text": [
      "Content extraction failed using Tika. Attempting conversion to TIFF.\n"
     ]
    },
    {
     "name": "stderr",
     "output_type": "stream",
     "text": [
      "\u001b[32m2024-01-31 10:43:04.469\u001b[0m | \u001b[1mINFO    \u001b[0m | \u001b[36msrc.pdfs_to_text.pdfs_parser\u001b[0m:\u001b[36mpdf_parser_from_folder\u001b[0m:\u001b[36m101\u001b[0m - \u001b[1mParsing file: 62548_1.pdf\u001b[0m\n"
     ]
    },
    {
     "name": "stdout",
     "output_type": "stream",
     "text": [
      "Content extraction failed using Tika. Attempting conversion to TIFF.\n"
     ]
    },
    {
     "name": "stderr",
     "output_type": "stream",
     "text": [
      "\u001b[32m2024-01-31 10:43:04.888\u001b[0m | \u001b[1mINFO    \u001b[0m | \u001b[36msrc.pdfs_to_text.pdfs_parser\u001b[0m:\u001b[36mpdf_parser_from_folder\u001b[0m:\u001b[36m101\u001b[0m - \u001b[1mParsing file: 63930_1.pdf\u001b[0m\n"
     ]
    },
    {
     "name": "stdout",
     "output_type": "stream",
     "text": [
      "Content extraction failed using Tika. Attempting conversion to TIFF.\n"
     ]
    },
    {
     "name": "stderr",
     "output_type": "stream",
     "text": [
      "\u001b[32m2024-01-31 10:43:32.062\u001b[0m | \u001b[1mINFO    \u001b[0m | \u001b[36msrc.pdfs_to_text.pdfs_parser\u001b[0m:\u001b[36mpdf_parser_from_folder\u001b[0m:\u001b[36m101\u001b[0m - \u001b[1mParsing file: 63933_1.pdf\u001b[0m\n"
     ]
    },
    {
     "name": "stdout",
     "output_type": "stream",
     "text": [
      "Content extraction failed using Tika. Attempting conversion to TIFF.\n"
     ]
    },
    {
     "name": "stderr",
     "output_type": "stream",
     "text": [
      "\u001b[32m2024-01-31 10:43:32.578\u001b[0m | \u001b[1mINFO    \u001b[0m | \u001b[36msrc.pdfs_to_text.pdfs_parser\u001b[0m:\u001b[36mpdf_parser_from_folder\u001b[0m:\u001b[36m101\u001b[0m - \u001b[1mParsing file: 63933_2.pdf\u001b[0m\n"
     ]
    },
    {
     "name": "stdout",
     "output_type": "stream",
     "text": [
      "Content extraction failed using Tika. Attempting conversion to TIFF.\n"
     ]
    },
    {
     "name": "stderr",
     "output_type": "stream",
     "text": [
      "\u001b[32m2024-01-31 10:43:34.675\u001b[0m | \u001b[1mINFO    \u001b[0m | \u001b[36msrc.pdfs_to_text.pdfs_parser\u001b[0m:\u001b[36mpdf_parser_from_folder\u001b[0m:\u001b[36m101\u001b[0m - \u001b[1mParsing file: 64520_1.pdf\u001b[0m\n"
     ]
    },
    {
     "name": "stdout",
     "output_type": "stream",
     "text": [
      "Content extraction failed using Tika. Attempting conversion to TIFF.\n"
     ]
    },
    {
     "name": "stderr",
     "output_type": "stream",
     "text": [
      "\u001b[32m2024-01-31 10:43:35.823\u001b[0m | \u001b[1mINFO    \u001b[0m | \u001b[36msrc.pdfs_to_text.pdfs_parser\u001b[0m:\u001b[36mpdf_parser_from_folder\u001b[0m:\u001b[36m101\u001b[0m - \u001b[1mParsing file: 64520_10.pdf\u001b[0m\n"
     ]
    },
    {
     "name": "stdout",
     "output_type": "stream",
     "text": [
      "Content extraction failed using Tika. Attempting conversion to TIFF.\n"
     ]
    },
    {
     "name": "stderr",
     "output_type": "stream",
     "text": [
      "\u001b[32m2024-01-31 10:43:36.926\u001b[0m | \u001b[1mINFO    \u001b[0m | \u001b[36msrc.pdfs_to_text.pdfs_parser\u001b[0m:\u001b[36mpdf_parser_from_folder\u001b[0m:\u001b[36m101\u001b[0m - \u001b[1mParsing file: 64520_2.pdf\u001b[0m\n"
     ]
    },
    {
     "name": "stdout",
     "output_type": "stream",
     "text": [
      "Content extraction failed using Tika. Attempting conversion to TIFF.\n"
     ]
    },
    {
     "name": "stderr",
     "output_type": "stream",
     "text": [
      "\u001b[32m2024-01-31 10:43:38.090\u001b[0m | \u001b[1mINFO    \u001b[0m | \u001b[36msrc.pdfs_to_text.pdfs_parser\u001b[0m:\u001b[36mpdf_parser_from_folder\u001b[0m:\u001b[36m101\u001b[0m - \u001b[1mParsing file: 64520_3.pdf\u001b[0m\n"
     ]
    },
    {
     "name": "stdout",
     "output_type": "stream",
     "text": [
      "Content extraction failed using Tika. Attempting conversion to TIFF.\n"
     ]
    },
    {
     "name": "stderr",
     "output_type": "stream",
     "text": [
      "\u001b[32m2024-01-31 10:43:39.248\u001b[0m | \u001b[1mINFO    \u001b[0m | \u001b[36msrc.pdfs_to_text.pdfs_parser\u001b[0m:\u001b[36mpdf_parser_from_folder\u001b[0m:\u001b[36m101\u001b[0m - \u001b[1mParsing file: 64520_4.pdf\u001b[0m\n"
     ]
    },
    {
     "name": "stdout",
     "output_type": "stream",
     "text": [
      "Content extraction failed using Tika. Attempting conversion to TIFF.\n"
     ]
    },
    {
     "name": "stderr",
     "output_type": "stream",
     "text": [
      "\u001b[32m2024-01-31 10:43:40.387\u001b[0m | \u001b[1mINFO    \u001b[0m | \u001b[36msrc.pdfs_to_text.pdfs_parser\u001b[0m:\u001b[36mpdf_parser_from_folder\u001b[0m:\u001b[36m101\u001b[0m - \u001b[1mParsing file: 64520_5.pdf\u001b[0m\n"
     ]
    },
    {
     "name": "stdout",
     "output_type": "stream",
     "text": [
      "Content extraction failed using Tika. Attempting conversion to TIFF.\n"
     ]
    },
    {
     "name": "stderr",
     "output_type": "stream",
     "text": [
      "\u001b[32m2024-01-31 10:43:41.546\u001b[0m | \u001b[1mINFO    \u001b[0m | \u001b[36msrc.pdfs_to_text.pdfs_parser\u001b[0m:\u001b[36mpdf_parser_from_folder\u001b[0m:\u001b[36m101\u001b[0m - \u001b[1mParsing file: 64520_6.pdf\u001b[0m\n"
     ]
    },
    {
     "name": "stdout",
     "output_type": "stream",
     "text": [
      "Content extraction failed using Tika. Attempting conversion to TIFF.\n"
     ]
    },
    {
     "name": "stderr",
     "output_type": "stream",
     "text": [
      "\u001b[32m2024-01-31 10:43:42.645\u001b[0m | \u001b[1mINFO    \u001b[0m | \u001b[36msrc.pdfs_to_text.pdfs_parser\u001b[0m:\u001b[36mpdf_parser_from_folder\u001b[0m:\u001b[36m101\u001b[0m - \u001b[1mParsing file: 64520_7.pdf\u001b[0m\n"
     ]
    },
    {
     "name": "stdout",
     "output_type": "stream",
     "text": [
      "Content extraction failed using Tika. Attempting conversion to TIFF.\n"
     ]
    },
    {
     "name": "stderr",
     "output_type": "stream",
     "text": [
      "\u001b[32m2024-01-31 10:43:43.751\u001b[0m | \u001b[1mINFO    \u001b[0m | \u001b[36msrc.pdfs_to_text.pdfs_parser\u001b[0m:\u001b[36mpdf_parser_from_folder\u001b[0m:\u001b[36m101\u001b[0m - \u001b[1mParsing file: 64520_8.pdf\u001b[0m\n"
     ]
    },
    {
     "name": "stdout",
     "output_type": "stream",
     "text": [
      "Content extraction failed using Tika. Attempting conversion to TIFF.\n"
     ]
    },
    {
     "name": "stderr",
     "output_type": "stream",
     "text": [
      "\u001b[32m2024-01-31 10:43:44.914\u001b[0m | \u001b[1mINFO    \u001b[0m | \u001b[36msrc.pdfs_to_text.pdfs_parser\u001b[0m:\u001b[36mpdf_parser_from_folder\u001b[0m:\u001b[36m101\u001b[0m - \u001b[1mParsing file: 64520_9.pdf\u001b[0m\n"
     ]
    },
    {
     "name": "stdout",
     "output_type": "stream",
     "text": [
      "Content extraction failed using Tika. Attempting conversion to TIFF.\n"
     ]
    },
    {
     "name": "stderr",
     "output_type": "stream",
     "text": [
      "\u001b[32m2024-01-31 10:43:46.108\u001b[0m | \u001b[1mINFO    \u001b[0m | \u001b[36msrc.pdfs_to_text.pdfs_parser\u001b[0m:\u001b[36mpdf_parser_from_folder\u001b[0m:\u001b[36m101\u001b[0m - \u001b[1mParsing file: 6547_1.pdf\u001b[0m\n"
     ]
    },
    {
     "name": "stdout",
     "output_type": "stream",
     "text": [
      "Content extraction failed using Tika. Attempting conversion to TIFF.\n"
     ]
    },
    {
     "name": "stderr",
     "output_type": "stream",
     "text": [
      "\u001b[32m2024-01-31 10:43:48.657\u001b[0m | \u001b[1mINFO    \u001b[0m | \u001b[36msrc.pdfs_to_text.pdfs_parser\u001b[0m:\u001b[36mpdf_parser_from_folder\u001b[0m:\u001b[36m101\u001b[0m - \u001b[1mParsing file: 6547_2.pdf\u001b[0m\n"
     ]
    },
    {
     "name": "stdout",
     "output_type": "stream",
     "text": [
      "Content extraction failed using Tika. Attempting conversion to TIFF.\n"
     ]
    },
    {
     "name": "stderr",
     "output_type": "stream",
     "text": [
      "\u001b[32m2024-01-31 10:43:50.983\u001b[0m | \u001b[1mINFO    \u001b[0m | \u001b[36msrc.pdfs_to_text.pdfs_parser\u001b[0m:\u001b[36mpdf_parser_from_folder\u001b[0m:\u001b[36m101\u001b[0m - \u001b[1mParsing file: 6547_3.pdf\u001b[0m\n"
     ]
    },
    {
     "name": "stdout",
     "output_type": "stream",
     "text": [
      "Content extraction failed using Tika. Attempting conversion to TIFF.\n"
     ]
    },
    {
     "name": "stderr",
     "output_type": "stream",
     "text": [
      "\u001b[32m2024-01-31 10:43:53.499\u001b[0m | \u001b[1mINFO    \u001b[0m | \u001b[36msrc.pdfs_to_text.pdfs_parser\u001b[0m:\u001b[36mpdf_parser_from_folder\u001b[0m:\u001b[36m101\u001b[0m - \u001b[1mParsing file: 6547_4.pdf\u001b[0m\n"
     ]
    },
    {
     "name": "stdout",
     "output_type": "stream",
     "text": [
      "Content extraction failed using Tika. Attempting conversion to TIFF.\n"
     ]
    },
    {
     "name": "stderr",
     "output_type": "stream",
     "text": [
      "\u001b[32m2024-01-31 10:43:55.555\u001b[0m | \u001b[1mINFO    \u001b[0m | \u001b[36msrc.pdfs_to_text.pdfs_parser\u001b[0m:\u001b[36mpdf_parser_from_folder\u001b[0m:\u001b[36m101\u001b[0m - \u001b[1mParsing file: 6547_5.pdf\u001b[0m\n"
     ]
    },
    {
     "name": "stdout",
     "output_type": "stream",
     "text": [
      "Content extraction failed using Tika. Attempting conversion to TIFF.\n"
     ]
    },
    {
     "name": "stderr",
     "output_type": "stream",
     "text": [
      "\u001b[32m2024-01-31 10:43:57.722\u001b[0m | \u001b[1mINFO    \u001b[0m | \u001b[36msrc.pdfs_to_text.pdfs_parser\u001b[0m:\u001b[36mpdf_parser_from_folder\u001b[0m:\u001b[36m101\u001b[0m - \u001b[1mParsing file: 6547_6.pdf\u001b[0m\n"
     ]
    },
    {
     "name": "stdout",
     "output_type": "stream",
     "text": [
      "Content extraction failed using Tika. Attempting conversion to TIFF.\n"
     ]
    },
    {
     "name": "stderr",
     "output_type": "stream",
     "text": [
      "\u001b[32m2024-01-31 10:44:00.400\u001b[0m | \u001b[1mINFO    \u001b[0m | \u001b[36msrc.pdfs_to_text.pdfs_parser\u001b[0m:\u001b[36mpdf_parser_from_folder\u001b[0m:\u001b[36m101\u001b[0m - \u001b[1mParsing file: 6547_7.pdf\u001b[0m\n"
     ]
    },
    {
     "name": "stdout",
     "output_type": "stream",
     "text": [
      "Content extraction failed using Tika. Attempting conversion to TIFF.\n"
     ]
    },
    {
     "name": "stderr",
     "output_type": "stream",
     "text": [
      "\u001b[32m2024-01-31 10:44:02.228\u001b[0m | \u001b[1mINFO    \u001b[0m | \u001b[36msrc.pdfs_to_text.pdfs_parser\u001b[0m:\u001b[36mpdf_parser_from_folder\u001b[0m:\u001b[36m101\u001b[0m - \u001b[1mParsing file: 6547_8.pdf\u001b[0m\n"
     ]
    },
    {
     "name": "stdout",
     "output_type": "stream",
     "text": [
      "Content extraction failed using Tika. Attempting conversion to TIFF.\n"
     ]
    },
    {
     "name": "stderr",
     "output_type": "stream",
     "text": [
      "\u001b[32m2024-01-31 10:44:04.330\u001b[0m | \u001b[1mINFO    \u001b[0m | \u001b[36msrc.pdfs_to_text.pdfs_parser\u001b[0m:\u001b[36mpdf_parser_from_folder\u001b[0m:\u001b[36m101\u001b[0m - \u001b[1mParsing file: 66446_1.pdf\u001b[0m\n"
     ]
    },
    {
     "name": "stdout",
     "output_type": "stream",
     "text": [
      "Content extraction failed using Tika. Attempting conversion to TIFF.\n"
     ]
    },
    {
     "name": "stderr",
     "output_type": "stream",
     "text": [
      "\u001b[32m2024-01-31 10:44:05.429\u001b[0m | \u001b[1mINFO    \u001b[0m | \u001b[36msrc.pdfs_to_text.pdfs_parser\u001b[0m:\u001b[36mpdf_parser_from_folder\u001b[0m:\u001b[36m101\u001b[0m - \u001b[1mParsing file: 66446_2.pdf\u001b[0m\n"
     ]
    },
    {
     "name": "stdout",
     "output_type": "stream",
     "text": [
      "Content extraction failed using Tika. Attempting conversion to TIFF.\n"
     ]
    },
    {
     "name": "stderr",
     "output_type": "stream",
     "text": [
      "\u001b[32m2024-01-31 10:44:06.583\u001b[0m | \u001b[1mINFO    \u001b[0m | \u001b[36msrc.pdfs_to_text.pdfs_parser\u001b[0m:\u001b[36mpdf_parser_from_folder\u001b[0m:\u001b[36m101\u001b[0m - \u001b[1mParsing file: 66446_3.pdf\u001b[0m\n"
     ]
    },
    {
     "name": "stdout",
     "output_type": "stream",
     "text": [
      "Content extraction failed using Tika. Attempting conversion to TIFF.\n"
     ]
    },
    {
     "name": "stderr",
     "output_type": "stream",
     "text": [
      "\u001b[32m2024-01-31 10:44:07.763\u001b[0m | \u001b[1mINFO    \u001b[0m | \u001b[36msrc.pdfs_to_text.pdfs_parser\u001b[0m:\u001b[36mpdf_parser_from_folder\u001b[0m:\u001b[36m101\u001b[0m - \u001b[1mParsing file: 66446_4.pdf\u001b[0m\n"
     ]
    },
    {
     "name": "stdout",
     "output_type": "stream",
     "text": [
      "Content extraction failed using Tika. Attempting conversion to TIFF.\n"
     ]
    },
    {
     "name": "stderr",
     "output_type": "stream",
     "text": [
      "\u001b[32m2024-01-31 10:44:08.947\u001b[0m | \u001b[1mINFO    \u001b[0m | \u001b[36msrc.pdfs_to_text.pdfs_parser\u001b[0m:\u001b[36mpdf_parser_from_folder\u001b[0m:\u001b[36m101\u001b[0m - \u001b[1mParsing file: 66446_5.pdf\u001b[0m\n"
     ]
    },
    {
     "name": "stdout",
     "output_type": "stream",
     "text": [
      "Content extraction failed using Tika. Attempting conversion to TIFF.\n"
     ]
    },
    {
     "name": "stderr",
     "output_type": "stream",
     "text": [
      "\u001b[32m2024-01-31 10:44:10.155\u001b[0m | \u001b[1mINFO    \u001b[0m | \u001b[36msrc.pdfs_to_text.pdfs_parser\u001b[0m:\u001b[36mpdf_parser_from_folder\u001b[0m:\u001b[36m101\u001b[0m - \u001b[1mParsing file: 66446_6.pdf\u001b[0m\n"
     ]
    },
    {
     "name": "stdout",
     "output_type": "stream",
     "text": [
      "Content extraction failed using Tika. Attempting conversion to TIFF.\n"
     ]
    },
    {
     "name": "stderr",
     "output_type": "stream",
     "text": [
      "\u001b[32m2024-01-31 10:44:15.720\u001b[0m | \u001b[1mINFO    \u001b[0m | \u001b[36msrc.pdfs_to_text.pdfs_parser\u001b[0m:\u001b[36mpdf_parser_from_folder\u001b[0m:\u001b[36m101\u001b[0m - \u001b[1mParsing file: 66617_1.pdf\u001b[0m\n"
     ]
    },
    {
     "name": "stdout",
     "output_type": "stream",
     "text": [
      "Content extraction failed using Tika. Attempting conversion to TIFF.\n"
     ]
    },
    {
     "name": "stderr",
     "output_type": "stream",
     "text": [
      "\u001b[32m2024-01-31 10:44:16.204\u001b[0m | \u001b[1mINFO    \u001b[0m | \u001b[36msrc.pdfs_to_text.pdfs_parser\u001b[0m:\u001b[36mpdf_parser_from_folder\u001b[0m:\u001b[36m101\u001b[0m - \u001b[1mParsing file: 66617_2.pdf\u001b[0m\n"
     ]
    },
    {
     "name": "stdout",
     "output_type": "stream",
     "text": [
      "Content extraction failed using Tika. Attempting conversion to TIFF.\n"
     ]
    },
    {
     "name": "stderr",
     "output_type": "stream",
     "text": [
      "\u001b[32m2024-01-31 10:44:16.700\u001b[0m | \u001b[1mINFO    \u001b[0m | \u001b[36msrc.pdfs_to_text.pdfs_parser\u001b[0m:\u001b[36mpdf_parser_from_folder\u001b[0m:\u001b[36m101\u001b[0m - \u001b[1mParsing file: 66772_1.pdf\u001b[0m\n"
     ]
    },
    {
     "name": "stdout",
     "output_type": "stream",
     "text": [
      "Content extraction failed using Tika. Attempting conversion to TIFF.\n"
     ]
    },
    {
     "name": "stderr",
     "output_type": "stream",
     "text": [
      "\u001b[32m2024-01-31 10:44:17.140\u001b[0m | \u001b[1mINFO    \u001b[0m | \u001b[36msrc.pdfs_to_text.pdfs_parser\u001b[0m:\u001b[36mpdf_parser_from_folder\u001b[0m:\u001b[36m101\u001b[0m - \u001b[1mParsing file: 66772_2.pdf\u001b[0m\n"
     ]
    },
    {
     "name": "stdout",
     "output_type": "stream",
     "text": [
      "Content extraction failed using Tika. Attempting conversion to TIFF.\n"
     ]
    },
    {
     "name": "stderr",
     "output_type": "stream",
     "text": [
      "\u001b[32m2024-01-31 10:44:17.642\u001b[0m | \u001b[1mINFO    \u001b[0m | \u001b[36msrc.pdfs_to_text.pdfs_parser\u001b[0m:\u001b[36mpdf_parser_from_folder\u001b[0m:\u001b[36m101\u001b[0m - \u001b[1mParsing file: 68870_1.pdf\u001b[0m\n"
     ]
    },
    {
     "name": "stdout",
     "output_type": "stream",
     "text": [
      "Content extraction failed using Tika. Attempting conversion to TIFF.\n"
     ]
    },
    {
     "name": "stderr",
     "output_type": "stream",
     "text": [
      "\u001b[32m2024-01-31 10:44:21.444\u001b[0m | \u001b[1mINFO    \u001b[0m | \u001b[36msrc.pdfs_to_text.pdfs_parser\u001b[0m:\u001b[36mpdf_parser_from_folder\u001b[0m:\u001b[36m101\u001b[0m - \u001b[1mParsing file: 68870_2.pdf\u001b[0m\n"
     ]
    },
    {
     "name": "stdout",
     "output_type": "stream",
     "text": [
      "Content extraction failed using Tika. Attempting conversion to TIFF.\n"
     ]
    },
    {
     "name": "stderr",
     "output_type": "stream",
     "text": [
      "\u001b[32m2024-01-31 10:44:24.719\u001b[0m | \u001b[1mINFO    \u001b[0m | \u001b[36msrc.pdfs_to_text.pdfs_parser\u001b[0m:\u001b[36mpdf_parser_from_folder\u001b[0m:\u001b[36m101\u001b[0m - \u001b[1mParsing file: 68870_3.pdf\u001b[0m\n"
     ]
    },
    {
     "name": "stdout",
     "output_type": "stream",
     "text": [
      "Content extraction failed using Tika. Attempting conversion to TIFF.\n"
     ]
    },
    {
     "name": "stderr",
     "output_type": "stream",
     "text": [
      "\u001b[32m2024-01-31 10:44:28.594\u001b[0m | \u001b[1mINFO    \u001b[0m | \u001b[36msrc.pdfs_to_text.pdfs_parser\u001b[0m:\u001b[36mpdf_parser_from_folder\u001b[0m:\u001b[36m101\u001b[0m - \u001b[1mParsing file: 68870_4.pdf\u001b[0m\n"
     ]
    },
    {
     "name": "stdout",
     "output_type": "stream",
     "text": [
      "Content extraction failed using Tika. Attempting conversion to TIFF.\n"
     ]
    },
    {
     "name": "stderr",
     "output_type": "stream",
     "text": [
      "\u001b[32m2024-01-31 10:44:32.605\u001b[0m | \u001b[1mINFO    \u001b[0m | \u001b[36msrc.pdfs_to_text.pdfs_parser\u001b[0m:\u001b[36mpdf_parser_from_folder\u001b[0m:\u001b[36m101\u001b[0m - \u001b[1mParsing file: 68870_5.pdf\u001b[0m\n"
     ]
    },
    {
     "name": "stdout",
     "output_type": "stream",
     "text": [
      "Content extraction failed using Tika. Attempting conversion to TIFF.\n"
     ]
    },
    {
     "name": "stderr",
     "output_type": "stream",
     "text": [
      "\u001b[32m2024-01-31 10:44:37.624\u001b[0m | \u001b[1mINFO    \u001b[0m | \u001b[36msrc.pdfs_to_text.pdfs_parser\u001b[0m:\u001b[36mpdf_parser_from_folder\u001b[0m:\u001b[36m101\u001b[0m - \u001b[1mParsing file: 68870_6.pdf\u001b[0m\n"
     ]
    },
    {
     "name": "stdout",
     "output_type": "stream",
     "text": [
      "Content extraction failed using Tika. Attempting conversion to TIFF.\n"
     ]
    },
    {
     "name": "stderr",
     "output_type": "stream",
     "text": [
      "\u001b[32m2024-01-31 10:44:46.774\u001b[0m | \u001b[1mINFO    \u001b[0m | \u001b[36msrc.pdfs_to_text.pdfs_parser\u001b[0m:\u001b[36mpdf_parser_from_folder\u001b[0m:\u001b[36m101\u001b[0m - \u001b[1mParsing file: 69903_1.pdf\u001b[0m\n"
     ]
    },
    {
     "name": "stdout",
     "output_type": "stream",
     "text": [
      "Content extraction failed using Tika. Attempting conversion to TIFF.\n"
     ]
    },
    {
     "name": "stderr",
     "output_type": "stream",
     "text": [
      "\u001b[32m2024-01-31 10:44:48.561\u001b[0m | \u001b[1mINFO    \u001b[0m | \u001b[36msrc.pdfs_to_text.pdfs_parser\u001b[0m:\u001b[36mpdf_parser_from_folder\u001b[0m:\u001b[36m101\u001b[0m - \u001b[1mParsing file: 69903_2.pdf\u001b[0m\n"
     ]
    },
    {
     "name": "stdout",
     "output_type": "stream",
     "text": [
      "Content extraction failed using Tika. Attempting conversion to TIFF.\n"
     ]
    },
    {
     "name": "stderr",
     "output_type": "stream",
     "text": [
      "\u001b[32m2024-01-31 10:44:49.819\u001b[0m | \u001b[1mINFO    \u001b[0m | \u001b[36msrc.pdfs_to_text.pdfs_parser\u001b[0m:\u001b[36mpdf_parser_from_folder\u001b[0m:\u001b[36m101\u001b[0m - \u001b[1mParsing file: 69903_3.pdf\u001b[0m\n"
     ]
    },
    {
     "name": "stdout",
     "output_type": "stream",
     "text": [
      "Content extraction failed using Tika. Attempting conversion to TIFF.\n"
     ]
    },
    {
     "name": "stderr",
     "output_type": "stream",
     "text": [
      "\u001b[32m2024-01-31 10:44:51.529\u001b[0m | \u001b[1mINFO    \u001b[0m | \u001b[36msrc.pdfs_to_text.pdfs_parser\u001b[0m:\u001b[36mpdf_parser_from_folder\u001b[0m:\u001b[36m101\u001b[0m - \u001b[1mParsing file: 69903_4.pdf\u001b[0m\n"
     ]
    },
    {
     "name": "stdout",
     "output_type": "stream",
     "text": [
      "Content extraction failed using Tika. Attempting conversion to TIFF.\n"
     ]
    },
    {
     "name": "stderr",
     "output_type": "stream",
     "text": [
      "\u001b[32m2024-01-31 10:44:53.421\u001b[0m | \u001b[1mINFO    \u001b[0m | \u001b[36msrc.pdfs_to_text.pdfs_parser\u001b[0m:\u001b[36mpdf_parser_from_folder\u001b[0m:\u001b[36m101\u001b[0m - \u001b[1mParsing file: 69903_5.pdf\u001b[0m\n"
     ]
    },
    {
     "name": "stdout",
     "output_type": "stream",
     "text": [
      "Content extraction failed using Tika. Attempting conversion to TIFF.\n"
     ]
    },
    {
     "name": "stderr",
     "output_type": "stream",
     "text": [
      "\u001b[32m2024-01-31 10:44:54.756\u001b[0m | \u001b[1mINFO    \u001b[0m | \u001b[36msrc.pdfs_to_text.pdfs_parser\u001b[0m:\u001b[36mpdf_parser_from_folder\u001b[0m:\u001b[36m101\u001b[0m - \u001b[1mParsing file: 69903_6.pdf\u001b[0m\n"
     ]
    },
    {
     "name": "stdout",
     "output_type": "stream",
     "text": [
      "Content extraction failed using Tika. Attempting conversion to TIFF.\n"
     ]
    },
    {
     "name": "stderr",
     "output_type": "stream",
     "text": [
      "\u001b[32m2024-01-31 10:44:56.108\u001b[0m | \u001b[1mINFO    \u001b[0m | \u001b[36msrc.pdfs_to_text.pdfs_parser\u001b[0m:\u001b[36mpdf_parser_from_folder\u001b[0m:\u001b[36m101\u001b[0m - \u001b[1mParsing file: 71022_1.pdf\u001b[0m\n",
      "\u001b[32m2024-01-31 10:44:56.215\u001b[0m | \u001b[1mINFO    \u001b[0m | \u001b[36msrc.pdfs_to_text.pdfs_parser\u001b[0m:\u001b[36mpdf_parser_from_folder\u001b[0m:\u001b[36m101\u001b[0m - \u001b[1mParsing file: 71022_10.pdf\u001b[0m\n",
      "\u001b[32m2024-01-31 10:44:56.275\u001b[0m | \u001b[1mINFO    \u001b[0m | \u001b[36msrc.pdfs_to_text.pdfs_parser\u001b[0m:\u001b[36mpdf_parser_from_folder\u001b[0m:\u001b[36m101\u001b[0m - \u001b[1mParsing file: 71022_11.pdf\u001b[0m\n",
      "\u001b[32m2024-01-31 10:44:56.340\u001b[0m | \u001b[1mINFO    \u001b[0m | \u001b[36msrc.pdfs_to_text.pdfs_parser\u001b[0m:\u001b[36mpdf_parser_from_folder\u001b[0m:\u001b[36m101\u001b[0m - \u001b[1mParsing file: 71022_12.pdf\u001b[0m\n",
      "\u001b[32m2024-01-31 10:44:57.038\u001b[0m | \u001b[1mINFO    \u001b[0m | \u001b[36msrc.pdfs_to_text.pdfs_parser\u001b[0m:\u001b[36mpdf_parser_from_folder\u001b[0m:\u001b[36m101\u001b[0m - \u001b[1mParsing file: 71022_13.pdf\u001b[0m\n",
      "\u001b[32m2024-01-31 10:44:57.089\u001b[0m | \u001b[1mINFO    \u001b[0m | \u001b[36msrc.pdfs_to_text.pdfs_parser\u001b[0m:\u001b[36mpdf_parser_from_folder\u001b[0m:\u001b[36m101\u001b[0m - \u001b[1mParsing file: 71022_14.pdf\u001b[0m\n",
      "\u001b[32m2024-01-31 10:44:57.133\u001b[0m | \u001b[1mINFO    \u001b[0m | \u001b[36msrc.pdfs_to_text.pdfs_parser\u001b[0m:\u001b[36mpdf_parser_from_folder\u001b[0m:\u001b[36m101\u001b[0m - \u001b[1mParsing file: 71022_15.pdf\u001b[0m\n",
      "\u001b[32m2024-01-31 10:44:57.192\u001b[0m | \u001b[1mINFO    \u001b[0m | \u001b[36msrc.pdfs_to_text.pdfs_parser\u001b[0m:\u001b[36mpdf_parser_from_folder\u001b[0m:\u001b[36m101\u001b[0m - \u001b[1mParsing file: 71022_16.pdf\u001b[0m\n",
      "\u001b[32m2024-01-31 10:44:57.245\u001b[0m | \u001b[1mINFO    \u001b[0m | \u001b[36msrc.pdfs_to_text.pdfs_parser\u001b[0m:\u001b[36mpdf_parser_from_folder\u001b[0m:\u001b[36m101\u001b[0m - \u001b[1mParsing file: 71022_17.pdf\u001b[0m\n",
      "\u001b[32m2024-01-31 10:44:57.288\u001b[0m | \u001b[1mINFO    \u001b[0m | \u001b[36msrc.pdfs_to_text.pdfs_parser\u001b[0m:\u001b[36mpdf_parser_from_folder\u001b[0m:\u001b[36m101\u001b[0m - \u001b[1mParsing file: 71022_18.pdf\u001b[0m\n",
      "\u001b[32m2024-01-31 10:44:57.356\u001b[0m | \u001b[1mINFO    \u001b[0m | \u001b[36msrc.pdfs_to_text.pdfs_parser\u001b[0m:\u001b[36mpdf_parser_from_folder\u001b[0m:\u001b[36m101\u001b[0m - \u001b[1mParsing file: 71022_19.pdf\u001b[0m\n",
      "\u001b[32m2024-01-31 10:44:57.511\u001b[0m | \u001b[1mINFO    \u001b[0m | \u001b[36msrc.pdfs_to_text.pdfs_parser\u001b[0m:\u001b[36mpdf_parser_from_folder\u001b[0m:\u001b[36m101\u001b[0m - \u001b[1mParsing file: 71022_2.pdf\u001b[0m\n",
      "\u001b[32m2024-01-31 10:44:58.111\u001b[0m | \u001b[1mINFO    \u001b[0m | \u001b[36msrc.pdfs_to_text.pdfs_parser\u001b[0m:\u001b[36mpdf_parser_from_folder\u001b[0m:\u001b[36m101\u001b[0m - \u001b[1mParsing file: 71022_20.pdf\u001b[0m\n"
     ]
    },
    {
     "name": "stdout",
     "output_type": "stream",
     "text": [
      "Content extraction failed using Tika. Attempting conversion to TIFF.\n"
     ]
    },
    {
     "name": "stderr",
     "output_type": "stream",
     "text": [
      "\u001b[32m2024-01-31 10:45:00.940\u001b[0m | \u001b[1mINFO    \u001b[0m | \u001b[36msrc.pdfs_to_text.pdfs_parser\u001b[0m:\u001b[36mpdf_parser_from_folder\u001b[0m:\u001b[36m101\u001b[0m - \u001b[1mParsing file: 71022_21.pdf\u001b[0m\n",
      "\u001b[32m2024-01-31 10:45:01.029\u001b[0m | \u001b[1mINFO    \u001b[0m | \u001b[36msrc.pdfs_to_text.pdfs_parser\u001b[0m:\u001b[36mpdf_parser_from_folder\u001b[0m:\u001b[36m101\u001b[0m - \u001b[1mParsing file: 71022_3.pdf\u001b[0m\n",
      "\u001b[32m2024-01-31 10:45:01.632\u001b[0m | \u001b[1mINFO    \u001b[0m | \u001b[36msrc.pdfs_to_text.pdfs_parser\u001b[0m:\u001b[36mpdf_parser_from_folder\u001b[0m:\u001b[36m101\u001b[0m - \u001b[1mParsing file: 71022_4.pdf\u001b[0m\n",
      "\u001b[32m2024-01-31 10:45:01.756\u001b[0m | \u001b[1mINFO    \u001b[0m | \u001b[36msrc.pdfs_to_text.pdfs_parser\u001b[0m:\u001b[36mpdf_parser_from_folder\u001b[0m:\u001b[36m101\u001b[0m - \u001b[1mParsing file: 71022_5.pdf\u001b[0m\n"
     ]
    },
    {
     "name": "stdout",
     "output_type": "stream",
     "text": [
      "Content extraction failed using Tika. Attempting conversion to TIFF.\n"
     ]
    },
    {
     "name": "stderr",
     "output_type": "stream",
     "text": [
      "\u001b[32m2024-01-31 10:45:02.554\u001b[0m | \u001b[1mINFO    \u001b[0m | \u001b[36msrc.pdfs_to_text.pdfs_parser\u001b[0m:\u001b[36mpdf_parser_from_folder\u001b[0m:\u001b[36m101\u001b[0m - \u001b[1mParsing file: 71022_6.pdf\u001b[0m\n",
      "\u001b[32m2024-01-31 10:45:02.610\u001b[0m | \u001b[1mINFO    \u001b[0m | \u001b[36msrc.pdfs_to_text.pdfs_parser\u001b[0m:\u001b[36mpdf_parser_from_folder\u001b[0m:\u001b[36m101\u001b[0m - \u001b[1mParsing file: 71022_7.pdf\u001b[0m\n",
      "\u001b[32m2024-01-31 10:45:02.661\u001b[0m | \u001b[1mINFO    \u001b[0m | \u001b[36msrc.pdfs_to_text.pdfs_parser\u001b[0m:\u001b[36mpdf_parser_from_folder\u001b[0m:\u001b[36m101\u001b[0m - \u001b[1mParsing file: 71022_8.pdf\u001b[0m\n",
      "\u001b[32m2024-01-31 10:45:02.719\u001b[0m | \u001b[1mINFO    \u001b[0m | \u001b[36msrc.pdfs_to_text.pdfs_parser\u001b[0m:\u001b[36mpdf_parser_from_folder\u001b[0m:\u001b[36m101\u001b[0m - \u001b[1mParsing file: 71022_9.pdf\u001b[0m\n",
      "\u001b[32m2024-01-31 10:45:02.786\u001b[0m | \u001b[1mINFO    \u001b[0m | \u001b[36msrc.pdfs_to_text.pdfs_parser\u001b[0m:\u001b[36mpdf_parser_from_folder\u001b[0m:\u001b[36m101\u001b[0m - \u001b[1mParsing file: 74346_1.pdf\u001b[0m\n"
     ]
    },
    {
     "name": "stdout",
     "output_type": "stream",
     "text": [
      "Content extraction failed using Tika. Attempting conversion to TIFF.\n"
     ]
    },
    {
     "name": "stderr",
     "output_type": "stream",
     "text": [
      "\u001b[32m2024-01-31 10:45:06.308\u001b[0m | \u001b[1mINFO    \u001b[0m | \u001b[36msrc.pdfs_to_text.pdfs_parser\u001b[0m:\u001b[36mpdf_parser_from_folder\u001b[0m:\u001b[36m101\u001b[0m - \u001b[1mParsing file: 74346_2.pdf\u001b[0m\n"
     ]
    },
    {
     "name": "stdout",
     "output_type": "stream",
     "text": [
      "Content extraction failed using Tika. Attempting conversion to TIFF.\n"
     ]
    },
    {
     "name": "stderr",
     "output_type": "stream",
     "text": [
      "\u001b[32m2024-01-31 10:45:10.566\u001b[0m | \u001b[1mINFO    \u001b[0m | \u001b[36msrc.pdfs_to_text.pdfs_parser\u001b[0m:\u001b[36mpdf_parser_from_folder\u001b[0m:\u001b[36m101\u001b[0m - \u001b[1mParsing file: 74346_3.pdf\u001b[0m\n"
     ]
    },
    {
     "name": "stdout",
     "output_type": "stream",
     "text": [
      "Content extraction failed using Tika. Attempting conversion to TIFF.\n"
     ]
    },
    {
     "name": "stderr",
     "output_type": "stream",
     "text": [
      "\u001b[32m2024-01-31 10:45:14.672\u001b[0m | \u001b[1mINFO    \u001b[0m | \u001b[36msrc.pdfs_to_text.pdfs_parser\u001b[0m:\u001b[36mpdf_parser_from_folder\u001b[0m:\u001b[36m101\u001b[0m - \u001b[1mParsing file: 74346_4.pdf\u001b[0m\n"
     ]
    },
    {
     "name": "stdout",
     "output_type": "stream",
     "text": [
      "Content extraction failed using Tika. Attempting conversion to TIFF.\n"
     ]
    },
    {
     "name": "stderr",
     "output_type": "stream",
     "text": [
      "\u001b[32m2024-01-31 10:45:19.226\u001b[0m | \u001b[1mINFO    \u001b[0m | \u001b[36msrc.pdfs_to_text.pdfs_parser\u001b[0m:\u001b[36mpdf_parser_from_folder\u001b[0m:\u001b[36m101\u001b[0m - \u001b[1mParsing file: 75102_1.pdf\u001b[0m\n"
     ]
    },
    {
     "name": "stdout",
     "output_type": "stream",
     "text": [
      "Content extraction failed using Tika. Attempting conversion to TIFF.\n"
     ]
    },
    {
     "name": "stderr",
     "output_type": "stream",
     "text": [
      "\u001b[32m2024-01-31 10:45:20.973\u001b[0m | \u001b[1mINFO    \u001b[0m | \u001b[36msrc.pdfs_to_text.pdfs_parser\u001b[0m:\u001b[36mpdf_parser_from_folder\u001b[0m:\u001b[36m101\u001b[0m - \u001b[1mParsing file: 75102_2.pdf\u001b[0m\n"
     ]
    },
    {
     "name": "stdout",
     "output_type": "stream",
     "text": [
      "Content extraction failed using Tika. Attempting conversion to TIFF.\n"
     ]
    },
    {
     "name": "stderr",
     "output_type": "stream",
     "text": [
      "\u001b[32m2024-01-31 10:45:22.410\u001b[0m | \u001b[1mINFO    \u001b[0m | \u001b[36msrc.pdfs_to_text.pdfs_parser\u001b[0m:\u001b[36mpdf_parser_from_folder\u001b[0m:\u001b[36m101\u001b[0m - \u001b[1mParsing file: 75102_3.pdf\u001b[0m\n"
     ]
    },
    {
     "name": "stdout",
     "output_type": "stream",
     "text": [
      "Content extraction failed using Tika. Attempting conversion to TIFF.\n"
     ]
    },
    {
     "name": "stderr",
     "output_type": "stream",
     "text": [
      "\u001b[32m2024-01-31 10:45:24.172\u001b[0m | \u001b[1mINFO    \u001b[0m | \u001b[36msrc.pdfs_to_text.pdfs_parser\u001b[0m:\u001b[36mpdf_parser_from_folder\u001b[0m:\u001b[36m101\u001b[0m - \u001b[1mParsing file: 75102_4.pdf\u001b[0m\n"
     ]
    },
    {
     "name": "stdout",
     "output_type": "stream",
     "text": [
      "Content extraction failed using Tika. Attempting conversion to TIFF.\n"
     ]
    },
    {
     "name": "stderr",
     "output_type": "stream",
     "text": [
      "\u001b[32m2024-01-31 10:45:25.880\u001b[0m | \u001b[1mINFO    \u001b[0m | \u001b[36msrc.pdfs_to_text.pdfs_parser\u001b[0m:\u001b[36mpdf_parser_from_folder\u001b[0m:\u001b[36m101\u001b[0m - \u001b[1mParsing file: 75102_5.pdf\u001b[0m\n"
     ]
    },
    {
     "name": "stdout",
     "output_type": "stream",
     "text": [
      "Content extraction failed using Tika. Attempting conversion to TIFF.\n"
     ]
    },
    {
     "name": "stderr",
     "output_type": "stream",
     "text": [
      "\u001b[32m2024-01-31 10:45:27.110\u001b[0m | \u001b[1mINFO    \u001b[0m | \u001b[36msrc.pdfs_to_text.pdfs_parser\u001b[0m:\u001b[36mpdf_parser_from_folder\u001b[0m:\u001b[36m101\u001b[0m - \u001b[1mParsing file: 7575_1.pdf\u001b[0m\n"
     ]
    },
    {
     "name": "stdout",
     "output_type": "stream",
     "text": [
      "Content extraction failed using Tika. Attempting conversion to TIFF.\n"
     ]
    },
    {
     "name": "stderr",
     "output_type": "stream",
     "text": [
      "\u001b[32m2024-01-31 10:45:28.280\u001b[0m | \u001b[1mINFO    \u001b[0m | \u001b[36msrc.pdfs_to_text.pdfs_parser\u001b[0m:\u001b[36mpdf_parser_from_folder\u001b[0m:\u001b[36m101\u001b[0m - \u001b[1mParsing file: 7575_2.pdf\u001b[0m\n"
     ]
    },
    {
     "name": "stdout",
     "output_type": "stream",
     "text": [
      "Content extraction failed using Tika. Attempting conversion to TIFF.\n"
     ]
    },
    {
     "name": "stderr",
     "output_type": "stream",
     "text": [
      "\u001b[32m2024-01-31 10:45:29.659\u001b[0m | \u001b[1mINFO    \u001b[0m | \u001b[36msrc.pdfs_to_text.pdfs_parser\u001b[0m:\u001b[36mpdf_parser_from_folder\u001b[0m:\u001b[36m101\u001b[0m - \u001b[1mParsing file: 7575_3.pdf\u001b[0m\n"
     ]
    },
    {
     "name": "stdout",
     "output_type": "stream",
     "text": [
      "Content extraction failed using Tika. Attempting conversion to TIFF.\n"
     ]
    },
    {
     "name": "stderr",
     "output_type": "stream",
     "text": [
      "\u001b[32m2024-01-31 10:45:31.028\u001b[0m | \u001b[1mINFO    \u001b[0m | \u001b[36msrc.pdfs_to_text.pdfs_parser\u001b[0m:\u001b[36mpdf_parser_from_folder\u001b[0m:\u001b[36m101\u001b[0m - \u001b[1mParsing file: 7575_4.pdf\u001b[0m\n"
     ]
    },
    {
     "name": "stdout",
     "output_type": "stream",
     "text": [
      "Content extraction failed using Tika. Attempting conversion to TIFF.\n"
     ]
    },
    {
     "name": "stderr",
     "output_type": "stream",
     "text": [
      "\u001b[32m2024-01-31 10:45:32.462\u001b[0m | \u001b[1mINFO    \u001b[0m | \u001b[36msrc.pdfs_to_text.pdfs_parser\u001b[0m:\u001b[36mpdf_parser_from_folder\u001b[0m:\u001b[36m101\u001b[0m - \u001b[1mParsing file: 7575_5.pdf\u001b[0m\n"
     ]
    },
    {
     "name": "stdout",
     "output_type": "stream",
     "text": [
      "Content extraction failed using Tika. Attempting conversion to TIFF.\n"
     ]
    },
    {
     "name": "stderr",
     "output_type": "stream",
     "text": [
      "\u001b[32m2024-01-31 10:45:33.816\u001b[0m | \u001b[1mINFO    \u001b[0m | \u001b[36msrc.pdfs_to_text.pdfs_parser\u001b[0m:\u001b[36mpdf_parser_from_folder\u001b[0m:\u001b[36m101\u001b[0m - \u001b[1mParsing file: 7575_6.pdf\u001b[0m\n"
     ]
    },
    {
     "name": "stdout",
     "output_type": "stream",
     "text": [
      "Content extraction failed using Tika. Attempting conversion to TIFF.\n"
     ]
    },
    {
     "name": "stderr",
     "output_type": "stream",
     "text": [
      "\u001b[32m2024-01-31 10:45:35.057\u001b[0m | \u001b[1mINFO    \u001b[0m | \u001b[36msrc.pdfs_to_text.pdfs_parser\u001b[0m:\u001b[36mpdf_parser_from_folder\u001b[0m:\u001b[36m101\u001b[0m - \u001b[1mParsing file: 7575_7.pdf\u001b[0m\n"
     ]
    },
    {
     "name": "stdout",
     "output_type": "stream",
     "text": [
      "Content extraction failed using Tika. Attempting conversion to TIFF.\n"
     ]
    },
    {
     "name": "stderr",
     "output_type": "stream",
     "text": [
      "\u001b[32m2024-01-31 10:45:36.225\u001b[0m | \u001b[1mINFO    \u001b[0m | \u001b[36msrc.pdfs_to_text.pdfs_parser\u001b[0m:\u001b[36mpdf_parser_from_folder\u001b[0m:\u001b[36m101\u001b[0m - \u001b[1mParsing file: 78728_1.pdf\u001b[0m\n",
      "\u001b[32m2024-01-31 10:45:36.433\u001b[0m | \u001b[1mINFO    \u001b[0m | \u001b[36msrc.pdfs_to_text.pdfs_parser\u001b[0m:\u001b[36mpdf_parser_from_folder\u001b[0m:\u001b[36m101\u001b[0m - \u001b[1mParsing file: 78728_10.pdf\u001b[0m\n",
      "\u001b[32m2024-01-31 10:45:36.535\u001b[0m | \u001b[1mINFO    \u001b[0m | \u001b[36msrc.pdfs_to_text.pdfs_parser\u001b[0m:\u001b[36mpdf_parser_from_folder\u001b[0m:\u001b[36m101\u001b[0m - \u001b[1mParsing file: 78728_11.pdf\u001b[0m\n",
      "\u001b[32m2024-01-31 10:45:36.589\u001b[0m | \u001b[1mINFO    \u001b[0m | \u001b[36msrc.pdfs_to_text.pdfs_parser\u001b[0m:\u001b[36mpdf_parser_from_folder\u001b[0m:\u001b[36m101\u001b[0m - \u001b[1mParsing file: 78728_12.pdf\u001b[0m\n",
      "\u001b[32m2024-01-31 10:45:36.628\u001b[0m | \u001b[1mINFO    \u001b[0m | \u001b[36msrc.pdfs_to_text.pdfs_parser\u001b[0m:\u001b[36mpdf_parser_from_folder\u001b[0m:\u001b[36m101\u001b[0m - \u001b[1mParsing file: 78728_13.pdf\u001b[0m\n",
      "\u001b[32m2024-01-31 10:45:36.680\u001b[0m | \u001b[1mINFO    \u001b[0m | \u001b[36msrc.pdfs_to_text.pdfs_parser\u001b[0m:\u001b[36mpdf_parser_from_folder\u001b[0m:\u001b[36m101\u001b[0m - \u001b[1mParsing file: 78728_14.pdf\u001b[0m\n"
     ]
    },
    {
     "name": "stdout",
     "output_type": "stream",
     "text": [
      "Content extraction failed using Tika. Attempting conversion to TIFF.\n"
     ]
    },
    {
     "name": "stderr",
     "output_type": "stream",
     "text": [
      "\u001b[32m2024-01-31 10:45:38.349\u001b[0m | \u001b[1mINFO    \u001b[0m | \u001b[36msrc.pdfs_to_text.pdfs_parser\u001b[0m:\u001b[36mpdf_parser_from_folder\u001b[0m:\u001b[36m101\u001b[0m - \u001b[1mParsing file: 78728_15.pdf\u001b[0m\n",
      "\u001b[32m2024-01-31 10:45:38.446\u001b[0m | \u001b[1mINFO    \u001b[0m | \u001b[36msrc.pdfs_to_text.pdfs_parser\u001b[0m:\u001b[36mpdf_parser_from_folder\u001b[0m:\u001b[36m101\u001b[0m - \u001b[1mParsing file: 78728_16.pdf\u001b[0m\n",
      "\u001b[32m2024-01-31 10:45:38.510\u001b[0m | \u001b[1mINFO    \u001b[0m | \u001b[36msrc.pdfs_to_text.pdfs_parser\u001b[0m:\u001b[36mpdf_parser_from_folder\u001b[0m:\u001b[36m101\u001b[0m - \u001b[1mParsing file: 78728_17.pdf\u001b[0m\n",
      "\u001b[32m2024-01-31 10:45:38.571\u001b[0m | \u001b[1mINFO    \u001b[0m | \u001b[36msrc.pdfs_to_text.pdfs_parser\u001b[0m:\u001b[36mpdf_parser_from_folder\u001b[0m:\u001b[36m101\u001b[0m - \u001b[1mParsing file: 78728_18.pdf\u001b[0m\n",
      "\u001b[32m2024-01-31 10:45:38.619\u001b[0m | \u001b[1mINFO    \u001b[0m | \u001b[36msrc.pdfs_to_text.pdfs_parser\u001b[0m:\u001b[36mpdf_parser_from_folder\u001b[0m:\u001b[36m101\u001b[0m - \u001b[1mParsing file: 78728_19.pdf\u001b[0m\n",
      "\u001b[32m2024-01-31 10:45:38.693\u001b[0m | \u001b[1mINFO    \u001b[0m | \u001b[36msrc.pdfs_to_text.pdfs_parser\u001b[0m:\u001b[36mpdf_parser_from_folder\u001b[0m:\u001b[36m101\u001b[0m - \u001b[1mParsing file: 78728_2.pdf\u001b[0m\n",
      "\u001b[32m2024-01-31 10:45:38.803\u001b[0m | \u001b[1mINFO    \u001b[0m | \u001b[36msrc.pdfs_to_text.pdfs_parser\u001b[0m:\u001b[36mpdf_parser_from_folder\u001b[0m:\u001b[36m101\u001b[0m - \u001b[1mParsing file: 78728_20.pdf\u001b[0m\n",
      "\u001b[32m2024-01-31 10:45:38.876\u001b[0m | \u001b[1mINFO    \u001b[0m | \u001b[36msrc.pdfs_to_text.pdfs_parser\u001b[0m:\u001b[36mpdf_parser_from_folder\u001b[0m:\u001b[36m101\u001b[0m - \u001b[1mParsing file: 78728_3.pdf\u001b[0m\n",
      "\u001b[32m2024-01-31 10:45:38.937\u001b[0m | \u001b[1mINFO    \u001b[0m | \u001b[36msrc.pdfs_to_text.pdfs_parser\u001b[0m:\u001b[36mpdf_parser_from_folder\u001b[0m:\u001b[36m101\u001b[0m - \u001b[1mParsing file: 78728_4.pdf\u001b[0m\n",
      "\u001b[32m2024-01-31 10:45:38.986\u001b[0m | \u001b[1mINFO    \u001b[0m | \u001b[36msrc.pdfs_to_text.pdfs_parser\u001b[0m:\u001b[36mpdf_parser_from_folder\u001b[0m:\u001b[36m101\u001b[0m - \u001b[1mParsing file: 78728_5.pdf\u001b[0m\n",
      "\u001b[32m2024-01-31 10:45:39.041\u001b[0m | \u001b[1mINFO    \u001b[0m | \u001b[36msrc.pdfs_to_text.pdfs_parser\u001b[0m:\u001b[36mpdf_parser_from_folder\u001b[0m:\u001b[36m101\u001b[0m - \u001b[1mParsing file: 78728_6.pdf\u001b[0m\n"
     ]
    },
    {
     "name": "stdout",
     "output_type": "stream",
     "text": [
      "Content extraction failed using Tika. Attempting conversion to TIFF.\n"
     ]
    },
    {
     "name": "stderr",
     "output_type": "stream",
     "text": [
      "\u001b[32m2024-01-31 10:45:40.638\u001b[0m | \u001b[1mINFO    \u001b[0m | \u001b[36msrc.pdfs_to_text.pdfs_parser\u001b[0m:\u001b[36mpdf_parser_from_folder\u001b[0m:\u001b[36m101\u001b[0m - \u001b[1mParsing file: 78728_7.pdf\u001b[0m\n",
      "\u001b[32m2024-01-31 10:45:40.743\u001b[0m | \u001b[1mINFO    \u001b[0m | \u001b[36msrc.pdfs_to_text.pdfs_parser\u001b[0m:\u001b[36mpdf_parser_from_folder\u001b[0m:\u001b[36m101\u001b[0m - \u001b[1mParsing file: 78728_8.pdf\u001b[0m\n",
      "\u001b[32m2024-01-31 10:45:41.059\u001b[0m | \u001b[1mINFO    \u001b[0m | \u001b[36msrc.pdfs_to_text.pdfs_parser\u001b[0m:\u001b[36mpdf_parser_from_folder\u001b[0m:\u001b[36m101\u001b[0m - \u001b[1mParsing file: 78728_9.pdf\u001b[0m\n",
      "\u001b[32m2024-01-31 10:45:41.121\u001b[0m | \u001b[1mINFO    \u001b[0m | \u001b[36msrc.pdfs_to_text.pdfs_parser\u001b[0m:\u001b[36mpdf_parser_from_folder\u001b[0m:\u001b[36m101\u001b[0m - \u001b[1mParsing file: 80265_1.pdf\u001b[0m\n"
     ]
    },
    {
     "name": "stdout",
     "output_type": "stream",
     "text": [
      "Content extraction failed using Tika. Attempting conversion to TIFF.\n"
     ]
    },
    {
     "name": "stderr",
     "output_type": "stream",
     "text": [
      "\u001b[32m2024-01-31 10:45:43.685\u001b[0m | \u001b[1mINFO    \u001b[0m | \u001b[36msrc.pdfs_to_text.pdfs_parser\u001b[0m:\u001b[36mpdf_parser_from_folder\u001b[0m:\u001b[36m101\u001b[0m - \u001b[1mParsing file: 80265_10.pdf\u001b[0m\n"
     ]
    },
    {
     "name": "stdout",
     "output_type": "stream",
     "text": [
      "Content extraction failed using Tika. Attempting conversion to TIFF.\n"
     ]
    },
    {
     "name": "stderr",
     "output_type": "stream",
     "text": [
      "\u001b[32m2024-01-31 10:45:44.368\u001b[0m | \u001b[1mINFO    \u001b[0m | \u001b[36msrc.pdfs_to_text.pdfs_parser\u001b[0m:\u001b[36mpdf_parser_from_folder\u001b[0m:\u001b[36m101\u001b[0m - \u001b[1mParsing file: 80265_11.pdf\u001b[0m\n"
     ]
    },
    {
     "name": "stdout",
     "output_type": "stream",
     "text": [
      "Content extraction failed using Tika. Attempting conversion to TIFF.\n"
     ]
    },
    {
     "name": "stderr",
     "output_type": "stream",
     "text": [
      "\u001b[32m2024-01-31 10:45:45.074\u001b[0m | \u001b[1mINFO    \u001b[0m | \u001b[36msrc.pdfs_to_text.pdfs_parser\u001b[0m:\u001b[36mpdf_parser_from_folder\u001b[0m:\u001b[36m101\u001b[0m - \u001b[1mParsing file: 80265_12.pdf\u001b[0m\n"
     ]
    },
    {
     "name": "stdout",
     "output_type": "stream",
     "text": [
      "Content extraction failed using Tika. Attempting conversion to TIFF.\n"
     ]
    },
    {
     "name": "stderr",
     "output_type": "stream",
     "text": [
      "\u001b[32m2024-01-31 10:45:45.726\u001b[0m | \u001b[1mINFO    \u001b[0m | \u001b[36msrc.pdfs_to_text.pdfs_parser\u001b[0m:\u001b[36mpdf_parser_from_folder\u001b[0m:\u001b[36m101\u001b[0m - \u001b[1mParsing file: 80265_13.pdf\u001b[0m\n"
     ]
    },
    {
     "name": "stdout",
     "output_type": "stream",
     "text": [
      "Content extraction failed using Tika. Attempting conversion to TIFF.\n"
     ]
    },
    {
     "name": "stderr",
     "output_type": "stream",
     "text": [
      "\u001b[32m2024-01-31 10:45:46.413\u001b[0m | \u001b[1mINFO    \u001b[0m | \u001b[36msrc.pdfs_to_text.pdfs_parser\u001b[0m:\u001b[36mpdf_parser_from_folder\u001b[0m:\u001b[36m101\u001b[0m - \u001b[1mParsing file: 80265_14.pdf\u001b[0m\n"
     ]
    },
    {
     "name": "stdout",
     "output_type": "stream",
     "text": [
      "Content extraction failed using Tika. Attempting conversion to TIFF.\n"
     ]
    },
    {
     "name": "stderr",
     "output_type": "stream",
     "text": [
      "\u001b[32m2024-01-31 10:45:47.115\u001b[0m | \u001b[1mINFO    \u001b[0m | \u001b[36msrc.pdfs_to_text.pdfs_parser\u001b[0m:\u001b[36mpdf_parser_from_folder\u001b[0m:\u001b[36m101\u001b[0m - \u001b[1mParsing file: 80265_15.pdf\u001b[0m\n"
     ]
    },
    {
     "name": "stdout",
     "output_type": "stream",
     "text": [
      "Content extraction failed using Tika. Attempting conversion to TIFF.\n"
     ]
    },
    {
     "name": "stderr",
     "output_type": "stream",
     "text": [
      "\u001b[32m2024-01-31 10:45:47.810\u001b[0m | \u001b[1mINFO    \u001b[0m | \u001b[36msrc.pdfs_to_text.pdfs_parser\u001b[0m:\u001b[36mpdf_parser_from_folder\u001b[0m:\u001b[36m101\u001b[0m - \u001b[1mParsing file: 80265_16.pdf\u001b[0m\n"
     ]
    },
    {
     "name": "stdout",
     "output_type": "stream",
     "text": [
      "Content extraction failed using Tika. Attempting conversion to TIFF.\n"
     ]
    },
    {
     "name": "stderr",
     "output_type": "stream",
     "text": [
      "\u001b[32m2024-01-31 10:45:48.515\u001b[0m | \u001b[1mINFO    \u001b[0m | \u001b[36msrc.pdfs_to_text.pdfs_parser\u001b[0m:\u001b[36mpdf_parser_from_folder\u001b[0m:\u001b[36m101\u001b[0m - \u001b[1mParsing file: 80265_17.pdf\u001b[0m\n"
     ]
    },
    {
     "name": "stdout",
     "output_type": "stream",
     "text": [
      "Content extraction failed using Tika. Attempting conversion to TIFF.\n"
     ]
    },
    {
     "name": "stderr",
     "output_type": "stream",
     "text": [
      "\u001b[32m2024-01-31 10:45:49.209\u001b[0m | \u001b[1mINFO    \u001b[0m | \u001b[36msrc.pdfs_to_text.pdfs_parser\u001b[0m:\u001b[36mpdf_parser_from_folder\u001b[0m:\u001b[36m101\u001b[0m - \u001b[1mParsing file: 80265_18.pdf\u001b[0m\n"
     ]
    },
    {
     "name": "stdout",
     "output_type": "stream",
     "text": [
      "Content extraction failed using Tika. Attempting conversion to TIFF.\n"
     ]
    },
    {
     "name": "stderr",
     "output_type": "stream",
     "text": [
      "\u001b[32m2024-01-31 10:45:49.923\u001b[0m | \u001b[1mINFO    \u001b[0m | \u001b[36msrc.pdfs_to_text.pdfs_parser\u001b[0m:\u001b[36mpdf_parser_from_folder\u001b[0m:\u001b[36m101\u001b[0m - \u001b[1mParsing file: 80265_19.pdf\u001b[0m\n"
     ]
    },
    {
     "name": "stdout",
     "output_type": "stream",
     "text": [
      "Content extraction failed using Tika. Attempting conversion to TIFF.\n"
     ]
    },
    {
     "name": "stderr",
     "output_type": "stream",
     "text": [
      "\u001b[32m2024-01-31 10:45:50.667\u001b[0m | \u001b[1mINFO    \u001b[0m | \u001b[36msrc.pdfs_to_text.pdfs_parser\u001b[0m:\u001b[36mpdf_parser_from_folder\u001b[0m:\u001b[36m101\u001b[0m - \u001b[1mParsing file: 80265_2.pdf\u001b[0m\n"
     ]
    },
    {
     "name": "stdout",
     "output_type": "stream",
     "text": [
      "Content extraction failed using Tika. Attempting conversion to TIFF.\n"
     ]
    },
    {
     "name": "stderr",
     "output_type": "stream",
     "text": [
      "\u001b[32m2024-01-31 10:45:51.316\u001b[0m | \u001b[1mINFO    \u001b[0m | \u001b[36msrc.pdfs_to_text.pdfs_parser\u001b[0m:\u001b[36mpdf_parser_from_folder\u001b[0m:\u001b[36m101\u001b[0m - \u001b[1mParsing file: 80265_20.pdf\u001b[0m\n"
     ]
    },
    {
     "name": "stdout",
     "output_type": "stream",
     "text": [
      "Content extraction failed using Tika. Attempting conversion to TIFF.\n"
     ]
    },
    {
     "name": "stderr",
     "output_type": "stream",
     "text": [
      "\u001b[32m2024-01-31 10:45:51.999\u001b[0m | \u001b[1mINFO    \u001b[0m | \u001b[36msrc.pdfs_to_text.pdfs_parser\u001b[0m:\u001b[36mpdf_parser_from_folder\u001b[0m:\u001b[36m101\u001b[0m - \u001b[1mParsing file: 80265_3.pdf\u001b[0m\n"
     ]
    },
    {
     "name": "stdout",
     "output_type": "stream",
     "text": [
      "Content extraction failed using Tika. Attempting conversion to TIFF.\n"
     ]
    },
    {
     "name": "stderr",
     "output_type": "stream",
     "text": [
      "\u001b[32m2024-01-31 10:45:52.637\u001b[0m | \u001b[1mINFO    \u001b[0m | \u001b[36msrc.pdfs_to_text.pdfs_parser\u001b[0m:\u001b[36mpdf_parser_from_folder\u001b[0m:\u001b[36m101\u001b[0m - \u001b[1mParsing file: 80265_4.pdf\u001b[0m\n"
     ]
    },
    {
     "name": "stdout",
     "output_type": "stream",
     "text": [
      "Content extraction failed using Tika. Attempting conversion to TIFF.\n"
     ]
    },
    {
     "name": "stderr",
     "output_type": "stream",
     "text": [
      "\u001b[32m2024-01-31 10:45:53.305\u001b[0m | \u001b[1mINFO    \u001b[0m | \u001b[36msrc.pdfs_to_text.pdfs_parser\u001b[0m:\u001b[36mpdf_parser_from_folder\u001b[0m:\u001b[36m101\u001b[0m - \u001b[1mParsing file: 80265_5.pdf\u001b[0m\n"
     ]
    },
    {
     "name": "stdout",
     "output_type": "stream",
     "text": [
      "Content extraction failed using Tika. Attempting conversion to TIFF.\n"
     ]
    },
    {
     "name": "stderr",
     "output_type": "stream",
     "text": [
      "\u001b[32m2024-01-31 10:45:53.965\u001b[0m | \u001b[1mINFO    \u001b[0m | \u001b[36msrc.pdfs_to_text.pdfs_parser\u001b[0m:\u001b[36mpdf_parser_from_folder\u001b[0m:\u001b[36m101\u001b[0m - \u001b[1mParsing file: 80265_6.pdf\u001b[0m\n"
     ]
    },
    {
     "name": "stdout",
     "output_type": "stream",
     "text": [
      "Content extraction failed using Tika. Attempting conversion to TIFF.\n"
     ]
    },
    {
     "name": "stderr",
     "output_type": "stream",
     "text": [
      "\u001b[32m2024-01-31 10:45:54.664\u001b[0m | \u001b[1mINFO    \u001b[0m | \u001b[36msrc.pdfs_to_text.pdfs_parser\u001b[0m:\u001b[36mpdf_parser_from_folder\u001b[0m:\u001b[36m101\u001b[0m - \u001b[1mParsing file: 80265_7.pdf\u001b[0m\n"
     ]
    },
    {
     "name": "stdout",
     "output_type": "stream",
     "text": [
      "Content extraction failed using Tika. Attempting conversion to TIFF.\n"
     ]
    },
    {
     "name": "stderr",
     "output_type": "stream",
     "text": [
      "\u001b[32m2024-01-31 10:45:55.295\u001b[0m | \u001b[1mINFO    \u001b[0m | \u001b[36msrc.pdfs_to_text.pdfs_parser\u001b[0m:\u001b[36mpdf_parser_from_folder\u001b[0m:\u001b[36m101\u001b[0m - \u001b[1mParsing file: 80265_8.pdf\u001b[0m\n"
     ]
    },
    {
     "name": "stdout",
     "output_type": "stream",
     "text": [
      "Content extraction failed using Tika. Attempting conversion to TIFF.\n"
     ]
    },
    {
     "name": "stderr",
     "output_type": "stream",
     "text": [
      "\u001b[32m2024-01-31 10:45:55.930\u001b[0m | \u001b[1mINFO    \u001b[0m | \u001b[36msrc.pdfs_to_text.pdfs_parser\u001b[0m:\u001b[36mpdf_parser_from_folder\u001b[0m:\u001b[36m101\u001b[0m - \u001b[1mParsing file: 80265_9.pdf\u001b[0m\n"
     ]
    },
    {
     "name": "stdout",
     "output_type": "stream",
     "text": [
      "Content extraction failed using Tika. Attempting conversion to TIFF.\n"
     ]
    },
    {
     "name": "stderr",
     "output_type": "stream",
     "text": [
      "\u001b[32m2024-01-31 10:45:56.592\u001b[0m | \u001b[1mINFO    \u001b[0m | \u001b[36msrc.pdfs_to_text.pdfs_parser\u001b[0m:\u001b[36mpdf_parser_from_folder\u001b[0m:\u001b[36m101\u001b[0m - \u001b[1mParsing file: 81236_1.pdf\u001b[0m\n"
     ]
    },
    {
     "name": "stdout",
     "output_type": "stream",
     "text": [
      "Content extraction failed using Tika. Attempting conversion to TIFF.\n"
     ]
    },
    {
     "name": "stderr",
     "output_type": "stream",
     "text": [
      "\u001b[32m2024-01-31 10:46:01.180\u001b[0m | \u001b[1mINFO    \u001b[0m | \u001b[36msrc.pdfs_to_text.pdfs_parser\u001b[0m:\u001b[36mpdf_parser_from_folder\u001b[0m:\u001b[36m101\u001b[0m - \u001b[1mParsing file: 81236_10.pdf\u001b[0m\n"
     ]
    },
    {
     "name": "stdout",
     "output_type": "stream",
     "text": [
      "Content extraction failed using Tika. Attempting conversion to TIFF.\n"
     ]
    },
    {
     "name": "stderr",
     "output_type": "stream",
     "text": [
      "\u001b[32m2024-01-31 10:46:05.547\u001b[0m | \u001b[1mINFO    \u001b[0m | \u001b[36msrc.pdfs_to_text.pdfs_parser\u001b[0m:\u001b[36mpdf_parser_from_folder\u001b[0m:\u001b[36m101\u001b[0m - \u001b[1mParsing file: 81236_11.pdf\u001b[0m\n"
     ]
    },
    {
     "name": "stdout",
     "output_type": "stream",
     "text": [
      "Content extraction failed using Tika. Attempting conversion to TIFF.\n"
     ]
    },
    {
     "name": "stderr",
     "output_type": "stream",
     "text": [
      "\u001b[32m2024-01-31 10:46:09.626\u001b[0m | \u001b[1mINFO    \u001b[0m | \u001b[36msrc.pdfs_to_text.pdfs_parser\u001b[0m:\u001b[36mpdf_parser_from_folder\u001b[0m:\u001b[36m101\u001b[0m - \u001b[1mParsing file: 81236_12.pdf\u001b[0m\n"
     ]
    },
    {
     "name": "stdout",
     "output_type": "stream",
     "text": [
      "Content extraction failed using Tika. Attempting conversion to TIFF.\n"
     ]
    },
    {
     "name": "stderr",
     "output_type": "stream",
     "text": [
      "\u001b[32m2024-01-31 10:46:13.608\u001b[0m | \u001b[1mINFO    \u001b[0m | \u001b[36msrc.pdfs_to_text.pdfs_parser\u001b[0m:\u001b[36mpdf_parser_from_folder\u001b[0m:\u001b[36m101\u001b[0m - \u001b[1mParsing file: 81236_13.pdf\u001b[0m\n"
     ]
    },
    {
     "name": "stdout",
     "output_type": "stream",
     "text": [
      "Content extraction failed using Tika. Attempting conversion to TIFF.\n"
     ]
    },
    {
     "name": "stderr",
     "output_type": "stream",
     "text": [
      "\u001b[32m2024-01-31 10:46:17.425\u001b[0m | \u001b[1mINFO    \u001b[0m | \u001b[36msrc.pdfs_to_text.pdfs_parser\u001b[0m:\u001b[36mpdf_parser_from_folder\u001b[0m:\u001b[36m101\u001b[0m - \u001b[1mParsing file: 81236_14.pdf\u001b[0m\n"
     ]
    },
    {
     "name": "stdout",
     "output_type": "stream",
     "text": [
      "Content extraction failed using Tika. Attempting conversion to TIFF.\n"
     ]
    },
    {
     "name": "stderr",
     "output_type": "stream",
     "text": [
      "\u001b[32m2024-01-31 10:46:21.626\u001b[0m | \u001b[1mINFO    \u001b[0m | \u001b[36msrc.pdfs_to_text.pdfs_parser\u001b[0m:\u001b[36mpdf_parser_from_folder\u001b[0m:\u001b[36m101\u001b[0m - \u001b[1mParsing file: 81236_15.pdf\u001b[0m\n"
     ]
    },
    {
     "name": "stdout",
     "output_type": "stream",
     "text": [
      "Content extraction failed using Tika. Attempting conversion to TIFF.\n"
     ]
    },
    {
     "name": "stderr",
     "output_type": "stream",
     "text": [
      "\u001b[32m2024-01-31 10:46:25.423\u001b[0m | \u001b[1mINFO    \u001b[0m | \u001b[36msrc.pdfs_to_text.pdfs_parser\u001b[0m:\u001b[36mpdf_parser_from_folder\u001b[0m:\u001b[36m101\u001b[0m - \u001b[1mParsing file: 81236_16.pdf\u001b[0m\n"
     ]
    },
    {
     "name": "stdout",
     "output_type": "stream",
     "text": [
      "Content extraction failed using Tika. Attempting conversion to TIFF.\n"
     ]
    },
    {
     "name": "stderr",
     "output_type": "stream",
     "text": [
      "\u001b[32m2024-01-31 10:46:29.979\u001b[0m | \u001b[1mINFO    \u001b[0m | \u001b[36msrc.pdfs_to_text.pdfs_parser\u001b[0m:\u001b[36mpdf_parser_from_folder\u001b[0m:\u001b[36m101\u001b[0m - \u001b[1mParsing file: 81236_17.pdf\u001b[0m\n"
     ]
    },
    {
     "name": "stdout",
     "output_type": "stream",
     "text": [
      "Content extraction failed using Tika. Attempting conversion to TIFF.\n"
     ]
    },
    {
     "name": "stderr",
     "output_type": "stream",
     "text": [
      "\u001b[32m2024-01-31 10:46:34.572\u001b[0m | \u001b[1mINFO    \u001b[0m | \u001b[36msrc.pdfs_to_text.pdfs_parser\u001b[0m:\u001b[36mpdf_parser_from_folder\u001b[0m:\u001b[36m101\u001b[0m - \u001b[1mParsing file: 81236_18.pdf\u001b[0m\n"
     ]
    },
    {
     "name": "stdout",
     "output_type": "stream",
     "text": [
      "Content extraction failed using Tika. Attempting conversion to TIFF.\n"
     ]
    },
    {
     "name": "stderr",
     "output_type": "stream",
     "text": [
      "\u001b[32m2024-01-31 10:46:39.257\u001b[0m | \u001b[1mINFO    \u001b[0m | \u001b[36msrc.pdfs_to_text.pdfs_parser\u001b[0m:\u001b[36mpdf_parser_from_folder\u001b[0m:\u001b[36m101\u001b[0m - \u001b[1mParsing file: 81236_19.pdf\u001b[0m\n"
     ]
    },
    {
     "name": "stdout",
     "output_type": "stream",
     "text": [
      "Content extraction failed using Tika. Attempting conversion to TIFF.\n"
     ]
    },
    {
     "name": "stderr",
     "output_type": "stream",
     "text": [
      "\u001b[32m2024-01-31 10:46:45.494\u001b[0m | \u001b[1mINFO    \u001b[0m | \u001b[36msrc.pdfs_to_text.pdfs_parser\u001b[0m:\u001b[36mpdf_parser_from_folder\u001b[0m:\u001b[36m101\u001b[0m - \u001b[1mParsing file: 81236_2.pdf\u001b[0m\n"
     ]
    },
    {
     "name": "stdout",
     "output_type": "stream",
     "text": [
      "Content extraction failed using Tika. Attempting conversion to TIFF.\n"
     ]
    },
    {
     "name": "stderr",
     "output_type": "stream",
     "text": [
      "\u001b[32m2024-01-31 10:46:49.890\u001b[0m | \u001b[1mINFO    \u001b[0m | \u001b[36msrc.pdfs_to_text.pdfs_parser\u001b[0m:\u001b[36mpdf_parser_from_folder\u001b[0m:\u001b[36m101\u001b[0m - \u001b[1mParsing file: 81236_20.pdf\u001b[0m\n"
     ]
    },
    {
     "name": "stdout",
     "output_type": "stream",
     "text": [
      "Content extraction failed using Tika. Attempting conversion to TIFF.\n"
     ]
    },
    {
     "name": "stderr",
     "output_type": "stream",
     "text": [
      "\u001b[32m2024-01-31 10:46:55.338\u001b[0m | \u001b[1mINFO    \u001b[0m | \u001b[36msrc.pdfs_to_text.pdfs_parser\u001b[0m:\u001b[36mpdf_parser_from_folder\u001b[0m:\u001b[36m101\u001b[0m - \u001b[1mParsing file: 81236_21.pdf\u001b[0m\n"
     ]
    },
    {
     "name": "stdout",
     "output_type": "stream",
     "text": [
      "Content extraction failed using Tika. Attempting conversion to TIFF.\n"
     ]
    },
    {
     "name": "stderr",
     "output_type": "stream",
     "text": [
      "\u001b[32m2024-01-31 10:47:01.092\u001b[0m | \u001b[1mINFO    \u001b[0m | \u001b[36msrc.pdfs_to_text.pdfs_parser\u001b[0m:\u001b[36mpdf_parser_from_folder\u001b[0m:\u001b[36m101\u001b[0m - \u001b[1mParsing file: 81236_22.pdf\u001b[0m\n"
     ]
    },
    {
     "name": "stdout",
     "output_type": "stream",
     "text": [
      "Content extraction failed using Tika. Attempting conversion to TIFF.\n"
     ]
    },
    {
     "name": "stderr",
     "output_type": "stream",
     "text": [
      "\u001b[32m2024-01-31 10:47:05.732\u001b[0m | \u001b[1mINFO    \u001b[0m | \u001b[36msrc.pdfs_to_text.pdfs_parser\u001b[0m:\u001b[36mpdf_parser_from_folder\u001b[0m:\u001b[36m101\u001b[0m - \u001b[1mParsing file: 81236_23.pdf\u001b[0m\n"
     ]
    },
    {
     "name": "stdout",
     "output_type": "stream",
     "text": [
      "Content extraction failed using Tika. Attempting conversion to TIFF.\n"
     ]
    },
    {
     "name": "stderr",
     "output_type": "stream",
     "text": [
      "\u001b[32m2024-01-31 10:47:10.969\u001b[0m | \u001b[1mINFO    \u001b[0m | \u001b[36msrc.pdfs_to_text.pdfs_parser\u001b[0m:\u001b[36mpdf_parser_from_folder\u001b[0m:\u001b[36m101\u001b[0m - \u001b[1mParsing file: 81236_24.pdf\u001b[0m\n"
     ]
    },
    {
     "name": "stdout",
     "output_type": "stream",
     "text": [
      "Content extraction failed using Tika. Attempting conversion to TIFF.\n"
     ]
    },
    {
     "name": "stderr",
     "output_type": "stream",
     "text": [
      "\u001b[32m2024-01-31 10:47:16.607\u001b[0m | \u001b[1mINFO    \u001b[0m | \u001b[36msrc.pdfs_to_text.pdfs_parser\u001b[0m:\u001b[36mpdf_parser_from_folder\u001b[0m:\u001b[36m101\u001b[0m - \u001b[1mParsing file: 81236_25.pdf\u001b[0m\n"
     ]
    },
    {
     "name": "stdout",
     "output_type": "stream",
     "text": [
      "Content extraction failed using Tika. Attempting conversion to TIFF.\n"
     ]
    },
    {
     "name": "stderr",
     "output_type": "stream",
     "text": [
      "\u001b[32m2024-01-31 10:47:22.059\u001b[0m | \u001b[1mINFO    \u001b[0m | \u001b[36msrc.pdfs_to_text.pdfs_parser\u001b[0m:\u001b[36mpdf_parser_from_folder\u001b[0m:\u001b[36m101\u001b[0m - \u001b[1mParsing file: 81236_26.pdf\u001b[0m\n"
     ]
    },
    {
     "name": "stdout",
     "output_type": "stream",
     "text": [
      "Content extraction failed using Tika. Attempting conversion to TIFF.\n"
     ]
    },
    {
     "name": "stderr",
     "output_type": "stream",
     "text": [
      "\u001b[32m2024-01-31 10:47:26.614\u001b[0m | \u001b[1mINFO    \u001b[0m | \u001b[36msrc.pdfs_to_text.pdfs_parser\u001b[0m:\u001b[36mpdf_parser_from_folder\u001b[0m:\u001b[36m101\u001b[0m - \u001b[1mParsing file: 81236_27.pdf\u001b[0m\n"
     ]
    },
    {
     "name": "stdout",
     "output_type": "stream",
     "text": [
      "Content extraction failed using Tika. Attempting conversion to TIFF.\n"
     ]
    },
    {
     "name": "stderr",
     "output_type": "stream",
     "text": [
      "\u001b[32m2024-01-31 10:47:30.998\u001b[0m | \u001b[1mINFO    \u001b[0m | \u001b[36msrc.pdfs_to_text.pdfs_parser\u001b[0m:\u001b[36mpdf_parser_from_folder\u001b[0m:\u001b[36m101\u001b[0m - \u001b[1mParsing file: 81236_28.pdf\u001b[0m\n"
     ]
    },
    {
     "name": "stdout",
     "output_type": "stream",
     "text": [
      "Content extraction failed using Tika. Attempting conversion to TIFF.\n"
     ]
    },
    {
     "name": "stderr",
     "output_type": "stream",
     "text": [
      "\u001b[32m2024-01-31 10:47:35.465\u001b[0m | \u001b[1mINFO    \u001b[0m | \u001b[36msrc.pdfs_to_text.pdfs_parser\u001b[0m:\u001b[36mpdf_parser_from_folder\u001b[0m:\u001b[36m101\u001b[0m - \u001b[1mParsing file: 81236_29.pdf\u001b[0m\n"
     ]
    },
    {
     "name": "stdout",
     "output_type": "stream",
     "text": [
      "Content extraction failed using Tika. Attempting conversion to TIFF.\n"
     ]
    },
    {
     "name": "stderr",
     "output_type": "stream",
     "text": [
      "\u001b[32m2024-01-31 10:47:43.114\u001b[0m | \u001b[1mINFO    \u001b[0m | \u001b[36msrc.pdfs_to_text.pdfs_parser\u001b[0m:\u001b[36mpdf_parser_from_folder\u001b[0m:\u001b[36m101\u001b[0m - \u001b[1mParsing file: 81236_3.pdf\u001b[0m\n"
     ]
    },
    {
     "name": "stdout",
     "output_type": "stream",
     "text": [
      "Content extraction failed using Tika. Attempting conversion to TIFF.\n"
     ]
    },
    {
     "name": "stderr",
     "output_type": "stream",
     "text": [
      "\u001b[32m2024-01-31 10:47:47.353\u001b[0m | \u001b[1mINFO    \u001b[0m | \u001b[36msrc.pdfs_to_text.pdfs_parser\u001b[0m:\u001b[36mpdf_parser_from_folder\u001b[0m:\u001b[36m101\u001b[0m - \u001b[1mParsing file: 81236_30.pdf\u001b[0m\n"
     ]
    },
    {
     "name": "stdout",
     "output_type": "stream",
     "text": [
      "Content extraction failed using Tika. Attempting conversion to TIFF.\n"
     ]
    },
    {
     "name": "stderr",
     "output_type": "stream",
     "text": [
      "\u001b[32m2024-01-31 10:47:52.179\u001b[0m | \u001b[1mINFO    \u001b[0m | \u001b[36msrc.pdfs_to_text.pdfs_parser\u001b[0m:\u001b[36mpdf_parser_from_folder\u001b[0m:\u001b[36m101\u001b[0m - \u001b[1mParsing file: 81236_31.pdf\u001b[0m\n"
     ]
    },
    {
     "name": "stdout",
     "output_type": "stream",
     "text": [
      "Content extraction failed using Tika. Attempting conversion to TIFF.\n"
     ]
    },
    {
     "name": "stderr",
     "output_type": "stream",
     "text": [
      "\u001b[32m2024-01-31 10:47:56.710\u001b[0m | \u001b[1mINFO    \u001b[0m | \u001b[36msrc.pdfs_to_text.pdfs_parser\u001b[0m:\u001b[36mpdf_parser_from_folder\u001b[0m:\u001b[36m101\u001b[0m - \u001b[1mParsing file: 81236_32.pdf\u001b[0m\n"
     ]
    },
    {
     "name": "stdout",
     "output_type": "stream",
     "text": [
      "Content extraction failed using Tika. Attempting conversion to TIFF.\n"
     ]
    },
    {
     "name": "stderr",
     "output_type": "stream",
     "text": [
      "\u001b[32m2024-01-31 10:48:01.331\u001b[0m | \u001b[1mINFO    \u001b[0m | \u001b[36msrc.pdfs_to_text.pdfs_parser\u001b[0m:\u001b[36mpdf_parser_from_folder\u001b[0m:\u001b[36m101\u001b[0m - \u001b[1mParsing file: 81236_33.pdf\u001b[0m\n"
     ]
    },
    {
     "name": "stdout",
     "output_type": "stream",
     "text": [
      "Content extraction failed using Tika. Attempting conversion to TIFF.\n"
     ]
    },
    {
     "name": "stderr",
     "output_type": "stream",
     "text": [
      "\u001b[32m2024-01-31 10:48:06.344\u001b[0m | \u001b[1mINFO    \u001b[0m | \u001b[36msrc.pdfs_to_text.pdfs_parser\u001b[0m:\u001b[36mpdf_parser_from_folder\u001b[0m:\u001b[36m101\u001b[0m - \u001b[1mParsing file: 81236_34.pdf\u001b[0m\n"
     ]
    },
    {
     "name": "stdout",
     "output_type": "stream",
     "text": [
      "Content extraction failed using Tika. Attempting conversion to TIFF.\n"
     ]
    },
    {
     "name": "stderr",
     "output_type": "stream",
     "text": [
      "\u001b[32m2024-01-31 10:48:10.794\u001b[0m | \u001b[1mINFO    \u001b[0m | \u001b[36msrc.pdfs_to_text.pdfs_parser\u001b[0m:\u001b[36mpdf_parser_from_folder\u001b[0m:\u001b[36m101\u001b[0m - \u001b[1mParsing file: 81236_35.pdf\u001b[0m\n"
     ]
    },
    {
     "name": "stdout",
     "output_type": "stream",
     "text": [
      "Content extraction failed using Tika. Attempting conversion to TIFF.\n"
     ]
    },
    {
     "name": "stderr",
     "output_type": "stream",
     "text": [
      "\u001b[32m2024-01-31 10:48:15.187\u001b[0m | \u001b[1mINFO    \u001b[0m | \u001b[36msrc.pdfs_to_text.pdfs_parser\u001b[0m:\u001b[36mpdf_parser_from_folder\u001b[0m:\u001b[36m101\u001b[0m - \u001b[1mParsing file: 81236_36.pdf\u001b[0m\n"
     ]
    },
    {
     "name": "stdout",
     "output_type": "stream",
     "text": [
      "Content extraction failed using Tika. Attempting conversion to TIFF.\n"
     ]
    },
    {
     "name": "stderr",
     "output_type": "stream",
     "text": [
      "\u001b[32m2024-01-31 10:48:20.007\u001b[0m | \u001b[1mINFO    \u001b[0m | \u001b[36msrc.pdfs_to_text.pdfs_parser\u001b[0m:\u001b[36mpdf_parser_from_folder\u001b[0m:\u001b[36m101\u001b[0m - \u001b[1mParsing file: 81236_37.pdf\u001b[0m\n"
     ]
    },
    {
     "name": "stdout",
     "output_type": "stream",
     "text": [
      "Content extraction failed using Tika. Attempting conversion to TIFF.\n"
     ]
    },
    {
     "name": "stderr",
     "output_type": "stream",
     "text": [
      "\u001b[32m2024-01-31 10:48:24.522\u001b[0m | \u001b[1mINFO    \u001b[0m | \u001b[36msrc.pdfs_to_text.pdfs_parser\u001b[0m:\u001b[36mpdf_parser_from_folder\u001b[0m:\u001b[36m101\u001b[0m - \u001b[1mParsing file: 81236_38.pdf\u001b[0m\n"
     ]
    },
    {
     "name": "stdout",
     "output_type": "stream",
     "text": [
      "Content extraction failed using Tika. Attempting conversion to TIFF.\n"
     ]
    },
    {
     "name": "stderr",
     "output_type": "stream",
     "text": [
      "\u001b[32m2024-01-31 10:48:29.012\u001b[0m | \u001b[1mINFO    \u001b[0m | \u001b[36msrc.pdfs_to_text.pdfs_parser\u001b[0m:\u001b[36mpdf_parser_from_folder\u001b[0m:\u001b[36m101\u001b[0m - \u001b[1mParsing file: 81236_39.pdf\u001b[0m\n"
     ]
    },
    {
     "name": "stdout",
     "output_type": "stream",
     "text": [
      "Content extraction failed using Tika. Attempting conversion to TIFF.\n"
     ]
    },
    {
     "name": "stderr",
     "output_type": "stream",
     "text": [
      "\u001b[32m2024-01-31 10:48:33.642\u001b[0m | \u001b[1mINFO    \u001b[0m | \u001b[36msrc.pdfs_to_text.pdfs_parser\u001b[0m:\u001b[36mpdf_parser_from_folder\u001b[0m:\u001b[36m101\u001b[0m - \u001b[1mParsing file: 81236_4.pdf\u001b[0m\n"
     ]
    },
    {
     "name": "stdout",
     "output_type": "stream",
     "text": [
      "Content extraction failed using Tika. Attempting conversion to TIFF.\n"
     ]
    },
    {
     "name": "stderr",
     "output_type": "stream",
     "text": [
      "\u001b[32m2024-01-31 10:48:37.943\u001b[0m | \u001b[1mINFO    \u001b[0m | \u001b[36msrc.pdfs_to_text.pdfs_parser\u001b[0m:\u001b[36mpdf_parser_from_folder\u001b[0m:\u001b[36m101\u001b[0m - \u001b[1mParsing file: 81236_40.pdf\u001b[0m\n"
     ]
    },
    {
     "name": "stdout",
     "output_type": "stream",
     "text": [
      "Content extraction failed using Tika. Attempting conversion to TIFF.\n"
     ]
    },
    {
     "name": "stderr",
     "output_type": "stream",
     "text": [
      "\u001b[32m2024-01-31 10:48:42.050\u001b[0m | \u001b[1mINFO    \u001b[0m | \u001b[36msrc.pdfs_to_text.pdfs_parser\u001b[0m:\u001b[36mpdf_parser_from_folder\u001b[0m:\u001b[36m101\u001b[0m - \u001b[1mParsing file: 81236_41.pdf\u001b[0m\n"
     ]
    },
    {
     "name": "stdout",
     "output_type": "stream",
     "text": [
      "Content extraction failed using Tika. Attempting conversion to TIFF.\n"
     ]
    },
    {
     "name": "stderr",
     "output_type": "stream",
     "text": [
      "\u001b[32m2024-01-31 10:48:46.538\u001b[0m | \u001b[1mINFO    \u001b[0m | \u001b[36msrc.pdfs_to_text.pdfs_parser\u001b[0m:\u001b[36mpdf_parser_from_folder\u001b[0m:\u001b[36m101\u001b[0m - \u001b[1mParsing file: 81236_42.pdf\u001b[0m\n"
     ]
    },
    {
     "name": "stdout",
     "output_type": "stream",
     "text": [
      "Content extraction failed using Tika. Attempting conversion to TIFF.\n"
     ]
    },
    {
     "name": "stderr",
     "output_type": "stream",
     "text": [
      "\u001b[32m2024-01-31 10:48:51.001\u001b[0m | \u001b[1mINFO    \u001b[0m | \u001b[36msrc.pdfs_to_text.pdfs_parser\u001b[0m:\u001b[36mpdf_parser_from_folder\u001b[0m:\u001b[36m101\u001b[0m - \u001b[1mParsing file: 81236_43.pdf\u001b[0m\n"
     ]
    },
    {
     "name": "stdout",
     "output_type": "stream",
     "text": [
      "Content extraction failed using Tika. Attempting conversion to TIFF.\n"
     ]
    },
    {
     "name": "stderr",
     "output_type": "stream",
     "text": [
      "\u001b[32m2024-01-31 10:48:55.981\u001b[0m | \u001b[1mINFO    \u001b[0m | \u001b[36msrc.pdfs_to_text.pdfs_parser\u001b[0m:\u001b[36mpdf_parser_from_folder\u001b[0m:\u001b[36m101\u001b[0m - \u001b[1mParsing file: 81236_44.pdf\u001b[0m\n"
     ]
    },
    {
     "name": "stdout",
     "output_type": "stream",
     "text": [
      "Content extraction failed using Tika. Attempting conversion to TIFF.\n"
     ]
    },
    {
     "name": "stderr",
     "output_type": "stream",
     "text": [
      "\u001b[32m2024-01-31 10:49:00.756\u001b[0m | \u001b[1mINFO    \u001b[0m | \u001b[36msrc.pdfs_to_text.pdfs_parser\u001b[0m:\u001b[36mpdf_parser_from_folder\u001b[0m:\u001b[36m101\u001b[0m - \u001b[1mParsing file: 81236_45.pdf\u001b[0m\n"
     ]
    },
    {
     "name": "stdout",
     "output_type": "stream",
     "text": [
      "Content extraction failed using Tika. Attempting conversion to TIFF.\n"
     ]
    },
    {
     "name": "stderr",
     "output_type": "stream",
     "text": [
      "\u001b[32m2024-01-31 10:49:05.580\u001b[0m | \u001b[1mINFO    \u001b[0m | \u001b[36msrc.pdfs_to_text.pdfs_parser\u001b[0m:\u001b[36mpdf_parser_from_folder\u001b[0m:\u001b[36m101\u001b[0m - \u001b[1mParsing file: 81236_46.pdf\u001b[0m\n"
     ]
    },
    {
     "name": "stdout",
     "output_type": "stream",
     "text": [
      "Content extraction failed using Tika. Attempting conversion to TIFF.\n"
     ]
    },
    {
     "name": "stderr",
     "output_type": "stream",
     "text": [
      "\u001b[32m2024-01-31 10:49:09.723\u001b[0m | \u001b[1mINFO    \u001b[0m | \u001b[36msrc.pdfs_to_text.pdfs_parser\u001b[0m:\u001b[36mpdf_parser_from_folder\u001b[0m:\u001b[36m101\u001b[0m - \u001b[1mParsing file: 81236_47.pdf\u001b[0m\n"
     ]
    },
    {
     "name": "stdout",
     "output_type": "stream",
     "text": [
      "Content extraction failed using Tika. Attempting conversion to TIFF.\n"
     ]
    },
    {
     "name": "stderr",
     "output_type": "stream",
     "text": [
      "\u001b[32m2024-01-31 10:49:13.690\u001b[0m | \u001b[1mINFO    \u001b[0m | \u001b[36msrc.pdfs_to_text.pdfs_parser\u001b[0m:\u001b[36mpdf_parser_from_folder\u001b[0m:\u001b[36m101\u001b[0m - \u001b[1mParsing file: 81236_48.pdf\u001b[0m\n"
     ]
    },
    {
     "name": "stdout",
     "output_type": "stream",
     "text": [
      "Content extraction failed using Tika. Attempting conversion to TIFF.\n"
     ]
    },
    {
     "name": "stderr",
     "output_type": "stream",
     "text": [
      "\u001b[32m2024-01-31 10:49:19.298\u001b[0m | \u001b[1mINFO    \u001b[0m | \u001b[36msrc.pdfs_to_text.pdfs_parser\u001b[0m:\u001b[36mpdf_parser_from_folder\u001b[0m:\u001b[36m101\u001b[0m - \u001b[1mParsing file: 81236_49.pdf\u001b[0m\n"
     ]
    },
    {
     "name": "stdout",
     "output_type": "stream",
     "text": [
      "Content extraction failed using Tika. Attempting conversion to TIFF.\n"
     ]
    },
    {
     "name": "stderr",
     "output_type": "stream",
     "text": [
      "\u001b[32m2024-01-31 10:49:23.253\u001b[0m | \u001b[1mINFO    \u001b[0m | \u001b[36msrc.pdfs_to_text.pdfs_parser\u001b[0m:\u001b[36mpdf_parser_from_folder\u001b[0m:\u001b[36m101\u001b[0m - \u001b[1mParsing file: 81236_5.pdf\u001b[0m\n"
     ]
    },
    {
     "name": "stdout",
     "output_type": "stream",
     "text": [
      "Content extraction failed using Tika. Attempting conversion to TIFF.\n"
     ]
    },
    {
     "name": "stderr",
     "output_type": "stream",
     "text": [
      "\u001b[32m2024-01-31 10:49:27.740\u001b[0m | \u001b[1mINFO    \u001b[0m | \u001b[36msrc.pdfs_to_text.pdfs_parser\u001b[0m:\u001b[36mpdf_parser_from_folder\u001b[0m:\u001b[36m101\u001b[0m - \u001b[1mParsing file: 81236_50.pdf\u001b[0m\n"
     ]
    },
    {
     "name": "stdout",
     "output_type": "stream",
     "text": [
      "Content extraction failed using Tika. Attempting conversion to TIFF.\n"
     ]
    },
    {
     "name": "stderr",
     "output_type": "stream",
     "text": [
      "\u001b[32m2024-01-31 10:49:31.800\u001b[0m | \u001b[1mINFO    \u001b[0m | \u001b[36msrc.pdfs_to_text.pdfs_parser\u001b[0m:\u001b[36mpdf_parser_from_folder\u001b[0m:\u001b[36m101\u001b[0m - \u001b[1mParsing file: 81236_51.pdf\u001b[0m\n"
     ]
    },
    {
     "name": "stdout",
     "output_type": "stream",
     "text": [
      "Content extraction failed using Tika. Attempting conversion to TIFF.\n"
     ]
    },
    {
     "name": "stderr",
     "output_type": "stream",
     "text": [
      "\u001b[32m2024-01-31 10:49:37.036\u001b[0m | \u001b[1mINFO    \u001b[0m | \u001b[36msrc.pdfs_to_text.pdfs_parser\u001b[0m:\u001b[36mpdf_parser_from_folder\u001b[0m:\u001b[36m101\u001b[0m - \u001b[1mParsing file: 81236_52.pdf\u001b[0m\n"
     ]
    },
    {
     "name": "stdout",
     "output_type": "stream",
     "text": [
      "Content extraction failed using Tika. Attempting conversion to TIFF.\n"
     ]
    },
    {
     "name": "stderr",
     "output_type": "stream",
     "text": [
      "\u001b[32m2024-01-31 10:49:42.312\u001b[0m | \u001b[1mINFO    \u001b[0m | \u001b[36msrc.pdfs_to_text.pdfs_parser\u001b[0m:\u001b[36mpdf_parser_from_folder\u001b[0m:\u001b[36m101\u001b[0m - \u001b[1mParsing file: 81236_6.pdf\u001b[0m\n"
     ]
    },
    {
     "name": "stdout",
     "output_type": "stream",
     "text": [
      "Content extraction failed using Tika. Attempting conversion to TIFF.\n"
     ]
    },
    {
     "name": "stderr",
     "output_type": "stream",
     "text": [
      "\u001b[32m2024-01-31 10:49:46.199\u001b[0m | \u001b[1mINFO    \u001b[0m | \u001b[36msrc.pdfs_to_text.pdfs_parser\u001b[0m:\u001b[36mpdf_parser_from_folder\u001b[0m:\u001b[36m101\u001b[0m - \u001b[1mParsing file: 81236_7.pdf\u001b[0m\n"
     ]
    },
    {
     "name": "stdout",
     "output_type": "stream",
     "text": [
      "Content extraction failed using Tika. Attempting conversion to TIFF.\n"
     ]
    },
    {
     "name": "stderr",
     "output_type": "stream",
     "text": [
      "\u001b[32m2024-01-31 10:49:50.230\u001b[0m | \u001b[1mINFO    \u001b[0m | \u001b[36msrc.pdfs_to_text.pdfs_parser\u001b[0m:\u001b[36mpdf_parser_from_folder\u001b[0m:\u001b[36m101\u001b[0m - \u001b[1mParsing file: 81236_8.pdf\u001b[0m\n"
     ]
    },
    {
     "name": "stdout",
     "output_type": "stream",
     "text": [
      "Content extraction failed using Tika. Attempting conversion to TIFF.\n"
     ]
    },
    {
     "name": "stderr",
     "output_type": "stream",
     "text": [
      "\u001b[32m2024-01-31 10:49:54.485\u001b[0m | \u001b[1mINFO    \u001b[0m | \u001b[36msrc.pdfs_to_text.pdfs_parser\u001b[0m:\u001b[36mpdf_parser_from_folder\u001b[0m:\u001b[36m101\u001b[0m - \u001b[1mParsing file: 81236_9.pdf\u001b[0m\n"
     ]
    },
    {
     "name": "stdout",
     "output_type": "stream",
     "text": [
      "Content extraction failed using Tika. Attempting conversion to TIFF.\n"
     ]
    },
    {
     "name": "stderr",
     "output_type": "stream",
     "text": [
      "\u001b[32m2024-01-31 10:50:03.386\u001b[0m | \u001b[1mINFO    \u001b[0m | \u001b[36msrc.pdfs_to_text.pdfs_parser\u001b[0m:\u001b[36mpdf_parser_from_folder\u001b[0m:\u001b[36m101\u001b[0m - \u001b[1mParsing file: 9030_1.pdf\u001b[0m\n"
     ]
    },
    {
     "name": "stdout",
     "output_type": "stream",
     "text": [
      "Content extraction failed using Tika. Attempting conversion to TIFF.\n"
     ]
    },
    {
     "name": "stderr",
     "output_type": "stream",
     "text": [
      "\u001b[32m2024-01-31 10:50:15.825\u001b[0m | \u001b[1mINFO    \u001b[0m | \u001b[36msrc.pdfs_to_text.pdfs_parser\u001b[0m:\u001b[36mpdf_parser_from_folder\u001b[0m:\u001b[36m112\u001b[0m - \u001b[1mParsing done.\u001b[0m\n"
     ]
    }
   ],
   "source": [
    "parsed_pdfs_df = pdfs_parser.pdf_parser_from_folder(folder_path=BP_PDF_DIR)"
   ]
  },
  {
   "cell_type": "code",
   "execution_count": 4,
   "metadata": {},
   "outputs": [],
   "source": [
    "parsed_pdfs_json = parsed_pdfs_df.to_json(orient='records')"
   ]
  },
  {
   "cell_type": "code",
   "execution_count": 5,
   "metadata": {},
   "outputs": [],
   "source": [
    "with open(BP_TEXT_FILE_PATH_JSON, 'w') as outputfile:\n",
    "    outputfile.write(parsed_pdfs_json)"
   ]
  },
  {
   "cell_type": "markdown",
   "metadata": {},
   "source": [
    "As a result, this reads all PDFs in the specified folder, parses them with OCR and outputs the results of the content to a JSON in the defined path. "
   ]
  }
 ],
 "metadata": {
  "kernelspec": {
   "display_name": "land-sealing-dssgx",
   "language": "python",
   "name": "python3"
  },
  "language_info": {
   "codemirror_mode": {
    "name": "ipython",
    "version": 3
   },
   "file_extension": ".py",
   "mimetype": "text/x-python",
   "name": "python",
   "nbconvert_exporter": "python",
   "pygments_lexer": "ipython3",
   "version": "3.11.4"
  }
 },
 "nbformat": 4,
 "nbformat_minor": 2
}
