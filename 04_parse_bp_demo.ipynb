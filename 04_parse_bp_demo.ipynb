{
 "cells": [
  {
   "cell_type": "code",
   "execution_count": 1,
   "metadata": {},
   "outputs": [],
   "source": [
    "from src.pdfs_to_text import pdfs_parser"
   ]
  },
  {
   "cell_type": "markdown",
   "metadata": {},
   "source": [
    "# Parsing PDF content\n",
    "\n",
    "Once we have the PDFs downloaded it is necessary to parse the content into text so we can analyze it. First:\n",
    "\n",
    "- Assign to `BP_PDF_DIR` the directory where you have all the PDFs downloaded.\n",
    "- Change `BP_TEXT_FILE_PATH_JSON` to the path and file name you want the output to be saved as."
   ]
  },
  {
   "cell_type": "code",
   "execution_count": 2,
   "metadata": {},
   "outputs": [],
   "source": [
    "BP_PDF_DIR = 'data/proc/building_plans_sample/split_pdf'\n",
    "BP_TEXT_FILE_PATH_JSON = 'data/proc/building_plans_sample/bp_text.json'"
   ]
  },
  {
   "cell_type": "code",
   "execution_count": 3,
   "metadata": {},
   "outputs": [
    {
     "name": "stderr",
     "output_type": "stream",
     "text": [
      "\u001b[32m2024-01-30 12:12:29.695\u001b[0m | \u001b[1mINFO    \u001b[0m | \u001b[36msrc.pdfs_to_text.pdfs_parser\u001b[0m:\u001b[36mpdf_parser_from_folder\u001b[0m:\u001b[36m91\u001b[0m - \u001b[1mParsing file: 10530_1.pdf\u001b[0m\n"
     ]
    },
    {
     "name": "stderr",
     "output_type": "stream",
     "text": [
      "2024-01-30 12:12:31,915 [MainThread  ] [WARNI]  Failed to see startup log message; retrying...\n"
     ]
    },
    {
     "name": "stdout",
     "output_type": "stream",
     "text": [
      "Content extraction failed using Tika. Attempting conversion to TIFF.\n"
     ]
    },
    {
     "name": "stderr",
     "output_type": "stream",
     "text": [
      "\u001b[32m2024-01-30 12:12:59.645\u001b[0m | \u001b[1mINFO    \u001b[0m | \u001b[36msrc.pdfs_to_text.pdfs_parser\u001b[0m:\u001b[36mpdf_parser_from_folder\u001b[0m:\u001b[36m91\u001b[0m - \u001b[1mParsing file: 1234_1.pdf\u001b[0m\n"
     ]
    },
    {
     "name": "stdout",
     "output_type": "stream",
     "text": [
      "Content extraction failed using Tika. Attempting conversion to TIFF.\n"
     ]
    },
    {
     "name": "stderr",
     "output_type": "stream",
     "text": [
      "\u001b[32m2024-01-30 12:13:01.201\u001b[0m | \u001b[1mINFO    \u001b[0m | \u001b[36msrc.pdfs_to_text.pdfs_parser\u001b[0m:\u001b[36mpdf_parser_from_folder\u001b[0m:\u001b[36m91\u001b[0m - \u001b[1mParsing file: 1234_2.pdf\u001b[0m\n"
     ]
    },
    {
     "name": "stdout",
     "output_type": "stream",
     "text": [
      "Content extraction failed using Tika. Attempting conversion to TIFF.\n"
     ]
    },
    {
     "name": "stderr",
     "output_type": "stream",
     "text": [
      "\u001b[32m2024-01-30 12:13:02.157\u001b[0m | \u001b[1mINFO    \u001b[0m | \u001b[36msrc.pdfs_to_text.pdfs_parser\u001b[0m:\u001b[36mpdf_parser_from_folder\u001b[0m:\u001b[36m91\u001b[0m - \u001b[1mParsing file: 1234_3.pdf\u001b[0m\n"
     ]
    },
    {
     "name": "stdout",
     "output_type": "stream",
     "text": [
      "Content extraction failed using Tika. Attempting conversion to TIFF.\n"
     ]
    },
    {
     "name": "stderr",
     "output_type": "stream",
     "text": [
      "\u001b[32m2024-01-30 12:13:03.140\u001b[0m | \u001b[1mINFO    \u001b[0m | \u001b[36msrc.pdfs_to_text.pdfs_parser\u001b[0m:\u001b[36mpdf_parser_from_folder\u001b[0m:\u001b[36m91\u001b[0m - \u001b[1mParsing file: 1234_4.pdf\u001b[0m\n"
     ]
    },
    {
     "name": "stdout",
     "output_type": "stream",
     "text": [
      "Content extraction failed using Tika. Attempting conversion to TIFF.\n"
     ]
    },
    {
     "name": "stderr",
     "output_type": "stream",
     "text": [
      "\u001b[32m2024-01-30 12:13:04.124\u001b[0m | \u001b[1mINFO    \u001b[0m | \u001b[36msrc.pdfs_to_text.pdfs_parser\u001b[0m:\u001b[36mpdf_parser_from_folder\u001b[0m:\u001b[36m91\u001b[0m - \u001b[1mParsing file: 1234_5.pdf\u001b[0m\n"
     ]
    },
    {
     "name": "stdout",
     "output_type": "stream",
     "text": [
      "Content extraction failed using Tika. Attempting conversion to TIFF.\n"
     ]
    },
    {
     "name": "stderr",
     "output_type": "stream",
     "text": [
      "\u001b[32m2024-01-30 12:13:05.071\u001b[0m | \u001b[1mINFO    \u001b[0m | \u001b[36msrc.pdfs_to_text.pdfs_parser\u001b[0m:\u001b[36mpdf_parser_from_folder\u001b[0m:\u001b[36m91\u001b[0m - \u001b[1mParsing file: 1234_6.pdf\u001b[0m\n"
     ]
    },
    {
     "name": "stdout",
     "output_type": "stream",
     "text": [
      "Content extraction failed using Tika. Attempting conversion to TIFF.\n"
     ]
    },
    {
     "name": "stderr",
     "output_type": "stream",
     "text": [
      "\u001b[32m2024-01-30 12:13:06.093\u001b[0m | \u001b[1mINFO    \u001b[0m | \u001b[36msrc.pdfs_to_text.pdfs_parser\u001b[0m:\u001b[36mpdf_parser_from_folder\u001b[0m:\u001b[36m91\u001b[0m - \u001b[1mParsing file: 1234_7.pdf\u001b[0m\n"
     ]
    },
    {
     "name": "stdout",
     "output_type": "stream",
     "text": [
      "Content extraction failed using Tika. Attempting conversion to TIFF.\n"
     ]
    },
    {
     "name": "stderr",
     "output_type": "stream",
     "text": [
      "\u001b[32m2024-01-30 12:13:06.747\u001b[0m | \u001b[1mINFO    \u001b[0m | \u001b[36msrc.pdfs_to_text.pdfs_parser\u001b[0m:\u001b[36mpdf_parser_from_folder\u001b[0m:\u001b[36m91\u001b[0m - \u001b[1mParsing file: 1234_8.pdf\u001b[0m\n"
     ]
    },
    {
     "name": "stdout",
     "output_type": "stream",
     "text": [
      "Content extraction failed using Tika. Attempting conversion to TIFF.\n"
     ]
    },
    {
     "name": "stderr",
     "output_type": "stream",
     "text": [
      "\u001b[32m2024-01-30 12:13:07.728\u001b[0m | \u001b[1mINFO    \u001b[0m | \u001b[36msrc.pdfs_to_text.pdfs_parser\u001b[0m:\u001b[36mpdf_parser_from_folder\u001b[0m:\u001b[36m91\u001b[0m - \u001b[1mParsing file: 12510_1.pdf\u001b[0m\n"
     ]
    },
    {
     "name": "stdout",
     "output_type": "stream",
     "text": [
      "Content extraction failed using Tika. Attempting conversion to TIFF.\n"
     ]
    },
    {
     "name": "stderr",
     "output_type": "stream",
     "text": [
      "\u001b[32m2024-01-30 12:17:02.951\u001b[0m | \u001b[1mINFO    \u001b[0m | \u001b[36msrc.pdfs_to_text.pdfs_parser\u001b[0m:\u001b[36mpdf_parser_from_folder\u001b[0m:\u001b[36m91\u001b[0m - \u001b[1mParsing file: 20731_1.pdf\u001b[0m\n",
      "\u001b[32m2024-01-30 12:17:03.385\u001b[0m | \u001b[1mINFO    \u001b[0m | \u001b[36msrc.pdfs_to_text.pdfs_parser\u001b[0m:\u001b[36mpdf_parser_from_folder\u001b[0m:\u001b[36m91\u001b[0m - \u001b[1mParsing file: 20731_2.pdf\u001b[0m\n",
      "\u001b[32m2024-01-30 12:17:03.432\u001b[0m | \u001b[1mINFO    \u001b[0m | \u001b[36msrc.pdfs_to_text.pdfs_parser\u001b[0m:\u001b[36mpdf_parser_from_folder\u001b[0m:\u001b[36m91\u001b[0m - \u001b[1mParsing file: 22148_1.pdf\u001b[0m\n"
     ]
    },
    {
     "name": "stdout",
     "output_type": "stream",
     "text": [
      "Content extraction failed using Tika. Attempting conversion to TIFF.\n"
     ]
    },
    {
     "name": "stderr",
     "output_type": "stream",
     "text": [
      "\u001b[32m2024-01-30 12:17:06.319\u001b[0m | \u001b[1mINFO    \u001b[0m | \u001b[36msrc.pdfs_to_text.pdfs_parser\u001b[0m:\u001b[36mpdf_parser_from_folder\u001b[0m:\u001b[36m91\u001b[0m - \u001b[1mParsing file: 22148_2.pdf\u001b[0m\n"
     ]
    },
    {
     "name": "stdout",
     "output_type": "stream",
     "text": [
      "Content extraction failed using Tika. Attempting conversion to TIFF.\n"
     ]
    },
    {
     "name": "stderr",
     "output_type": "stream",
     "text": [
      "\u001b[32m2024-01-30 12:17:07.091\u001b[0m | \u001b[1mINFO    \u001b[0m | \u001b[36msrc.pdfs_to_text.pdfs_parser\u001b[0m:\u001b[36mpdf_parser_from_folder\u001b[0m:\u001b[36m91\u001b[0m - \u001b[1mParsing file: 23496_1.pdf\u001b[0m\n"
     ]
    },
    {
     "name": "stdout",
     "output_type": "stream",
     "text": [
      "Content extraction failed using Tika. Attempting conversion to TIFF.\n"
     ]
    },
    {
     "name": "stderr",
     "output_type": "stream",
     "text": [
      "\u001b[32m2024-01-30 12:17:19.018\u001b[0m | \u001b[1mINFO    \u001b[0m | \u001b[36msrc.pdfs_to_text.pdfs_parser\u001b[0m:\u001b[36mpdf_parser_from_folder\u001b[0m:\u001b[36m91\u001b[0m - \u001b[1mParsing file: 24428_1.pdf\u001b[0m\n"
     ]
    },
    {
     "name": "stdout",
     "output_type": "stream",
     "text": [
      "Content extraction failed using Tika. Attempting conversion to TIFF.\n"
     ]
    },
    {
     "name": "stderr",
     "output_type": "stream",
     "text": [
      "\u001b[32m2024-01-30 12:17:26.139\u001b[0m | \u001b[1mINFO    \u001b[0m | \u001b[36msrc.pdfs_to_text.pdfs_parser\u001b[0m:\u001b[36mpdf_parser_from_folder\u001b[0m:\u001b[36m91\u001b[0m - \u001b[1mParsing file: 26958_1.pdf\u001b[0m\n"
     ]
    },
    {
     "name": "stdout",
     "output_type": "stream",
     "text": [
      "Content extraction failed using Tika. Attempting conversion to TIFF.\n"
     ]
    },
    {
     "name": "stderr",
     "output_type": "stream",
     "text": [
      "\u001b[32m2024-01-30 12:17:28.316\u001b[0m | \u001b[1mINFO    \u001b[0m | \u001b[36msrc.pdfs_to_text.pdfs_parser\u001b[0m:\u001b[36mpdf_parser_from_folder\u001b[0m:\u001b[36m91\u001b[0m - \u001b[1mParsing file: 2936_1.pdf\u001b[0m\n"
     ]
    },
    {
     "name": "stdout",
     "output_type": "stream",
     "text": [
      "Content extraction failed using Tika. Attempting conversion to TIFF.\n"
     ]
    },
    {
     "name": "stderr",
     "output_type": "stream",
     "text": [
      "\u001b[32m2024-01-30 12:17:31.164\u001b[0m | \u001b[1mINFO    \u001b[0m | \u001b[36msrc.pdfs_to_text.pdfs_parser\u001b[0m:\u001b[36mpdf_parser_from_folder\u001b[0m:\u001b[36m91\u001b[0m - \u001b[1mParsing file: 2936_10.pdf\u001b[0m\n"
     ]
    },
    {
     "name": "stdout",
     "output_type": "stream",
     "text": [
      "Content extraction failed using Tika. Attempting conversion to TIFF.\n"
     ]
    },
    {
     "name": "stderr",
     "output_type": "stream",
     "text": [
      "\u001b[32m2024-01-30 12:17:32.018\u001b[0m | \u001b[1mINFO    \u001b[0m | \u001b[36msrc.pdfs_to_text.pdfs_parser\u001b[0m:\u001b[36mpdf_parser_from_folder\u001b[0m:\u001b[36m91\u001b[0m - \u001b[1mParsing file: 2936_11.pdf\u001b[0m\n"
     ]
    },
    {
     "name": "stdout",
     "output_type": "stream",
     "text": [
      "Content extraction failed using Tika. Attempting conversion to TIFF.\n"
     ]
    },
    {
     "name": "stderr",
     "output_type": "stream",
     "text": [
      "\u001b[32m2024-01-30 12:17:32.948\u001b[0m | \u001b[1mINFO    \u001b[0m | \u001b[36msrc.pdfs_to_text.pdfs_parser\u001b[0m:\u001b[36mpdf_parser_from_folder\u001b[0m:\u001b[36m91\u001b[0m - \u001b[1mParsing file: 2936_12.pdf\u001b[0m\n"
     ]
    },
    {
     "name": "stdout",
     "output_type": "stream",
     "text": [
      "Content extraction failed using Tika. Attempting conversion to TIFF.\n"
     ]
    },
    {
     "name": "stderr",
     "output_type": "stream",
     "text": [
      "\u001b[32m2024-01-30 12:17:33.845\u001b[0m | \u001b[1mINFO    \u001b[0m | \u001b[36msrc.pdfs_to_text.pdfs_parser\u001b[0m:\u001b[36mpdf_parser_from_folder\u001b[0m:\u001b[36m91\u001b[0m - \u001b[1mParsing file: 2936_13.pdf\u001b[0m\n"
     ]
    },
    {
     "name": "stdout",
     "output_type": "stream",
     "text": [
      "Content extraction failed using Tika. Attempting conversion to TIFF.\n"
     ]
    },
    {
     "name": "stderr",
     "output_type": "stream",
     "text": [
      "\u001b[32m2024-01-30 12:17:34.424\u001b[0m | \u001b[1mINFO    \u001b[0m | \u001b[36msrc.pdfs_to_text.pdfs_parser\u001b[0m:\u001b[36mpdf_parser_from_folder\u001b[0m:\u001b[36m91\u001b[0m - \u001b[1mParsing file: 2936_2.pdf\u001b[0m\n"
     ]
    },
    {
     "name": "stdout",
     "output_type": "stream",
     "text": [
      "Content extraction failed using Tika. Attempting conversion to TIFF.\n"
     ]
    },
    {
     "name": "stderr",
     "output_type": "stream",
     "text": [
      "\u001b[32m2024-01-30 12:17:34.985\u001b[0m | \u001b[1mINFO    \u001b[0m | \u001b[36msrc.pdfs_to_text.pdfs_parser\u001b[0m:\u001b[36mpdf_parser_from_folder\u001b[0m:\u001b[36m91\u001b[0m - \u001b[1mParsing file: 2936_3.pdf\u001b[0m\n"
     ]
    },
    {
     "name": "stdout",
     "output_type": "stream",
     "text": [
      "Content extraction failed using Tika. Attempting conversion to TIFF.\n"
     ]
    },
    {
     "name": "stderr",
     "output_type": "stream",
     "text": [
      "\u001b[32m2024-01-30 12:17:35.575\u001b[0m | \u001b[1mINFO    \u001b[0m | \u001b[36msrc.pdfs_to_text.pdfs_parser\u001b[0m:\u001b[36mpdf_parser_from_folder\u001b[0m:\u001b[36m91\u001b[0m - \u001b[1mParsing file: 2936_4.pdf\u001b[0m\n"
     ]
    },
    {
     "name": "stdout",
     "output_type": "stream",
     "text": [
      "Content extraction failed using Tika. Attempting conversion to TIFF.\n"
     ]
    },
    {
     "name": "stderr",
     "output_type": "stream",
     "text": [
      "\u001b[32m2024-01-30 12:17:36.107\u001b[0m | \u001b[1mINFO    \u001b[0m | \u001b[36msrc.pdfs_to_text.pdfs_parser\u001b[0m:\u001b[36mpdf_parser_from_folder\u001b[0m:\u001b[36m91\u001b[0m - \u001b[1mParsing file: 2936_5.pdf\u001b[0m\n"
     ]
    },
    {
     "name": "stdout",
     "output_type": "stream",
     "text": [
      "Content extraction failed using Tika. Attempting conversion to TIFF.\n"
     ]
    },
    {
     "name": "stderr",
     "output_type": "stream",
     "text": [
      "\u001b[32m2024-01-30 12:17:36.699\u001b[0m | \u001b[1mINFO    \u001b[0m | \u001b[36msrc.pdfs_to_text.pdfs_parser\u001b[0m:\u001b[36mpdf_parser_from_folder\u001b[0m:\u001b[36m91\u001b[0m - \u001b[1mParsing file: 2936_6.pdf\u001b[0m\n"
     ]
    },
    {
     "name": "stdout",
     "output_type": "stream",
     "text": [
      "Content extraction failed using Tika. Attempting conversion to TIFF.\n"
     ]
    },
    {
     "name": "stderr",
     "output_type": "stream",
     "text": [
      "\u001b[32m2024-01-30 12:17:37.276\u001b[0m | \u001b[1mINFO    \u001b[0m | \u001b[36msrc.pdfs_to_text.pdfs_parser\u001b[0m:\u001b[36mpdf_parser_from_folder\u001b[0m:\u001b[36m91\u001b[0m - \u001b[1mParsing file: 2936_7.pdf\u001b[0m\n"
     ]
    },
    {
     "name": "stdout",
     "output_type": "stream",
     "text": [
      "Content extraction failed using Tika. Attempting conversion to TIFF.\n"
     ]
    },
    {
     "name": "stderr",
     "output_type": "stream",
     "text": [
      "\u001b[32m2024-01-30 12:17:37.826\u001b[0m | \u001b[1mINFO    \u001b[0m | \u001b[36msrc.pdfs_to_text.pdfs_parser\u001b[0m:\u001b[36mpdf_parser_from_folder\u001b[0m:\u001b[36m91\u001b[0m - \u001b[1mParsing file: 2936_8.pdf\u001b[0m\n"
     ]
    },
    {
     "name": "stdout",
     "output_type": "stream",
     "text": [
      "Content extraction failed using Tika. Attempting conversion to TIFF.\n"
     ]
    },
    {
     "name": "stderr",
     "output_type": "stream",
     "text": [
      "\u001b[32m2024-01-30 12:17:38.388\u001b[0m | \u001b[1mINFO    \u001b[0m | \u001b[36msrc.pdfs_to_text.pdfs_parser\u001b[0m:\u001b[36mpdf_parser_from_folder\u001b[0m:\u001b[36m91\u001b[0m - \u001b[1mParsing file: 2936_9.pdf\u001b[0m\n"
     ]
    },
    {
     "name": "stdout",
     "output_type": "stream",
     "text": [
      "Content extraction failed using Tika. Attempting conversion to TIFF.\n"
     ]
    },
    {
     "name": "stderr",
     "output_type": "stream",
     "text": [
      "\u001b[32m2024-01-30 12:17:38.963\u001b[0m | \u001b[1mINFO    \u001b[0m | \u001b[36msrc.pdfs_to_text.pdfs_parser\u001b[0m:\u001b[36mpdf_parser_from_folder\u001b[0m:\u001b[36m91\u001b[0m - \u001b[1mParsing file: 30899_1.pdf\u001b[0m\n"
     ]
    },
    {
     "name": "stdout",
     "output_type": "stream",
     "text": [
      "Content extraction failed using Tika. Attempting conversion to TIFF.\n"
     ]
    },
    {
     "name": "stderr",
     "output_type": "stream",
     "text": [
      "\u001b[32m2024-01-30 12:17:40.202\u001b[0m | \u001b[1mINFO    \u001b[0m | \u001b[36msrc.pdfs_to_text.pdfs_parser\u001b[0m:\u001b[36mpdf_parser_from_folder\u001b[0m:\u001b[36m91\u001b[0m - \u001b[1mParsing file: 32671_1.pdf\u001b[0m\n"
     ]
    },
    {
     "name": "stdout",
     "output_type": "stream",
     "text": [
      "Content extraction failed using Tika. Attempting conversion to TIFF.\n"
     ]
    },
    {
     "name": "stderr",
     "output_type": "stream",
     "text": [
      "\u001b[32m2024-01-30 12:17:40.803\u001b[0m | \u001b[1mINFO    \u001b[0m | \u001b[36msrc.pdfs_to_text.pdfs_parser\u001b[0m:\u001b[36mpdf_parser_from_folder\u001b[0m:\u001b[36m91\u001b[0m - \u001b[1mParsing file: 32671_2.pdf\u001b[0m\n"
     ]
    },
    {
     "name": "stdout",
     "output_type": "stream",
     "text": [
      "Content extraction failed using Tika. Attempting conversion to TIFF.\n"
     ]
    },
    {
     "name": "stderr",
     "output_type": "stream",
     "text": [
      "\u001b[32m2024-01-30 12:17:41.438\u001b[0m | \u001b[1mINFO    \u001b[0m | \u001b[36msrc.pdfs_to_text.pdfs_parser\u001b[0m:\u001b[36mpdf_parser_from_folder\u001b[0m:\u001b[36m91\u001b[0m - \u001b[1mParsing file: 32671_3.pdf\u001b[0m\n"
     ]
    },
    {
     "name": "stdout",
     "output_type": "stream",
     "text": [
      "Content extraction failed using Tika. Attempting conversion to TIFF.\n"
     ]
    },
    {
     "name": "stderr",
     "output_type": "stream",
     "text": [
      "\u001b[32m2024-01-30 12:17:41.930\u001b[0m | \u001b[1mINFO    \u001b[0m | \u001b[36msrc.pdfs_to_text.pdfs_parser\u001b[0m:\u001b[36mpdf_parser_from_folder\u001b[0m:\u001b[36m91\u001b[0m - \u001b[1mParsing file: 32671_4.pdf\u001b[0m\n"
     ]
    },
    {
     "name": "stdout",
     "output_type": "stream",
     "text": [
      "Content extraction failed using Tika. Attempting conversion to TIFF.\n"
     ]
    },
    {
     "name": "stderr",
     "output_type": "stream",
     "text": [
      "\u001b[32m2024-01-30 12:17:42.544\u001b[0m | \u001b[1mINFO    \u001b[0m | \u001b[36msrc.pdfs_to_text.pdfs_parser\u001b[0m:\u001b[36mpdf_parser_from_folder\u001b[0m:\u001b[36m91\u001b[0m - \u001b[1mParsing file: 32671_5.pdf\u001b[0m\n"
     ]
    },
    {
     "name": "stdout",
     "output_type": "stream",
     "text": [
      "Content extraction failed using Tika. Attempting conversion to TIFF.\n"
     ]
    },
    {
     "name": "stderr",
     "output_type": "stream",
     "text": [
      "\u001b[32m2024-01-30 12:17:43.130\u001b[0m | \u001b[1mINFO    \u001b[0m | \u001b[36msrc.pdfs_to_text.pdfs_parser\u001b[0m:\u001b[36mpdf_parser_from_folder\u001b[0m:\u001b[36m91\u001b[0m - \u001b[1mParsing file: 3339_1.pdf\u001b[0m\n"
     ]
    },
    {
     "name": "stdout",
     "output_type": "stream",
     "text": [
      "Content extraction failed using Tika. Attempting conversion to TIFF.\n"
     ]
    },
    {
     "name": "stderr",
     "output_type": "stream",
     "text": [
      "\u001b[32m2024-01-30 12:17:44.962\u001b[0m | \u001b[1mINFO    \u001b[0m | \u001b[36msrc.pdfs_to_text.pdfs_parser\u001b[0m:\u001b[36mpdf_parser_from_folder\u001b[0m:\u001b[36m91\u001b[0m - \u001b[1mParsing file: 3339_2.pdf\u001b[0m\n"
     ]
    },
    {
     "name": "stdout",
     "output_type": "stream",
     "text": [
      "Content extraction failed using Tika. Attempting conversion to TIFF.\n"
     ]
    },
    {
     "name": "stderr",
     "output_type": "stream",
     "text": [
      "\u001b[32m2024-01-30 12:17:45.564\u001b[0m | \u001b[1mINFO    \u001b[0m | \u001b[36msrc.pdfs_to_text.pdfs_parser\u001b[0m:\u001b[36mpdf_parser_from_folder\u001b[0m:\u001b[36m91\u001b[0m - \u001b[1mParsing file: 3339_3.pdf\u001b[0m\n"
     ]
    },
    {
     "name": "stdout",
     "output_type": "stream",
     "text": [
      "Content extraction failed using Tika. Attempting conversion to TIFF.\n"
     ]
    },
    {
     "name": "stderr",
     "output_type": "stream",
     "text": [
      "\u001b[32m2024-01-30 12:17:46.116\u001b[0m | \u001b[1mINFO    \u001b[0m | \u001b[36msrc.pdfs_to_text.pdfs_parser\u001b[0m:\u001b[36mpdf_parser_from_folder\u001b[0m:\u001b[36m91\u001b[0m - \u001b[1mParsing file: 3339_4.pdf\u001b[0m\n"
     ]
    },
    {
     "name": "stdout",
     "output_type": "stream",
     "text": [
      "Content extraction failed using Tika. Attempting conversion to TIFF.\n"
     ]
    },
    {
     "name": "stderr",
     "output_type": "stream",
     "text": [
      "\u001b[32m2024-01-30 12:17:46.737\u001b[0m | \u001b[1mINFO    \u001b[0m | \u001b[36msrc.pdfs_to_text.pdfs_parser\u001b[0m:\u001b[36mpdf_parser_from_folder\u001b[0m:\u001b[36m91\u001b[0m - \u001b[1mParsing file: 3339_5.pdf\u001b[0m\n"
     ]
    },
    {
     "name": "stdout",
     "output_type": "stream",
     "text": [
      "Content extraction failed using Tika. Attempting conversion to TIFF.\n"
     ]
    },
    {
     "name": "stderr",
     "output_type": "stream",
     "text": [
      "\u001b[32m2024-01-30 12:17:47.308\u001b[0m | \u001b[1mINFO    \u001b[0m | \u001b[36msrc.pdfs_to_text.pdfs_parser\u001b[0m:\u001b[36mpdf_parser_from_folder\u001b[0m:\u001b[36m91\u001b[0m - \u001b[1mParsing file: 3339_6.pdf\u001b[0m\n"
     ]
    },
    {
     "name": "stdout",
     "output_type": "stream",
     "text": [
      "Content extraction failed using Tika. Attempting conversion to TIFF.\n"
     ]
    },
    {
     "name": "stderr",
     "output_type": "stream",
     "text": [
      "\u001b[32m2024-01-30 12:17:47.870\u001b[0m | \u001b[1mINFO    \u001b[0m | \u001b[36msrc.pdfs_to_text.pdfs_parser\u001b[0m:\u001b[36mpdf_parser_from_folder\u001b[0m:\u001b[36m91\u001b[0m - \u001b[1mParsing file: 38019_1.pdf\u001b[0m\n"
     ]
    },
    {
     "name": "stdout",
     "output_type": "stream",
     "text": [
      "Content extraction failed using Tika. Attempting conversion to TIFF.\n"
     ]
    },
    {
     "name": "stderr",
     "output_type": "stream",
     "text": [
      "\u001b[32m2024-01-30 12:17:49.036\u001b[0m | \u001b[1mINFO    \u001b[0m | \u001b[36msrc.pdfs_to_text.pdfs_parser\u001b[0m:\u001b[36mpdf_parser_from_folder\u001b[0m:\u001b[36m91\u001b[0m - \u001b[1mParsing file: 38256_1.pdf\u001b[0m\n"
     ]
    },
    {
     "name": "stdout",
     "output_type": "stream",
     "text": [
      "Content extraction failed using Tika. Attempting conversion to TIFF.\n"
     ]
    },
    {
     "name": "stderr",
     "output_type": "stream",
     "text": [
      "\u001b[32m2024-01-30 12:17:49.588\u001b[0m | \u001b[1mINFO    \u001b[0m | \u001b[36msrc.pdfs_to_text.pdfs_parser\u001b[0m:\u001b[36mpdf_parser_from_folder\u001b[0m:\u001b[36m91\u001b[0m - \u001b[1mParsing file: 39034_1.pdf\u001b[0m\n",
      "\u001b[32m2024-01-30 12:17:49.648\u001b[0m | \u001b[1mINFO    \u001b[0m | \u001b[36msrc.pdfs_to_text.pdfs_parser\u001b[0m:\u001b[36mpdf_parser_from_folder\u001b[0m:\u001b[36m91\u001b[0m - \u001b[1mParsing file: 39034_10.pdf\u001b[0m\n",
      "\u001b[32m2024-01-30 12:17:49.672\u001b[0m | \u001b[1mINFO    \u001b[0m | \u001b[36msrc.pdfs_to_text.pdfs_parser\u001b[0m:\u001b[36mpdf_parser_from_folder\u001b[0m:\u001b[36m91\u001b[0m - \u001b[1mParsing file: 39034_2.pdf\u001b[0m\n",
      "\u001b[32m2024-01-30 12:17:49.712\u001b[0m | \u001b[1mINFO    \u001b[0m | \u001b[36msrc.pdfs_to_text.pdfs_parser\u001b[0m:\u001b[36mpdf_parser_from_folder\u001b[0m:\u001b[36m91\u001b[0m - \u001b[1mParsing file: 39034_3.pdf\u001b[0m\n",
      "\u001b[32m2024-01-30 12:17:49.732\u001b[0m | \u001b[1mINFO    \u001b[0m | \u001b[36msrc.pdfs_to_text.pdfs_parser\u001b[0m:\u001b[36mpdf_parser_from_folder\u001b[0m:\u001b[36m91\u001b[0m - \u001b[1mParsing file: 39034_4.pdf\u001b[0m\n",
      "\u001b[32m2024-01-30 12:17:49.794\u001b[0m | \u001b[1mINFO    \u001b[0m | \u001b[36msrc.pdfs_to_text.pdfs_parser\u001b[0m:\u001b[36mpdf_parser_from_folder\u001b[0m:\u001b[36m91\u001b[0m - \u001b[1mParsing file: 39034_5.pdf\u001b[0m\n",
      "\u001b[32m2024-01-30 12:17:49.813\u001b[0m | \u001b[1mINFO    \u001b[0m | \u001b[36msrc.pdfs_to_text.pdfs_parser\u001b[0m:\u001b[36mpdf_parser_from_folder\u001b[0m:\u001b[36m91\u001b[0m - \u001b[1mParsing file: 39034_6.pdf\u001b[0m\n",
      "\u001b[32m2024-01-30 12:17:49.848\u001b[0m | \u001b[1mINFO    \u001b[0m | \u001b[36msrc.pdfs_to_text.pdfs_parser\u001b[0m:\u001b[36mpdf_parser_from_folder\u001b[0m:\u001b[36m91\u001b[0m - \u001b[1mParsing file: 39034_7.pdf\u001b[0m\n",
      "\u001b[32m2024-01-30 12:17:49.866\u001b[0m | \u001b[1mINFO    \u001b[0m | \u001b[36msrc.pdfs_to_text.pdfs_parser\u001b[0m:\u001b[36mpdf_parser_from_folder\u001b[0m:\u001b[36m91\u001b[0m - \u001b[1mParsing file: 39034_8.pdf\u001b[0m\n",
      "\u001b[32m2024-01-30 12:17:49.887\u001b[0m | \u001b[1mINFO    \u001b[0m | \u001b[36msrc.pdfs_to_text.pdfs_parser\u001b[0m:\u001b[36mpdf_parser_from_folder\u001b[0m:\u001b[36m91\u001b[0m - \u001b[1mParsing file: 39034_9.pdf\u001b[0m\n",
      "\u001b[32m2024-01-30 12:17:49.930\u001b[0m | \u001b[1mINFO    \u001b[0m | \u001b[36msrc.pdfs_to_text.pdfs_parser\u001b[0m:\u001b[36mpdf_parser_from_folder\u001b[0m:\u001b[36m91\u001b[0m - \u001b[1mParsing file: 40044_1.pdf\u001b[0m\n"
     ]
    },
    {
     "name": "stdout",
     "output_type": "stream",
     "text": [
      "Content extraction failed using Tika. Attempting conversion to TIFF.\n"
     ]
    },
    {
     "name": "stderr",
     "output_type": "stream",
     "text": [
      "\u001b[32m2024-01-30 12:17:52.905\u001b[0m | \u001b[1mINFO    \u001b[0m | \u001b[36msrc.pdfs_to_text.pdfs_parser\u001b[0m:\u001b[36mpdf_parser_from_folder\u001b[0m:\u001b[36m91\u001b[0m - \u001b[1mParsing file: 40202_1.pdf\u001b[0m\n",
      "\u001b[32m2024-01-30 12:17:52.921\u001b[0m | \u001b[1mINFO    \u001b[0m | \u001b[36msrc.pdfs_to_text.pdfs_parser\u001b[0m:\u001b[36mpdf_parser_from_folder\u001b[0m:\u001b[36m91\u001b[0m - \u001b[1mParsing file: 40786_1.pdf\u001b[0m\n"
     ]
    },
    {
     "name": "stdout",
     "output_type": "stream",
     "text": [
      "Content extraction failed using Tika. Attempting conversion to TIFF.\n"
     ]
    },
    {
     "name": "stderr",
     "output_type": "stream",
     "text": [
      "\u001b[32m2024-01-30 12:17:53.437\u001b[0m | \u001b[1mINFO    \u001b[0m | \u001b[36msrc.pdfs_to_text.pdfs_parser\u001b[0m:\u001b[36mpdf_parser_from_folder\u001b[0m:\u001b[36m91\u001b[0m - \u001b[1mParsing file: 40786_2.pdf\u001b[0m\n"
     ]
    },
    {
     "name": "stdout",
     "output_type": "stream",
     "text": [
      "Content extraction failed using Tika. Attempting conversion to TIFF.\n"
     ]
    },
    {
     "name": "stderr",
     "output_type": "stream",
     "text": [
      "\u001b[32m2024-01-30 12:17:53.795\u001b[0m | \u001b[1mINFO    \u001b[0m | \u001b[36msrc.pdfs_to_text.pdfs_parser\u001b[0m:\u001b[36mpdf_parser_from_folder\u001b[0m:\u001b[36m91\u001b[0m - \u001b[1mParsing file: 4168_1.pdf\u001b[0m\n"
     ]
    },
    {
     "name": "stdout",
     "output_type": "stream",
     "text": [
      "Content extraction failed using Tika. Attempting conversion to TIFF.\n"
     ]
    },
    {
     "name": "stderr",
     "output_type": "stream",
     "text": [
      "\u001b[32m2024-01-30 12:21:55.030\u001b[0m | \u001b[1mINFO    \u001b[0m | \u001b[36msrc.pdfs_to_text.pdfs_parser\u001b[0m:\u001b[36mpdf_parser_from_folder\u001b[0m:\u001b[36m91\u001b[0m - \u001b[1mParsing file: 4168_10.pdf\u001b[0m\n",
      "\u001b[32m2024-01-30 12:21:55.068\u001b[0m | \u001b[1mINFO    \u001b[0m | \u001b[36msrc.pdfs_to_text.pdfs_parser\u001b[0m:\u001b[36mpdf_parser_from_folder\u001b[0m:\u001b[36m91\u001b[0m - \u001b[1mParsing file: 4168_11.pdf\u001b[0m\n",
      "\u001b[32m2024-01-30 12:21:55.127\u001b[0m | \u001b[1mINFO    \u001b[0m | \u001b[36msrc.pdfs_to_text.pdfs_parser\u001b[0m:\u001b[36mpdf_parser_from_folder\u001b[0m:\u001b[36m91\u001b[0m - \u001b[1mParsing file: 4168_12.pdf\u001b[0m\n",
      "\u001b[32m2024-01-30 12:21:55.167\u001b[0m | \u001b[1mINFO    \u001b[0m | \u001b[36msrc.pdfs_to_text.pdfs_parser\u001b[0m:\u001b[36mpdf_parser_from_folder\u001b[0m:\u001b[36m91\u001b[0m - \u001b[1mParsing file: 4168_13.pdf\u001b[0m\n"
     ]
    },
    {
     "name": "stdout",
     "output_type": "stream",
     "text": [
      "Content extraction failed using Tika. Attempting conversion to TIFF.\n"
     ]
    },
    {
     "name": "stderr",
     "output_type": "stream",
     "text": [
      "\u001b[32m2024-01-30 12:21:56.654\u001b[0m | \u001b[1mINFO    \u001b[0m | \u001b[36msrc.pdfs_to_text.pdfs_parser\u001b[0m:\u001b[36mpdf_parser_from_folder\u001b[0m:\u001b[36m91\u001b[0m - \u001b[1mParsing file: 4168_14.pdf\u001b[0m\n",
      "\u001b[32m2024-01-30 12:21:56.689\u001b[0m | \u001b[1mINFO    \u001b[0m | \u001b[36msrc.pdfs_to_text.pdfs_parser\u001b[0m:\u001b[36mpdf_parser_from_folder\u001b[0m:\u001b[36m91\u001b[0m - \u001b[1mParsing file: 4168_15.pdf\u001b[0m\n",
      "\u001b[32m2024-01-30 12:21:56.723\u001b[0m | \u001b[1mINFO    \u001b[0m | \u001b[36msrc.pdfs_to_text.pdfs_parser\u001b[0m:\u001b[36mpdf_parser_from_folder\u001b[0m:\u001b[36m91\u001b[0m - \u001b[1mParsing file: 4168_16.pdf\u001b[0m\n",
      "\u001b[32m2024-01-30 12:21:56.766\u001b[0m | \u001b[1mINFO    \u001b[0m | \u001b[36msrc.pdfs_to_text.pdfs_parser\u001b[0m:\u001b[36mpdf_parser_from_folder\u001b[0m:\u001b[36m91\u001b[0m - \u001b[1mParsing file: 4168_17.pdf\u001b[0m\n",
      "\u001b[32m2024-01-30 12:21:56.808\u001b[0m | \u001b[1mINFO    \u001b[0m | \u001b[36msrc.pdfs_to_text.pdfs_parser\u001b[0m:\u001b[36mpdf_parser_from_folder\u001b[0m:\u001b[36m91\u001b[0m - \u001b[1mParsing file: 4168_18.pdf\u001b[0m\n",
      "\u001b[32m2024-01-30 12:21:56.855\u001b[0m | \u001b[1mINFO    \u001b[0m | \u001b[36msrc.pdfs_to_text.pdfs_parser\u001b[0m:\u001b[36mpdf_parser_from_folder\u001b[0m:\u001b[36m91\u001b[0m - \u001b[1mParsing file: 4168_19.pdf\u001b[0m\n",
      "\u001b[32m2024-01-30 12:21:56.900\u001b[0m | \u001b[1mINFO    \u001b[0m | \u001b[36msrc.pdfs_to_text.pdfs_parser\u001b[0m:\u001b[36mpdf_parser_from_folder\u001b[0m:\u001b[36m91\u001b[0m - \u001b[1mParsing file: 4168_2.pdf\u001b[0m\n",
      "\u001b[32m2024-01-30 12:21:56.977\u001b[0m | \u001b[1mINFO    \u001b[0m | \u001b[36msrc.pdfs_to_text.pdfs_parser\u001b[0m:\u001b[36mpdf_parser_from_folder\u001b[0m:\u001b[36m91\u001b[0m - \u001b[1mParsing file: 4168_20.pdf\u001b[0m\n",
      "\u001b[32m2024-01-30 12:21:57.015\u001b[0m | \u001b[1mINFO    \u001b[0m | \u001b[36msrc.pdfs_to_text.pdfs_parser\u001b[0m:\u001b[36mpdf_parser_from_folder\u001b[0m:\u001b[36m91\u001b[0m - \u001b[1mParsing file: 4168_21.pdf\u001b[0m\n",
      "\u001b[32m2024-01-30 12:21:57.130\u001b[0m | \u001b[1mINFO    \u001b[0m | \u001b[36msrc.pdfs_to_text.pdfs_parser\u001b[0m:\u001b[36mpdf_parser_from_folder\u001b[0m:\u001b[36m91\u001b[0m - \u001b[1mParsing file: 4168_22.pdf\u001b[0m\n",
      "\u001b[32m2024-01-30 12:21:57.162\u001b[0m | \u001b[1mINFO    \u001b[0m | \u001b[36msrc.pdfs_to_text.pdfs_parser\u001b[0m:\u001b[36mpdf_parser_from_folder\u001b[0m:\u001b[36m91\u001b[0m - \u001b[1mParsing file: 4168_23.pdf\u001b[0m\n",
      "\u001b[32m2024-01-30 12:21:57.198\u001b[0m | \u001b[1mINFO    \u001b[0m | \u001b[36msrc.pdfs_to_text.pdfs_parser\u001b[0m:\u001b[36mpdf_parser_from_folder\u001b[0m:\u001b[36m91\u001b[0m - \u001b[1mParsing file: 4168_24.pdf\u001b[0m\n",
      "\u001b[32m2024-01-30 12:21:57.257\u001b[0m | \u001b[1mINFO    \u001b[0m | \u001b[36msrc.pdfs_to_text.pdfs_parser\u001b[0m:\u001b[36mpdf_parser_from_folder\u001b[0m:\u001b[36m91\u001b[0m - \u001b[1mParsing file: 4168_25.pdf\u001b[0m\n",
      "\u001b[32m2024-01-30 12:21:57.315\u001b[0m | \u001b[1mINFO    \u001b[0m | \u001b[36msrc.pdfs_to_text.pdfs_parser\u001b[0m:\u001b[36mpdf_parser_from_folder\u001b[0m:\u001b[36m91\u001b[0m - \u001b[1mParsing file: 4168_26.pdf\u001b[0m\n",
      "\u001b[32m2024-01-30 12:21:57.357\u001b[0m | \u001b[1mINFO    \u001b[0m | \u001b[36msrc.pdfs_to_text.pdfs_parser\u001b[0m:\u001b[36mpdf_parser_from_folder\u001b[0m:\u001b[36m91\u001b[0m - \u001b[1mParsing file: 4168_27.pdf\u001b[0m\n",
      "\u001b[32m2024-01-30 12:21:57.423\u001b[0m | \u001b[1mINFO    \u001b[0m | \u001b[36msrc.pdfs_to_text.pdfs_parser\u001b[0m:\u001b[36mpdf_parser_from_folder\u001b[0m:\u001b[36m91\u001b[0m - \u001b[1mParsing file: 4168_28.pdf\u001b[0m\n",
      "\u001b[32m2024-01-30 12:21:57.483\u001b[0m | \u001b[1mINFO    \u001b[0m | \u001b[36msrc.pdfs_to_text.pdfs_parser\u001b[0m:\u001b[36mpdf_parser_from_folder\u001b[0m:\u001b[36m91\u001b[0m - \u001b[1mParsing file: 4168_29.pdf\u001b[0m\n",
      "\u001b[32m2024-01-30 12:21:57.521\u001b[0m | \u001b[1mINFO    \u001b[0m | \u001b[36msrc.pdfs_to_text.pdfs_parser\u001b[0m:\u001b[36mpdf_parser_from_folder\u001b[0m:\u001b[36m91\u001b[0m - \u001b[1mParsing file: 4168_3.pdf\u001b[0m\n",
      "\u001b[32m2024-01-30 12:21:57.572\u001b[0m | \u001b[1mINFO    \u001b[0m | \u001b[36msrc.pdfs_to_text.pdfs_parser\u001b[0m:\u001b[36mpdf_parser_from_folder\u001b[0m:\u001b[36m91\u001b[0m - \u001b[1mParsing file: 4168_30.pdf\u001b[0m\n",
      "\u001b[32m2024-01-30 12:21:57.616\u001b[0m | \u001b[1mINFO    \u001b[0m | \u001b[36msrc.pdfs_to_text.pdfs_parser\u001b[0m:\u001b[36mpdf_parser_from_folder\u001b[0m:\u001b[36m91\u001b[0m - \u001b[1mParsing file: 4168_31.pdf\u001b[0m\n",
      "\u001b[32m2024-01-30 12:21:57.667\u001b[0m | \u001b[1mINFO    \u001b[0m | \u001b[36msrc.pdfs_to_text.pdfs_parser\u001b[0m:\u001b[36mpdf_parser_from_folder\u001b[0m:\u001b[36m91\u001b[0m - \u001b[1mParsing file: 4168_32.pdf\u001b[0m\n",
      "\u001b[32m2024-01-30 12:21:57.719\u001b[0m | \u001b[1mINFO    \u001b[0m | \u001b[36msrc.pdfs_to_text.pdfs_parser\u001b[0m:\u001b[36mpdf_parser_from_folder\u001b[0m:\u001b[36m91\u001b[0m - \u001b[1mParsing file: 4168_33.pdf\u001b[0m\n",
      "\u001b[32m2024-01-30 12:21:57.759\u001b[0m | \u001b[1mINFO    \u001b[0m | \u001b[36msrc.pdfs_to_text.pdfs_parser\u001b[0m:\u001b[36mpdf_parser_from_folder\u001b[0m:\u001b[36m91\u001b[0m - \u001b[1mParsing file: 4168_34.pdf\u001b[0m\n",
      "\u001b[32m2024-01-30 12:21:57.784\u001b[0m | \u001b[1mINFO    \u001b[0m | \u001b[36msrc.pdfs_to_text.pdfs_parser\u001b[0m:\u001b[36mpdf_parser_from_folder\u001b[0m:\u001b[36m91\u001b[0m - \u001b[1mParsing file: 4168_35.pdf\u001b[0m\n",
      "\u001b[32m2024-01-30 12:21:57.891\u001b[0m | \u001b[1mINFO    \u001b[0m | \u001b[36msrc.pdfs_to_text.pdfs_parser\u001b[0m:\u001b[36mpdf_parser_from_folder\u001b[0m:\u001b[36m91\u001b[0m - \u001b[1mParsing file: 4168_36.pdf\u001b[0m\n",
      "\u001b[32m2024-01-30 12:21:57.919\u001b[0m | \u001b[1mINFO    \u001b[0m | \u001b[36msrc.pdfs_to_text.pdfs_parser\u001b[0m:\u001b[36mpdf_parser_from_folder\u001b[0m:\u001b[36m91\u001b[0m - \u001b[1mParsing file: 4168_37.pdf\u001b[0m\n",
      "\u001b[32m2024-01-30 12:21:57.956\u001b[0m | \u001b[1mINFO    \u001b[0m | \u001b[36msrc.pdfs_to_text.pdfs_parser\u001b[0m:\u001b[36mpdf_parser_from_folder\u001b[0m:\u001b[36m91\u001b[0m - \u001b[1mParsing file: 4168_38.pdf\u001b[0m\n",
      "\u001b[32m2024-01-30 12:21:58.000\u001b[0m | \u001b[1mINFO    \u001b[0m | \u001b[36msrc.pdfs_to_text.pdfs_parser\u001b[0m:\u001b[36mpdf_parser_from_folder\u001b[0m:\u001b[36m91\u001b[0m - \u001b[1mParsing file: 4168_39.pdf\u001b[0m\n",
      "\u001b[32m2024-01-30 12:21:58.030\u001b[0m | \u001b[1mINFO    \u001b[0m | \u001b[36msrc.pdfs_to_text.pdfs_parser\u001b[0m:\u001b[36mpdf_parser_from_folder\u001b[0m:\u001b[36m91\u001b[0m - \u001b[1mParsing file: 4168_4.pdf\u001b[0m\n",
      "\u001b[32m2024-01-30 12:21:58.060\u001b[0m | \u001b[1mINFO    \u001b[0m | \u001b[36msrc.pdfs_to_text.pdfs_parser\u001b[0m:\u001b[36mpdf_parser_from_folder\u001b[0m:\u001b[36m91\u001b[0m - \u001b[1mParsing file: 4168_40.pdf\u001b[0m\n",
      "\u001b[32m2024-01-30 12:21:58.108\u001b[0m | \u001b[1mINFO    \u001b[0m | \u001b[36msrc.pdfs_to_text.pdfs_parser\u001b[0m:\u001b[36mpdf_parser_from_folder\u001b[0m:\u001b[36m91\u001b[0m - \u001b[1mParsing file: 4168_41.pdf\u001b[0m\n",
      "\u001b[32m2024-01-30 12:21:58.153\u001b[0m | \u001b[1mINFO    \u001b[0m | \u001b[36msrc.pdfs_to_text.pdfs_parser\u001b[0m:\u001b[36mpdf_parser_from_folder\u001b[0m:\u001b[36m91\u001b[0m - \u001b[1mParsing file: 4168_42.pdf\u001b[0m\n",
      "\u001b[32m2024-01-30 12:21:58.183\u001b[0m | \u001b[1mINFO    \u001b[0m | \u001b[36msrc.pdfs_to_text.pdfs_parser\u001b[0m:\u001b[36mpdf_parser_from_folder\u001b[0m:\u001b[36m91\u001b[0m - \u001b[1mParsing file: 4168_43.pdf\u001b[0m\n",
      "\u001b[32m2024-01-30 12:21:58.211\u001b[0m | \u001b[1mINFO    \u001b[0m | \u001b[36msrc.pdfs_to_text.pdfs_parser\u001b[0m:\u001b[36mpdf_parser_from_folder\u001b[0m:\u001b[36m91\u001b[0m - \u001b[1mParsing file: 4168_44.pdf\u001b[0m\n",
      "\u001b[32m2024-01-30 12:21:58.271\u001b[0m | \u001b[1mINFO    \u001b[0m | \u001b[36msrc.pdfs_to_text.pdfs_parser\u001b[0m:\u001b[36mpdf_parser_from_folder\u001b[0m:\u001b[36m91\u001b[0m - \u001b[1mParsing file: 4168_45.pdf\u001b[0m\n",
      "\u001b[32m2024-01-30 12:21:58.290\u001b[0m | \u001b[1mINFO    \u001b[0m | \u001b[36msrc.pdfs_to_text.pdfs_parser\u001b[0m:\u001b[36mpdf_parser_from_folder\u001b[0m:\u001b[36m91\u001b[0m - \u001b[1mParsing file: 4168_46.pdf\u001b[0m\n",
      "\u001b[32m2024-01-30 12:21:58.331\u001b[0m | \u001b[1mINFO    \u001b[0m | \u001b[36msrc.pdfs_to_text.pdfs_parser\u001b[0m:\u001b[36mpdf_parser_from_folder\u001b[0m:\u001b[36m91\u001b[0m - \u001b[1mParsing file: 4168_5.pdf\u001b[0m\n",
      "\u001b[32m2024-01-30 12:21:58.383\u001b[0m | \u001b[1mINFO    \u001b[0m | \u001b[36msrc.pdfs_to_text.pdfs_parser\u001b[0m:\u001b[36mpdf_parser_from_folder\u001b[0m:\u001b[36m91\u001b[0m - \u001b[1mParsing file: 4168_6.pdf\u001b[0m\n",
      "\u001b[32m2024-01-30 12:21:58.416\u001b[0m | \u001b[1mINFO    \u001b[0m | \u001b[36msrc.pdfs_to_text.pdfs_parser\u001b[0m:\u001b[36mpdf_parser_from_folder\u001b[0m:\u001b[36m91\u001b[0m - \u001b[1mParsing file: 4168_7.pdf\u001b[0m\n",
      "\u001b[32m2024-01-30 12:21:58.458\u001b[0m | \u001b[1mINFO    \u001b[0m | \u001b[36msrc.pdfs_to_text.pdfs_parser\u001b[0m:\u001b[36mpdf_parser_from_folder\u001b[0m:\u001b[36m91\u001b[0m - \u001b[1mParsing file: 4168_8.pdf\u001b[0m\n",
      "\u001b[32m2024-01-30 12:21:58.504\u001b[0m | \u001b[1mINFO    \u001b[0m | \u001b[36msrc.pdfs_to_text.pdfs_parser\u001b[0m:\u001b[36mpdf_parser_from_folder\u001b[0m:\u001b[36m91\u001b[0m - \u001b[1mParsing file: 4168_9.pdf\u001b[0m\n",
      "\u001b[32m2024-01-30 12:21:58.561\u001b[0m | \u001b[1mINFO    \u001b[0m | \u001b[36msrc.pdfs_to_text.pdfs_parser\u001b[0m:\u001b[36mpdf_parser_from_folder\u001b[0m:\u001b[36m91\u001b[0m - \u001b[1mParsing file: 44408_1.pdf\u001b[0m\n"
     ]
    },
    {
     "name": "stdout",
     "output_type": "stream",
     "text": [
      "Content extraction failed using Tika. Attempting conversion to TIFF.\n"
     ]
    },
    {
     "name": "stderr",
     "output_type": "stream",
     "text": [
      "\u001b[32m2024-01-30 12:22:03.335\u001b[0m | \u001b[1mINFO    \u001b[0m | \u001b[36msrc.pdfs_to_text.pdfs_parser\u001b[0m:\u001b[36mpdf_parser_from_folder\u001b[0m:\u001b[36m91\u001b[0m - \u001b[1mParsing file: 4502_1.pdf\u001b[0m\n"
     ]
    },
    {
     "name": "stdout",
     "output_type": "stream",
     "text": [
      "Content extraction failed using Tika. Attempting conversion to TIFF.\n"
     ]
    },
    {
     "name": "stderr",
     "output_type": "stream",
     "text": [
      "\u001b[32m2024-01-30 12:22:04.383\u001b[0m | \u001b[1mINFO    \u001b[0m | \u001b[36msrc.pdfs_to_text.pdfs_parser\u001b[0m:\u001b[36mpdf_parser_from_folder\u001b[0m:\u001b[36m91\u001b[0m - \u001b[1mParsing file: 4502_2.pdf\u001b[0m\n"
     ]
    },
    {
     "name": "stdout",
     "output_type": "stream",
     "text": [
      "Content extraction failed using Tika. Attempting conversion to TIFF.\n"
     ]
    },
    {
     "name": "stderr",
     "output_type": "stream",
     "text": [
      "\u001b[32m2024-01-30 12:22:05.083\u001b[0m | \u001b[1mINFO    \u001b[0m | \u001b[36msrc.pdfs_to_text.pdfs_parser\u001b[0m:\u001b[36mpdf_parser_from_folder\u001b[0m:\u001b[36m91\u001b[0m - \u001b[1mParsing file: 4502_3.pdf\u001b[0m\n"
     ]
    },
    {
     "name": "stdout",
     "output_type": "stream",
     "text": [
      "Content extraction failed using Tika. Attempting conversion to TIFF.\n"
     ]
    },
    {
     "name": "stderr",
     "output_type": "stream",
     "text": [
      "\u001b[32m2024-01-30 12:22:05.634\u001b[0m | \u001b[1mINFO    \u001b[0m | \u001b[36msrc.pdfs_to_text.pdfs_parser\u001b[0m:\u001b[36mpdf_parser_from_folder\u001b[0m:\u001b[36m91\u001b[0m - \u001b[1mParsing file: 4502_4.pdf\u001b[0m\n"
     ]
    },
    {
     "name": "stdout",
     "output_type": "stream",
     "text": [
      "Content extraction failed using Tika. Attempting conversion to TIFF.\n"
     ]
    },
    {
     "name": "stderr",
     "output_type": "stream",
     "text": [
      "\u001b[32m2024-01-30 12:22:06.200\u001b[0m | \u001b[1mINFO    \u001b[0m | \u001b[36msrc.pdfs_to_text.pdfs_parser\u001b[0m:\u001b[36mpdf_parser_from_folder\u001b[0m:\u001b[36m91\u001b[0m - \u001b[1mParsing file: 47924_1.pdf\u001b[0m\n"
     ]
    },
    {
     "name": "stdout",
     "output_type": "stream",
     "text": [
      "Content extraction failed using Tika. Attempting conversion to TIFF.\n"
     ]
    },
    {
     "name": "stderr",
     "output_type": "stream",
     "text": [
      "\u001b[32m2024-01-30 12:22:06.589\u001b[0m | \u001b[1mINFO    \u001b[0m | \u001b[36msrc.pdfs_to_text.pdfs_parser\u001b[0m:\u001b[36mpdf_parser_from_folder\u001b[0m:\u001b[36m91\u001b[0m - \u001b[1mParsing file: 47924_2.pdf\u001b[0m\n"
     ]
    },
    {
     "name": "stdout",
     "output_type": "stream",
     "text": [
      "Content extraction failed using Tika. Attempting conversion to TIFF.\n"
     ]
    },
    {
     "name": "stderr",
     "output_type": "stream",
     "text": [
      "\u001b[32m2024-01-30 12:22:06.999\u001b[0m | \u001b[1mINFO    \u001b[0m | \u001b[36msrc.pdfs_to_text.pdfs_parser\u001b[0m:\u001b[36mpdf_parser_from_folder\u001b[0m:\u001b[36m91\u001b[0m - \u001b[1mParsing file: 48461_1.pdf\u001b[0m\n"
     ]
    },
    {
     "name": "stdout",
     "output_type": "stream",
     "text": [
      "Content extraction failed using Tika. Attempting conversion to TIFF.\n"
     ]
    },
    {
     "name": "stderr",
     "output_type": "stream",
     "text": [
      "\u001b[32m2024-01-30 12:22:07.388\u001b[0m | \u001b[1mINFO    \u001b[0m | \u001b[36msrc.pdfs_to_text.pdfs_parser\u001b[0m:\u001b[36mpdf_parser_from_folder\u001b[0m:\u001b[36m91\u001b[0m - \u001b[1mParsing file: 48511_1.pdf\u001b[0m\n"
     ]
    },
    {
     "name": "stdout",
     "output_type": "stream",
     "text": [
      "Content extraction failed using Tika. Attempting conversion to TIFF.\n"
     ]
    },
    {
     "name": "stderr",
     "output_type": "stream",
     "text": [
      "\u001b[32m2024-01-30 12:22:07.823\u001b[0m | \u001b[1mINFO    \u001b[0m | \u001b[36msrc.pdfs_to_text.pdfs_parser\u001b[0m:\u001b[36mpdf_parser_from_folder\u001b[0m:\u001b[36m91\u001b[0m - \u001b[1mParsing file: 49379_1.pdf\u001b[0m\n"
     ]
    },
    {
     "name": "stdout",
     "output_type": "stream",
     "text": [
      "Content extraction failed using Tika. Attempting conversion to TIFF.\n"
     ]
    },
    {
     "name": "stderr",
     "output_type": "stream",
     "text": [
      "\u001b[32m2024-01-30 12:22:08.229\u001b[0m | \u001b[1mINFO    \u001b[0m | \u001b[36msrc.pdfs_to_text.pdfs_parser\u001b[0m:\u001b[36mpdf_parser_from_folder\u001b[0m:\u001b[36m91\u001b[0m - \u001b[1mParsing file: 50648_1.pdf\u001b[0m\n"
     ]
    },
    {
     "name": "stdout",
     "output_type": "stream",
     "text": [
      "Content extraction failed using Tika. Attempting conversion to TIFF.\n"
     ]
    },
    {
     "name": "stderr",
     "output_type": "stream",
     "text": [
      "\u001b[32m2024-01-30 12:22:09.838\u001b[0m | \u001b[1mINFO    \u001b[0m | \u001b[36msrc.pdfs_to_text.pdfs_parser\u001b[0m:\u001b[36mpdf_parser_from_folder\u001b[0m:\u001b[36m91\u001b[0m - \u001b[1mParsing file: 50823_1.pdf\u001b[0m\n"
     ]
    },
    {
     "name": "stdout",
     "output_type": "stream",
     "text": [
      "Content extraction failed using Tika. Attempting conversion to TIFF.\n"
     ]
    },
    {
     "name": "stderr",
     "output_type": "stream",
     "text": [
      "\u001b[32m2024-01-30 12:22:13.486\u001b[0m | \u001b[1mINFO    \u001b[0m | \u001b[36msrc.pdfs_to_text.pdfs_parser\u001b[0m:\u001b[36mpdf_parser_from_folder\u001b[0m:\u001b[36m91\u001b[0m - \u001b[1mParsing file: 54177_1.pdf\u001b[0m\n"
     ]
    },
    {
     "name": "stdout",
     "output_type": "stream",
     "text": [
      "Content extraction failed using Tika. Attempting conversion to TIFF.\n"
     ]
    },
    {
     "name": "stderr",
     "output_type": "stream",
     "text": [
      "\u001b[32m2024-01-30 12:22:15.141\u001b[0m | \u001b[1mINFO    \u001b[0m | \u001b[36msrc.pdfs_to_text.pdfs_parser\u001b[0m:\u001b[36mpdf_parser_from_folder\u001b[0m:\u001b[36m91\u001b[0m - \u001b[1mParsing file: 54177_2.pdf\u001b[0m\n"
     ]
    },
    {
     "name": "stdout",
     "output_type": "stream",
     "text": [
      "Content extraction failed using Tika. Attempting conversion to TIFF.\n"
     ]
    },
    {
     "name": "stderr",
     "output_type": "stream",
     "text": [
      "\u001b[32m2024-01-30 12:22:16.240\u001b[0m | \u001b[1mINFO    \u001b[0m | \u001b[36msrc.pdfs_to_text.pdfs_parser\u001b[0m:\u001b[36mpdf_parser_from_folder\u001b[0m:\u001b[36m91\u001b[0m - \u001b[1mParsing file: 54177_3.pdf\u001b[0m\n"
     ]
    },
    {
     "name": "stdout",
     "output_type": "stream",
     "text": [
      "Content extraction failed using Tika. Attempting conversion to TIFF.\n"
     ]
    },
    {
     "name": "stderr",
     "output_type": "stream",
     "text": [
      "\u001b[32m2024-01-30 12:22:17.457\u001b[0m | \u001b[1mINFO    \u001b[0m | \u001b[36msrc.pdfs_to_text.pdfs_parser\u001b[0m:\u001b[36mpdf_parser_from_folder\u001b[0m:\u001b[36m91\u001b[0m - \u001b[1mParsing file: 54177_4.pdf\u001b[0m\n"
     ]
    },
    {
     "name": "stdout",
     "output_type": "stream",
     "text": [
      "Content extraction failed using Tika. Attempting conversion to TIFF.\n"
     ]
    },
    {
     "name": "stderr",
     "output_type": "stream",
     "text": [
      "\u001b[32m2024-01-30 12:22:18.648\u001b[0m | \u001b[1mINFO    \u001b[0m | \u001b[36msrc.pdfs_to_text.pdfs_parser\u001b[0m:\u001b[36mpdf_parser_from_folder\u001b[0m:\u001b[36m91\u001b[0m - \u001b[1mParsing file: 54177_5.pdf\u001b[0m\n"
     ]
    },
    {
     "name": "stdout",
     "output_type": "stream",
     "text": [
      "Content extraction failed using Tika. Attempting conversion to TIFF.\n"
     ]
    },
    {
     "name": "stderr",
     "output_type": "stream",
     "text": [
      "\u001b[32m2024-01-30 12:22:19.791\u001b[0m | \u001b[1mINFO    \u001b[0m | \u001b[36msrc.pdfs_to_text.pdfs_parser\u001b[0m:\u001b[36mpdf_parser_from_folder\u001b[0m:\u001b[36m91\u001b[0m - \u001b[1mParsing file: 56172_1.pdf\u001b[0m\n"
     ]
    },
    {
     "name": "stdout",
     "output_type": "stream",
     "text": [
      "Content extraction failed using Tika. Attempting conversion to TIFF.\n"
     ]
    },
    {
     "name": "stderr",
     "output_type": "stream",
     "text": [
      "\u001b[32m2024-01-30 12:22:20.188\u001b[0m | \u001b[1mINFO    \u001b[0m | \u001b[36msrc.pdfs_to_text.pdfs_parser\u001b[0m:\u001b[36mpdf_parser_from_folder\u001b[0m:\u001b[36m91\u001b[0m - \u001b[1mParsing file: 57010_1.pdf\u001b[0m\n"
     ]
    },
    {
     "name": "stdout",
     "output_type": "stream",
     "text": [
      "Content extraction failed using Tika. Attempting conversion to TIFF.\n"
     ]
    },
    {
     "name": "stderr",
     "output_type": "stream",
     "text": [
      "\u001b[32m2024-01-30 12:22:20.644\u001b[0m | \u001b[1mINFO    \u001b[0m | \u001b[36msrc.pdfs_to_text.pdfs_parser\u001b[0m:\u001b[36mpdf_parser_from_folder\u001b[0m:\u001b[36m91\u001b[0m - \u001b[1mParsing file: 57189_1.pdf\u001b[0m\n"
     ]
    },
    {
     "name": "stdout",
     "output_type": "stream",
     "text": [
      "Content extraction failed using Tika. Attempting conversion to TIFF.\n"
     ]
    },
    {
     "name": "stderr",
     "output_type": "stream",
     "text": [
      "\u001b[32m2024-01-30 12:22:21.019\u001b[0m | \u001b[1mINFO    \u001b[0m | \u001b[36msrc.pdfs_to_text.pdfs_parser\u001b[0m:\u001b[36mpdf_parser_from_folder\u001b[0m:\u001b[36m91\u001b[0m - \u001b[1mParsing file: 57189_2.pdf\u001b[0m\n"
     ]
    },
    {
     "name": "stdout",
     "output_type": "stream",
     "text": [
      "Content extraction failed using Tika. Attempting conversion to TIFF.\n"
     ]
    },
    {
     "name": "stderr",
     "output_type": "stream",
     "text": [
      "\u001b[32m2024-01-30 12:22:21.460\u001b[0m | \u001b[1mINFO    \u001b[0m | \u001b[36msrc.pdfs_to_text.pdfs_parser\u001b[0m:\u001b[36mpdf_parser_from_folder\u001b[0m:\u001b[36m91\u001b[0m - \u001b[1mParsing file: 57468_1.pdf\u001b[0m\n"
     ]
    },
    {
     "name": "stdout",
     "output_type": "stream",
     "text": [
      "Content extraction failed using Tika. Attempting conversion to TIFF.\n"
     ]
    },
    {
     "name": "stderr",
     "output_type": "stream",
     "text": [
      "\u001b[32m2024-01-30 12:22:25.313\u001b[0m | \u001b[1mINFO    \u001b[0m | \u001b[36msrc.pdfs_to_text.pdfs_parser\u001b[0m:\u001b[36mpdf_parser_from_folder\u001b[0m:\u001b[36m91\u001b[0m - \u001b[1mParsing file: 59063_1.pdf\u001b[0m\n"
     ]
    },
    {
     "name": "stdout",
     "output_type": "stream",
     "text": [
      "Content extraction failed using Tika. Attempting conversion to TIFF.\n"
     ]
    },
    {
     "name": "stderr",
     "output_type": "stream",
     "text": [
      "\u001b[32m2024-01-30 12:22:25.712\u001b[0m | \u001b[1mINFO    \u001b[0m | \u001b[36msrc.pdfs_to_text.pdfs_parser\u001b[0m:\u001b[36mpdf_parser_from_folder\u001b[0m:\u001b[36m91\u001b[0m - \u001b[1mParsing file: 59063_2.pdf\u001b[0m\n"
     ]
    },
    {
     "name": "stdout",
     "output_type": "stream",
     "text": [
      "Content extraction failed using Tika. Attempting conversion to TIFF.\n"
     ]
    },
    {
     "name": "stderr",
     "output_type": "stream",
     "text": [
      "\u001b[32m2024-01-30 12:22:26.109\u001b[0m | \u001b[1mINFO    \u001b[0m | \u001b[36msrc.pdfs_to_text.pdfs_parser\u001b[0m:\u001b[36mpdf_parser_from_folder\u001b[0m:\u001b[36m91\u001b[0m - \u001b[1mParsing file: 59646_1.pdf\u001b[0m\n"
     ]
    },
    {
     "name": "stdout",
     "output_type": "stream",
     "text": [
      "Content extraction failed using Tika. Attempting conversion to TIFF.\n"
     ]
    },
    {
     "name": "stderr",
     "output_type": "stream",
     "text": [
      "\u001b[32m2024-01-30 12:22:26.493\u001b[0m | \u001b[1mINFO    \u001b[0m | \u001b[36msrc.pdfs_to_text.pdfs_parser\u001b[0m:\u001b[36mpdf_parser_from_folder\u001b[0m:\u001b[36m91\u001b[0m - \u001b[1mParsing file: 59646_2.pdf\u001b[0m\n"
     ]
    },
    {
     "name": "stdout",
     "output_type": "stream",
     "text": [
      "Content extraction failed using Tika. Attempting conversion to TIFF.\n"
     ]
    },
    {
     "name": "stderr",
     "output_type": "stream",
     "text": [
      "\u001b[32m2024-01-30 12:22:26.888\u001b[0m | \u001b[1mINFO    \u001b[0m | \u001b[36msrc.pdfs_to_text.pdfs_parser\u001b[0m:\u001b[36mpdf_parser_from_folder\u001b[0m:\u001b[36m91\u001b[0m - \u001b[1mParsing file: 60761_1.pdf\u001b[0m\n"
     ]
    },
    {
     "name": "stdout",
     "output_type": "stream",
     "text": [
      "Content extraction failed using Tika. Attempting conversion to TIFF.\n"
     ]
    },
    {
     "name": "stderr",
     "output_type": "stream",
     "text": [
      "\u001b[32m2024-01-30 12:22:27.314\u001b[0m | \u001b[1mINFO    \u001b[0m | \u001b[36msrc.pdfs_to_text.pdfs_parser\u001b[0m:\u001b[36mpdf_parser_from_folder\u001b[0m:\u001b[36m91\u001b[0m - \u001b[1mParsing file: 60761_2.pdf\u001b[0m\n"
     ]
    },
    {
     "name": "stdout",
     "output_type": "stream",
     "text": [
      "Content extraction failed using Tika. Attempting conversion to TIFF.\n"
     ]
    },
    {
     "name": "stderr",
     "output_type": "stream",
     "text": [
      "\u001b[32m2024-01-30 12:22:27.677\u001b[0m | \u001b[1mINFO    \u001b[0m | \u001b[36msrc.pdfs_to_text.pdfs_parser\u001b[0m:\u001b[36mpdf_parser_from_folder\u001b[0m:\u001b[36m91\u001b[0m - \u001b[1mParsing file: 60761_3.pdf\u001b[0m\n"
     ]
    },
    {
     "name": "stdout",
     "output_type": "stream",
     "text": [
      "Content extraction failed using Tika. Attempting conversion to TIFF.\n"
     ]
    },
    {
     "name": "stderr",
     "output_type": "stream",
     "text": [
      "\u001b[32m2024-01-30 12:22:28.070\u001b[0m | \u001b[1mINFO    \u001b[0m | \u001b[36msrc.pdfs_to_text.pdfs_parser\u001b[0m:\u001b[36mpdf_parser_from_folder\u001b[0m:\u001b[36m91\u001b[0m - \u001b[1mParsing file: 60766_1.pdf\u001b[0m\n"
     ]
    },
    {
     "name": "stdout",
     "output_type": "stream",
     "text": [
      "Content extraction failed using Tika. Attempting conversion to TIFF.\n"
     ]
    },
    {
     "name": "stderr",
     "output_type": "stream",
     "text": [
      "\u001b[32m2024-01-30 12:22:28.497\u001b[0m | \u001b[1mINFO    \u001b[0m | \u001b[36msrc.pdfs_to_text.pdfs_parser\u001b[0m:\u001b[36mpdf_parser_from_folder\u001b[0m:\u001b[36m91\u001b[0m - \u001b[1mParsing file: 60766_2.pdf\u001b[0m\n"
     ]
    },
    {
     "name": "stdout",
     "output_type": "stream",
     "text": [
      "Content extraction failed using Tika. Attempting conversion to TIFF.\n"
     ]
    },
    {
     "name": "stderr",
     "output_type": "stream",
     "text": [
      "\u001b[32m2024-01-30 12:22:28.939\u001b[0m | \u001b[1mINFO    \u001b[0m | \u001b[36msrc.pdfs_to_text.pdfs_parser\u001b[0m:\u001b[36mpdf_parser_from_folder\u001b[0m:\u001b[36m91\u001b[0m - \u001b[1mParsing file: 60766_3.pdf\u001b[0m\n"
     ]
    },
    {
     "name": "stdout",
     "output_type": "stream",
     "text": [
      "Content extraction failed using Tika. Attempting conversion to TIFF.\n"
     ]
    },
    {
     "name": "stderr",
     "output_type": "stream",
     "text": [
      "\u001b[32m2024-01-30 12:22:29.378\u001b[0m | \u001b[1mINFO    \u001b[0m | \u001b[36msrc.pdfs_to_text.pdfs_parser\u001b[0m:\u001b[36mpdf_parser_from_folder\u001b[0m:\u001b[36m91\u001b[0m - \u001b[1mParsing file: 61390_1.pdf\u001b[0m\n"
     ]
    },
    {
     "name": "stdout",
     "output_type": "stream",
     "text": [
      "Content extraction failed using Tika. Attempting conversion to TIFF.\n"
     ]
    },
    {
     "name": "stderr",
     "output_type": "stream",
     "text": [
      "\u001b[32m2024-01-30 12:22:29.854\u001b[0m | \u001b[1mINFO    \u001b[0m | \u001b[36msrc.pdfs_to_text.pdfs_parser\u001b[0m:\u001b[36mpdf_parser_from_folder\u001b[0m:\u001b[36m91\u001b[0m - \u001b[1mParsing file: 61390_2.pdf\u001b[0m\n"
     ]
    },
    {
     "name": "stdout",
     "output_type": "stream",
     "text": [
      "Content extraction failed using Tika. Attempting conversion to TIFF.\n"
     ]
    },
    {
     "name": "stderr",
     "output_type": "stream",
     "text": [
      "\u001b[32m2024-01-30 12:22:30.221\u001b[0m | \u001b[1mINFO    \u001b[0m | \u001b[36msrc.pdfs_to_text.pdfs_parser\u001b[0m:\u001b[36mpdf_parser_from_folder\u001b[0m:\u001b[36m91\u001b[0m - \u001b[1mParsing file: 61965_1.pdf\u001b[0m\n"
     ]
    },
    {
     "name": "stdout",
     "output_type": "stream",
     "text": [
      "Content extraction failed using Tika. Attempting conversion to TIFF.\n"
     ]
    },
    {
     "name": "stderr",
     "output_type": "stream",
     "text": [
      "\u001b[32m2024-01-30 12:22:30.601\u001b[0m | \u001b[1mINFO    \u001b[0m | \u001b[36msrc.pdfs_to_text.pdfs_parser\u001b[0m:\u001b[36mpdf_parser_from_folder\u001b[0m:\u001b[36m91\u001b[0m - \u001b[1mParsing file: 62354_1.pdf\u001b[0m\n"
     ]
    },
    {
     "name": "stdout",
     "output_type": "stream",
     "text": [
      "Content extraction failed using Tika. Attempting conversion to TIFF.\n"
     ]
    },
    {
     "name": "stderr",
     "output_type": "stream",
     "text": [
      "\u001b[32m2024-01-30 12:22:31.034\u001b[0m | \u001b[1mINFO    \u001b[0m | \u001b[36msrc.pdfs_to_text.pdfs_parser\u001b[0m:\u001b[36mpdf_parser_from_folder\u001b[0m:\u001b[36m91\u001b[0m - \u001b[1mParsing file: 62354_2.pdf\u001b[0m\n"
     ]
    },
    {
     "name": "stdout",
     "output_type": "stream",
     "text": [
      "Content extraction failed using Tika. Attempting conversion to TIFF.\n"
     ]
    },
    {
     "name": "stderr",
     "output_type": "stream",
     "text": [
      "\u001b[32m2024-01-30 12:22:31.437\u001b[0m | \u001b[1mINFO    \u001b[0m | \u001b[36msrc.pdfs_to_text.pdfs_parser\u001b[0m:\u001b[36mpdf_parser_from_folder\u001b[0m:\u001b[36m91\u001b[0m - \u001b[1mParsing file: 62548_1.pdf\u001b[0m\n"
     ]
    },
    {
     "name": "stdout",
     "output_type": "stream",
     "text": [
      "Content extraction failed using Tika. Attempting conversion to TIFF.\n"
     ]
    },
    {
     "name": "stderr",
     "output_type": "stream",
     "text": [
      "\u001b[32m2024-01-30 12:22:31.817\u001b[0m | \u001b[1mINFO    \u001b[0m | \u001b[36msrc.pdfs_to_text.pdfs_parser\u001b[0m:\u001b[36mpdf_parser_from_folder\u001b[0m:\u001b[36m91\u001b[0m - \u001b[1mParsing file: 63930_1.pdf\u001b[0m\n"
     ]
    },
    {
     "name": "stdout",
     "output_type": "stream",
     "text": [
      "Content extraction failed using Tika. Attempting conversion to TIFF.\n"
     ]
    },
    {
     "name": "stderr",
     "output_type": "stream",
     "text": [
      "\u001b[32m2024-01-30 12:22:55.949\u001b[0m | \u001b[1mINFO    \u001b[0m | \u001b[36msrc.pdfs_to_text.pdfs_parser\u001b[0m:\u001b[36mpdf_parser_from_folder\u001b[0m:\u001b[36m91\u001b[0m - \u001b[1mParsing file: 63933_1.pdf\u001b[0m\n"
     ]
    },
    {
     "name": "stdout",
     "output_type": "stream",
     "text": [
      "Content extraction failed using Tika. Attempting conversion to TIFF.\n"
     ]
    },
    {
     "name": "stderr",
     "output_type": "stream",
     "text": [
      "\u001b[32m2024-01-30 12:22:56.406\u001b[0m | \u001b[1mINFO    \u001b[0m | \u001b[36msrc.pdfs_to_text.pdfs_parser\u001b[0m:\u001b[36mpdf_parser_from_folder\u001b[0m:\u001b[36m91\u001b[0m - \u001b[1mParsing file: 63933_2.pdf\u001b[0m\n"
     ]
    },
    {
     "name": "stdout",
     "output_type": "stream",
     "text": [
      "Content extraction failed using Tika. Attempting conversion to TIFF.\n"
     ]
    },
    {
     "name": "stderr",
     "output_type": "stream",
     "text": [
      "\u001b[32m2024-01-30 12:22:56.909\u001b[0m | \u001b[1mINFO    \u001b[0m | \u001b[36msrc.pdfs_to_text.pdfs_parser\u001b[0m:\u001b[36mpdf_parser_from_folder\u001b[0m:\u001b[36m91\u001b[0m - \u001b[1mParsing file: 64520_1.pdf\u001b[0m\n"
     ]
    },
    {
     "name": "stdout",
     "output_type": "stream",
     "text": [
      "Content extraction failed using Tika. Attempting conversion to TIFF.\n"
     ]
    },
    {
     "name": "stderr",
     "output_type": "stream",
     "text": [
      "\u001b[32m2024-01-30 12:22:57.944\u001b[0m | \u001b[1mINFO    \u001b[0m | \u001b[36msrc.pdfs_to_text.pdfs_parser\u001b[0m:\u001b[36mpdf_parser_from_folder\u001b[0m:\u001b[36m91\u001b[0m - \u001b[1mParsing file: 64520_10.pdf\u001b[0m\n"
     ]
    },
    {
     "name": "stdout",
     "output_type": "stream",
     "text": [
      "Content extraction failed using Tika. Attempting conversion to TIFF.\n"
     ]
    },
    {
     "name": "stderr",
     "output_type": "stream",
     "text": [
      "\u001b[32m2024-01-30 12:22:58.930\u001b[0m | \u001b[1mINFO    \u001b[0m | \u001b[36msrc.pdfs_to_text.pdfs_parser\u001b[0m:\u001b[36mpdf_parser_from_folder\u001b[0m:\u001b[36m91\u001b[0m - \u001b[1mParsing file: 64520_2.pdf\u001b[0m\n"
     ]
    },
    {
     "name": "stdout",
     "output_type": "stream",
     "text": [
      "Content extraction failed using Tika. Attempting conversion to TIFF.\n"
     ]
    },
    {
     "name": "stderr",
     "output_type": "stream",
     "text": [
      "\u001b[32m2024-01-30 12:22:59.942\u001b[0m | \u001b[1mINFO    \u001b[0m | \u001b[36msrc.pdfs_to_text.pdfs_parser\u001b[0m:\u001b[36mpdf_parser_from_folder\u001b[0m:\u001b[36m91\u001b[0m - \u001b[1mParsing file: 64520_3.pdf\u001b[0m\n"
     ]
    },
    {
     "name": "stdout",
     "output_type": "stream",
     "text": [
      "Content extraction failed using Tika. Attempting conversion to TIFF.\n"
     ]
    },
    {
     "name": "stderr",
     "output_type": "stream",
     "text": [
      "\u001b[32m2024-01-30 12:23:00.935\u001b[0m | \u001b[1mINFO    \u001b[0m | \u001b[36msrc.pdfs_to_text.pdfs_parser\u001b[0m:\u001b[36mpdf_parser_from_folder\u001b[0m:\u001b[36m91\u001b[0m - \u001b[1mParsing file: 64520_4.pdf\u001b[0m\n"
     ]
    },
    {
     "name": "stdout",
     "output_type": "stream",
     "text": [
      "Content extraction failed using Tika. Attempting conversion to TIFF.\n"
     ]
    },
    {
     "name": "stderr",
     "output_type": "stream",
     "text": [
      "\u001b[32m2024-01-30 12:23:01.909\u001b[0m | \u001b[1mINFO    \u001b[0m | \u001b[36msrc.pdfs_to_text.pdfs_parser\u001b[0m:\u001b[36mpdf_parser_from_folder\u001b[0m:\u001b[36m91\u001b[0m - \u001b[1mParsing file: 64520_5.pdf\u001b[0m\n"
     ]
    },
    {
     "name": "stdout",
     "output_type": "stream",
     "text": [
      "Content extraction failed using Tika. Attempting conversion to TIFF.\n"
     ]
    },
    {
     "name": "stderr",
     "output_type": "stream",
     "text": [
      "\u001b[32m2024-01-30 12:23:02.924\u001b[0m | \u001b[1mINFO    \u001b[0m | \u001b[36msrc.pdfs_to_text.pdfs_parser\u001b[0m:\u001b[36mpdf_parser_from_folder\u001b[0m:\u001b[36m91\u001b[0m - \u001b[1mParsing file: 64520_6.pdf\u001b[0m\n"
     ]
    },
    {
     "name": "stdout",
     "output_type": "stream",
     "text": [
      "Content extraction failed using Tika. Attempting conversion to TIFF.\n"
     ]
    },
    {
     "name": "stderr",
     "output_type": "stream",
     "text": [
      "\u001b[32m2024-01-30 12:23:03.902\u001b[0m | \u001b[1mINFO    \u001b[0m | \u001b[36msrc.pdfs_to_text.pdfs_parser\u001b[0m:\u001b[36mpdf_parser_from_folder\u001b[0m:\u001b[36m91\u001b[0m - \u001b[1mParsing file: 64520_7.pdf\u001b[0m\n"
     ]
    },
    {
     "name": "stdout",
     "output_type": "stream",
     "text": [
      "Content extraction failed using Tika. Attempting conversion to TIFF.\n"
     ]
    },
    {
     "name": "stderr",
     "output_type": "stream",
     "text": [
      "\u001b[32m2024-01-30 12:23:04.873\u001b[0m | \u001b[1mINFO    \u001b[0m | \u001b[36msrc.pdfs_to_text.pdfs_parser\u001b[0m:\u001b[36mpdf_parser_from_folder\u001b[0m:\u001b[36m91\u001b[0m - \u001b[1mParsing file: 64520_8.pdf\u001b[0m\n"
     ]
    },
    {
     "name": "stdout",
     "output_type": "stream",
     "text": [
      "Content extraction failed using Tika. Attempting conversion to TIFF.\n"
     ]
    },
    {
     "name": "stderr",
     "output_type": "stream",
     "text": [
      "\u001b[32m2024-01-30 12:23:05.842\u001b[0m | \u001b[1mINFO    \u001b[0m | \u001b[36msrc.pdfs_to_text.pdfs_parser\u001b[0m:\u001b[36mpdf_parser_from_folder\u001b[0m:\u001b[36m91\u001b[0m - \u001b[1mParsing file: 64520_9.pdf\u001b[0m\n"
     ]
    },
    {
     "name": "stdout",
     "output_type": "stream",
     "text": [
      "Content extraction failed using Tika. Attempting conversion to TIFF.\n"
     ]
    },
    {
     "name": "stderr",
     "output_type": "stream",
     "text": [
      "\u001b[32m2024-01-30 12:23:06.819\u001b[0m | \u001b[1mINFO    \u001b[0m | \u001b[36msrc.pdfs_to_text.pdfs_parser\u001b[0m:\u001b[36mpdf_parser_from_folder\u001b[0m:\u001b[36m91\u001b[0m - \u001b[1mParsing file: 6547_1.pdf\u001b[0m\n"
     ]
    },
    {
     "name": "stdout",
     "output_type": "stream",
     "text": [
      "Content extraction failed using Tika. Attempting conversion to TIFF.\n"
     ]
    },
    {
     "name": "stderr",
     "output_type": "stream",
     "text": [
      "\u001b[32m2024-01-30 12:23:09.079\u001b[0m | \u001b[1mINFO    \u001b[0m | \u001b[36msrc.pdfs_to_text.pdfs_parser\u001b[0m:\u001b[36mpdf_parser_from_folder\u001b[0m:\u001b[36m91\u001b[0m - \u001b[1mParsing file: 6547_2.pdf\u001b[0m\n"
     ]
    },
    {
     "name": "stdout",
     "output_type": "stream",
     "text": [
      "Content extraction failed using Tika. Attempting conversion to TIFF.\n"
     ]
    },
    {
     "name": "stderr",
     "output_type": "stream",
     "text": [
      "\u001b[32m2024-01-30 12:23:11.118\u001b[0m | \u001b[1mINFO    \u001b[0m | \u001b[36msrc.pdfs_to_text.pdfs_parser\u001b[0m:\u001b[36mpdf_parser_from_folder\u001b[0m:\u001b[36m91\u001b[0m - \u001b[1mParsing file: 6547_3.pdf\u001b[0m\n"
     ]
    },
    {
     "name": "stdout",
     "output_type": "stream",
     "text": [
      "Content extraction failed using Tika. Attempting conversion to TIFF.\n"
     ]
    },
    {
     "name": "stderr",
     "output_type": "stream",
     "text": [
      "\u001b[32m2024-01-30 12:23:13.351\u001b[0m | \u001b[1mINFO    \u001b[0m | \u001b[36msrc.pdfs_to_text.pdfs_parser\u001b[0m:\u001b[36mpdf_parser_from_folder\u001b[0m:\u001b[36m91\u001b[0m - \u001b[1mParsing file: 6547_4.pdf\u001b[0m\n"
     ]
    },
    {
     "name": "stdout",
     "output_type": "stream",
     "text": [
      "Content extraction failed using Tika. Attempting conversion to TIFF.\n"
     ]
    },
    {
     "name": "stderr",
     "output_type": "stream",
     "text": [
      "\u001b[32m2024-01-30 12:23:15.235\u001b[0m | \u001b[1mINFO    \u001b[0m | \u001b[36msrc.pdfs_to_text.pdfs_parser\u001b[0m:\u001b[36mpdf_parser_from_folder\u001b[0m:\u001b[36m91\u001b[0m - \u001b[1mParsing file: 6547_5.pdf\u001b[0m\n"
     ]
    },
    {
     "name": "stdout",
     "output_type": "stream",
     "text": [
      "Content extraction failed using Tika. Attempting conversion to TIFF.\n"
     ]
    },
    {
     "name": "stderr",
     "output_type": "stream",
     "text": [
      "\u001b[32m2024-01-30 12:23:17.226\u001b[0m | \u001b[1mINFO    \u001b[0m | \u001b[36msrc.pdfs_to_text.pdfs_parser\u001b[0m:\u001b[36mpdf_parser_from_folder\u001b[0m:\u001b[36m91\u001b[0m - \u001b[1mParsing file: 6547_6.pdf\u001b[0m\n"
     ]
    },
    {
     "name": "stdout",
     "output_type": "stream",
     "text": [
      "Content extraction failed using Tika. Attempting conversion to TIFF.\n"
     ]
    },
    {
     "name": "stderr",
     "output_type": "stream",
     "text": [
      "\u001b[32m2024-01-30 12:23:19.605\u001b[0m | \u001b[1mINFO    \u001b[0m | \u001b[36msrc.pdfs_to_text.pdfs_parser\u001b[0m:\u001b[36mpdf_parser_from_folder\u001b[0m:\u001b[36m91\u001b[0m - \u001b[1mParsing file: 6547_7.pdf\u001b[0m\n"
     ]
    },
    {
     "name": "stdout",
     "output_type": "stream",
     "text": [
      "Content extraction failed using Tika. Attempting conversion to TIFF.\n"
     ]
    },
    {
     "name": "stderr",
     "output_type": "stream",
     "text": [
      "\u001b[32m2024-01-30 12:23:21.325\u001b[0m | \u001b[1mINFO    \u001b[0m | \u001b[36msrc.pdfs_to_text.pdfs_parser\u001b[0m:\u001b[36mpdf_parser_from_folder\u001b[0m:\u001b[36m91\u001b[0m - \u001b[1mParsing file: 6547_8.pdf\u001b[0m\n"
     ]
    },
    {
     "name": "stdout",
     "output_type": "stream",
     "text": [
      "Content extraction failed using Tika. Attempting conversion to TIFF.\n"
     ]
    },
    {
     "name": "stderr",
     "output_type": "stream",
     "text": [
      "\u001b[32m2024-01-30 12:23:23.245\u001b[0m | \u001b[1mINFO    \u001b[0m | \u001b[36msrc.pdfs_to_text.pdfs_parser\u001b[0m:\u001b[36mpdf_parser_from_folder\u001b[0m:\u001b[36m91\u001b[0m - \u001b[1mParsing file: 66446_1.pdf\u001b[0m\n"
     ]
    },
    {
     "name": "stdout",
     "output_type": "stream",
     "text": [
      "Content extraction failed using Tika. Attempting conversion to TIFF.\n"
     ]
    },
    {
     "name": "stderr",
     "output_type": "stream",
     "text": [
      "\u001b[32m2024-01-30 12:23:24.269\u001b[0m | \u001b[1mINFO    \u001b[0m | \u001b[36msrc.pdfs_to_text.pdfs_parser\u001b[0m:\u001b[36mpdf_parser_from_folder\u001b[0m:\u001b[36m91\u001b[0m - \u001b[1mParsing file: 66446_2.pdf\u001b[0m\n"
     ]
    },
    {
     "name": "stdout",
     "output_type": "stream",
     "text": [
      "Content extraction failed using Tika. Attempting conversion to TIFF.\n"
     ]
    },
    {
     "name": "stderr",
     "output_type": "stream",
     "text": [
      "\u001b[32m2024-01-30 12:23:25.312\u001b[0m | \u001b[1mINFO    \u001b[0m | \u001b[36msrc.pdfs_to_text.pdfs_parser\u001b[0m:\u001b[36mpdf_parser_from_folder\u001b[0m:\u001b[36m91\u001b[0m - \u001b[1mParsing file: 66446_3.pdf\u001b[0m\n"
     ]
    },
    {
     "name": "stdout",
     "output_type": "stream",
     "text": [
      "Content extraction failed using Tika. Attempting conversion to TIFF.\n"
     ]
    },
    {
     "name": "stderr",
     "output_type": "stream",
     "text": [
      "\u001b[32m2024-01-30 12:23:26.314\u001b[0m | \u001b[1mINFO    \u001b[0m | \u001b[36msrc.pdfs_to_text.pdfs_parser\u001b[0m:\u001b[36mpdf_parser_from_folder\u001b[0m:\u001b[36m91\u001b[0m - \u001b[1mParsing file: 66446_4.pdf\u001b[0m\n"
     ]
    },
    {
     "name": "stdout",
     "output_type": "stream",
     "text": [
      "Content extraction failed using Tika. Attempting conversion to TIFF.\n"
     ]
    },
    {
     "name": "stderr",
     "output_type": "stream",
     "text": [
      "\u001b[32m2024-01-30 12:23:27.363\u001b[0m | \u001b[1mINFO    \u001b[0m | \u001b[36msrc.pdfs_to_text.pdfs_parser\u001b[0m:\u001b[36mpdf_parser_from_folder\u001b[0m:\u001b[36m91\u001b[0m - \u001b[1mParsing file: 66446_5.pdf\u001b[0m\n"
     ]
    },
    {
     "name": "stdout",
     "output_type": "stream",
     "text": [
      "Content extraction failed using Tika. Attempting conversion to TIFF.\n"
     ]
    },
    {
     "name": "stderr",
     "output_type": "stream",
     "text": [
      "\u001b[32m2024-01-30 12:23:28.444\u001b[0m | \u001b[1mINFO    \u001b[0m | \u001b[36msrc.pdfs_to_text.pdfs_parser\u001b[0m:\u001b[36mpdf_parser_from_folder\u001b[0m:\u001b[36m91\u001b[0m - \u001b[1mParsing file: 66446_6.pdf\u001b[0m\n"
     ]
    },
    {
     "name": "stdout",
     "output_type": "stream",
     "text": [
      "Content extraction failed using Tika. Attempting conversion to TIFF.\n"
     ]
    },
    {
     "name": "stderr",
     "output_type": "stream",
     "text": [
      "\u001b[32m2024-01-30 12:23:33.206\u001b[0m | \u001b[1mINFO    \u001b[0m | \u001b[36msrc.pdfs_to_text.pdfs_parser\u001b[0m:\u001b[36mpdf_parser_from_folder\u001b[0m:\u001b[36m91\u001b[0m - \u001b[1mParsing file: 66617_1.pdf\u001b[0m\n"
     ]
    },
    {
     "name": "stdout",
     "output_type": "stream",
     "text": [
      "Content extraction failed using Tika. Attempting conversion to TIFF.\n"
     ]
    },
    {
     "name": "stderr",
     "output_type": "stream",
     "text": [
      "\u001b[32m2024-01-30 12:23:33.581\u001b[0m | \u001b[1mINFO    \u001b[0m | \u001b[36msrc.pdfs_to_text.pdfs_parser\u001b[0m:\u001b[36mpdf_parser_from_folder\u001b[0m:\u001b[36m91\u001b[0m - \u001b[1mParsing file: 66617_2.pdf\u001b[0m\n"
     ]
    },
    {
     "name": "stdout",
     "output_type": "stream",
     "text": [
      "Content extraction failed using Tika. Attempting conversion to TIFF.\n"
     ]
    },
    {
     "name": "stderr",
     "output_type": "stream",
     "text": [
      "\u001b[32m2024-01-30 12:23:34.007\u001b[0m | \u001b[1mINFO    \u001b[0m | \u001b[36msrc.pdfs_to_text.pdfs_parser\u001b[0m:\u001b[36mpdf_parser_from_folder\u001b[0m:\u001b[36m91\u001b[0m - \u001b[1mParsing file: 66772_1.pdf\u001b[0m\n"
     ]
    },
    {
     "name": "stdout",
     "output_type": "stream",
     "text": [
      "Content extraction failed using Tika. Attempting conversion to TIFF.\n"
     ]
    },
    {
     "name": "stderr",
     "output_type": "stream",
     "text": [
      "\u001b[32m2024-01-30 12:23:34.450\u001b[0m | \u001b[1mINFO    \u001b[0m | \u001b[36msrc.pdfs_to_text.pdfs_parser\u001b[0m:\u001b[36mpdf_parser_from_folder\u001b[0m:\u001b[36m91\u001b[0m - \u001b[1mParsing file: 66772_2.pdf\u001b[0m\n"
     ]
    },
    {
     "name": "stdout",
     "output_type": "stream",
     "text": [
      "Content extraction failed using Tika. Attempting conversion to TIFF.\n"
     ]
    },
    {
     "name": "stderr",
     "output_type": "stream",
     "text": [
      "\u001b[32m2024-01-30 12:23:34.899\u001b[0m | \u001b[1mINFO    \u001b[0m | \u001b[36msrc.pdfs_to_text.pdfs_parser\u001b[0m:\u001b[36mpdf_parser_from_folder\u001b[0m:\u001b[36m91\u001b[0m - \u001b[1mParsing file: 68870_1.pdf\u001b[0m\n"
     ]
    },
    {
     "name": "stdout",
     "output_type": "stream",
     "text": [
      "Content extraction failed using Tika. Attempting conversion to TIFF.\n"
     ]
    },
    {
     "name": "stderr",
     "output_type": "stream",
     "text": [
      "\u001b[32m2024-01-30 12:23:38.154\u001b[0m | \u001b[1mINFO    \u001b[0m | \u001b[36msrc.pdfs_to_text.pdfs_parser\u001b[0m:\u001b[36mpdf_parser_from_folder\u001b[0m:\u001b[36m91\u001b[0m - \u001b[1mParsing file: 68870_2.pdf\u001b[0m\n"
     ]
    },
    {
     "name": "stdout",
     "output_type": "stream",
     "text": [
      "Content extraction failed using Tika. Attempting conversion to TIFF.\n"
     ]
    },
    {
     "name": "stderr",
     "output_type": "stream",
     "text": [
      "\u001b[32m2024-01-30 12:23:41.101\u001b[0m | \u001b[1mINFO    \u001b[0m | \u001b[36msrc.pdfs_to_text.pdfs_parser\u001b[0m:\u001b[36mpdf_parser_from_folder\u001b[0m:\u001b[36m91\u001b[0m - \u001b[1mParsing file: 68870_3.pdf\u001b[0m\n"
     ]
    },
    {
     "name": "stdout",
     "output_type": "stream",
     "text": [
      "Content extraction failed using Tika. Attempting conversion to TIFF.\n"
     ]
    },
    {
     "name": "stderr",
     "output_type": "stream",
     "text": [
      "\u001b[32m2024-01-30 12:23:44.379\u001b[0m | \u001b[1mINFO    \u001b[0m | \u001b[36msrc.pdfs_to_text.pdfs_parser\u001b[0m:\u001b[36mpdf_parser_from_folder\u001b[0m:\u001b[36m91\u001b[0m - \u001b[1mParsing file: 68870_4.pdf\u001b[0m\n"
     ]
    },
    {
     "name": "stdout",
     "output_type": "stream",
     "text": [
      "Content extraction failed using Tika. Attempting conversion to TIFF.\n"
     ]
    },
    {
     "name": "stderr",
     "output_type": "stream",
     "text": [
      "\u001b[32m2024-01-30 12:23:47.654\u001b[0m | \u001b[1mINFO    \u001b[0m | \u001b[36msrc.pdfs_to_text.pdfs_parser\u001b[0m:\u001b[36mpdf_parser_from_folder\u001b[0m:\u001b[36m91\u001b[0m - \u001b[1mParsing file: 68870_5.pdf\u001b[0m\n"
     ]
    },
    {
     "name": "stdout",
     "output_type": "stream",
     "text": [
      "Content extraction failed using Tika. Attempting conversion to TIFF.\n"
     ]
    },
    {
     "name": "stderr",
     "output_type": "stream",
     "text": [
      "\u001b[32m2024-01-30 12:23:51.529\u001b[0m | \u001b[1mINFO    \u001b[0m | \u001b[36msrc.pdfs_to_text.pdfs_parser\u001b[0m:\u001b[36mpdf_parser_from_folder\u001b[0m:\u001b[36m91\u001b[0m - \u001b[1mParsing file: 68870_6.pdf\u001b[0m\n"
     ]
    },
    {
     "name": "stdout",
     "output_type": "stream",
     "text": [
      "Content extraction failed using Tika. Attempting conversion to TIFF.\n"
     ]
    },
    {
     "name": "stderr",
     "output_type": "stream",
     "text": [
      "\u001b[32m2024-01-30 12:23:58.727\u001b[0m | \u001b[1mINFO    \u001b[0m | \u001b[36msrc.pdfs_to_text.pdfs_parser\u001b[0m:\u001b[36mpdf_parser_from_folder\u001b[0m:\u001b[36m91\u001b[0m - \u001b[1mParsing file: 69903_1.pdf\u001b[0m\n"
     ]
    },
    {
     "name": "stdout",
     "output_type": "stream",
     "text": [
      "Content extraction failed using Tika. Attempting conversion to TIFF.\n"
     ]
    },
    {
     "name": "stderr",
     "output_type": "stream",
     "text": [
      "\u001b[32m2024-01-30 12:24:00.149\u001b[0m | \u001b[1mINFO    \u001b[0m | \u001b[36msrc.pdfs_to_text.pdfs_parser\u001b[0m:\u001b[36mpdf_parser_from_folder\u001b[0m:\u001b[36m91\u001b[0m - \u001b[1mParsing file: 69903_2.pdf\u001b[0m\n"
     ]
    },
    {
     "name": "stdout",
     "output_type": "stream",
     "text": [
      "Content extraction failed using Tika. Attempting conversion to TIFF.\n"
     ]
    },
    {
     "name": "stderr",
     "output_type": "stream",
     "text": [
      "\u001b[32m2024-01-30 12:24:01.254\u001b[0m | \u001b[1mINFO    \u001b[0m | \u001b[36msrc.pdfs_to_text.pdfs_parser\u001b[0m:\u001b[36mpdf_parser_from_folder\u001b[0m:\u001b[36m91\u001b[0m - \u001b[1mParsing file: 69903_3.pdf\u001b[0m\n"
     ]
    },
    {
     "name": "stdout",
     "output_type": "stream",
     "text": [
      "Content extraction failed using Tika. Attempting conversion to TIFF.\n"
     ]
    },
    {
     "name": "stderr",
     "output_type": "stream",
     "text": [
      "\u001b[32m2024-01-30 12:24:02.717\u001b[0m | \u001b[1mINFO    \u001b[0m | \u001b[36msrc.pdfs_to_text.pdfs_parser\u001b[0m:\u001b[36mpdf_parser_from_folder\u001b[0m:\u001b[36m91\u001b[0m - \u001b[1mParsing file: 69903_4.pdf\u001b[0m\n"
     ]
    },
    {
     "name": "stdout",
     "output_type": "stream",
     "text": [
      "Content extraction failed using Tika. Attempting conversion to TIFF.\n"
     ]
    },
    {
     "name": "stderr",
     "output_type": "stream",
     "text": [
      "\u001b[32m2024-01-30 12:24:04.281\u001b[0m | \u001b[1mINFO    \u001b[0m | \u001b[36msrc.pdfs_to_text.pdfs_parser\u001b[0m:\u001b[36mpdf_parser_from_folder\u001b[0m:\u001b[36m91\u001b[0m - \u001b[1mParsing file: 69903_5.pdf\u001b[0m\n"
     ]
    },
    {
     "name": "stdout",
     "output_type": "stream",
     "text": [
      "Content extraction failed using Tika. Attempting conversion to TIFF.\n"
     ]
    },
    {
     "name": "stderr",
     "output_type": "stream",
     "text": [
      "\u001b[32m2024-01-30 12:24:05.415\u001b[0m | \u001b[1mINFO    \u001b[0m | \u001b[36msrc.pdfs_to_text.pdfs_parser\u001b[0m:\u001b[36mpdf_parser_from_folder\u001b[0m:\u001b[36m91\u001b[0m - \u001b[1mParsing file: 69903_6.pdf\u001b[0m\n"
     ]
    },
    {
     "name": "stdout",
     "output_type": "stream",
     "text": [
      "Content extraction failed using Tika. Attempting conversion to TIFF.\n"
     ]
    },
    {
     "name": "stderr",
     "output_type": "stream",
     "text": [
      "\u001b[32m2024-01-30 12:24:06.481\u001b[0m | \u001b[1mINFO    \u001b[0m | \u001b[36msrc.pdfs_to_text.pdfs_parser\u001b[0m:\u001b[36mpdf_parser_from_folder\u001b[0m:\u001b[36m91\u001b[0m - \u001b[1mParsing file: 71022_1.pdf\u001b[0m\n",
      "\u001b[32m2024-01-30 12:24:06.572\u001b[0m | \u001b[1mINFO    \u001b[0m | \u001b[36msrc.pdfs_to_text.pdfs_parser\u001b[0m:\u001b[36mpdf_parser_from_folder\u001b[0m:\u001b[36m91\u001b[0m - \u001b[1mParsing file: 71022_10.pdf\u001b[0m\n",
      "\u001b[32m2024-01-30 12:24:06.632\u001b[0m | \u001b[1mINFO    \u001b[0m | \u001b[36msrc.pdfs_to_text.pdfs_parser\u001b[0m:\u001b[36mpdf_parser_from_folder\u001b[0m:\u001b[36m91\u001b[0m - \u001b[1mParsing file: 71022_11.pdf\u001b[0m\n",
      "\u001b[32m2024-01-30 12:24:06.647\u001b[0m | \u001b[1mINFO    \u001b[0m | \u001b[36msrc.pdfs_to_text.pdfs_parser\u001b[0m:\u001b[36mpdf_parser_from_folder\u001b[0m:\u001b[36m91\u001b[0m - \u001b[1mParsing file: 71022_12.pdf\u001b[0m\n",
      "\u001b[32m2024-01-30 12:24:06.848\u001b[0m | \u001b[1mINFO    \u001b[0m | \u001b[36msrc.pdfs_to_text.pdfs_parser\u001b[0m:\u001b[36mpdf_parser_from_folder\u001b[0m:\u001b[36m91\u001b[0m - \u001b[1mParsing file: 71022_13.pdf\u001b[0m\n",
      "\u001b[32m2024-01-30 12:24:06.874\u001b[0m | \u001b[1mINFO    \u001b[0m | \u001b[36msrc.pdfs_to_text.pdfs_parser\u001b[0m:\u001b[36mpdf_parser_from_folder\u001b[0m:\u001b[36m91\u001b[0m - \u001b[1mParsing file: 71022_14.pdf\u001b[0m\n",
      "\u001b[32m2024-01-30 12:24:06.906\u001b[0m | \u001b[1mINFO    \u001b[0m | \u001b[36msrc.pdfs_to_text.pdfs_parser\u001b[0m:\u001b[36mpdf_parser_from_folder\u001b[0m:\u001b[36m91\u001b[0m - \u001b[1mParsing file: 71022_15.pdf\u001b[0m\n",
      "\u001b[32m2024-01-30 12:24:06.937\u001b[0m | \u001b[1mINFO    \u001b[0m | \u001b[36msrc.pdfs_to_text.pdfs_parser\u001b[0m:\u001b[36mpdf_parser_from_folder\u001b[0m:\u001b[36m91\u001b[0m - \u001b[1mParsing file: 71022_16.pdf\u001b[0m\n",
      "\u001b[32m2024-01-30 12:24:06.977\u001b[0m | \u001b[1mINFO    \u001b[0m | \u001b[36msrc.pdfs_to_text.pdfs_parser\u001b[0m:\u001b[36mpdf_parser_from_folder\u001b[0m:\u001b[36m91\u001b[0m - \u001b[1mParsing file: 71022_17.pdf\u001b[0m\n",
      "\u001b[32m2024-01-30 12:24:06.997\u001b[0m | \u001b[1mINFO    \u001b[0m | \u001b[36msrc.pdfs_to_text.pdfs_parser\u001b[0m:\u001b[36mpdf_parser_from_folder\u001b[0m:\u001b[36m91\u001b[0m - \u001b[1mParsing file: 71022_18.pdf\u001b[0m\n",
      "\u001b[32m2024-01-30 12:24:07.028\u001b[0m | \u001b[1mINFO    \u001b[0m | \u001b[36msrc.pdfs_to_text.pdfs_parser\u001b[0m:\u001b[36mpdf_parser_from_folder\u001b[0m:\u001b[36m91\u001b[0m - \u001b[1mParsing file: 71022_19.pdf\u001b[0m\n",
      "\u001b[32m2024-01-30 12:24:07.042\u001b[0m | \u001b[1mINFO    \u001b[0m | \u001b[36msrc.pdfs_to_text.pdfs_parser\u001b[0m:\u001b[36mpdf_parser_from_folder\u001b[0m:\u001b[36m91\u001b[0m - \u001b[1mParsing file: 71022_2.pdf\u001b[0m\n",
      "\u001b[32m2024-01-30 12:24:07.232\u001b[0m | \u001b[1mINFO    \u001b[0m | \u001b[36msrc.pdfs_to_text.pdfs_parser\u001b[0m:\u001b[36mpdf_parser_from_folder\u001b[0m:\u001b[36m91\u001b[0m - \u001b[1mParsing file: 71022_20.pdf\u001b[0m\n"
     ]
    },
    {
     "name": "stdout",
     "output_type": "stream",
     "text": [
      "Content extraction failed using Tika. Attempting conversion to TIFF.\n"
     ]
    },
    {
     "name": "stderr",
     "output_type": "stream",
     "text": [
      "\u001b[32m2024-01-30 12:24:08.938\u001b[0m | \u001b[1mINFO    \u001b[0m | \u001b[36msrc.pdfs_to_text.pdfs_parser\u001b[0m:\u001b[36mpdf_parser_from_folder\u001b[0m:\u001b[36m91\u001b[0m - \u001b[1mParsing file: 71022_21.pdf\u001b[0m\n",
      "\u001b[32m2024-01-30 12:24:08.967\u001b[0m | \u001b[1mINFO    \u001b[0m | \u001b[36msrc.pdfs_to_text.pdfs_parser\u001b[0m:\u001b[36mpdf_parser_from_folder\u001b[0m:\u001b[36m91\u001b[0m - \u001b[1mParsing file: 71022_3.pdf\u001b[0m\n",
      "\u001b[32m2024-01-30 12:24:09.136\u001b[0m | \u001b[1mINFO    \u001b[0m | \u001b[36msrc.pdfs_to_text.pdfs_parser\u001b[0m:\u001b[36mpdf_parser_from_folder\u001b[0m:\u001b[36m91\u001b[0m - \u001b[1mParsing file: 71022_4.pdf\u001b[0m\n",
      "\u001b[32m2024-01-30 12:24:09.175\u001b[0m | \u001b[1mINFO    \u001b[0m | \u001b[36msrc.pdfs_to_text.pdfs_parser\u001b[0m:\u001b[36mpdf_parser_from_folder\u001b[0m:\u001b[36m91\u001b[0m - \u001b[1mParsing file: 71022_5.pdf\u001b[0m\n"
     ]
    },
    {
     "name": "stdout",
     "output_type": "stream",
     "text": [
      "Content extraction failed using Tika. Attempting conversion to TIFF.\n"
     ]
    },
    {
     "name": "stderr",
     "output_type": "stream",
     "text": [
      "\u001b[32m2024-01-30 12:24:09.892\u001b[0m | \u001b[1mINFO    \u001b[0m | \u001b[36msrc.pdfs_to_text.pdfs_parser\u001b[0m:\u001b[36mpdf_parser_from_folder\u001b[0m:\u001b[36m91\u001b[0m - \u001b[1mParsing file: 71022_6.pdf\u001b[0m\n",
      "\u001b[32m2024-01-30 12:24:09.925\u001b[0m | \u001b[1mINFO    \u001b[0m | \u001b[36msrc.pdfs_to_text.pdfs_parser\u001b[0m:\u001b[36mpdf_parser_from_folder\u001b[0m:\u001b[36m91\u001b[0m - \u001b[1mParsing file: 71022_7.pdf\u001b[0m\n",
      "\u001b[32m2024-01-30 12:24:09.959\u001b[0m | \u001b[1mINFO    \u001b[0m | \u001b[36msrc.pdfs_to_text.pdfs_parser\u001b[0m:\u001b[36mpdf_parser_from_folder\u001b[0m:\u001b[36m91\u001b[0m - \u001b[1mParsing file: 71022_8.pdf\u001b[0m\n",
      "\u001b[32m2024-01-30 12:24:09.987\u001b[0m | \u001b[1mINFO    \u001b[0m | \u001b[36msrc.pdfs_to_text.pdfs_parser\u001b[0m:\u001b[36mpdf_parser_from_folder\u001b[0m:\u001b[36m91\u001b[0m - \u001b[1mParsing file: 71022_9.pdf\u001b[0m\n",
      "\u001b[32m2024-01-30 12:24:10.018\u001b[0m | \u001b[1mINFO    \u001b[0m | \u001b[36msrc.pdfs_to_text.pdfs_parser\u001b[0m:\u001b[36mpdf_parser_from_folder\u001b[0m:\u001b[36m91\u001b[0m - \u001b[1mParsing file: 74346_1.pdf\u001b[0m\n"
     ]
    },
    {
     "name": "stdout",
     "output_type": "stream",
     "text": [
      "Content extraction failed using Tika. Attempting conversion to TIFF.\n"
     ]
    },
    {
     "name": "stderr",
     "output_type": "stream",
     "text": [
      "\u001b[32m2024-01-30 12:24:13.026\u001b[0m | \u001b[1mINFO    \u001b[0m | \u001b[36msrc.pdfs_to_text.pdfs_parser\u001b[0m:\u001b[36mpdf_parser_from_folder\u001b[0m:\u001b[36m91\u001b[0m - \u001b[1mParsing file: 74346_2.pdf\u001b[0m\n"
     ]
    },
    {
     "name": "stdout",
     "output_type": "stream",
     "text": [
      "Content extraction failed using Tika. Attempting conversion to TIFF.\n"
     ]
    },
    {
     "name": "stderr",
     "output_type": "stream",
     "text": [
      "\u001b[32m2024-01-30 12:24:16.460\u001b[0m | \u001b[1mINFO    \u001b[0m | \u001b[36msrc.pdfs_to_text.pdfs_parser\u001b[0m:\u001b[36mpdf_parser_from_folder\u001b[0m:\u001b[36m91\u001b[0m - \u001b[1mParsing file: 74346_3.pdf\u001b[0m\n"
     ]
    },
    {
     "name": "stdout",
     "output_type": "stream",
     "text": [
      "Content extraction failed using Tika. Attempting conversion to TIFF.\n"
     ]
    },
    {
     "name": "stderr",
     "output_type": "stream",
     "text": [
      "\u001b[32m2024-01-30 12:24:19.650\u001b[0m | \u001b[1mINFO    \u001b[0m | \u001b[36msrc.pdfs_to_text.pdfs_parser\u001b[0m:\u001b[36mpdf_parser_from_folder\u001b[0m:\u001b[36m91\u001b[0m - \u001b[1mParsing file: 74346_4.pdf\u001b[0m\n"
     ]
    },
    {
     "name": "stdout",
     "output_type": "stream",
     "text": [
      "Content extraction failed using Tika. Attempting conversion to TIFF.\n"
     ]
    },
    {
     "name": "stderr",
     "output_type": "stream",
     "text": [
      "\u001b[32m2024-01-30 12:24:23.071\u001b[0m | \u001b[1mINFO    \u001b[0m | \u001b[36msrc.pdfs_to_text.pdfs_parser\u001b[0m:\u001b[36mpdf_parser_from_folder\u001b[0m:\u001b[36m91\u001b[0m - \u001b[1mParsing file: 75102_1.pdf\u001b[0m\n"
     ]
    },
    {
     "name": "stdout",
     "output_type": "stream",
     "text": [
      "Content extraction failed using Tika. Attempting conversion to TIFF.\n"
     ]
    },
    {
     "name": "stderr",
     "output_type": "stream",
     "text": [
      "\u001b[32m2024-01-30 12:24:24.544\u001b[0m | \u001b[1mINFO    \u001b[0m | \u001b[36msrc.pdfs_to_text.pdfs_parser\u001b[0m:\u001b[36mpdf_parser_from_folder\u001b[0m:\u001b[36m91\u001b[0m - \u001b[1mParsing file: 75102_2.pdf\u001b[0m\n"
     ]
    },
    {
     "name": "stdout",
     "output_type": "stream",
     "text": [
      "Content extraction failed using Tika. Attempting conversion to TIFF.\n"
     ]
    },
    {
     "name": "stderr",
     "output_type": "stream",
     "text": [
      "\u001b[32m2024-01-30 12:24:25.737\u001b[0m | \u001b[1mINFO    \u001b[0m | \u001b[36msrc.pdfs_to_text.pdfs_parser\u001b[0m:\u001b[36mpdf_parser_from_folder\u001b[0m:\u001b[36m91\u001b[0m - \u001b[1mParsing file: 75102_3.pdf\u001b[0m\n"
     ]
    },
    {
     "name": "stdout",
     "output_type": "stream",
     "text": [
      "Content extraction failed using Tika. Attempting conversion to TIFF.\n"
     ]
    },
    {
     "name": "stderr",
     "output_type": "stream",
     "text": [
      "\u001b[32m2024-01-30 12:24:27.272\u001b[0m | \u001b[1mINFO    \u001b[0m | \u001b[36msrc.pdfs_to_text.pdfs_parser\u001b[0m:\u001b[36mpdf_parser_from_folder\u001b[0m:\u001b[36m91\u001b[0m - \u001b[1mParsing file: 75102_4.pdf\u001b[0m\n"
     ]
    },
    {
     "name": "stdout",
     "output_type": "stream",
     "text": [
      "Content extraction failed using Tika. Attempting conversion to TIFF.\n"
     ]
    },
    {
     "name": "stderr",
     "output_type": "stream",
     "text": [
      "\u001b[32m2024-01-30 12:24:28.836\u001b[0m | \u001b[1mINFO    \u001b[0m | \u001b[36msrc.pdfs_to_text.pdfs_parser\u001b[0m:\u001b[36mpdf_parser_from_folder\u001b[0m:\u001b[36m91\u001b[0m - \u001b[1mParsing file: 75102_5.pdf\u001b[0m\n"
     ]
    },
    {
     "name": "stdout",
     "output_type": "stream",
     "text": [
      "Content extraction failed using Tika. Attempting conversion to TIFF.\n"
     ]
    },
    {
     "name": "stderr",
     "output_type": "stream",
     "text": [
      "\u001b[32m2024-01-30 12:24:29.956\u001b[0m | \u001b[1mINFO    \u001b[0m | \u001b[36msrc.pdfs_to_text.pdfs_parser\u001b[0m:\u001b[36mpdf_parser_from_folder\u001b[0m:\u001b[36m91\u001b[0m - \u001b[1mParsing file: 7575_1.pdf\u001b[0m\n"
     ]
    },
    {
     "name": "stdout",
     "output_type": "stream",
     "text": [
      "Content extraction failed using Tika. Attempting conversion to TIFF.\n"
     ]
    },
    {
     "name": "stderr",
     "output_type": "stream",
     "text": [
      "\u001b[32m2024-01-30 12:24:31.022\u001b[0m | \u001b[1mINFO    \u001b[0m | \u001b[36msrc.pdfs_to_text.pdfs_parser\u001b[0m:\u001b[36mpdf_parser_from_folder\u001b[0m:\u001b[36m91\u001b[0m - \u001b[1mParsing file: 7575_2.pdf\u001b[0m\n"
     ]
    },
    {
     "name": "stdout",
     "output_type": "stream",
     "text": [
      "Content extraction failed using Tika. Attempting conversion to TIFF.\n"
     ]
    },
    {
     "name": "stderr",
     "output_type": "stream",
     "text": [
      "\u001b[32m2024-01-30 12:24:32.189\u001b[0m | \u001b[1mINFO    \u001b[0m | \u001b[36msrc.pdfs_to_text.pdfs_parser\u001b[0m:\u001b[36mpdf_parser_from_folder\u001b[0m:\u001b[36m91\u001b[0m - \u001b[1mParsing file: 7575_3.pdf\u001b[0m\n"
     ]
    },
    {
     "name": "stdout",
     "output_type": "stream",
     "text": [
      "Content extraction failed using Tika. Attempting conversion to TIFF.\n"
     ]
    },
    {
     "name": "stderr",
     "output_type": "stream",
     "text": [
      "\u001b[32m2024-01-30 12:24:33.403\u001b[0m | \u001b[1mINFO    \u001b[0m | \u001b[36msrc.pdfs_to_text.pdfs_parser\u001b[0m:\u001b[36mpdf_parser_from_folder\u001b[0m:\u001b[36m91\u001b[0m - \u001b[1mParsing file: 7575_4.pdf\u001b[0m\n"
     ]
    },
    {
     "name": "stdout",
     "output_type": "stream",
     "text": [
      "Content extraction failed using Tika. Attempting conversion to TIFF.\n"
     ]
    },
    {
     "name": "stderr",
     "output_type": "stream",
     "text": [
      "\u001b[32m2024-01-30 12:24:34.622\u001b[0m | \u001b[1mINFO    \u001b[0m | \u001b[36msrc.pdfs_to_text.pdfs_parser\u001b[0m:\u001b[36mpdf_parser_from_folder\u001b[0m:\u001b[36m91\u001b[0m - \u001b[1mParsing file: 7575_5.pdf\u001b[0m\n"
     ]
    },
    {
     "name": "stdout",
     "output_type": "stream",
     "text": [
      "Content extraction failed using Tika. Attempting conversion to TIFF.\n"
     ]
    },
    {
     "name": "stderr",
     "output_type": "stream",
     "text": [
      "\u001b[32m2024-01-30 12:24:35.851\u001b[0m | \u001b[1mINFO    \u001b[0m | \u001b[36msrc.pdfs_to_text.pdfs_parser\u001b[0m:\u001b[36mpdf_parser_from_folder\u001b[0m:\u001b[36m91\u001b[0m - \u001b[1mParsing file: 7575_6.pdf\u001b[0m\n"
     ]
    },
    {
     "name": "stdout",
     "output_type": "stream",
     "text": [
      "Content extraction failed using Tika. Attempting conversion to TIFF.\n"
     ]
    },
    {
     "name": "stderr",
     "output_type": "stream",
     "text": [
      "\u001b[32m2024-01-30 12:24:37.035\u001b[0m | \u001b[1mINFO    \u001b[0m | \u001b[36msrc.pdfs_to_text.pdfs_parser\u001b[0m:\u001b[36mpdf_parser_from_folder\u001b[0m:\u001b[36m91\u001b[0m - \u001b[1mParsing file: 7575_7.pdf\u001b[0m\n"
     ]
    },
    {
     "name": "stdout",
     "output_type": "stream",
     "text": [
      "Content extraction failed using Tika. Attempting conversion to TIFF.\n"
     ]
    },
    {
     "name": "stderr",
     "output_type": "stream",
     "text": [
      "\u001b[32m2024-01-30 12:24:38.029\u001b[0m | \u001b[1mINFO    \u001b[0m | \u001b[36msrc.pdfs_to_text.pdfs_parser\u001b[0m:\u001b[36mpdf_parser_from_folder\u001b[0m:\u001b[36m91\u001b[0m - \u001b[1mParsing file: 78728_1.pdf\u001b[0m\n",
      "\u001b[32m2024-01-30 12:24:38.091\u001b[0m | \u001b[1mINFO    \u001b[0m | \u001b[36msrc.pdfs_to_text.pdfs_parser\u001b[0m:\u001b[36mpdf_parser_from_folder\u001b[0m:\u001b[36m91\u001b[0m - \u001b[1mParsing file: 78728_10.pdf\u001b[0m\n",
      "\u001b[32m2024-01-30 12:24:38.128\u001b[0m | \u001b[1mINFO    \u001b[0m | \u001b[36msrc.pdfs_to_text.pdfs_parser\u001b[0m:\u001b[36mpdf_parser_from_folder\u001b[0m:\u001b[36m91\u001b[0m - \u001b[1mParsing file: 78728_11.pdf\u001b[0m\n",
      "\u001b[32m2024-01-30 12:24:38.156\u001b[0m | \u001b[1mINFO    \u001b[0m | \u001b[36msrc.pdfs_to_text.pdfs_parser\u001b[0m:\u001b[36mpdf_parser_from_folder\u001b[0m:\u001b[36m91\u001b[0m - \u001b[1mParsing file: 78728_12.pdf\u001b[0m\n",
      "\u001b[32m2024-01-30 12:24:38.201\u001b[0m | \u001b[1mINFO    \u001b[0m | \u001b[36msrc.pdfs_to_text.pdfs_parser\u001b[0m:\u001b[36mpdf_parser_from_folder\u001b[0m:\u001b[36m91\u001b[0m - \u001b[1mParsing file: 78728_13.pdf\u001b[0m\n",
      "\u001b[32m2024-01-30 12:24:38.242\u001b[0m | \u001b[1mINFO    \u001b[0m | \u001b[36msrc.pdfs_to_text.pdfs_parser\u001b[0m:\u001b[36mpdf_parser_from_folder\u001b[0m:\u001b[36m91\u001b[0m - \u001b[1mParsing file: 78728_14.pdf\u001b[0m\n"
     ]
    },
    {
     "name": "stdout",
     "output_type": "stream",
     "text": [
      "Content extraction failed using Tika. Attempting conversion to TIFF.\n"
     ]
    },
    {
     "name": "stderr",
     "output_type": "stream",
     "text": [
      "\u001b[32m2024-01-30 12:24:39.707\u001b[0m | \u001b[1mINFO    \u001b[0m | \u001b[36msrc.pdfs_to_text.pdfs_parser\u001b[0m:\u001b[36mpdf_parser_from_folder\u001b[0m:\u001b[36m91\u001b[0m - \u001b[1mParsing file: 78728_15.pdf\u001b[0m\n",
      "\u001b[32m2024-01-30 12:24:39.730\u001b[0m | \u001b[1mINFO    \u001b[0m | \u001b[36msrc.pdfs_to_text.pdfs_parser\u001b[0m:\u001b[36mpdf_parser_from_folder\u001b[0m:\u001b[36m91\u001b[0m - \u001b[1mParsing file: 78728_16.pdf\u001b[0m\n",
      "\u001b[32m2024-01-30 12:24:39.761\u001b[0m | \u001b[1mINFO    \u001b[0m | \u001b[36msrc.pdfs_to_text.pdfs_parser\u001b[0m:\u001b[36mpdf_parser_from_folder\u001b[0m:\u001b[36m91\u001b[0m - \u001b[1mParsing file: 78728_17.pdf\u001b[0m\n",
      "\u001b[32m2024-01-30 12:24:39.793\u001b[0m | \u001b[1mINFO    \u001b[0m | \u001b[36msrc.pdfs_to_text.pdfs_parser\u001b[0m:\u001b[36mpdf_parser_from_folder\u001b[0m:\u001b[36m91\u001b[0m - \u001b[1mParsing file: 78728_18.pdf\u001b[0m\n",
      "\u001b[32m2024-01-30 12:24:39.833\u001b[0m | \u001b[1mINFO    \u001b[0m | \u001b[36msrc.pdfs_to_text.pdfs_parser\u001b[0m:\u001b[36mpdf_parser_from_folder\u001b[0m:\u001b[36m91\u001b[0m - \u001b[1mParsing file: 78728_19.pdf\u001b[0m\n",
      "\u001b[32m2024-01-30 12:24:39.865\u001b[0m | \u001b[1mINFO    \u001b[0m | \u001b[36msrc.pdfs_to_text.pdfs_parser\u001b[0m:\u001b[36mpdf_parser_from_folder\u001b[0m:\u001b[36m91\u001b[0m - \u001b[1mParsing file: 78728_2.pdf\u001b[0m\n",
      "\u001b[32m2024-01-30 12:24:39.896\u001b[0m | \u001b[1mINFO    \u001b[0m | \u001b[36msrc.pdfs_to_text.pdfs_parser\u001b[0m:\u001b[36mpdf_parser_from_folder\u001b[0m:\u001b[36m91\u001b[0m - \u001b[1mParsing file: 78728_20.pdf\u001b[0m\n",
      "\u001b[32m2024-01-30 12:24:39.912\u001b[0m | \u001b[1mINFO    \u001b[0m | \u001b[36msrc.pdfs_to_text.pdfs_parser\u001b[0m:\u001b[36mpdf_parser_from_folder\u001b[0m:\u001b[36m91\u001b[0m - \u001b[1mParsing file: 78728_3.pdf\u001b[0m\n",
      "\u001b[32m2024-01-30 12:24:39.943\u001b[0m | \u001b[1mINFO    \u001b[0m | \u001b[36msrc.pdfs_to_text.pdfs_parser\u001b[0m:\u001b[36mpdf_parser_from_folder\u001b[0m:\u001b[36m91\u001b[0m - \u001b[1mParsing file: 78728_4.pdf\u001b[0m\n",
      "\u001b[32m2024-01-30 12:24:39.990\u001b[0m | \u001b[1mINFO    \u001b[0m | \u001b[36msrc.pdfs_to_text.pdfs_parser\u001b[0m:\u001b[36mpdf_parser_from_folder\u001b[0m:\u001b[36m91\u001b[0m - \u001b[1mParsing file: 78728_5.pdf\u001b[0m\n",
      "\u001b[32m2024-01-30 12:24:40.032\u001b[0m | \u001b[1mINFO    \u001b[0m | \u001b[36msrc.pdfs_to_text.pdfs_parser\u001b[0m:\u001b[36mpdf_parser_from_folder\u001b[0m:\u001b[36m91\u001b[0m - \u001b[1mParsing file: 78728_6.pdf\u001b[0m\n"
     ]
    },
    {
     "name": "stdout",
     "output_type": "stream",
     "text": [
      "Content extraction failed using Tika. Attempting conversion to TIFF.\n"
     ]
    },
    {
     "name": "stderr",
     "output_type": "stream",
     "text": [
      "\u001b[32m2024-01-30 12:24:41.474\u001b[0m | \u001b[1mINFO    \u001b[0m | \u001b[36msrc.pdfs_to_text.pdfs_parser\u001b[0m:\u001b[36mpdf_parser_from_folder\u001b[0m:\u001b[36m91\u001b[0m - \u001b[1mParsing file: 78728_7.pdf\u001b[0m\n",
      "\u001b[32m2024-01-30 12:24:41.523\u001b[0m | \u001b[1mINFO    \u001b[0m | \u001b[36msrc.pdfs_to_text.pdfs_parser\u001b[0m:\u001b[36mpdf_parser_from_folder\u001b[0m:\u001b[36m91\u001b[0m - \u001b[1mParsing file: 78728_8.pdf\u001b[0m\n",
      "\u001b[32m2024-01-30 12:24:41.660\u001b[0m | \u001b[1mINFO    \u001b[0m | \u001b[36msrc.pdfs_to_text.pdfs_parser\u001b[0m:\u001b[36mpdf_parser_from_folder\u001b[0m:\u001b[36m91\u001b[0m - \u001b[1mParsing file: 78728_9.pdf\u001b[0m\n",
      "\u001b[32m2024-01-30 12:24:41.684\u001b[0m | \u001b[1mINFO    \u001b[0m | \u001b[36msrc.pdfs_to_text.pdfs_parser\u001b[0m:\u001b[36mpdf_parser_from_folder\u001b[0m:\u001b[36m91\u001b[0m - \u001b[1mParsing file: 80265_1.pdf\u001b[0m\n"
     ]
    },
    {
     "name": "stdout",
     "output_type": "stream",
     "text": [
      "Content extraction failed using Tika. Attempting conversion to TIFF.\n"
     ]
    },
    {
     "name": "stderr",
     "output_type": "stream",
     "text": [
      "\u001b[32m2024-01-30 12:24:44.163\u001b[0m | \u001b[1mINFO    \u001b[0m | \u001b[36msrc.pdfs_to_text.pdfs_parser\u001b[0m:\u001b[36mpdf_parser_from_folder\u001b[0m:\u001b[36m91\u001b[0m - \u001b[1mParsing file: 80265_10.pdf\u001b[0m\n"
     ]
    },
    {
     "name": "stdout",
     "output_type": "stream",
     "text": [
      "Content extraction failed using Tika. Attempting conversion to TIFF.\n"
     ]
    },
    {
     "name": "stderr",
     "output_type": "stream",
     "text": [
      "\u001b[32m2024-01-30 12:24:44.768\u001b[0m | \u001b[1mINFO    \u001b[0m | \u001b[36msrc.pdfs_to_text.pdfs_parser\u001b[0m:\u001b[36mpdf_parser_from_folder\u001b[0m:\u001b[36m91\u001b[0m - \u001b[1mParsing file: 80265_11.pdf\u001b[0m\n"
     ]
    },
    {
     "name": "stdout",
     "output_type": "stream",
     "text": [
      "Content extraction failed using Tika. Attempting conversion to TIFF.\n"
     ]
    },
    {
     "name": "stderr",
     "output_type": "stream",
     "text": [
      "\u001b[32m2024-01-30 12:24:45.389\u001b[0m | \u001b[1mINFO    \u001b[0m | \u001b[36msrc.pdfs_to_text.pdfs_parser\u001b[0m:\u001b[36mpdf_parser_from_folder\u001b[0m:\u001b[36m91\u001b[0m - \u001b[1mParsing file: 80265_12.pdf\u001b[0m\n"
     ]
    },
    {
     "name": "stdout",
     "output_type": "stream",
     "text": [
      "Content extraction failed using Tika. Attempting conversion to TIFF.\n"
     ]
    },
    {
     "name": "stderr",
     "output_type": "stream",
     "text": [
      "\u001b[32m2024-01-30 12:24:45.980\u001b[0m | \u001b[1mINFO    \u001b[0m | \u001b[36msrc.pdfs_to_text.pdfs_parser\u001b[0m:\u001b[36mpdf_parser_from_folder\u001b[0m:\u001b[36m91\u001b[0m - \u001b[1mParsing file: 80265_13.pdf\u001b[0m\n"
     ]
    },
    {
     "name": "stdout",
     "output_type": "stream",
     "text": [
      "Content extraction failed using Tika. Attempting conversion to TIFF.\n"
     ]
    },
    {
     "name": "stderr",
     "output_type": "stream",
     "text": [
      "\u001b[32m2024-01-30 12:24:46.583\u001b[0m | \u001b[1mINFO    \u001b[0m | \u001b[36msrc.pdfs_to_text.pdfs_parser\u001b[0m:\u001b[36mpdf_parser_from_folder\u001b[0m:\u001b[36m91\u001b[0m - \u001b[1mParsing file: 80265_14.pdf\u001b[0m\n"
     ]
    },
    {
     "name": "stdout",
     "output_type": "stream",
     "text": [
      "Content extraction failed using Tika. Attempting conversion to TIFF.\n"
     ]
    },
    {
     "name": "stderr",
     "output_type": "stream",
     "text": [
      "\u001b[32m2024-01-30 12:24:47.190\u001b[0m | \u001b[1mINFO    \u001b[0m | \u001b[36msrc.pdfs_to_text.pdfs_parser\u001b[0m:\u001b[36mpdf_parser_from_folder\u001b[0m:\u001b[36m91\u001b[0m - \u001b[1mParsing file: 80265_15.pdf\u001b[0m\n"
     ]
    },
    {
     "name": "stdout",
     "output_type": "stream",
     "text": [
      "Content extraction failed using Tika. Attempting conversion to TIFF.\n"
     ]
    },
    {
     "name": "stderr",
     "output_type": "stream",
     "text": [
      "\u001b[32m2024-01-30 12:24:47.779\u001b[0m | \u001b[1mINFO    \u001b[0m | \u001b[36msrc.pdfs_to_text.pdfs_parser\u001b[0m:\u001b[36mpdf_parser_from_folder\u001b[0m:\u001b[36m91\u001b[0m - \u001b[1mParsing file: 80265_16.pdf\u001b[0m\n"
     ]
    },
    {
     "name": "stdout",
     "output_type": "stream",
     "text": [
      "Content extraction failed using Tika. Attempting conversion to TIFF.\n"
     ]
    },
    {
     "name": "stderr",
     "output_type": "stream",
     "text": [
      "\u001b[32m2024-01-30 12:24:48.484\u001b[0m | \u001b[1mINFO    \u001b[0m | \u001b[36msrc.pdfs_to_text.pdfs_parser\u001b[0m:\u001b[36mpdf_parser_from_folder\u001b[0m:\u001b[36m91\u001b[0m - \u001b[1mParsing file: 80265_17.pdf\u001b[0m\n"
     ]
    },
    {
     "name": "stdout",
     "output_type": "stream",
     "text": [
      "Content extraction failed using Tika. Attempting conversion to TIFF.\n"
     ]
    },
    {
     "name": "stderr",
     "output_type": "stream",
     "text": [
      "\u001b[32m2024-01-30 12:24:49.098\u001b[0m | \u001b[1mINFO    \u001b[0m | \u001b[36msrc.pdfs_to_text.pdfs_parser\u001b[0m:\u001b[36mpdf_parser_from_folder\u001b[0m:\u001b[36m91\u001b[0m - \u001b[1mParsing file: 80265_18.pdf\u001b[0m\n"
     ]
    },
    {
     "name": "stdout",
     "output_type": "stream",
     "text": [
      "Content extraction failed using Tika. Attempting conversion to TIFF.\n"
     ]
    },
    {
     "name": "stderr",
     "output_type": "stream",
     "text": [
      "\u001b[32m2024-01-30 12:24:49.685\u001b[0m | \u001b[1mINFO    \u001b[0m | \u001b[36msrc.pdfs_to_text.pdfs_parser\u001b[0m:\u001b[36mpdf_parser_from_folder\u001b[0m:\u001b[36m91\u001b[0m - \u001b[1mParsing file: 80265_19.pdf\u001b[0m\n"
     ]
    },
    {
     "name": "stdout",
     "output_type": "stream",
     "text": [
      "Content extraction failed using Tika. Attempting conversion to TIFF.\n"
     ]
    },
    {
     "name": "stderr",
     "output_type": "stream",
     "text": [
      "\u001b[32m2024-01-30 12:24:50.330\u001b[0m | \u001b[1mINFO    \u001b[0m | \u001b[36msrc.pdfs_to_text.pdfs_parser\u001b[0m:\u001b[36mpdf_parser_from_folder\u001b[0m:\u001b[36m91\u001b[0m - \u001b[1mParsing file: 80265_2.pdf\u001b[0m\n"
     ]
    },
    {
     "name": "stdout",
     "output_type": "stream",
     "text": [
      "Content extraction failed using Tika. Attempting conversion to TIFF.\n"
     ]
    },
    {
     "name": "stderr",
     "output_type": "stream",
     "text": [
      "\u001b[32m2024-01-30 12:24:50.982\u001b[0m | \u001b[1mINFO    \u001b[0m | \u001b[36msrc.pdfs_to_text.pdfs_parser\u001b[0m:\u001b[36mpdf_parser_from_folder\u001b[0m:\u001b[36m91\u001b[0m - \u001b[1mParsing file: 80265_20.pdf\u001b[0m\n"
     ]
    },
    {
     "name": "stdout",
     "output_type": "stream",
     "text": [
      "Content extraction failed using Tika. Attempting conversion to TIFF.\n"
     ]
    },
    {
     "name": "stderr",
     "output_type": "stream",
     "text": [
      "\u001b[32m2024-01-30 12:24:51.609\u001b[0m | \u001b[1mINFO    \u001b[0m | \u001b[36msrc.pdfs_to_text.pdfs_parser\u001b[0m:\u001b[36mpdf_parser_from_folder\u001b[0m:\u001b[36m91\u001b[0m - \u001b[1mParsing file: 80265_3.pdf\u001b[0m\n"
     ]
    },
    {
     "name": "stdout",
     "output_type": "stream",
     "text": [
      "Content extraction failed using Tika. Attempting conversion to TIFF.\n"
     ]
    },
    {
     "name": "stderr",
     "output_type": "stream",
     "text": [
      "\u001b[32m2024-01-30 12:24:52.226\u001b[0m | \u001b[1mINFO    \u001b[0m | \u001b[36msrc.pdfs_to_text.pdfs_parser\u001b[0m:\u001b[36mpdf_parser_from_folder\u001b[0m:\u001b[36m91\u001b[0m - \u001b[1mParsing file: 80265_4.pdf\u001b[0m\n"
     ]
    },
    {
     "name": "stdout",
     "output_type": "stream",
     "text": [
      "Content extraction failed using Tika. Attempting conversion to TIFF.\n"
     ]
    },
    {
     "name": "stderr",
     "output_type": "stream",
     "text": [
      "\u001b[32m2024-01-30 12:24:52.866\u001b[0m | \u001b[1mINFO    \u001b[0m | \u001b[36msrc.pdfs_to_text.pdfs_parser\u001b[0m:\u001b[36mpdf_parser_from_folder\u001b[0m:\u001b[36m91\u001b[0m - \u001b[1mParsing file: 80265_5.pdf\u001b[0m\n"
     ]
    },
    {
     "name": "stdout",
     "output_type": "stream",
     "text": [
      "Content extraction failed using Tika. Attempting conversion to TIFF.\n"
     ]
    },
    {
     "name": "stderr",
     "output_type": "stream",
     "text": [
      "\u001b[32m2024-01-30 12:24:53.482\u001b[0m | \u001b[1mINFO    \u001b[0m | \u001b[36msrc.pdfs_to_text.pdfs_parser\u001b[0m:\u001b[36mpdf_parser_from_folder\u001b[0m:\u001b[36m91\u001b[0m - \u001b[1mParsing file: 80265_6.pdf\u001b[0m\n"
     ]
    },
    {
     "name": "stdout",
     "output_type": "stream",
     "text": [
      "Content extraction failed using Tika. Attempting conversion to TIFF.\n"
     ]
    },
    {
     "name": "stderr",
     "output_type": "stream",
     "text": [
      "\u001b[32m2024-01-30 12:24:54.146\u001b[0m | \u001b[1mINFO    \u001b[0m | \u001b[36msrc.pdfs_to_text.pdfs_parser\u001b[0m:\u001b[36mpdf_parser_from_folder\u001b[0m:\u001b[36m91\u001b[0m - \u001b[1mParsing file: 80265_7.pdf\u001b[0m\n"
     ]
    },
    {
     "name": "stdout",
     "output_type": "stream",
     "text": [
      "Content extraction failed using Tika. Attempting conversion to TIFF.\n"
     ]
    },
    {
     "name": "stderr",
     "output_type": "stream",
     "text": [
      "\u001b[32m2024-01-30 12:24:54.742\u001b[0m | \u001b[1mINFO    \u001b[0m | \u001b[36msrc.pdfs_to_text.pdfs_parser\u001b[0m:\u001b[36mpdf_parser_from_folder\u001b[0m:\u001b[36m91\u001b[0m - \u001b[1mParsing file: 80265_8.pdf\u001b[0m\n"
     ]
    },
    {
     "name": "stdout",
     "output_type": "stream",
     "text": [
      "Content extraction failed using Tika. Attempting conversion to TIFF.\n"
     ]
    },
    {
     "name": "stderr",
     "output_type": "stream",
     "text": [
      "\u001b[32m2024-01-30 12:24:55.370\u001b[0m | \u001b[1mINFO    \u001b[0m | \u001b[36msrc.pdfs_to_text.pdfs_parser\u001b[0m:\u001b[36mpdf_parser_from_folder\u001b[0m:\u001b[36m91\u001b[0m - \u001b[1mParsing file: 80265_9.pdf\u001b[0m\n"
     ]
    },
    {
     "name": "stdout",
     "output_type": "stream",
     "text": [
      "Content extraction failed using Tika. Attempting conversion to TIFF.\n"
     ]
    },
    {
     "name": "stderr",
     "output_type": "stream",
     "text": [
      "\u001b[32m2024-01-30 12:24:56.017\u001b[0m | \u001b[1mINFO    \u001b[0m | \u001b[36msrc.pdfs_to_text.pdfs_parser\u001b[0m:\u001b[36mpdf_parser_from_folder\u001b[0m:\u001b[36m91\u001b[0m - \u001b[1mParsing file: 81236_1.pdf\u001b[0m\n"
     ]
    },
    {
     "name": "stdout",
     "output_type": "stream",
     "text": [
      "Content extraction failed using Tika. Attempting conversion to TIFF.\n"
     ]
    },
    {
     "name": "stderr",
     "output_type": "stream",
     "text": [
      "\u001b[32m2024-01-30 12:24:59.642\u001b[0m | \u001b[1mINFO    \u001b[0m | \u001b[36msrc.pdfs_to_text.pdfs_parser\u001b[0m:\u001b[36mpdf_parser_from_folder\u001b[0m:\u001b[36m91\u001b[0m - \u001b[1mParsing file: 81236_10.pdf\u001b[0m\n"
     ]
    },
    {
     "name": "stdout",
     "output_type": "stream",
     "text": [
      "Content extraction failed using Tika. Attempting conversion to TIFF.\n"
     ]
    },
    {
     "name": "stderr",
     "output_type": "stream",
     "text": [
      "\u001b[32m2024-01-30 12:25:03.267\u001b[0m | \u001b[1mINFO    \u001b[0m | \u001b[36msrc.pdfs_to_text.pdfs_parser\u001b[0m:\u001b[36mpdf_parser_from_folder\u001b[0m:\u001b[36m91\u001b[0m - \u001b[1mParsing file: 81236_11.pdf\u001b[0m\n"
     ]
    },
    {
     "name": "stdout",
     "output_type": "stream",
     "text": [
      "Content extraction failed using Tika. Attempting conversion to TIFF.\n"
     ]
    },
    {
     "name": "stderr",
     "output_type": "stream",
     "text": [
      "\u001b[32m2024-01-30 12:25:06.432\u001b[0m | \u001b[1mINFO    \u001b[0m | \u001b[36msrc.pdfs_to_text.pdfs_parser\u001b[0m:\u001b[36mpdf_parser_from_folder\u001b[0m:\u001b[36m91\u001b[0m - \u001b[1mParsing file: 81236_12.pdf\u001b[0m\n"
     ]
    },
    {
     "name": "stdout",
     "output_type": "stream",
     "text": [
      "Content extraction failed using Tika. Attempting conversion to TIFF.\n"
     ]
    },
    {
     "name": "stderr",
     "output_type": "stream",
     "text": [
      "\u001b[32m2024-01-30 12:25:09.591\u001b[0m | \u001b[1mINFO    \u001b[0m | \u001b[36msrc.pdfs_to_text.pdfs_parser\u001b[0m:\u001b[36mpdf_parser_from_folder\u001b[0m:\u001b[36m91\u001b[0m - \u001b[1mParsing file: 81236_13.pdf\u001b[0m\n"
     ]
    },
    {
     "name": "stdout",
     "output_type": "stream",
     "text": [
      "Content extraction failed using Tika. Attempting conversion to TIFF.\n"
     ]
    },
    {
     "name": "stderr",
     "output_type": "stream",
     "text": [
      "\u001b[32m2024-01-30 12:25:12.626\u001b[0m | \u001b[1mINFO    \u001b[0m | \u001b[36msrc.pdfs_to_text.pdfs_parser\u001b[0m:\u001b[36mpdf_parser_from_folder\u001b[0m:\u001b[36m91\u001b[0m - \u001b[1mParsing file: 81236_14.pdf\u001b[0m\n"
     ]
    },
    {
     "name": "stdout",
     "output_type": "stream",
     "text": [
      "Content extraction failed using Tika. Attempting conversion to TIFF.\n"
     ]
    },
    {
     "name": "stderr",
     "output_type": "stream",
     "text": [
      "\u001b[32m2024-01-30 12:25:15.917\u001b[0m | \u001b[1mINFO    \u001b[0m | \u001b[36msrc.pdfs_to_text.pdfs_parser\u001b[0m:\u001b[36mpdf_parser_from_folder\u001b[0m:\u001b[36m91\u001b[0m - \u001b[1mParsing file: 81236_15.pdf\u001b[0m\n"
     ]
    },
    {
     "name": "stdout",
     "output_type": "stream",
     "text": [
      "Content extraction failed using Tika. Attempting conversion to TIFF.\n"
     ]
    },
    {
     "name": "stderr",
     "output_type": "stream",
     "text": [
      "\u001b[32m2024-01-30 12:25:19.020\u001b[0m | \u001b[1mINFO    \u001b[0m | \u001b[36msrc.pdfs_to_text.pdfs_parser\u001b[0m:\u001b[36mpdf_parser_from_folder\u001b[0m:\u001b[36m91\u001b[0m - \u001b[1mParsing file: 81236_16.pdf\u001b[0m\n"
     ]
    },
    {
     "name": "stdout",
     "output_type": "stream",
     "text": [
      "Content extraction failed using Tika. Attempting conversion to TIFF.\n"
     ]
    },
    {
     "name": "stderr",
     "output_type": "stream",
     "text": [
      "\u001b[32m2024-01-30 12:25:22.347\u001b[0m | \u001b[1mINFO    \u001b[0m | \u001b[36msrc.pdfs_to_text.pdfs_parser\u001b[0m:\u001b[36mpdf_parser_from_folder\u001b[0m:\u001b[36m91\u001b[0m - \u001b[1mParsing file: 81236_17.pdf\u001b[0m\n"
     ]
    },
    {
     "name": "stdout",
     "output_type": "stream",
     "text": [
      "Content extraction failed using Tika. Attempting conversion to TIFF.\n"
     ]
    },
    {
     "name": "stderr",
     "output_type": "stream",
     "text": [
      "\u001b[32m2024-01-30 12:25:26.070\u001b[0m | \u001b[1mINFO    \u001b[0m | \u001b[36msrc.pdfs_to_text.pdfs_parser\u001b[0m:\u001b[36mpdf_parser_from_folder\u001b[0m:\u001b[36m91\u001b[0m - \u001b[1mParsing file: 81236_18.pdf\u001b[0m\n"
     ]
    },
    {
     "name": "stdout",
     "output_type": "stream",
     "text": [
      "Content extraction failed using Tika. Attempting conversion to TIFF.\n"
     ]
    },
    {
     "name": "stderr",
     "output_type": "stream",
     "text": [
      "\u001b[32m2024-01-30 12:25:28.743\u001b[0m | \u001b[1mINFO    \u001b[0m | \u001b[36msrc.pdfs_to_text.pdfs_parser\u001b[0m:\u001b[36mpdf_parser_from_folder\u001b[0m:\u001b[36m91\u001b[0m - \u001b[1mParsing file: 81236_19.pdf\u001b[0m\n"
     ]
    },
    {
     "name": "stdout",
     "output_type": "stream",
     "text": [
      "Content extraction failed using Tika. Attempting conversion to TIFF.\n"
     ]
    },
    {
     "name": "stderr",
     "output_type": "stream",
     "text": [
      "\u001b[32m2024-01-30 12:25:31.893\u001b[0m | \u001b[1mINFO    \u001b[0m | \u001b[36msrc.pdfs_to_text.pdfs_parser\u001b[0m:\u001b[36mpdf_parser_from_folder\u001b[0m:\u001b[36m91\u001b[0m - \u001b[1mParsing file: 81236_2.pdf\u001b[0m\n"
     ]
    },
    {
     "name": "stdout",
     "output_type": "stream",
     "text": [
      "Content extraction failed using Tika. Attempting conversion to TIFF.\n"
     ]
    },
    {
     "name": "stderr",
     "output_type": "stream",
     "text": [
      "\u001b[32m2024-01-30 12:25:34.541\u001b[0m | \u001b[1mINFO    \u001b[0m | \u001b[36msrc.pdfs_to_text.pdfs_parser\u001b[0m:\u001b[36mpdf_parser_from_folder\u001b[0m:\u001b[36m91\u001b[0m - \u001b[1mParsing file: 81236_20.pdf\u001b[0m\n"
     ]
    },
    {
     "name": "stdout",
     "output_type": "stream",
     "text": [
      "Content extraction failed using Tika. Attempting conversion to TIFF.\n"
     ]
    },
    {
     "name": "stderr",
     "output_type": "stream",
     "text": [
      "\u001b[32m2024-01-30 12:25:37.732\u001b[0m | \u001b[1mINFO    \u001b[0m | \u001b[36msrc.pdfs_to_text.pdfs_parser\u001b[0m:\u001b[36mpdf_parser_from_folder\u001b[0m:\u001b[36m91\u001b[0m - \u001b[1mParsing file: 81236_21.pdf\u001b[0m\n"
     ]
    },
    {
     "name": "stdout",
     "output_type": "stream",
     "text": [
      "Content extraction failed using Tika. Attempting conversion to TIFF.\n"
     ]
    },
    {
     "name": "stderr",
     "output_type": "stream",
     "text": [
      "\u001b[32m2024-01-30 12:25:42.054\u001b[0m | \u001b[1mINFO    \u001b[0m | \u001b[36msrc.pdfs_to_text.pdfs_parser\u001b[0m:\u001b[36mpdf_parser_from_folder\u001b[0m:\u001b[36m91\u001b[0m - \u001b[1mParsing file: 81236_22.pdf\u001b[0m\n"
     ]
    },
    {
     "name": "stdout",
     "output_type": "stream",
     "text": [
      "Content extraction failed using Tika. Attempting conversion to TIFF.\n"
     ]
    },
    {
     "name": "stderr",
     "output_type": "stream",
     "text": [
      "\u001b[32m2024-01-30 12:25:45.266\u001b[0m | \u001b[1mINFO    \u001b[0m | \u001b[36msrc.pdfs_to_text.pdfs_parser\u001b[0m:\u001b[36mpdf_parser_from_folder\u001b[0m:\u001b[36m91\u001b[0m - \u001b[1mParsing file: 81236_23.pdf\u001b[0m\n"
     ]
    },
    {
     "name": "stdout",
     "output_type": "stream",
     "text": [
      "Content extraction failed using Tika. Attempting conversion to TIFF.\n"
     ]
    },
    {
     "name": "stderr",
     "output_type": "stream",
     "text": [
      "\u001b[32m2024-01-30 12:25:49.241\u001b[0m | \u001b[1mINFO    \u001b[0m | \u001b[36msrc.pdfs_to_text.pdfs_parser\u001b[0m:\u001b[36mpdf_parser_from_folder\u001b[0m:\u001b[36m91\u001b[0m - \u001b[1mParsing file: 81236_24.pdf\u001b[0m\n"
     ]
    },
    {
     "name": "stdout",
     "output_type": "stream",
     "text": [
      "Content extraction failed using Tika. Attempting conversion to TIFF.\n"
     ]
    },
    {
     "name": "stderr",
     "output_type": "stream",
     "text": [
      "\u001b[32m2024-01-30 12:25:53.543\u001b[0m | \u001b[1mINFO    \u001b[0m | \u001b[36msrc.pdfs_to_text.pdfs_parser\u001b[0m:\u001b[36mpdf_parser_from_folder\u001b[0m:\u001b[36m91\u001b[0m - \u001b[1mParsing file: 81236_25.pdf\u001b[0m\n"
     ]
    },
    {
     "name": "stdout",
     "output_type": "stream",
     "text": [
      "Content extraction failed using Tika. Attempting conversion to TIFF.\n"
     ]
    },
    {
     "name": "stderr",
     "output_type": "stream",
     "text": [
      "\u001b[32m2024-01-30 12:25:57.484\u001b[0m | \u001b[1mINFO    \u001b[0m | \u001b[36msrc.pdfs_to_text.pdfs_parser\u001b[0m:\u001b[36mpdf_parser_from_folder\u001b[0m:\u001b[36m91\u001b[0m - \u001b[1mParsing file: 81236_26.pdf\u001b[0m\n"
     ]
    },
    {
     "name": "stdout",
     "output_type": "stream",
     "text": [
      "Content extraction failed using Tika. Attempting conversion to TIFF.\n"
     ]
    },
    {
     "name": "stderr",
     "output_type": "stream",
     "text": [
      "\u001b[32m2024-01-30 12:26:00.654\u001b[0m | \u001b[1mINFO    \u001b[0m | \u001b[36msrc.pdfs_to_text.pdfs_parser\u001b[0m:\u001b[36mpdf_parser_from_folder\u001b[0m:\u001b[36m91\u001b[0m - \u001b[1mParsing file: 81236_27.pdf\u001b[0m\n"
     ]
    },
    {
     "name": "stdout",
     "output_type": "stream",
     "text": [
      "Content extraction failed using Tika. Attempting conversion to TIFF.\n"
     ]
    },
    {
     "name": "stderr",
     "output_type": "stream",
     "text": [
      "\u001b[32m2024-01-30 12:26:03.982\u001b[0m | \u001b[1mINFO    \u001b[0m | \u001b[36msrc.pdfs_to_text.pdfs_parser\u001b[0m:\u001b[36mpdf_parser_from_folder\u001b[0m:\u001b[36m91\u001b[0m - \u001b[1mParsing file: 81236_28.pdf\u001b[0m\n"
     ]
    },
    {
     "name": "stdout",
     "output_type": "stream",
     "text": [
      "Content extraction failed using Tika. Attempting conversion to TIFF.\n"
     ]
    },
    {
     "name": "stderr",
     "output_type": "stream",
     "text": [
      "\u001b[32m2024-01-30 12:26:07.123\u001b[0m | \u001b[1mINFO    \u001b[0m | \u001b[36msrc.pdfs_to_text.pdfs_parser\u001b[0m:\u001b[36mpdf_parser_from_folder\u001b[0m:\u001b[36m91\u001b[0m - \u001b[1mParsing file: 81236_29.pdf\u001b[0m\n"
     ]
    },
    {
     "name": "stdout",
     "output_type": "stream",
     "text": [
      "Content extraction failed using Tika. Attempting conversion to TIFF.\n"
     ]
    },
    {
     "name": "stderr",
     "output_type": "stream",
     "text": [
      "\u001b[32m2024-01-30 12:26:13.037\u001b[0m | \u001b[1mINFO    \u001b[0m | \u001b[36msrc.pdfs_to_text.pdfs_parser\u001b[0m:\u001b[36mpdf_parser_from_folder\u001b[0m:\u001b[36m91\u001b[0m - \u001b[1mParsing file: 81236_3.pdf\u001b[0m\n"
     ]
    },
    {
     "name": "stdout",
     "output_type": "stream",
     "text": [
      "Content extraction failed using Tika. Attempting conversion to TIFF.\n"
     ]
    },
    {
     "name": "stderr",
     "output_type": "stream",
     "text": [
      "\u001b[32m2024-01-30 12:26:16.232\u001b[0m | \u001b[1mINFO    \u001b[0m | \u001b[36msrc.pdfs_to_text.pdfs_parser\u001b[0m:\u001b[36mpdf_parser_from_folder\u001b[0m:\u001b[36m91\u001b[0m - \u001b[1mParsing file: 81236_30.pdf\u001b[0m\n"
     ]
    },
    {
     "name": "stdout",
     "output_type": "stream",
     "text": [
      "Content extraction failed using Tika. Attempting conversion to TIFF.\n"
     ]
    },
    {
     "name": "stderr",
     "output_type": "stream",
     "text": [
      "\u001b[32m2024-01-30 12:26:19.598\u001b[0m | \u001b[1mINFO    \u001b[0m | \u001b[36msrc.pdfs_to_text.pdfs_parser\u001b[0m:\u001b[36mpdf_parser_from_folder\u001b[0m:\u001b[36m91\u001b[0m - \u001b[1mParsing file: 81236_31.pdf\u001b[0m\n"
     ]
    },
    {
     "name": "stdout",
     "output_type": "stream",
     "text": [
      "Content extraction failed using Tika. Attempting conversion to TIFF.\n"
     ]
    },
    {
     "name": "stderr",
     "output_type": "stream",
     "text": [
      "\u001b[32m2024-01-30 12:26:22.794\u001b[0m | \u001b[1mINFO    \u001b[0m | \u001b[36msrc.pdfs_to_text.pdfs_parser\u001b[0m:\u001b[36mpdf_parser_from_folder\u001b[0m:\u001b[36m91\u001b[0m - \u001b[1mParsing file: 81236_32.pdf\u001b[0m\n"
     ]
    },
    {
     "name": "stdout",
     "output_type": "stream",
     "text": [
      "Content extraction failed using Tika. Attempting conversion to TIFF.\n"
     ]
    },
    {
     "name": "stderr",
     "output_type": "stream",
     "text": [
      "\u001b[32m2024-01-30 12:26:26.067\u001b[0m | \u001b[1mINFO    \u001b[0m | \u001b[36msrc.pdfs_to_text.pdfs_parser\u001b[0m:\u001b[36mpdf_parser_from_folder\u001b[0m:\u001b[36m91\u001b[0m - \u001b[1mParsing file: 81236_33.pdf\u001b[0m\n"
     ]
    },
    {
     "name": "stdout",
     "output_type": "stream",
     "text": [
      "Content extraction failed using Tika. Attempting conversion to TIFF.\n"
     ]
    },
    {
     "name": "stderr",
     "output_type": "stream",
     "text": [
      "\u001b[32m2024-01-30 12:26:29.489\u001b[0m | \u001b[1mINFO    \u001b[0m | \u001b[36msrc.pdfs_to_text.pdfs_parser\u001b[0m:\u001b[36mpdf_parser_from_folder\u001b[0m:\u001b[36m91\u001b[0m - \u001b[1mParsing file: 81236_34.pdf\u001b[0m\n"
     ]
    },
    {
     "name": "stdout",
     "output_type": "stream",
     "text": [
      "Content extraction failed using Tika. Attempting conversion to TIFF.\n"
     ]
    },
    {
     "name": "stderr",
     "output_type": "stream",
     "text": [
      "\u001b[32m2024-01-30 12:26:32.784\u001b[0m | \u001b[1mINFO    \u001b[0m | \u001b[36msrc.pdfs_to_text.pdfs_parser\u001b[0m:\u001b[36mpdf_parser_from_folder\u001b[0m:\u001b[36m91\u001b[0m - \u001b[1mParsing file: 81236_35.pdf\u001b[0m\n"
     ]
    },
    {
     "name": "stdout",
     "output_type": "stream",
     "text": [
      "Content extraction failed using Tika. Attempting conversion to TIFF.\n"
     ]
    },
    {
     "name": "stderr",
     "output_type": "stream",
     "text": [
      "\u001b[32m2024-01-30 12:26:35.904\u001b[0m | \u001b[1mINFO    \u001b[0m | \u001b[36msrc.pdfs_to_text.pdfs_parser\u001b[0m:\u001b[36mpdf_parser_from_folder\u001b[0m:\u001b[36m91\u001b[0m - \u001b[1mParsing file: 81236_36.pdf\u001b[0m\n"
     ]
    },
    {
     "name": "stdout",
     "output_type": "stream",
     "text": [
      "Content extraction failed using Tika. Attempting conversion to TIFF.\n"
     ]
    },
    {
     "name": "stderr",
     "output_type": "stream",
     "text": [
      "\u001b[32m2024-01-30 12:26:39.278\u001b[0m | \u001b[1mINFO    \u001b[0m | \u001b[36msrc.pdfs_to_text.pdfs_parser\u001b[0m:\u001b[36mpdf_parser_from_folder\u001b[0m:\u001b[36m91\u001b[0m - \u001b[1mParsing file: 81236_37.pdf\u001b[0m\n"
     ]
    },
    {
     "name": "stdout",
     "output_type": "stream",
     "text": [
      "Content extraction failed using Tika. Attempting conversion to TIFF.\n"
     ]
    },
    {
     "name": "stderr",
     "output_type": "stream",
     "text": [
      "\u001b[32m2024-01-30 12:26:42.563\u001b[0m | \u001b[1mINFO    \u001b[0m | \u001b[36msrc.pdfs_to_text.pdfs_parser\u001b[0m:\u001b[36mpdf_parser_from_folder\u001b[0m:\u001b[36m91\u001b[0m - \u001b[1mParsing file: 81236_38.pdf\u001b[0m\n"
     ]
    },
    {
     "name": "stdout",
     "output_type": "stream",
     "text": [
      "Content extraction failed using Tika. Attempting conversion to TIFF.\n"
     ]
    },
    {
     "name": "stderr",
     "output_type": "stream",
     "text": [
      "\u001b[32m2024-01-30 12:26:45.798\u001b[0m | \u001b[1mINFO    \u001b[0m | \u001b[36msrc.pdfs_to_text.pdfs_parser\u001b[0m:\u001b[36mpdf_parser_from_folder\u001b[0m:\u001b[36m91\u001b[0m - \u001b[1mParsing file: 81236_39.pdf\u001b[0m\n"
     ]
    },
    {
     "name": "stdout",
     "output_type": "stream",
     "text": [
      "Content extraction failed using Tika. Attempting conversion to TIFF.\n"
     ]
    },
    {
     "name": "stderr",
     "output_type": "stream",
     "text": [
      "\u001b[32m2024-01-30 12:26:49.035\u001b[0m | \u001b[1mINFO    \u001b[0m | \u001b[36msrc.pdfs_to_text.pdfs_parser\u001b[0m:\u001b[36mpdf_parser_from_folder\u001b[0m:\u001b[36m91\u001b[0m - \u001b[1mParsing file: 81236_4.pdf\u001b[0m\n"
     ]
    },
    {
     "name": "stdout",
     "output_type": "stream",
     "text": [
      "Content extraction failed using Tika. Attempting conversion to TIFF.\n"
     ]
    },
    {
     "name": "stderr",
     "output_type": "stream",
     "text": [
      "\u001b[32m2024-01-30 12:26:52.171\u001b[0m | \u001b[1mINFO    \u001b[0m | \u001b[36msrc.pdfs_to_text.pdfs_parser\u001b[0m:\u001b[36mpdf_parser_from_folder\u001b[0m:\u001b[36m91\u001b[0m - \u001b[1mParsing file: 81236_40.pdf\u001b[0m\n"
     ]
    },
    {
     "name": "stdout",
     "output_type": "stream",
     "text": [
      "Content extraction failed using Tika. Attempting conversion to TIFF.\n"
     ]
    },
    {
     "name": "stderr",
     "output_type": "stream",
     "text": [
      "\u001b[32m2024-01-30 12:26:55.046\u001b[0m | \u001b[1mINFO    \u001b[0m | \u001b[36msrc.pdfs_to_text.pdfs_parser\u001b[0m:\u001b[36mpdf_parser_from_folder\u001b[0m:\u001b[36m91\u001b[0m - \u001b[1mParsing file: 81236_41.pdf\u001b[0m\n"
     ]
    },
    {
     "name": "stdout",
     "output_type": "stream",
     "text": [
      "Content extraction failed using Tika. Attempting conversion to TIFF.\n"
     ]
    },
    {
     "name": "stderr",
     "output_type": "stream",
     "text": [
      "\u001b[32m2024-01-30 12:26:58.290\u001b[0m | \u001b[1mINFO    \u001b[0m | \u001b[36msrc.pdfs_to_text.pdfs_parser\u001b[0m:\u001b[36mpdf_parser_from_folder\u001b[0m:\u001b[36m91\u001b[0m - \u001b[1mParsing file: 81236_42.pdf\u001b[0m\n"
     ]
    },
    {
     "name": "stdout",
     "output_type": "stream",
     "text": [
      "Content extraction failed using Tika. Attempting conversion to TIFF.\n"
     ]
    },
    {
     "name": "stderr",
     "output_type": "stream",
     "text": [
      "\u001b[32m2024-01-30 12:27:01.571\u001b[0m | \u001b[1mINFO    \u001b[0m | \u001b[36msrc.pdfs_to_text.pdfs_parser\u001b[0m:\u001b[36mpdf_parser_from_folder\u001b[0m:\u001b[36m91\u001b[0m - \u001b[1mParsing file: 81236_43.pdf\u001b[0m\n"
     ]
    },
    {
     "name": "stdout",
     "output_type": "stream",
     "text": [
      "Content extraction failed using Tika. Attempting conversion to TIFF.\n"
     ]
    },
    {
     "name": "stderr",
     "output_type": "stream",
     "text": [
      "\u001b[32m2024-01-30 12:27:04.914\u001b[0m | \u001b[1mINFO    \u001b[0m | \u001b[36msrc.pdfs_to_text.pdfs_parser\u001b[0m:\u001b[36mpdf_parser_from_folder\u001b[0m:\u001b[36m91\u001b[0m - \u001b[1mParsing file: 81236_44.pdf\u001b[0m\n"
     ]
    },
    {
     "name": "stdout",
     "output_type": "stream",
     "text": [
      "Content extraction failed using Tika. Attempting conversion to TIFF.\n"
     ]
    },
    {
     "name": "stderr",
     "output_type": "stream",
     "text": [
      "\u001b[32m2024-01-30 12:27:08.368\u001b[0m | \u001b[1mINFO    \u001b[0m | \u001b[36msrc.pdfs_to_text.pdfs_parser\u001b[0m:\u001b[36mpdf_parser_from_folder\u001b[0m:\u001b[36m91\u001b[0m - \u001b[1mParsing file: 81236_45.pdf\u001b[0m\n"
     ]
    },
    {
     "name": "stdout",
     "output_type": "stream",
     "text": [
      "Content extraction failed using Tika. Attempting conversion to TIFF.\n"
     ]
    },
    {
     "name": "stderr",
     "output_type": "stream",
     "text": [
      "\u001b[32m2024-01-30 12:27:12.197\u001b[0m | \u001b[1mINFO    \u001b[0m | \u001b[36msrc.pdfs_to_text.pdfs_parser\u001b[0m:\u001b[36mpdf_parser_from_folder\u001b[0m:\u001b[36m91\u001b[0m - \u001b[1mParsing file: 81236_46.pdf\u001b[0m\n"
     ]
    },
    {
     "name": "stdout",
     "output_type": "stream",
     "text": [
      "Content extraction failed using Tika. Attempting conversion to TIFF.\n"
     ]
    },
    {
     "name": "stderr",
     "output_type": "stream",
     "text": [
      "\u001b[32m2024-01-30 12:27:15.333\u001b[0m | \u001b[1mINFO    \u001b[0m | \u001b[36msrc.pdfs_to_text.pdfs_parser\u001b[0m:\u001b[36mpdf_parser_from_folder\u001b[0m:\u001b[36m91\u001b[0m - \u001b[1mParsing file: 81236_47.pdf\u001b[0m\n"
     ]
    },
    {
     "name": "stdout",
     "output_type": "stream",
     "text": [
      "Content extraction failed using Tika. Attempting conversion to TIFF.\n"
     ]
    },
    {
     "name": "stderr",
     "output_type": "stream",
     "text": [
      "\u001b[32m2024-01-30 12:27:18.492\u001b[0m | \u001b[1mINFO    \u001b[0m | \u001b[36msrc.pdfs_to_text.pdfs_parser\u001b[0m:\u001b[36mpdf_parser_from_folder\u001b[0m:\u001b[36m91\u001b[0m - \u001b[1mParsing file: 81236_48.pdf\u001b[0m\n"
     ]
    },
    {
     "name": "stdout",
     "output_type": "stream",
     "text": [
      "Content extraction failed using Tika. Attempting conversion to TIFF.\n"
     ]
    },
    {
     "name": "stderr",
     "output_type": "stream",
     "text": [
      "\u001b[32m2024-01-30 12:27:22.701\u001b[0m | \u001b[1mINFO    \u001b[0m | \u001b[36msrc.pdfs_to_text.pdfs_parser\u001b[0m:\u001b[36mpdf_parser_from_folder\u001b[0m:\u001b[36m91\u001b[0m - \u001b[1mParsing file: 81236_49.pdf\u001b[0m\n"
     ]
    },
    {
     "name": "stdout",
     "output_type": "stream",
     "text": [
      "Content extraction failed using Tika. Attempting conversion to TIFF.\n"
     ]
    },
    {
     "name": "stderr",
     "output_type": "stream",
     "text": [
      "\u001b[32m2024-01-30 12:27:25.768\u001b[0m | \u001b[1mINFO    \u001b[0m | \u001b[36msrc.pdfs_to_text.pdfs_parser\u001b[0m:\u001b[36mpdf_parser_from_folder\u001b[0m:\u001b[36m91\u001b[0m - \u001b[1mParsing file: 81236_5.pdf\u001b[0m\n"
     ]
    },
    {
     "name": "stdout",
     "output_type": "stream",
     "text": [
      "Content extraction failed using Tika. Attempting conversion to TIFF.\n"
     ]
    },
    {
     "name": "stderr",
     "output_type": "stream",
     "text": [
      "\u001b[32m2024-01-30 12:27:29.045\u001b[0m | \u001b[1mINFO    \u001b[0m | \u001b[36msrc.pdfs_to_text.pdfs_parser\u001b[0m:\u001b[36mpdf_parser_from_folder\u001b[0m:\u001b[36m91\u001b[0m - \u001b[1mParsing file: 81236_50.pdf\u001b[0m\n"
     ]
    },
    {
     "name": "stdout",
     "output_type": "stream",
     "text": [
      "Content extraction failed using Tika. Attempting conversion to TIFF.\n"
     ]
    },
    {
     "name": "stderr",
     "output_type": "stream",
     "text": [
      "\u001b[32m2024-01-30 12:27:32.146\u001b[0m | \u001b[1mINFO    \u001b[0m | \u001b[36msrc.pdfs_to_text.pdfs_parser\u001b[0m:\u001b[36mpdf_parser_from_folder\u001b[0m:\u001b[36m91\u001b[0m - \u001b[1mParsing file: 81236_51.pdf\u001b[0m\n"
     ]
    },
    {
     "name": "stdout",
     "output_type": "stream",
     "text": [
      "Content extraction failed using Tika. Attempting conversion to TIFF.\n"
     ]
    },
    {
     "name": "stderr",
     "output_type": "stream",
     "text": [
      "\u001b[32m2024-01-30 12:27:35.770\u001b[0m | \u001b[1mINFO    \u001b[0m | \u001b[36msrc.pdfs_to_text.pdfs_parser\u001b[0m:\u001b[36mpdf_parser_from_folder\u001b[0m:\u001b[36m91\u001b[0m - \u001b[1mParsing file: 81236_52.pdf\u001b[0m\n"
     ]
    },
    {
     "name": "stdout",
     "output_type": "stream",
     "text": [
      "Content extraction failed using Tika. Attempting conversion to TIFF.\n"
     ]
    },
    {
     "name": "stderr",
     "output_type": "stream",
     "text": [
      "\u001b[32m2024-01-30 12:27:39.621\u001b[0m | \u001b[1mINFO    \u001b[0m | \u001b[36msrc.pdfs_to_text.pdfs_parser\u001b[0m:\u001b[36mpdf_parser_from_folder\u001b[0m:\u001b[36m91\u001b[0m - \u001b[1mParsing file: 81236_6.pdf\u001b[0m\n"
     ]
    },
    {
     "name": "stdout",
     "output_type": "stream",
     "text": [
      "Content extraction failed using Tika. Attempting conversion to TIFF.\n"
     ]
    },
    {
     "name": "stderr",
     "output_type": "stream",
     "text": [
      "\u001b[32m2024-01-30 12:27:42.537\u001b[0m | \u001b[1mINFO    \u001b[0m | \u001b[36msrc.pdfs_to_text.pdfs_parser\u001b[0m:\u001b[36mpdf_parser_from_folder\u001b[0m:\u001b[36m91\u001b[0m - \u001b[1mParsing file: 81236_7.pdf\u001b[0m\n"
     ]
    },
    {
     "name": "stdout",
     "output_type": "stream",
     "text": [
      "Content extraction failed using Tika. Attempting conversion to TIFF.\n"
     ]
    },
    {
     "name": "stderr",
     "output_type": "stream",
     "text": [
      "\u001b[32m2024-01-30 12:27:45.663\u001b[0m | \u001b[1mINFO    \u001b[0m | \u001b[36msrc.pdfs_to_text.pdfs_parser\u001b[0m:\u001b[36mpdf_parser_from_folder\u001b[0m:\u001b[36m91\u001b[0m - \u001b[1mParsing file: 81236_8.pdf\u001b[0m\n"
     ]
    },
    {
     "name": "stdout",
     "output_type": "stream",
     "text": [
      "Content extraction failed using Tika. Attempting conversion to TIFF.\n"
     ]
    },
    {
     "name": "stderr",
     "output_type": "stream",
     "text": [
      "\u001b[32m2024-01-30 12:27:48.832\u001b[0m | \u001b[1mINFO    \u001b[0m | \u001b[36msrc.pdfs_to_text.pdfs_parser\u001b[0m:\u001b[36mpdf_parser_from_folder\u001b[0m:\u001b[36m91\u001b[0m - \u001b[1mParsing file: 81236_9.pdf\u001b[0m\n"
     ]
    },
    {
     "name": "stdout",
     "output_type": "stream",
     "text": [
      "Content extraction failed using Tika. Attempting conversion to TIFF.\n"
     ]
    },
    {
     "name": "stderr",
     "output_type": "stream",
     "text": [
      "\u001b[32m2024-01-30 12:27:55.594\u001b[0m | \u001b[1mINFO    \u001b[0m | \u001b[36msrc.pdfs_to_text.pdfs_parser\u001b[0m:\u001b[36mpdf_parser_from_folder\u001b[0m:\u001b[36m91\u001b[0m - \u001b[1mParsing file: 9030_1.pdf\u001b[0m\n"
     ]
    },
    {
     "name": "stdout",
     "output_type": "stream",
     "text": [
      "Content extraction failed using Tika. Attempting conversion to TIFF.\n"
     ]
    },
    {
     "name": "stderr",
     "output_type": "stream",
     "text": [
      "\u001b[32m2024-01-30 12:28:05.870\u001b[0m | \u001b[1mINFO    \u001b[0m | \u001b[36msrc.pdfs_to_text.pdfs_parser\u001b[0m:\u001b[36mpdf_parser_from_folder\u001b[0m:\u001b[36m102\u001b[0m - \u001b[1mParsing done.\u001b[0m\n"
     ]
    }
   ],
   "source": [
    "parsed_pdfs_df = pdfs_parser.pdf_parser_from_folder(folder_path=BP_PDF_DIR)"
   ]
  },
  {
   "cell_type": "code",
   "execution_count": 4,
   "metadata": {},
   "outputs": [],
   "source": [
    "parsed_pdfs_json = parsed_pdfs_df.to_json(orient='records')"
   ]
  },
  {
   "cell_type": "code",
   "execution_count": 5,
   "metadata": {},
   "outputs": [],
   "source": [
    "with open(BP_TEXT_FILE_PATH_JSON, 'w') as outputfile:\n",
    "    outputfile.write(parsed_pdfs_json)"
   ]
  },
  {
   "cell_type": "markdown",
   "metadata": {},
   "source": [
    "As a result, this reads all PDFs in the specified folder, parses them with OCR and outputs the results of the content to a JSON in the defined path. "
   ]
  }
 ],
 "metadata": {
  "kernelspec": {
   "display_name": "land-sealing-dssgx",
   "language": "python",
   "name": "python3"
  },
  "language_info": {
   "codemirror_mode": {
    "name": "ipython",
    "version": 3
   },
   "file_extension": ".py",
   "mimetype": "text/x-python",
   "name": "python",
   "nbconvert_exporter": "python",
   "pygments_lexer": "ipython3",
   "version": "3.11.4"
  }
 },
 "nbformat": 4,
 "nbformat_minor": 2
}
