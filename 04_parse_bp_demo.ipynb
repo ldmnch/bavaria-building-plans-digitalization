{
 "cells": [
  {
   "cell_type": "code",
   "execution_count": 19,
   "metadata": {},
   "outputs": [],
   "source": [
    "from src.pdfs_to_text import pdfs_parser"
   ]
  },
  {
   "cell_type": "code",
   "execution_count": 6,
   "metadata": {},
   "outputs": [],
   "source": [
    "BP_PDF_DIR = 'data/raw/building_plan_sample/pdfs/'\n",
    "BP_TEXT_FILE_PATH_JSON = 'data/proc/building_plans/bp_text.json'"
   ]
  },
  {
   "cell_type": "code",
   "execution_count": 4,
   "metadata": {},
   "outputs": [
    {
     "name": "stderr",
     "output_type": "stream",
     "text": [
      "\u001b[32m2023-12-14 14:39:33.282\u001b[0m | \u001b[1mINFO    \u001b[0m | \u001b[36m__main__\u001b[0m:\u001b[36mpdf_parser_from_folder\u001b[0m:\u001b[36m55\u001b[0m - \u001b[1mParsing file: 123.pdf\u001b[0m\n",
      "2023-12-14 14:39:35,376 [MainThread  ] [INFO ]  Retrieving http://search.maven.org/remotecontent?filepath=org/apache/tika/tika-server/1.24/tika-server-1.24.jar to C:\\Users\\LENOVO\\AppData\\Local\\Temp\\tika-server.jar.\n",
      "2023-12-14 14:39:41,303 [MainThread  ] [INFO ]  Retrieving http://search.maven.org/remotecontent?filepath=org/apache/tika/tika-server/1.24/tika-server-1.24.jar.md5 to C:\\Users\\LENOVO\\AppData\\Local\\Temp\\tika-server.jar.md5.\n",
      "2023-12-14 14:39:42,767 [MainThread  ] [WARNI]  Failed to see startup log message; retrying...\n",
      "\u001b[32m2023-12-14 14:39:58.461\u001b[0m | \u001b[1mINFO    \u001b[0m | \u001b[36m__main__\u001b[0m:\u001b[36mpdf_parser_from_folder\u001b[0m:\u001b[36m55\u001b[0m - \u001b[1mParsing file: 124.pdf\u001b[0m\n",
      "\u001b[32m2023-12-14 14:39:58.664\u001b[0m | \u001b[1mINFO    \u001b[0m | \u001b[36m__main__\u001b[0m:\u001b[36mpdf_parser_from_folder\u001b[0m:\u001b[36m55\u001b[0m - \u001b[1mParsing file: 149.pdf\u001b[0m\n",
      "\u001b[32m2023-12-14 14:39:58.739\u001b[0m | \u001b[1mINFO    \u001b[0m | \u001b[36m__main__\u001b[0m:\u001b[36mpdf_parser_from_folder\u001b[0m:\u001b[36m55\u001b[0m - \u001b[1mParsing file: 150.pdf\u001b[0m\n",
      "\u001b[32m2023-12-14 14:39:59.605\u001b[0m | \u001b[1mINFO    \u001b[0m | \u001b[36m__main__\u001b[0m:\u001b[36mpdf_parser_from_folder\u001b[0m:\u001b[36m55\u001b[0m - \u001b[1mParsing file: 151.pdf\u001b[0m\n",
      "\u001b[32m2023-12-14 14:40:00.136\u001b[0m | \u001b[1mINFO    \u001b[0m | \u001b[36m__main__\u001b[0m:\u001b[36mpdf_parser_from_folder\u001b[0m:\u001b[36m55\u001b[0m - \u001b[1mParsing file: 152.pdf\u001b[0m\n",
      "\u001b[32m2023-12-14 14:40:00.748\u001b[0m | \u001b[1mINFO    \u001b[0m | \u001b[36m__main__\u001b[0m:\u001b[36mpdf_parser_from_folder\u001b[0m:\u001b[36m55\u001b[0m - \u001b[1mParsing file: 18.pdf\u001b[0m\n",
      "\u001b[32m2023-12-14 14:40:00.855\u001b[0m | \u001b[1mINFO    \u001b[0m | \u001b[36m__main__\u001b[0m:\u001b[36mpdf_parser_from_folder\u001b[0m:\u001b[36m55\u001b[0m - \u001b[1mParsing file: 242.pdf\u001b[0m\n",
      "\u001b[32m2023-12-14 14:40:00.891\u001b[0m | \u001b[1mINFO    \u001b[0m | \u001b[36m__main__\u001b[0m:\u001b[36mpdf_parser_from_folder\u001b[0m:\u001b[36m55\u001b[0m - \u001b[1mParsing file: 258.pdf\u001b[0m\n",
      "\u001b[32m2023-12-14 14:40:00.949\u001b[0m | \u001b[1mINFO    \u001b[0m | \u001b[36m__main__\u001b[0m:\u001b[36mpdf_parser_from_folder\u001b[0m:\u001b[36m55\u001b[0m - \u001b[1mParsing file: 264.pdf\u001b[0m\n",
      "\u001b[32m2023-12-14 14:40:01.221\u001b[0m | \u001b[1mINFO    \u001b[0m | \u001b[36m__main__\u001b[0m:\u001b[36mpdf_parser_from_folder\u001b[0m:\u001b[36m55\u001b[0m - \u001b[1mParsing file: 383.pdf\u001b[0m\n",
      "\u001b[32m2023-12-14 14:40:01.254\u001b[0m | \u001b[1mINFO    \u001b[0m | \u001b[36m__main__\u001b[0m:\u001b[36mpdf_parser_from_folder\u001b[0m:\u001b[36m55\u001b[0m - \u001b[1mParsing file: 384.pdf\u001b[0m\n",
      "\u001b[32m2023-12-14 14:40:01.294\u001b[0m | \u001b[1mINFO    \u001b[0m | \u001b[36m__main__\u001b[0m:\u001b[36mpdf_parser_from_folder\u001b[0m:\u001b[36m55\u001b[0m - \u001b[1mParsing file: 385.pdf\u001b[0m\n",
      "\u001b[32m2023-12-14 14:40:01.319\u001b[0m | \u001b[1mINFO    \u001b[0m | \u001b[36m__main__\u001b[0m:\u001b[36mpdf_parser_from_folder\u001b[0m:\u001b[36m55\u001b[0m - \u001b[1mParsing file: 386.pdf\u001b[0m\n",
      "\u001b[32m2023-12-14 14:40:01.349\u001b[0m | \u001b[1mINFO    \u001b[0m | \u001b[36m__main__\u001b[0m:\u001b[36mpdf_parser_from_folder\u001b[0m:\u001b[36m55\u001b[0m - \u001b[1mParsing file: 387.pdf\u001b[0m\n",
      "\u001b[32m2023-12-14 14:40:01.385\u001b[0m | \u001b[1mINFO    \u001b[0m | \u001b[36m__main__\u001b[0m:\u001b[36mpdf_parser_from_folder\u001b[0m:\u001b[36m55\u001b[0m - \u001b[1mParsing file: 388.pdf\u001b[0m\n",
      "\u001b[32m2023-12-14 14:40:01.416\u001b[0m | \u001b[1mINFO    \u001b[0m | \u001b[36m__main__\u001b[0m:\u001b[36mpdf_parser_from_folder\u001b[0m:\u001b[36m55\u001b[0m - \u001b[1mParsing file: 389.pdf\u001b[0m\n",
      "\u001b[32m2023-12-14 14:40:01.447\u001b[0m | \u001b[1mINFO    \u001b[0m | \u001b[36m__main__\u001b[0m:\u001b[36mpdf_parser_from_folder\u001b[0m:\u001b[36m55\u001b[0m - \u001b[1mParsing file: 390.pdf\u001b[0m\n",
      "\u001b[32m2023-12-14 14:40:01.487\u001b[0m | \u001b[1mINFO    \u001b[0m | \u001b[36m__main__\u001b[0m:\u001b[36mpdf_parser_from_folder\u001b[0m:\u001b[36m55\u001b[0m - \u001b[1mParsing file: 391.pdf\u001b[0m\n",
      "\u001b[32m2023-12-14 14:40:01.567\u001b[0m | \u001b[1mINFO    \u001b[0m | \u001b[36m__main__\u001b[0m:\u001b[36mpdf_parser_from_folder\u001b[0m:\u001b[36m55\u001b[0m - \u001b[1mParsing file: 392.pdf\u001b[0m\n",
      "\u001b[32m2023-12-14 14:40:01.654\u001b[0m | \u001b[1mINFO    \u001b[0m | \u001b[36m__main__\u001b[0m:\u001b[36mpdf_parser_from_folder\u001b[0m:\u001b[36m55\u001b[0m - \u001b[1mParsing file: 393.pdf\u001b[0m\n",
      "\u001b[32m2023-12-14 14:40:01.708\u001b[0m | \u001b[1mINFO    \u001b[0m | \u001b[36m__main__\u001b[0m:\u001b[36mpdf_parser_from_folder\u001b[0m:\u001b[36m55\u001b[0m - \u001b[1mParsing file: 394.pdf\u001b[0m\n",
      "\u001b[32m2023-12-14 14:40:01.798\u001b[0m | \u001b[1mINFO    \u001b[0m | \u001b[36m__main__\u001b[0m:\u001b[36mpdf_parser_from_folder\u001b[0m:\u001b[36m55\u001b[0m - \u001b[1mParsing file: 395.pdf\u001b[0m\n",
      "\u001b[32m2023-12-14 14:40:01.842\u001b[0m | \u001b[1mINFO    \u001b[0m | \u001b[36m__main__\u001b[0m:\u001b[36mpdf_parser_from_folder\u001b[0m:\u001b[36m55\u001b[0m - \u001b[1mParsing file: 402.pdf\u001b[0m\n",
      "\u001b[32m2023-12-14 14:40:01.881\u001b[0m | \u001b[1mINFO    \u001b[0m | \u001b[36m__main__\u001b[0m:\u001b[36mpdf_parser_from_folder\u001b[0m:\u001b[36m55\u001b[0m - \u001b[1mParsing file: 403.pdf\u001b[0m\n",
      "\u001b[32m2023-12-14 14:40:02.244\u001b[0m | \u001b[1mINFO    \u001b[0m | \u001b[36m__main__\u001b[0m:\u001b[36mpdf_parser_from_folder\u001b[0m:\u001b[36m55\u001b[0m - \u001b[1mParsing file: 404.pdf\u001b[0m\n",
      "\u001b[32m2023-12-14 14:40:03.135\u001b[0m | \u001b[1mINFO    \u001b[0m | \u001b[36m__main__\u001b[0m:\u001b[36mpdf_parser_from_folder\u001b[0m:\u001b[36m55\u001b[0m - \u001b[1mParsing file: 410.pdf\u001b[0m\n",
      "\u001b[32m2023-12-14 14:40:03.205\u001b[0m | \u001b[1mINFO    \u001b[0m | \u001b[36m__main__\u001b[0m:\u001b[36mpdf_parser_from_folder\u001b[0m:\u001b[36m55\u001b[0m - \u001b[1mParsing file: 472.pdf\u001b[0m\n",
      "\u001b[32m2023-12-14 14:40:03.256\u001b[0m | \u001b[1mINFO    \u001b[0m | \u001b[36m__main__\u001b[0m:\u001b[36mpdf_parser_from_folder\u001b[0m:\u001b[36m55\u001b[0m - \u001b[1mParsing file: 473.pdf\u001b[0m\n",
      "\u001b[32m2023-12-14 14:40:03.285\u001b[0m | \u001b[1mINFO    \u001b[0m | \u001b[36m__main__\u001b[0m:\u001b[36mpdf_parser_from_folder\u001b[0m:\u001b[36m55\u001b[0m - \u001b[1mParsing file: 474.pdf\u001b[0m\n",
      "\u001b[32m2023-12-14 14:40:03.330\u001b[0m | \u001b[1mINFO    \u001b[0m | \u001b[36m__main__\u001b[0m:\u001b[36mpdf_parser_from_folder\u001b[0m:\u001b[36m55\u001b[0m - \u001b[1mParsing file: 475.pdf\u001b[0m\n",
      "\u001b[32m2023-12-14 14:40:03.364\u001b[0m | \u001b[1mINFO    \u001b[0m | \u001b[36m__main__\u001b[0m:\u001b[36mpdf_parser_from_folder\u001b[0m:\u001b[36m55\u001b[0m - \u001b[1mParsing file: 476.pdf\u001b[0m\n",
      "\u001b[32m2023-12-14 14:40:03.408\u001b[0m | \u001b[1mINFO    \u001b[0m | \u001b[36m__main__\u001b[0m:\u001b[36mpdf_parser_from_folder\u001b[0m:\u001b[36m55\u001b[0m - \u001b[1mParsing file: 477.pdf\u001b[0m\n",
      "\u001b[32m2023-12-14 14:40:03.453\u001b[0m | \u001b[1mINFO    \u001b[0m | \u001b[36m__main__\u001b[0m:\u001b[36mpdf_parser_from_folder\u001b[0m:\u001b[36m55\u001b[0m - \u001b[1mParsing file: 478.pdf\u001b[0m\n",
      "\u001b[32m2023-12-14 14:40:03.496\u001b[0m | \u001b[1mINFO    \u001b[0m | \u001b[36m__main__\u001b[0m:\u001b[36mpdf_parser_from_folder\u001b[0m:\u001b[36m55\u001b[0m - \u001b[1mParsing file: 479.pdf\u001b[0m\n",
      "\u001b[32m2023-12-14 14:40:03.545\u001b[0m | \u001b[1mINFO    \u001b[0m | \u001b[36m__main__\u001b[0m:\u001b[36mpdf_parser_from_folder\u001b[0m:\u001b[36m55\u001b[0m - \u001b[1mParsing file: 48.pdf\u001b[0m\n",
      "\u001b[32m2023-12-14 14:40:03.597\u001b[0m | \u001b[1mINFO    \u001b[0m | \u001b[36m__main__\u001b[0m:\u001b[36mpdf_parser_from_folder\u001b[0m:\u001b[36m55\u001b[0m - \u001b[1mParsing file: 480.pdf\u001b[0m\n",
      "\u001b[32m2023-12-14 14:40:03.661\u001b[0m | \u001b[1mINFO    \u001b[0m | \u001b[36m__main__\u001b[0m:\u001b[36mpdf_parser_from_folder\u001b[0m:\u001b[36m55\u001b[0m - \u001b[1mParsing file: 482.pdf\u001b[0m\n",
      "\u001b[32m2023-12-14 14:40:03.684\u001b[0m | \u001b[1mINFO    \u001b[0m | \u001b[36m__main__\u001b[0m:\u001b[36mpdf_parser_from_folder\u001b[0m:\u001b[36m55\u001b[0m - \u001b[1mParsing file: 483.pdf\u001b[0m\n",
      "\u001b[32m2023-12-14 14:40:03.738\u001b[0m | \u001b[1mINFO    \u001b[0m | \u001b[36m__main__\u001b[0m:\u001b[36mpdf_parser_from_folder\u001b[0m:\u001b[36m55\u001b[0m - \u001b[1mParsing file: 484.pdf\u001b[0m\n",
      "\u001b[32m2023-12-14 14:40:03.764\u001b[0m | \u001b[1mINFO    \u001b[0m | \u001b[36m__main__\u001b[0m:\u001b[36mpdf_parser_from_folder\u001b[0m:\u001b[36m55\u001b[0m - \u001b[1mParsing file: 485.pdf\u001b[0m\n",
      "\u001b[32m2023-12-14 14:40:03.820\u001b[0m | \u001b[1mINFO    \u001b[0m | \u001b[36m__main__\u001b[0m:\u001b[36mpdf_parser_from_folder\u001b[0m:\u001b[36m55\u001b[0m - \u001b[1mParsing file: 486.pdf\u001b[0m\n",
      "\u001b[32m2023-12-14 14:40:03.921\u001b[0m | \u001b[1mINFO    \u001b[0m | \u001b[36m__main__\u001b[0m:\u001b[36mpdf_parser_from_folder\u001b[0m:\u001b[36m55\u001b[0m - \u001b[1mParsing file: 487.pdf\u001b[0m\n",
      "\u001b[32m2023-12-14 14:40:03.966\u001b[0m | \u001b[1mINFO    \u001b[0m | \u001b[36m__main__\u001b[0m:\u001b[36mpdf_parser_from_folder\u001b[0m:\u001b[36m55\u001b[0m - \u001b[1mParsing file: 488.pdf\u001b[0m\n",
      "\u001b[32m2023-12-14 14:40:04.239\u001b[0m | \u001b[1mINFO    \u001b[0m | \u001b[36m__main__\u001b[0m:\u001b[36mpdf_parser_from_folder\u001b[0m:\u001b[36m55\u001b[0m - \u001b[1mParsing file: 78.pdf\u001b[0m\n",
      "\u001b[32m2023-12-14 14:40:04.628\u001b[0m | \u001b[1mINFO    \u001b[0m | \u001b[36m__main__\u001b[0m:\u001b[36mpdf_parser_from_folder\u001b[0m:\u001b[36m55\u001b[0m - \u001b[1mParsing file: 79.pdf\u001b[0m\n",
      "\u001b[32m2023-12-14 14:40:04.846\u001b[0m | \u001b[1mINFO    \u001b[0m | \u001b[36m__main__\u001b[0m:\u001b[36mpdf_parser_from_folder\u001b[0m:\u001b[36m55\u001b[0m - \u001b[1mParsing file: 80.pdf\u001b[0m\n",
      "\u001b[32m2023-12-14 14:40:06.281\u001b[0m | \u001b[1mINFO    \u001b[0m | \u001b[36m__main__\u001b[0m:\u001b[36mpdf_parser_from_folder\u001b[0m:\u001b[36m55\u001b[0m - \u001b[1mParsing file: 83.pdf\u001b[0m\n",
      "\u001b[32m2023-12-14 14:40:06.370\u001b[0m | \u001b[1mINFO    \u001b[0m | \u001b[36m__main__\u001b[0m:\u001b[36mpdf_parser_from_folder\u001b[0m:\u001b[36m55\u001b[0m - \u001b[1mParsing file: 84.pdf\u001b[0m\n",
      "\u001b[32m2023-12-14 14:40:06.431\u001b[0m | \u001b[1mINFO    \u001b[0m | \u001b[36m__main__\u001b[0m:\u001b[36mpdf_parser_from_folder\u001b[0m:\u001b[36m55\u001b[0m - \u001b[1mParsing file: 85.pdf\u001b[0m\n",
      "\u001b[32m2023-12-14 14:40:06.483\u001b[0m | \u001b[1mINFO    \u001b[0m | \u001b[36m__main__\u001b[0m:\u001b[36mpdf_parser_from_folder\u001b[0m:\u001b[36m55\u001b[0m - \u001b[1mParsing file: 86.pdf\u001b[0m\n",
      "\u001b[32m2023-12-14 14:40:06.520\u001b[0m | \u001b[1mINFO    \u001b[0m | \u001b[36m__main__\u001b[0m:\u001b[36mpdf_parser_from_folder\u001b[0m:\u001b[36m55\u001b[0m - \u001b[1mParsing file: 87.pdf\u001b[0m\n",
      "\u001b[32m2023-12-14 14:40:07.135\u001b[0m | \u001b[1mINFO    \u001b[0m | \u001b[36m__main__\u001b[0m:\u001b[36mpdf_parser_from_folder\u001b[0m:\u001b[36m55\u001b[0m - \u001b[1mParsing file: 88.pdf\u001b[0m\n",
      "\u001b[32m2023-12-14 14:40:07.649\u001b[0m | \u001b[1mINFO    \u001b[0m | \u001b[36m__main__\u001b[0m:\u001b[36mpdf_parser_from_folder\u001b[0m:\u001b[36m55\u001b[0m - \u001b[1mParsing file: 96.pdf\u001b[0m\n",
      "\u001b[32m2023-12-14 14:40:08.312\u001b[0m | \u001b[1mINFO    \u001b[0m | \u001b[36m__main__\u001b[0m:\u001b[36mpdf_parser_from_folder\u001b[0m:\u001b[36m66\u001b[0m - \u001b[1mParsing done.\u001b[0m\n"
     ]
    }
   ],
   "source": [
    "parsed_pdfs_df = pdfs_parser.pdf_parser_from_folder(folder_path=BP_PDF_DIR)\n",
    "\n",
    "parsed_pdfs_json = pdfs_parser.parsed_pdfs_df.to_json(orient='records')\n"
   ]
  },
  {
   "cell_type": "code",
   "execution_count": 7,
   "metadata": {},
   "outputs": [],
   "source": [
    "with open(BP_TEXT_FILE_PATH_JSON, 'w') as outputfile:\n",
    "    outputfile.write(parsed_pdfs_json)"
   ]
  }
 ],
 "metadata": {
  "kernelspec": {
   "display_name": "land-sealing-dssgx",
   "language": "python",
   "name": "python3"
  },
  "language_info": {
   "codemirror_mode": {
    "name": "ipython",
    "version": 3
   },
   "file_extension": ".py",
   "mimetype": "text/x-python",
   "name": "python",
   "nbconvert_exporter": "python",
   "pygments_lexer": "ipython3",
   "version": "3.11.4"
  }
 },
 "nbformat": 4,
 "nbformat_minor": 2
}
