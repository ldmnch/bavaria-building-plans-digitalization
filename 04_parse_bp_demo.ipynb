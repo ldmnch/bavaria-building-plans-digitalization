{
 "cells": [
  {
   "cell_type": "code",
   "execution_count": 1,
   "metadata": {},
   "outputs": [],
   "source": [
    "from src.pdfs_to_text import pdfs_parser\n",
    "\n",
    "import easyocr"
   ]
  },
  {
   "cell_type": "markdown",
   "metadata": {},
   "source": [
    "# Parsing PDF content\n",
    "\n",
    "Once we have the PDFs downloaded it is necessary to parse the content into text so we can analyze it. First:\n",
    "\n",
    "- Assign to `BP_PDF_DIR` the directory where you have all the PDFs downloaded.\n",
    "- Change `BP_TEXT_FILE_PATH_JSON` to the path and file name you want the output to be saved as."
   ]
  },
  {
   "cell_type": "code",
   "execution_count": 2,
   "metadata": {},
   "outputs": [],
   "source": [
    "BP_PDF_DIR = 'data/proc/building_plans_sample/split_pdf'\n",
    "BP_TEXT_FILE_PATH_JSON = 'data/proc/building_plans_sample/bp_text.json'"
   ]
  },
  {
   "cell_type": "code",
   "execution_count": 3,
   "metadata": {},
   "outputs": [
    {
     "name": "stderr",
     "output_type": "stream",
     "text": [
      "Using CPU. Note: This module is much faster with a GPU.\n"
     ]
    }
   ],
   "source": [
    "reader = easyocr.Reader(['de'], gpu=False)"
   ]
  },
  {
   "cell_type": "code",
   "execution_count": null,
   "metadata": {},
   "outputs": [
    {
     "name": "stderr",
     "output_type": "stream",
     "text": [
      "\u001b[32m2024-02-22 13:48:47.143\u001b[0m | \u001b[1mINFO    \u001b[0m | \u001b[36msrc.pdfs_to_text.pdfs_parser\u001b[0m:\u001b[36mpdf_parser_from_folder\u001b[0m:\u001b[36m68\u001b[0m - \u001b[1mParsing file: 3223_4.jpg\u001b[0m\n",
      "\u001b[32m2024-02-22 13:48:53.092\u001b[0m | \u001b[1mINFO    \u001b[0m | \u001b[36msrc.pdfs_to_text.pdfs_parser\u001b[0m:\u001b[36mpdf_parser_from_folder\u001b[0m:\u001b[36m68\u001b[0m - \u001b[1mParsing file: 3223_5.jpg\u001b[0m\n",
      "\u001b[32m2024-02-22 13:48:57.988\u001b[0m | \u001b[1mINFO    \u001b[0m | \u001b[36msrc.pdfs_to_text.pdfs_parser\u001b[0m:\u001b[36mpdf_parser_from_folder\u001b[0m:\u001b[36m68\u001b[0m - \u001b[1mParsing file: 91911_5.jpg\u001b[0m\n",
      "\u001b[32m2024-02-22 13:49:01.567\u001b[0m | \u001b[1mINFO    \u001b[0m | \u001b[36msrc.pdfs_to_text.pdfs_parser\u001b[0m:\u001b[36mpdf_parser_from_folder\u001b[0m:\u001b[36m68\u001b[0m - \u001b[1mParsing file: 4466_0.jpg\u001b[0m\n",
      "\u001b[32m2024-02-22 13:49:14.256\u001b[0m | \u001b[1mINFO    \u001b[0m | \u001b[36msrc.pdfs_to_text.pdfs_parser\u001b[0m:\u001b[36mpdf_parser_from_folder\u001b[0m:\u001b[36m68\u001b[0m - \u001b[1mParsing file: 91911_10.jpg\u001b[0m\n",
      "\u001b[32m2024-02-22 13:49:20.695\u001b[0m | \u001b[1mINFO    \u001b[0m | \u001b[36msrc.pdfs_to_text.pdfs_parser\u001b[0m:\u001b[36mpdf_parser_from_folder\u001b[0m:\u001b[36m68\u001b[0m - \u001b[1mParsing file: 3223_1.jpg\u001b[0m\n",
      "\u001b[32m2024-02-22 13:49:27.323\u001b[0m | \u001b[1mINFO    \u001b[0m | \u001b[36msrc.pdfs_to_text.pdfs_parser\u001b[0m:\u001b[36mpdf_parser_from_folder\u001b[0m:\u001b[36m68\u001b[0m - \u001b[1mParsing file: 91911_9.jpg\u001b[0m\n",
      "\u001b[32m2024-02-22 13:49:31.154\u001b[0m | \u001b[1mINFO    \u001b[0m | \u001b[36msrc.pdfs_to_text.pdfs_parser\u001b[0m:\u001b[36mpdf_parser_from_folder\u001b[0m:\u001b[36m68\u001b[0m - \u001b[1mParsing file: 91911_4.jpg\u001b[0m\n",
      "\u001b[32m2024-02-22 13:49:36.772\u001b[0m | \u001b[1mINFO    \u001b[0m | \u001b[36msrc.pdfs_to_text.pdfs_parser\u001b[0m:\u001b[36mpdf_parser_from_folder\u001b[0m:\u001b[36m68\u001b[0m - \u001b[1mParsing file: 91911_7.jpg\u001b[0m\n",
      "\u001b[32m2024-02-22 13:49:40.817\u001b[0m | \u001b[1mINFO    \u001b[0m | \u001b[36msrc.pdfs_to_text.pdfs_parser\u001b[0m:\u001b[36mpdf_parser_from_folder\u001b[0m:\u001b[36m68\u001b[0m - \u001b[1mParsing file: 3223_3.jpg\u001b[0m\n",
      "\u001b[32m2024-02-22 13:49:44.793\u001b[0m | \u001b[1mINFO    \u001b[0m | \u001b[36msrc.pdfs_to_text.pdfs_parser\u001b[0m:\u001b[36mpdf_parser_from_folder\u001b[0m:\u001b[36m68\u001b[0m - \u001b[1mParsing file: 3223_6.jpg\u001b[0m\n",
      "\u001b[32m2024-02-22 13:49:49.253\u001b[0m | \u001b[1mINFO    \u001b[0m | \u001b[36msrc.pdfs_to_text.pdfs_parser\u001b[0m:\u001b[36mpdf_parser_from_folder\u001b[0m:\u001b[36m68\u001b[0m - \u001b[1mParsing file: 6098_0.jpg\u001b[0m\n",
      "\u001b[32m2024-02-22 13:50:18.012\u001b[0m | \u001b[1mINFO    \u001b[0m | \u001b[36msrc.pdfs_to_text.pdfs_parser\u001b[0m:\u001b[36mpdf_parser_from_folder\u001b[0m:\u001b[36m68\u001b[0m - \u001b[1mParsing file: 91911_8.jpg\u001b[0m\n",
      "\u001b[32m2024-02-22 13:50:21.742\u001b[0m | \u001b[1mINFO    \u001b[0m | \u001b[36msrc.pdfs_to_text.pdfs_parser\u001b[0m:\u001b[36mpdf_parser_from_folder\u001b[0m:\u001b[36m68\u001b[0m - \u001b[1mParsing file: 3223_7.jpg\u001b[0m\n"
     ]
    }
   ],
   "source": [
    "parsed_pdfs_df = pdfs_parser.pdf_parser_from_folder(folder_path=BP_PDF_DIR, reader = reader)"
   ]
  },
  {
   "cell_type": "code",
   "execution_count": 5,
   "metadata": {},
   "outputs": [],
   "source": [
    "parsed_pdfs_json = parsed_pdfs_df.to_json(orient='records')"
   ]
  },
  {
   "cell_type": "code",
   "execution_count": 6,
   "metadata": {},
   "outputs": [
    {
     "data": {
      "text/plain": [
       "'[{\"filename\":\"3223_4.jpg\",\"content\":\"Error parsing PDF: module \\'PIL.Image\\' has no attribute \\'Resampling\\'\"},{\"filename\":\"3223_5.jpg\",\"content\":\"Error parsing PDF: module \\'PIL.Image\\' has no attribute \\'Resampling\\'\"},{\"filename\":\"91911_5.jpg\",\"content\":\"Error parsing PDF: module \\'PIL.Image\\' has no attribute \\'Resampling\\'\"},{\"filename\":\"4466_0.jpg\",\"content\":\"Error parsing PDF: module \\'PIL.Image\\' has no attribute \\'Resampling\\'\"},{\"filename\":\"91911_10.jpg\",\"content\":\"Error parsing PDF: module \\'PIL.Image\\' has no attribute \\'Resampling\\'\"},{\"filename\":\"3223_1.jpg\",\"content\":\"Error parsing PDF: module \\'PIL.Image\\' has no attribute \\'Resampling\\'\"},{\"filename\":\"91911_9.jpg\",\"content\":\"Error parsing PDF: module \\'PIL.Image\\' has no attribute \\'Resampling\\'\"},{\"filename\":\"91911_4.jpg\",\"content\":\"Error parsing PDF: module \\'PIL.Image\\' has no attribute \\'Resampling\\'\"},{\"filename\":\"91911_7.jpg\",\"content\":\"Error parsing PDF: module \\'PIL.Image\\' has no attribute \\'Resampling\\'\"},{\"filename\":\"3223_3.jpg\",\"content\":\"Error parsing PDF: module \\'PIL.Image\\' has no attribute \\'Resampling\\'\"},{\"filename\":\"3223_6.jpg\",\"content\":\"Error parsing PDF: module \\'PIL.Image\\' has no attribute \\'Resampling\\'\"},{\"filename\":\"6098_0.jpg\",\"content\":\"Error parsing PDF: module \\'PIL.Image\\' has no attribute \\'Resampling\\'\"},{\"filename\":\"91911_8.jpg\",\"content\":\"Error parsing PDF: module \\'PIL.Image\\' has no attribute \\'Resampling\\'\"},{\"filename\":\"3223_7.jpg\",\"content\":\"Error parsing PDF: module \\'PIL.Image\\' has no attribute \\'Resampling\\'\"},{\"filename\":\"3223_0.jpg\",\"content\":\"Error parsing PDF: module \\'PIL.Image\\' has no attribute \\'Resampling\\'\"},{\"filename\":\"3223_2.jpg\",\"content\":\"Error parsing PDF: module \\'PIL.Image\\' has no attribute \\'Resampling\\'\"},{\"filename\":\"91911_3.jpg\",\"content\":\"Error parsing PDF: module \\'PIL.Image\\' has no attribute \\'Resampling\\'\"},{\"filename\":\"91911_6.jpg\",\"content\":\"Error parsing PDF: module \\'PIL.Image\\' has no attribute \\'Resampling\\'\"}]'"
      ]
     },
     "execution_count": 6,
     "metadata": {},
     "output_type": "execute_result"
    }
   ],
   "source": [
    "parsed_pdfs_json"
   ]
  },
  {
   "cell_type": "code",
   "execution_count": 6,
   "metadata": {},
   "outputs": [],
   "source": [
    "with open(BP_TEXT_FILE_PATH_JSON, 'w') as outputfile:\n",
    "    outputfile.write(parsed_pdfs_json)"
   ]
  },
  {
   "cell_type": "markdown",
   "metadata": {},
   "source": [
    "As a result, this reads all PDFs in the specified folder, parses them with OCR and outputs the results of the content to a JSON in the defined path. "
   ]
  }
 ],
 "metadata": {
  "kernelspec": {
   "display_name": "Python 3 (ipykernel)",
   "language": "python",
   "name": "python3"
  },
  "language_info": {
   "codemirror_mode": {
    "name": "ipython",
    "version": 3
   },
   "file_extension": ".py",
   "mimetype": "text/x-python",
   "name": "python",
   "nbconvert_exporter": "python",
   "pygments_lexer": "ipython3",
   "version": "3.11.4"
  }
 },
 "nbformat": 4,
 "nbformat_minor": 4
}
